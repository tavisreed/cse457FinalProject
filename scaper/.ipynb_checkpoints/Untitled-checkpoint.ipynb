{
 "cells": [
  {
   "cell_type": "code",
   "execution_count": 292,
   "metadata": {},
   "outputs": [],
   "source": [
    "from bs4 import BeautifulSoup\n",
    "import asyncio\n",
    "import time\n",
    "import threading\n",
    "from aiohttp import ClientSession\n",
    "import re"
   ]
  },
  {
   "cell_type": "code",
   "execution_count": 67,
   "metadata": {},
   "outputs": [],
   "source": [
    "async def get(url):\n",
    "  async with ClientSession() as session:\n",
    "    async with session.get(url) as response:\n",
    "      return await response.read()"
   ]
  },
  {
   "cell_type": "code",
   "execution_count": 163,
   "metadata": {},
   "outputs": [
    {
     "name": "stderr",
     "output_type": "stream",
     "text": [
      "Some characters could not be decoded, and were replaced with REPLACEMENT CHARACTER.\n"
     ]
    }
   ],
   "source": [
    "loop = asyncio.get_event_loop()\n",
    "res = loop.run_until_complete(get('http://profiles.asee.org/profiles/8191/print_all'))\n",
    "soup = BeautifulSoup(res, 'html.parser')"
   ]
  },
  {
   "cell_type": "code",
   "execution_count": null,
   "metadata": {},
   "outputs": [],
   "source": []
  },
  {
   "cell_type": "code",
   "execution_count": 144,
   "metadata": {},
   "outputs": [
    {
     "name": "stdout",
     "output_type": "stream",
     "text": [
      "['8191']\n",
      "['8192']\n"
     ]
    }
   ],
   "source": [
    "colleges = {'1':['8191'],'2':['8192']}\n",
    "'''\n",
    "{ 'WUSTL': ['2019id', '2018id', ... ]}\n",
    "\n",
    "'''\n",
    "\n",
    "url = 'http://profiles.asee.org/profiles/{}/print_all\n",
    "fetch = []\n",
    "for key, value in colleges.items():\n",
    "  print(value)\n",
    "  fetch.append(get(url.format(value[0])))\n",
    "  \n",
    "res = loop.run_until_complete(asyncio.gather(*fetch))"
   ]
  },
  {
   "cell_type": "code",
   "execution_count": 164,
   "metadata": {},
   "outputs": [],
   "source": [
    "name = soup.find('h1').text[:-7]"
   ]
  },
  {
   "cell_type": "code",
   "execution_count": 165,
   "metadata": {},
   "outputs": [],
   "source": [
    "institution_type = soup.find('h3', text='General Information').find_next_sibling('table').find_all('td')[1].text"
   ]
  },
  {
   "cell_type": "code",
   "execution_count": 229,
   "metadata": {},
   "outputs": [],
   "source": [
    "undergrad_enroll = soup.find('p', class_='highlighted', text='Total Enrollment').find_next_sibling('table').find_all('td')[1].text.replace(',','')"
   ]
  },
  {
   "cell_type": "code",
   "execution_count": 230,
   "metadata": {},
   "outputs": [],
   "source": [
    "graduate_enroll = soup.find('p', class_='highlighted', text='Total Enrollment').find_next_sibling('table').find_all('td')[3].text.replace(',','')"
   ]
  },
  {
   "cell_type": "code",
   "execution_count": 222,
   "metadata": {},
   "outputs": [],
   "source": [
    "description = soup.find('p', class_='highlighted', text='Engineering College Description and Special Characteristics').find_next_sibling('p').text"
   ]
  },
  {
   "cell_type": "code",
   "execution_count": null,
   "metadata": {},
   "outputs": [],
   "source": [
    "#bach_programs_table = soup.find('p', class_='highlighted', text='Bachelor\\'s Degree Program(s)').find_next_sibling('table')\n"
   ]
  },
  {
   "cell_type": "code",
   "execution_count": 236,
   "metadata": {},
   "outputs": [],
   "source": [
    "teaching_tenure_table = soup.find('p', class_='highlighted', text='Teaching, Tenure-Track: Full Professor Profiles').find_next_sibling('table')\n",
    "teaching_tenure = parse_table(teaching_tenure_table)"
   ]
  },
  {
   "cell_type": "code",
   "execution_count": 247,
   "metadata": {},
   "outputs": [],
   "source": [
    "tuition_list = parse_table(soup.find('h3', text='Expenses & Financial Aid').find_next_sibling('table'))[1]\n",
    "tuition = tuition_list[1:3] if len(tuition_list) > 2 else tuition_list[1]\n",
    "tuition = [t.replace('$','').replace(',','') for t in tuition]"
   ]
  },
  {
   "cell_type": "code",
   "execution_count": 258,
   "metadata": {},
   "outputs": [],
   "source": [
    "test_scores = soup.find('p', class_='highlighted', text=' Newly Enrolled Test Scores').find_next_sibling('table')\n",
    "sat_scores = parse_table(test_scores)\n",
    "act_scores = parse_table(test_scores.find_next_sibling('table'))"
   ]
  },
  {
   "cell_type": "code",
   "execution_count": 275,
   "metadata": {},
   "outputs": [],
   "source": [
    "enrollment_table = soup.find('p', class_='highlighted', text='Degrees By Ethnicity & Gender').find_next_sibling('table')\n",
    "enrollment = parse_table(enrollment_table)\n",
    "enrollment = [e for e in enrollment if ('Note' not in e[0])]"
   ]
  },
  {
   "cell_type": "code",
   "execution_count": null,
   "metadata": {},
   "outputs": [],
   "source": []
  },
  {
   "cell_type": "code",
   "execution_count": 227,
   "metadata": {},
   "outputs": [],
   "source": [
    "def parse_table(table):\n",
    "  return [[el.text for el in row.find_all(['th', 'td'])] for row in table.find_all('tr')]"
   ]
  },
  {
   "cell_type": "code",
   "execution_count": 300,
   "metadata": {},
   "outputs": [],
   "source": [
    "base_url = 'http://profiles.asee.org'\n",
    "res = loop.run_until_complete(get(base_url))\n",
    "soup = BeautifulSoup(res, 'html.parser')"
   ]
  },
  {
   "cell_type": "code",
   "execution_count": 301,
   "metadata": {},
   "outputs": [],
   "source": [
    "schools = soup.find('table').find_all('td', class_='school_name')\n",
    "profile_links = [base_url+school.a['href'] for school in schools]"
   ]
  },
  {
   "cell_type": "code",
   "execution_count": 293,
   "metadata": {},
   "outputs": [],
   "source": [
    "re.search(r'\\/\\d+\\/', schools[0].a['href']).group(0)[1:-1]"
   ]
  },
  {
   "cell_type": "code",
   "execution_count": 310,
   "metadata": {},
   "outputs": [],
   "source": [
    "res = loop.run_until_complete(get(profile_links[0]))\n",
    "soup = BeautifulSoup(res, 'html.parser')\n",
    "profile_ids = soup.find('select', id='survey_id').find_all('option')\n",
    "profile_ids = [pid['value'] for pid in profile_ids]"
   ]
  },
  {
   "cell_type": "code",
   "execution_count": null,
   "metadata": {},
   "outputs": [],
   "source": [
    "index = [\n",
    "  'Institution Information > General Information > Type of institution'\n",
    "]"
   ]
  }
 ],
 "metadata": {
  "kernelspec": {
   "display_name": "Python 3",
   "language": "python",
   "name": "python3"
  },
  "language_info": {
   "codemirror_mode": {
    "name": "ipython",
    "version": 3
   },
   "file_extension": ".py",
   "mimetype": "text/x-python",
   "name": "python",
   "nbconvert_exporter": "python",
   "pygments_lexer": "ipython3",
   "version": "3.6.3"
  }
 },
 "nbformat": 4,
 "nbformat_minor": 2
}
