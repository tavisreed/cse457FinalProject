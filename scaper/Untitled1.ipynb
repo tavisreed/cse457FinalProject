{
 "cells": [
  {
   "cell_type": "code",
   "execution_count": 1,
   "metadata": {},
   "outputs": [
    {
     "name": "stderr",
     "output_type": "stream",
     "text": [
      "100%|██████████| 295/295 [00:06<00:00, 44.34it/s]\n",
      "100%|██████████| 295/295 [00:00<00:00, 264837.26it/s]\n"
     ]
    }
   ],
   "source": [
    "from bs4 import BeautifulSoup\n",
    "import asyncio\n",
    "import time\n",
    "import threading\n",
    "from aiohttp import ClientSession\n",
    "import re\n",
    "from tqdm import tqdm\n",
    "\n",
    "async def get(url):\n",
    "  async with ClientSession() as session:\n",
    "    async with session.get(url) as response:\n",
    "      return await response.read()\n",
    "\n",
    "def parse_table(table):\n",
    "  return [[el.text for el in row.find_all(['th', 'td'])] for row in table.find_all('tr')]\n",
    "\n",
    "base_url = 'http://profiles.asee.org'\n",
    "loop = asyncio.get_event_loop()\n",
    "res = loop.run_until_complete(get(base_url))\n",
    "base_soup = BeautifulSoup(res, 'html.parser')\n",
    "\n",
    "schools = base_soup.find('table').find_all('td', class_='school_name')\n",
    "profile_links = [base_url+school.a['href'] for school in schools]\n",
    "\n",
    "school_ids = []\n",
    "profile_res = loop.run_until_complete(asyncio.gather(*[get(link) for link in profile_links]))\n",
    "\n",
    "for profile in tqdm(profile_res):\n",
    "  profile_soup = BeautifulSoup(profile, 'html.parser')\n",
    "  profile_ids = profile_soup.find('select', id='survey_id').find_all('option')\n",
    "  profile_ids = [pid['value'] for pid in profile_ids]\n",
    "  school_ids.append(profile_ids)\n",
    "\n",
    "fetch = []\n",
    "profile_base = 'http://profiles.asee.org/profiles/{}/print_all'\n",
    "for school in tqdm(school_ids):\n",
    "  fetch.append(get(profile_base.format(school[0])))\n",
    "\n",
    "# main fetch sequence\n",
    "school_res = loop.run_until_complete(asyncio.gather(*fetch))"
   ]
  },
  {
   "cell_type": "code",
   "execution_count": 6,
   "metadata": {},
   "outputs": [
    {
     "data": {
      "text/plain": [
       "b'<!DOCTYPE html PUBLIC \"-//W3C//DTD XHTML 1.0 Transitional//EN\"\\n       \"http://www.w3.org/TR/xhtml1/DTD/xhtml1-transitional.dtd\">\\n\\n<html xmlns=\"http://www.w3.org/1999/xhtml\" xml:lang=\"en\" lang=\"en\">\\n<head>\\n  <meta http-equiv=\"content-type\" content=\"text/html;charset=UTF-8\" />\\n  <title>Air Force Institute of Technology - 2018</title>\\n    <link href=\"/stylesheets/asee_main.css\" media=\"screen\" rel=\"stylesheet\" type=\"text/css\" />\\n    <link href=\"/stylesheets/asee_main-print.css\" media=\"print\" rel=\"stylesheet\" type=\"text/css\" />\\n  <link href=\"/stylesheets/print_packaged.css?1465226486\" media=\"screen\" rel=\"stylesheet\" type=\"text/css\" />\\n  <!--[if lte IE 6]>\\n    <link rel=\"stylesheet\" href=\"/stylesheets/ie.css\" type=\"text/css\" media=\"screen, projection\" /> \\n  <![endif]-->\\n</head>\\n<body>          \\n  <div class=\"container\">\\n\\t<div id=\"content\">\\n\\t\\t \\n\\t\\t<div class=\"box\">\\n\\t\\t\\t<div class=\"box-outer\">\\n\\t\\t\\t\\t<div class=\"box-inner\">  \\n\\t\\t\\t\\t\\t<span class=\"top\"></span>\\n\\t\\t\\t\\t\\t<h1>Air Force Institute of Technology - 2018</h1>\\n    \\n\\n<h2>Institution Information</h2>\\n\\n<h3>Contact Information</h3> \\n        \\n<p class=\"highlighted\">Institution\\'s Mailing Address</p>\\n<table class=\"text\"> \\n\\t<tbody>\\n\\t\\t<tr>\\n\\t\\t\\t<td>Institution Name:</td>\\n\\t\\t\\t<td>Air Force Institute of Technology</td>\\n\\t\\t</tr>\\n\\t\\t<tr>\\n\\t\\t\\t<td>Mailing Address:</td>\\n\\t\\t\\t<td>\\n\\t\\t\\t\\tGraduate School of Engineering and Management\\n\\t\\t\\t\\t<br/>AFIT/EN, 2950 Hobson Way\\n\\t\\t\\t</td>\\n\\t\\t</tr>\\n\\t\\t<tr>\\n\\t\\t\\t<td>City:</td>\\n\\t\\t\\t<td>Wright-Patterson AFB</td>\\n\\t\\t</tr>\\n\\t\\t<tr>\\n\\t\\t\\t<td>State:</td>\\n\\t\\t\\t<td>OH</td>\\n\\t\\t</tr>\\n\\t\\t<tr>\\n\\t\\t\\t<td>Postal Code:</td>\\n\\t\\t\\t<td>45433</td>\\n\\t\\t</tr>\\n\\t\\t<tr>\\n\\t\\t\\t<td>Country:</td>\\n\\t\\t\\t<td>United States</td>\\n\\t\\t</tr>\\n\\t\\t<tr>\\n\\t\\t\\t<td>Phone</td>\\n\\t\\t\\t<td>937-255-3636</td>\\n\\t\\t</tr>\\n\\t\\t<tr>\\n\\t\\t\\t<td>Fax:</td>\\n\\t\\t\\t<td>937-255-6569</td>\\n\\t\\t</tr>\\n\\t\\t<tr>\\n\\t\\t\\t<td>Website:</td>\\n\\t\\t\\t<td><a href=\"http://www.afit.edu\">http://www.afit.edu</a></td>\\n\\t\\t</tr>\\n\\t</tbody>\\n</table> \\n\\n\\t<p class=\"highlighted\">Head of Institution</p>\\n\\t\\n\\t\\t<table class=\"text\"> \\n\\t\\t\\t<tbody>\\n\\t\\t\\t\\t<tr>\\n\\t\\t\\t\\t\\t<td>Todd Stewart<br/> \\n\\t\\t\\t\\t\\tAFIT Director and Chancellor<br/> \\n\\t\\t\\t\\t\\tGraduate School of Engineering and Management<br/>\\n\\t\\t\\t\\t\\tAir Force Institute of Technology<br/>\\n\\t\\t\\t\\t\\t\\t\\t\\t\\t\\t\\t2950 Hobson Way<br/>\\n\\t\\t\\t\\t\\t\\tWright Patterson Air Force Base<br/>\\n\\t\\t\\t\\t\\t\\t, OH 45433<br/>\\n\\t\\t\\t\\t\\t\\tPhone: 937-255-2321<br/>\\n\\t\\t\\t\\t\\t\\tFax: 937-656-7600<br/>\\n\\t\\t\\t\\t\\t\\t<a href=\"mailto:Todd.Stewart@afit.edu\">Todd.Stewart@afit.edu</a></td>\\n\\t\\t\\t\\t\\t\\t\\t\\t\\t</tr>\\n\\t\\t\\t</tbody>\\n\\t\\t</table>\\n\\t\\t\\n\\t\\n\\t\\n \\n\\n\\n\\t<p class=\"highlighted\">Engineering Technology Admission Inquiries</p>\\n\\t\\n\\t\\t<table class=\"text\"> \\n\\t\\t\\t<tbody>\\n\\t\\t\\t\\t<tr>\\n\\t\\t\\t\\t\\t<td>Matthew Preissler<br/> \\n\\t\\t\\t\\t\\tDirector of Admissions<br/> \\n\\t\\t\\t\\t\\tAdmissions<br/>\\n\\t\\t\\t\\t\\tAir Force Institute of Technology<br/>\\n\\t\\t\\t\\t\\t\\t\\t\\t\\t\\t\\t2950 Hobson Way<br/>\\n\\t\\t\\t\\t\\t\\t\\n\\t\\t\\t\\t\\t\\tDayton, OH 45433<br/>\\n\\t\\t\\t\\t\\t\\tPhone: 937-255-3636 x 3133<br/>\\n\\t\\t\\t\\t\\t\\t\\n\\t\\t\\t\\t\\t\\t<a href=\"mailto:matthew.preissler@afit.edu\">matthew.preissler@afit.edu</a></td>\\n\\t\\t\\t\\t\\t\\t\\t\\t\\t</tr>\\n\\t\\t\\t</tbody>\\n\\t\\t</table>\\n\\t\\t\\n\\t\\n\\n    \\n\\n<h2>Institution Information</h2>\\n\\n<h3>General Information</h3>\\n\\n<br/>\\n<table>\\n\\t<tbody>\\n\\t\\t<tr>\\n\\t\\t\\t<td class=\"label\">Type of institution:</td>\\n\\t\\t\\t<td>PUBLIC</td>\\n\\t\\t</tr>\\n\\t\\t<tr>\\n\\t\\t\\t<td class=\"label\">Academic Year:</td>\\n\\t\\t\\t<td>QUARTERS</td>\\n\\t\\t</tr>\\n\\t\\t<tr>\\n\\t\\t\\t<td class=\"label\">Setting of Main Engineering Campus</td>\\n\\t\\t\\t<td>SUBURBAN</td>\\n    </tr>\\n\\t</tbody>\\n</table>\\n<br/>\\n<p class=\"highlighted\">Main Campus Information</p>\\n<table>\\n    <tbody>\\n\\t\\t<tr>\\n\\t\\t\\t<td class=\"label\">Is the main campus located in a city with a population greater than 100,000?:</td>\\n\\t\\t\\t<td>Yes</td>\\n\\t\\t</tr>\\n\\t\\t<tr>\\n\\t\\t\\t<td class=\"label\">Name of this city, or if no, the name of the nearest city of any size?:</td>\\n\\t\\t\\t<td>Dayton</td>\\n\\t    </tr>\\n\\t\\t<tr>\\n\\t\\t\\t<td class=\"label\">This city\\'s population (approx.):</td>\\n\\t\\t\\t<td>154,200</td>\\n\\t\\t</tr>\\n\\t\\t<tr>\\n\\t\\t\\t<td class=\"label\">Distance from Main Campus:</td>\\n\\t\\t\\t<td>6</td>\\n\\t\\t</tr>\\n\\t</tbody>\\n</table> \\n<br/>\\n<p class=\"highlighted\">Total Enrollment</p>\\n<table>\\n    <tbody>\\n\\t\\t<tr>\\n\\t\\t\\t<td class=\"label\">Total Undergraduate enrollment:</td>\\n\\t\\t\\t<td>0</td>\\n\\t\\t</tr>\\n\\t\\t<tr>\\n\\t\\t\\t<td class=\"label\">Total Graduate enrollment:</td>\\n\\t\\t\\t<td>881</td>\\n\\t    </tr>\\n\\t\\t<tr>\\n\\t\\t\\t<td class=\"label\">Total Professional and other enrollment:</td>\\n\\t\\t\\t<td></td>\\n\\t\\t</tr>\\n\\t</tbody>\\n</table>\\n<br/> \\n<p class=\"highlighted\">Non-Engineering Degree Granting Colleges</p>\\n<p></p>\\n    <h2>Institution Information</h2>\\n\\n<h3>General Admissions</h3>\\n\\n<p class=\"highlighted\">Entrance Requirements and Recommendations</p>\\n<dl class=\"structural\">\\n\\t<dt>Requirements</dt>\\n\\t<dd>\\n\\t\\t<p><p>A comprehensive set of requirements and recommendations are listed via the Graduate School\\'s webpage: http://www.afit.edu/en/<br/></p></p>\\n\\t</dd>\\n\\t<dt>Recommendations</dt>\\n\\t<dd>\\n\\t\\t<p>none provided</p>\\n\\t</dd>\\n</dl>  \\n    \\n\\n<h2>Engineering Information</h2>\\n\\n<h3>Head of Engineering</h3>\\n\\n\\t<p class=\"highlighted\">Head of Engineering</p>\\n\\t\\n\\t\\t<table class=\"text\"> \\n\\t\\t\\t<tbody>\\n\\t\\t\\t\\t<tr>\\n\\t\\t\\t\\t\\t<td>Adedeji Badiru<br/> \\n\\t\\t\\t\\t\\tDean<br/> \\n\\t\\t\\t\\t\\tGraduate School of Engineering and Management<br/>\\n\\t\\t\\t\\t\\tAir Force Institute of Technology<br/>\\n\\t\\t\\t\\t\\t\\t\\t\\t\\t\\t\\tAFIT/EN<br/>\\n\\t\\t\\t\\t\\t\\t2950 Hobson Way<br/>\\n\\t\\t\\t\\t\\t\\tWright-Patterson AFB, OH 45433<br/>\\n\\t\\t\\t\\t\\t\\tPhone: 937-255-3025<br/>\\n\\t\\t\\t\\t\\t\\t\\n\\t\\t\\t\\t\\t\\t<a href=\"mailto:adedeji.badiru@afit.edu\">adedeji.badiru@afit.edu</a></td>\\n\\t\\t\\t\\t\\t\\t\\t\\t\\t</tr>\\n\\t\\t\\t</tbody>\\n\\t\\t</table>\\n\\t\\t\\n\\t\\n  \\t  \\n\\n<h2>Engineering Information</h2>\\n\\n<h3>Engineering Degrees Offered</h3>  \\n\\n<p class=\"highlighted\">Types of Engineering Degrees</p>\\n<table class=\"text\">\\n\\t<tbody>\\n\\t\\t<tr><td>Bachelor\\'s:</td><td>None</td></tr>\\n\\t\\t<tr><td>Master\\'s:</td><td>M.S. with thesis, M.S. without thesis, but with project or report</td></tr>\\n\\t\\t<tr><td>Doctoral:</td><td>Ph.D.</td></tr>\\n    </tbody>\\n</table>\\n\\n<p class=\"highlighted\">Computer Science Degrees Awarded Outside the College/School of Engineering</p>\\n<table class=\"text\">\\n\\t<tbody>\\n\\t\\t<tr>\\n\\t\\t\\t<td>\\n\\t\\t\\t  \\t\\n\\t\\t\\t</td>\\n\\t    </tr>\\n   \\t</tbody>\\n</table>\\n    \\t  \\n\\n<h2>Engineering Information</h2>\\n\\n<h3>Engineering Departments</h3>\\n\\n<table class=\"text\">\\n\\t<thead>\\n\\t\\t<tr>\\n\\t\\t\\t<th>Engineering Department(s)</th>\\n\\t\\t\\t<th>Degree Granting Level</th>\\n\\t\\t\\t<th>Department Chair</th>\\n\\t\\t\\t<th>Discipline</th>\\n\\t\\t</tr>\\n\\t</thead>\\n\\t<tbody>\\n\\t\\t\\t\\t\\t<tr class=\"on\">\\n\\t\\t\\t\\t<td>Aeronautical and Astronautical</td>\\n\\t\\t\\t\\t<td>Graduate</td>\\n\\t\\t\\t\\t<td>Bradley Liebst</td>\\n\\t\\t\\t\\t<td>Aerospace Engineering</td>  \\n\\t\\t\\t</tr>\\n\\t\\t\\t\\n\\t\\t\\t\\t\\t<tr>\\n\\t\\t\\t\\t<td>Electrical and Computer Engineering</td>\\n\\t\\t\\t\\t<td>Graduate</td>\\n\\t\\t\\t\\t<td>Ken Hopkinson</td>\\n\\t\\t\\t\\t<td>Electrical/Computer Engineering</td>  \\n\\t\\t\\t</tr>\\n\\t\\t\\t\\n\\t\\t\\t\\t\\t<tr class=\"on\">\\n\\t\\t\\t\\t<td>Engineering Physics</td>\\n\\t\\t\\t\\t<td>Graduate</td>\\n\\t\\t\\t\\t<td>Kenneth Burgi</td>\\n\\t\\t\\t\\t<td>Engr. Science and Engr. Physics</td>  \\n\\t\\t\\t</tr>\\n\\t\\t\\t\\n\\t\\t\\t\\t\\t<tr>\\n\\t\\t\\t\\t<td>Mathematics and Statistics</td>\\n\\t\\t\\t\\t<td>Graduate</td>\\n\\t\\t\\t\\t<td>Alan Lair</td>\\n\\t\\t\\t\\t<td>Other Engineering Disciplines</td>  \\n\\t\\t\\t</tr>\\n\\t\\t\\t\\n\\t\\t\\t\\t\\t<tr class=\"on\">\\n\\t\\t\\t\\t<td>Operational Sciences</td>\\n\\t\\t\\t\\t<td>Graduate</td>\\n\\t\\t\\t\\t<td>Joseph Pignatiello</td>\\n\\t\\t\\t\\t<td>Other Engineering Disciplines</td>  \\n\\t\\t\\t</tr>\\n\\t\\t\\t\\n\\t\\t\\t\\t\\t<tr>\\n\\t\\t\\t\\t<td>Systems Engineering and Management</td>\\n\\t\\t\\t\\t<td>Graduate</td>\\n\\t\\t\\t\\t<td>Michael Grimaila</td>\\n\\t\\t\\t\\t<td>Other Engineering Disciplines</td>  \\n\\t\\t\\t</tr>\\n\\t\\t\\t\\n\\t\\t\\t</tbody>\\n</table>\\n\\n\\n    \\t  \\n\\n<h2>Engineering Information</h2>\\n\\n<h3>Research Centers</h3>\\n\\n \\n\\n\\t<ul class=\"no_bullets\">\\n\\t   \\t<li><strong>INCOLL</strong>  - Research center WITHIN the college of engineering</li>\\n\\t\\t<li><strong>INDEPT</strong> - Research center WITHIN an engineering department</li>\\n\\t\\t<li><strong>INUNIV</strong> - Research center WITHIN university system</li>\\n\\t\\t<li><strong>OUTUNIV</strong> - Research center OUTSIDE the university</li> \\n\\t</ul>\\n\\n\\t<table class=\"text\">\\n\\t\\t<thead>\\n\\t\\t\\t<tr>\\n\\t\\t\\t\\t<th>Center/Lab</th>\\n\\t\\t\\t\\t<th>Discipline</th>\\n\\t\\t\\t\\t<th>Research Class</th>\\n\\t\\t\\t\\t<th>Head Chair</th>\\n\\t\\t\\t</tr>\\n\\t\\t</thead>\\n\\t\\t<tbody>\\n\\t\\t\\t\\t\\t\\t\\t<tr class=\"on\">\\n\\t\\t\\t\\t\\t<td>Advanced Navigation Technology</td>\\n\\t\\t\\t\\t\\t<td>Electrical/Computer Engineering</td>\\n\\t\\t\\t\\t\\t<td>INDEPT</td>\\n\\t\\t\\t\\t\\t<td>Scott Pierce</td>  \\n\\t\\t\\t\\t</tr>\\n\\t\\t\\t\\t\\n\\t\\t\\t\\t\\t\\t\\t<tr>\\n\\t\\t\\t\\t\\t<td>Center for Cyberspace Research</td>\\n\\t\\t\\t\\t\\t<td>Electrical/Computer Engineering</td>\\n\\t\\t\\t\\t\\t<td>INDEPT</td>\\n\\t\\t\\t\\t\\t<td>Robert Mills</td>  \\n\\t\\t\\t\\t</tr>\\n\\t\\t\\t\\t\\n\\t\\t\\t\\t\\t\\t\\t<tr class=\"on\">\\n\\t\\t\\t\\t\\t<td>Center for Directed Energy</td>\\n\\t\\t\\t\\t\\t<td>Engr. Science and Engr. Physics</td>\\n\\t\\t\\t\\t\\t<td>INDEPT</td>\\n\\t\\t\\t\\t\\t<td>Steven Fiorino</td>  \\n\\t\\t\\t\\t</tr>\\n\\t\\t\\t\\t\\n\\t\\t\\t\\t\\t\\t\\t<tr>\\n\\t\\t\\t\\t\\t<td>Center for Operational Analysis</td>\\n\\t\\t\\t\\t\\t<td>Other Engineering Disciplines</td>\\n\\t\\t\\t\\t\\t<td>INDEPT</td>\\n\\t\\t\\t\\t\\t<td>Darryl Ahner</td>  \\n\\t\\t\\t\\t</tr>\\n\\t\\t\\t\\t\\n\\t\\t\\t\\t\\t\\t\\t<tr class=\"on\">\\n\\t\\t\\t\\t\\t<td>Center for Space Research and Assurance</td>\\n\\t\\t\\t\\t\\t<td>Aerospace Engineering</td>\\n\\t\\t\\t\\t\\t<td>INDEPT</td>\\n\\t\\t\\t\\t\\t<td></td>  \\n\\t\\t\\t\\t</tr>\\n\\t\\t\\t\\t\\n\\t\\t\\t\\t\\t\\t\\t<tr>\\n\\t\\t\\t\\t\\t<td>Center for Technical Intelligence Studies and Research</td>\\n\\t\\t\\t\\t\\t<td>Engr. Science and Engr. Physics</td>\\n\\t\\t\\t\\t\\t<td>INDEPT</td>\\n\\t\\t\\t\\t\\t<td>Kevin Gross</td>  \\n\\t\\t\\t\\t</tr>\\n\\t\\t\\t\\t\\n\\t\\t\\t\\t\\t\\t\\t<tr class=\"on\">\\n\\t\\t\\t\\t\\t<td>Scientific Test and Analysis Techniques in Test and Evaluation Center of Excellence</td>\\n\\t\\t\\t\\t\\t<td>Other Engineering Disciplines</td>\\n\\t\\t\\t\\t\\t<td>INCOLL</td>\\n\\t\\t\\t\\t\\t<td>Darryl Ahner</td>  \\n\\t\\t\\t\\t</tr>\\n\\t\\t\\t\\t\\n\\t\\t\\t\\t\\t</tbody>\\n\\t</table>\\n\\t<br/>\\n \\n\\n    \\t  \\n\\n<h2>Engineering Information</h2>\\n\\n<h3>Degree Programs</h3>\\n\\n<p class=\"highlighted\">Bachelor\\'s Degree Program(s)</p> \\n\\n\\t<p><em>No listings found.</em></p>\\n\\n<p class=\"highlighted\">Master\\'s Degree Program(s)</p> \\n\\n \\n\\n\\t<table class=\"text\">\\n\\t\\t<thead>\\n\\t\\t\\t<tr>\\n\\t\\t\\t\\t<th>Engineering Department(s)</th>\\n\\t\\t\\t\\t<th style=\"white-space: nowrap\">Master\\'s Degree Program(s)</th>\\n\\t\\t\\t\\t<th>Discipline</th>\\n\\t\\t\\t</tr>\\n\\t\\t</thead>\\n\\t\\t<tbody>\\n\\t\\t\\t\\t\\t\\t\\t<tr>\\n\\t\\t\\t\\t\\t<td>Aeronautical and Astronautical</td>\\n\\t\\t\\t\\t\\t<td>Aeronautical Engineering</td>\\n\\t\\t\\t\\t\\t<td>Aerospace Engineering</td>\\n\\t\\t\\t\\t</tr>\\n\\t\\t\\t\\t\\n\\t\\t\\t\\t\\t\\t\\t<tr class=\"on\">\\n\\t\\t\\t\\t\\t<td>Aeronautical and Astronautical</td>\\n\\t\\t\\t\\t\\t<td>Space Systems </td>\\n\\t\\t\\t\\t\\t<td>Aerospace Engineering</td>\\n\\t\\t\\t\\t</tr>\\n\\t\\t\\t\\t\\n\\t\\t\\t\\t\\t\\t\\t<tr>\\n\\t\\t\\t\\t\\t<td>Aeronautical and Astronautical</td>\\n\\t\\t\\t\\t\\t<td>Materials Science</td>\\n\\t\\t\\t\\t\\t<td>Metallurgical and Matrls. Engineering</td>\\n\\t\\t\\t\\t</tr>\\n\\t\\t\\t\\t\\n\\t\\t\\t\\t\\t\\t\\t<tr class=\"on\">\\n\\t\\t\\t\\t\\t<td>Aeronautical and Astronautical</td>\\n\\t\\t\\t\\t\\t<td>Astronautical Engineering </td>\\n\\t\\t\\t\\t\\t<td>Aerospace Engineering</td>\\n\\t\\t\\t\\t</tr>\\n\\t\\t\\t\\t\\n\\t\\t\\t\\t\\t\\t\\t<tr>\\n\\t\\t\\t\\t\\t<td>Electrical and Computer Engineering</td>\\n\\t\\t\\t\\t\\t<td>Cyber Operations </td>\\n\\t\\t\\t\\t\\t<td>Computer Science (inside engineering)</td>\\n\\t\\t\\t\\t</tr>\\n\\t\\t\\t\\t\\n\\t\\t\\t\\t\\t\\t\\t<tr class=\"on\">\\n\\t\\t\\t\\t\\t<td>Electrical and Computer Engineering</td>\\n\\t\\t\\t\\t\\t<td>Computer Engineering</td>\\n\\t\\t\\t\\t\\t<td>Computer Engineering</td>\\n\\t\\t\\t\\t</tr>\\n\\t\\t\\t\\t\\n\\t\\t\\t\\t\\t\\t\\t<tr>\\n\\t\\t\\t\\t\\t<td>Electrical and Computer Engineering</td>\\n\\t\\t\\t\\t\\t<td>Computer Science</td>\\n\\t\\t\\t\\t\\t<td>Computer Science (inside engineering)</td>\\n\\t\\t\\t\\t</tr>\\n\\t\\t\\t\\t\\n\\t\\t\\t\\t\\t\\t\\t<tr class=\"on\">\\n\\t\\t\\t\\t\\t<td>Electrical and Computer Engineering</td>\\n\\t\\t\\t\\t\\t<td>Electrical Engineering</td>\\n\\t\\t\\t\\t\\t<td>Electrical Engineering</td>\\n\\t\\t\\t\\t</tr>\\n\\t\\t\\t\\t\\n\\t\\t\\t\\t\\t\\t\\t<tr>\\n\\t\\t\\t\\t\\t<td>Engineering Physics</td>\\n\\t\\t\\t\\t\\t<td>Atmospheric Sciences</td>\\n\\t\\t\\t\\t\\t<td>Engr. Science and Engr. Physics</td>\\n\\t\\t\\t\\t</tr>\\n\\t\\t\\t\\t\\n\\t\\t\\t\\t\\t\\t\\t<tr class=\"on\">\\n\\t\\t\\t\\t\\t<td>Engineering Physics</td>\\n\\t\\t\\t\\t\\t<td>Optical Science and Engineering </td>\\n\\t\\t\\t\\t\\t<td>Electrical/Computer Engineering</td>\\n\\t\\t\\t\\t</tr>\\n\\t\\t\\t\\t\\n\\t\\t\\t\\t\\t\\t\\t<tr>\\n\\t\\t\\t\\t\\t<td>Engineering Physics</td>\\n\\t\\t\\t\\t\\t<td>Applied Physics</td>\\n\\t\\t\\t\\t\\t<td>Engr. Science and Engr. Physics</td>\\n\\t\\t\\t\\t</tr>\\n\\t\\t\\t\\t\\n\\t\\t\\t\\t\\t\\t\\t<tr class=\"on\">\\n\\t\\t\\t\\t\\t<td>Engineering Physics</td>\\n\\t\\t\\t\\t\\t<td>Nuclear Engineering </td>\\n\\t\\t\\t\\t\\t<td>Nuclear Engineering</td>\\n\\t\\t\\t\\t</tr>\\n\\t\\t\\t\\t\\n\\t\\t\\t\\t\\t\\t\\t<tr>\\n\\t\\t\\t\\t\\t<td>Mathematics and Statistics</td>\\n\\t\\t\\t\\t\\t<td>Applied Mathematics</td>\\n\\t\\t\\t\\t\\t<td>Other Engineering Disciplines</td>\\n\\t\\t\\t\\t</tr>\\n\\t\\t\\t\\t\\n\\t\\t\\t\\t\\t\\t\\t<tr class=\"on\">\\n\\t\\t\\t\\t\\t<td>Operational Sciences</td>\\n\\t\\t\\t\\t\\t<td>Operations Research</td>\\n\\t\\t\\t\\t\\t<td>Industrial/Manufacturing/Systems Engineering</td>\\n\\t\\t\\t\\t</tr>\\n\\t\\t\\t\\t\\n\\t\\t\\t\\t\\t\\t\\t<tr>\\n\\t\\t\\t\\t\\t<td>Systems Engineering and Management</td>\\n\\t\\t\\t\\t\\t<td>Engineering Management</td>\\n\\t\\t\\t\\t\\t<td>Engineering Management</td>\\n\\t\\t\\t\\t</tr>\\n\\t\\t\\t\\t\\n\\t\\t\\t\\t\\t\\t\\t<tr class=\"on\">\\n\\t\\t\\t\\t\\t<td>Systems Engineering and Management</td>\\n\\t\\t\\t\\t\\t<td>Environmental Engineering &amp; Science </td>\\n\\t\\t\\t\\t\\t<td>Environmental Engineering</td>\\n\\t\\t\\t\\t</tr>\\n\\t\\t\\t\\t\\n\\t\\t\\t\\t\\t\\t\\t<tr>\\n\\t\\t\\t\\t\\t<td>Systems Engineering and Management</td>\\n\\t\\t\\t\\t\\t<td>Systems Engineering </td>\\n\\t\\t\\t\\t\\t<td>Other Engineering Disciplines</td>\\n\\t\\t\\t\\t</tr>\\n\\t\\t\\t\\t\\n\\t\\t\\t\\t\\t</tbody>\\n\\t</table>\\n\\n<p class=\"highlighted\">Doctoral Degree Program(s)</p> \\n\\n \\n\\n\\t<table class=\"text\">\\n\\t\\t<thead>\\n\\t\\t\\t<tr>\\n\\t\\t\\t\\t<th>Engineering Department(s)</th>\\n\\t\\t\\t\\t<th style=\"white-space: nowrap\">Doctoral Degree Program(s)</th>\\n\\t\\t\\t\\t<th>Discipline</th>\\n\\t\\t\\t</tr>\\n\\t\\t</thead>\\n\\t\\t<tbody>\\n\\t\\t\\t\\t\\t\\t\\t<tr class=\"on\">\\n\\t\\t\\t\\t\\t<td>Aeronautical and Astronautical</td>\\n\\t\\t\\t\\t\\t<td>Aeronautical Engineering</td>\\n\\t\\t\\t\\t\\t<td>Aerospace Engineering</td>\\n\\t\\t\\t\\t</tr>\\n\\t\\t\\t\\t\\n\\t\\t\\t\\t\\t\\t\\t<tr>\\n\\t\\t\\t\\t\\t<td>Aeronautical and Astronautical</td>\\n\\t\\t\\t\\t\\t<td>Space Systems</td>\\n\\t\\t\\t\\t\\t<td>Aerospace Engineering</td>\\n\\t\\t\\t\\t</tr>\\n\\t\\t\\t\\t\\n\\t\\t\\t\\t\\t\\t\\t<tr class=\"on\">\\n\\t\\t\\t\\t\\t<td>Aeronautical and Astronautical</td>\\n\\t\\t\\t\\t\\t<td>Astronautical Engineering </td>\\n\\t\\t\\t\\t\\t<td>Aerospace Engineering</td>\\n\\t\\t\\t\\t</tr>\\n\\t\\t\\t\\t\\n\\t\\t\\t\\t\\t\\t\\t<tr>\\n\\t\\t\\t\\t\\t<td>Aeronautical and Astronautical</td>\\n\\t\\t\\t\\t\\t<td>Materials Science </td>\\n\\t\\t\\t\\t\\t<td>Metallurgical and Matrls. Engineering</td>\\n\\t\\t\\t\\t</tr>\\n\\t\\t\\t\\t\\n\\t\\t\\t\\t\\t\\t\\t<tr class=\"on\">\\n\\t\\t\\t\\t\\t<td>Electrical and Computer Engineering</td>\\n\\t\\t\\t\\t\\t<td>Computer Science</td>\\n\\t\\t\\t\\t\\t<td>Computer Science (inside engineering)</td>\\n\\t\\t\\t\\t</tr>\\n\\t\\t\\t\\t\\n\\t\\t\\t\\t\\t\\t\\t<tr>\\n\\t\\t\\t\\t\\t<td>Electrical and Computer Engineering</td>\\n\\t\\t\\t\\t\\t<td>Electrical Engineering</td>\\n\\t\\t\\t\\t\\t<td>Electrical Engineering</td>\\n\\t\\t\\t\\t</tr>\\n\\t\\t\\t\\t\\n\\t\\t\\t\\t\\t\\t\\t<tr class=\"on\">\\n\\t\\t\\t\\t\\t<td>Electrical and Computer Engineering</td>\\n\\t\\t\\t\\t\\t<td>Computer Engineering</td>\\n\\t\\t\\t\\t\\t<td>Computer Engineering</td>\\n\\t\\t\\t\\t</tr>\\n\\t\\t\\t\\t\\n\\t\\t\\t\\t\\t\\t\\t<tr>\\n\\t\\t\\t\\t\\t<td>Engineering Physics</td>\\n\\t\\t\\t\\t\\t<td>Applied Physics</td>\\n\\t\\t\\t\\t\\t<td>Engr. Science and Engr. Physics</td>\\n\\t\\t\\t\\t</tr>\\n\\t\\t\\t\\t\\n\\t\\t\\t\\t\\t\\t\\t<tr class=\"on\">\\n\\t\\t\\t\\t\\t<td>Engineering Physics</td>\\n\\t\\t\\t\\t\\t<td>Optical Science and Engineering</td>\\n\\t\\t\\t\\t\\t<td>Electrical/Computer Engineering</td>\\n\\t\\t\\t\\t</tr>\\n\\t\\t\\t\\t\\n\\t\\t\\t\\t\\t\\t\\t<tr>\\n\\t\\t\\t\\t\\t<td>Engineering Physics</td>\\n\\t\\t\\t\\t\\t<td>Nuclear Engineering</td>\\n\\t\\t\\t\\t\\t<td>Nuclear Engineering</td>\\n\\t\\t\\t\\t</tr>\\n\\t\\t\\t\\t\\n\\t\\t\\t\\t\\t\\t\\t<tr class=\"on\">\\n\\t\\t\\t\\t\\t<td>Mathematics and Statistics</td>\\n\\t\\t\\t\\t\\t<td>Mathematics and Statistics</td>\\n\\t\\t\\t\\t\\t<td>Other Engineering Disciplines</td>\\n\\t\\t\\t\\t</tr>\\n\\t\\t\\t\\t\\n\\t\\t\\t\\t\\t\\t\\t<tr>\\n\\t\\t\\t\\t\\t<td>Operational Sciences</td>\\n\\t\\t\\t\\t\\t<td>Operations Research</td>\\n\\t\\t\\t\\t\\t<td>Industrial/Manufacturing/Systems Engineering</td>\\n\\t\\t\\t\\t</tr>\\n\\t\\t\\t\\t\\n\\t\\t\\t\\t\\t\\t\\t<tr class=\"on\">\\n\\t\\t\\t\\t\\t<td>Systems Engineering and Management</td>\\n\\t\\t\\t\\t\\t<td>Systems Engineering</td>\\n\\t\\t\\t\\t\\t<td>Other Engineering Disciplines</td>\\n\\t\\t\\t\\t</tr>\\n\\t\\t\\t\\t\\n\\t\\t\\t\\t\\t</tbody>\\n\\t</table>\\n\\n\\n    \\t  \\n\\n<h2>Engineering Information</h2>\\n\\n<h3>Areas of Expertise</h3>\\n\\n<table class=\"text\">\\n\\t<thead>\\n\\t\\t<tr>\\n\\t\\t\\t<th>Engineering Departments</th>\\n\\t\\t\\t<th>Areas of Expertise</th>\\n\\t\\t</tr>\\n\\t</thead>\\n\\t<tbody>\\n\\t\\t\\t\\t\\t\\t\\t\\t<tr>\\n\\t\\t\\t\\t<td style=\"vertical-align: top\">Aeronautical and Astronautical</td>\\n\\t\\t\\t\\t<td>\\n\\t\\t\\t\\t\\t<ol>\\n\\t\\t\\t\\t\\t\\t\\t\\t\\t\\t\\t<li>Computational Fluid Dynamics</li>\\n\\t\\t\\t\\t\\t\\t\\t\\t\\t\\t\\t<li>Systems Engineering</li>\\n\\t\\t\\t\\t\\t\\t\\t\\t\\t\\t\\t<li>Aerodynamics of Flight Vehicles</li>\\n\\t\\t\\t\\t\\t\\t\\t\\t\\t\\t\\t<li>Analysis of Aerospace Materials &amp; Structures</li>\\n\\t\\t\\t\\t\\t\\t\\t\\t\\t\\t\\t<li>Aerospace Propulsion Systems</li>\\n\\t\\t\\t\\t\\t\\t\\t\\t\\t\\t\\t<li>Dynamics &amp; Control of Flight Vehicles</li>\\n\\t\\t\\t\\t\\t\\t\\t\\t\\t\\t</ol>\\n\\t\\t\\t\\t</td>\\n\\t\\t\\t</tr>\\n\\t\\t\\t\\t\\t\\t\\t\\t\\t\\t\\t<tr>\\n\\t\\t\\t\\t<td style=\"vertical-align: top\">Electrical and Computer Engineering</td>\\n\\t\\t\\t\\t<td>\\n\\t\\t\\t\\t\\t<ol>\\n\\t\\t\\t\\t\\t\\t\\t\\t\\t\\t\\t<li>Computer Communications Networks</li>\\n\\t\\t\\t\\t\\t\\t\\t\\t\\t\\t\\t<li>Computer Security, Information Warfare, Cyber Operations</li>\\n\\t\\t\\t\\t\\t\\t\\t\\t\\t\\t\\t<li>Guidance and Navigation and Control</li>\\n\\t\\t\\t\\t\\t\\t\\t\\t\\t\\t\\t<li>Low Observables and Electromagnetics</li>\\n\\t\\t\\t\\t\\t\\t\\t\\t\\t\\t\\t<li>Communications, Radar and Satellite Networks</li>\\n\\t\\t\\t\\t\\t\\t\\t\\t\\t\\t\\t<li>Signal/Image Processing</li>\\n\\t\\t\\t\\t\\t\\t\\t\\t\\t\\t\\t<li>VLSI and MicroElectronics</li>\\n\\t\\t\\t\\t\\t\\t\\t\\t\\t\\t</ol>\\n\\t\\t\\t\\t</td>\\n\\t\\t\\t</tr>\\n\\t\\t\\t\\t\\t\\t\\t\\t\\t\\t\\t<tr>\\n\\t\\t\\t\\t<td style=\"vertical-align: top\">Engineering Physics</td>\\n\\t\\t\\t\\t<td>\\n\\t\\t\\t\\t\\t<ol>\\n\\t\\t\\t\\t\\t\\t\\t\\t\\t\\t\\t<li>Nuclear Engineering, Nuclear Weapon Effects</li>\\n\\t\\t\\t\\t\\t\\t\\t\\t\\t\\t\\t<li>Applied Physics</li>\\n\\t\\t\\t\\t\\t\\t\\t\\t\\t\\t\\t<li>Lasers and Optical Systems</li>\\n\\t\\t\\t\\t\\t\\t\\t\\t\\t\\t\\t<li>Space Environment</li>\\n\\t\\t\\t\\t\\t\\t\\t\\t\\t\\t\\t<li>Electronic &amp; Photonic Materials and Devices</li>\\n\\t\\t\\t\\t\\t\\t\\t\\t\\t\\t\\t<li>Environmental Remed. Fission/Fusion Material</li>\\n\\t\\t\\t\\t\\t\\t\\t\\t\\t\\t</ol>\\n\\t\\t\\t\\t</td>\\n\\t\\t\\t</tr>\\n\\t\\t\\t\\t\\t\\t\\t\\t\\t\\t\\t<tr>\\n\\t\\t\\t\\t<td style=\"vertical-align: top\">Mathematics and Statistics</td>\\n\\t\\t\\t\\t<td>\\n\\t\\t\\t\\t\\t<ol>\\n\\t\\t\\t\\t\\t\\t\\t\\t\\t\\t\\t<li>Nonlinear Waves</li>\\n\\t\\t\\t\\t\\t\\t\\t\\t\\t\\t\\t<li>Partial Differential Equations</li>\\n\\t\\t\\t\\t\\t\\t\\t\\t\\t\\t\\t<li>Experimental Design</li>\\n\\t\\t\\t\\t\\t\\t\\t\\t\\t\\t\\t<li>Numerical Analysis</li>\\n\\t\\t\\t\\t\\t\\t\\t\\t\\t\\t\\t<li>Wavelets</li>\\n\\t\\t\\t\\t\\t\\t\\t\\t\\t\\t\\t<li>Bayesian Statistics</li>\\n\\t\\t\\t\\t\\t\\t\\t\\t\\t\\t\\t<li>Biostatistics</li>\\n\\t\\t\\t\\t\\t\\t\\t\\t\\t\\t\\t<li>Information Fusion</li>\\n\\t\\t\\t\\t\\t\\t\\t\\t\\t\\t\\t<li>Regression Modeling</li>\\n\\t\\t\\t\\t\\t\\t\\t\\t\\t\\t</ol>\\n\\t\\t\\t\\t</td>\\n\\t\\t\\t</tr>\\n\\t\\t\\t\\t\\t\\t\\t\\t\\t\\t\\t<tr>\\n\\t\\t\\t\\t<td style=\"vertical-align: top\">Operational Sciences</td>\\n\\t\\t\\t\\t<td>\\n\\t\\t\\t\\t\\t<ol>\\n\\t\\t\\t\\t\\t\\t\\t\\t\\t\\t\\t<li>Applied Statistical and Probabilistic Modeling</li>\\n\\t\\t\\t\\t\\t\\t\\t\\t\\t\\t\\t<li>Supply Chain/Operations Management</li>\\n\\t\\t\\t\\t\\t\\t\\t\\t\\t\\t\\t<li>Logistics/Transportation</li>\\n\\t\\t\\t\\t\\t\\t\\t\\t\\t\\t\\t<li>Decision &amp; Risk Analysis</li>\\n\\t\\t\\t\\t\\t\\t\\t\\t\\t\\t\\t<li>Simulation Modeling and Analysis</li>\\n\\t\\t\\t\\t\\t\\t\\t\\t\\t\\t\\t<li>Optimization and Heuristics</li>\\n\\t\\t\\t\\t\\t\\t\\t\\t\\t\\t\\t<li>Military Operations Analysis</li>\\n\\t\\t\\t\\t\\t\\t\\t\\t\\t\\t\\t<li>Experimental Design</li>\\n\\t\\t\\t\\t\\t\\t\\t\\t\\t\\t</ol>\\n\\t\\t\\t\\t</td>\\n\\t\\t\\t</tr>\\n\\t\\t\\t\\t\\t\\t\\t\\t\\t\\t\\t<tr>\\n\\t\\t\\t\\t<td style=\"vertical-align: top\">Systems Engineering and Management</td>\\n\\t\\t\\t\\t<td>\\n\\t\\t\\t\\t\\t<ol>\\n\\t\\t\\t\\t\\t\\t\\t\\t\\t\\t\\t<li>Research and Development Management</li>\\n\\t\\t\\t\\t\\t\\t\\t\\t\\t\\t\\t<li>Cost Analysis and Financial Analysis</li>\\n\\t\\t\\t\\t\\t\\t\\t\\t\\t\\t\\t<li>Environmental Science and Engineering</li>\\n\\t\\t\\t\\t\\t\\t\\t\\t\\t\\t\\t<li>Information Resource Management</li>\\n\\t\\t\\t\\t\\t\\t\\t\\t\\t\\t\\t<li>Engineering Managment</li>\\n\\t\\t\\t\\t\\t\\t\\t\\t\\t\\t\\t<li>Leadership &amp; Organizational Management</li>\\n\\t\\t\\t\\t\\t\\t\\t\\t\\t\\t\\t<li>Systems Engineering</li>\\n\\t\\t\\t\\t\\t\\t\\t\\t\\t\\t\\t<li>Occupational Health and Industrial Hygiene</li>\\n\\t\\t\\t\\t\\t\\t\\t\\t\\t\\t</ol>\\n\\t\\t\\t\\t</td>\\n\\t\\t\\t</tr>\\n\\t\\t\\t\\t\\t\\t</tbody>\\n</table>\\n    \\t  <h2>Engineering Information</h2>\\n\\n<h3>Societies</h3>\\n\\n\\n\\n<p class=\"highlighted\">Honor Societies</p>\\n  <p><strong>National Groups</strong></p>\\n  <ul class=\"no_bullets\">\\n      <li>Alpha Beta Kappa</li>\\n      <li>Eta Kappa Nu</li>\\n      <li>Omega Rho</li>\\n      <li>Sigma Gamma Tau</li>\\n      <li>Sigma Iota Epsilon</li>\\n      <li>Tau Beta Pi</li>\\n    </ul>\\n  <p><strong>Local Groups</strong></p>\\n  <ul class=\"no_bullets\">\\n      <li></li>\\n    </ul>\\n\\n\\n\\n\\n<p class=\"highlighted\">Student Organizations</p>\\n  <p><strong>National Groups</strong></p>\\n  <ul class=\"no_bullets\">\\n      <li>ACM</li>\\n      <li>Am. Inst. of Aeronautics and Astronautics</li>\\n      <li>Am. Nuclear Society</li>\\n      <li>International Society for Optical Engineering</li>\\n      <li>Soc. of American Military Engineers</li>\\n    </ul>\\n  <p><strong>Local Groups</strong></p>\\n  <ul class=\"no_bullets\">\\n      <li>Inst. for Operations Research and the Management Sciences</li>\\n      <li>International Society of Logistics</li>\\n      <li>Military Operations Research Society</li>\\n    </ul>\\n\\n\\n    \\t  \\n\\n<h2>Engineering Information</h2>\\n\\n<h3>Support Programs</h3>\\n\\n\\n\\n\\n<p class=\"highlighted\">College\\'s Under-Represented Student Groups</p>\\n\\n\\n<p class=\"highlighted\">Other Student Support Programs</p>\\n<p>AFIT Student Association</p>\\n\\n    \\t  \\n\\n<h2>Engineering Information</h2>\\n\\n<h3>Student Projects</h3>\\n\\n<p class=\"highlighted\">Student Design Projects Description</p>\\n<p>Aerospace System Design<br/><br/>Team design project of an aircraft in response to a Request-For-Proposal. Design methodology focuses on a military need and incorporates performance, cost supportability, deployment, manufacturing, product quality and environmental considerations. The project draws on all of the aeronautical disciplines and provides students experience in applications of such disciplines to military aircraft design. <br/><br/><br/>Nuclear Systems Design<br/><br/>Students are assigned to groups for the purpose of conducting a design study on an open-ended problem. Students must mathematically model the problem and propose solutions. Solutions are evaluated against established objectives and realistic constraints such as cost, reliability, survivability, safety, human factors, ethics, and social impact. The best solution is then optimized. Recent class problems have included future terrestrial and space-based Air Force systems.<br/><br/><br/>Systems Design Project<br/><br/>This course provides a capstone system design experience for students who are not doing a systems design thesis. It will emphasize the practical details of applying systems engineering tools and techniques to a real multi-disciplinary design problem. Students will be assigned to small design teams and given a general problem statement. The team will be responsible for completing a thorough systems analysis of the problem, developing and evaluating alternative solutions, selecting the best alternative, proposing appropriate implementation of the selected solution, and documenting the entire experience.<br/></p>\\n\\n    \\t  \\n\\n<h2>Engineering Information</h2>\\n\\n<h3>College Description</h3>\\n\\n<p class=\"highlighted\">Engineering College Description and Special Characteristics</p>\\n<p>The Graduate School of Engineering and Management of the Air Force Institute of Technology provides engineering, scientific, and management education and defense-related research activities applicable to Air Force, Department of Defense, and civilian research and development environments. Applicants who are military officers or enlisted members from any of the U.S. services, military officers from selected foreign countries, U.S. government civilian employees, and non-government civilians who are U.S. citizens are eligible for admission.</p>\\n\\n    \\t  <h2>Engineering Information</h2>\\n\\n<h3>Engineering Faculty &amp; Research</h3>\\n\\n\\n\\n<p class=\"highlighted\">Teaching, Tenure-Track\\n\\t \\n\\t\\t<a href=\"#genethnic\" style=\"margin-left: 60px\">View Gender/Ethnicity Profiles</a>\\n\\t</p>\\n\\n<table cellspacing=\"0\">\\n\\t<thead>\\n\\t\\t<tr>\\n\\t\\t\\t<th class=\"label\">Engineering Department(s)</th>\\n\\t\\t\\t<th>Full Professors</th>\\n\\t\\t\\t<th>Assoc. Professors</th>\\n\\t\\t\\t<th>Assistant Professors</th>\\n\\t\\t\\t<th>Program Total</th>\\n\\t\\t</tr>\\n\\t</thead>\\n\\t<tbody>\\n\\t\\t\\t\\t\\t<tr>\\n\\t\\t\\t\\t<td class=\"label\">Aeronautical and Astronautical</td>\\n\\t\\t\\t\\t<td>8</td>\\n\\t\\t\\t\\t<td>1</td>\\n\\t\\t\\t\\t<td>14</td>\\n\\t\\t\\t\\t<td>23</td>  \\n\\t\\t\\t</tr>\\n\\t\\t\\t\\n\\t\\t\\t\\t\\t<tr class=\"on\">\\n\\t\\t\\t\\t<td class=\"label\">Electrical and Computer Engineering</td>\\n\\t\\t\\t\\t<td>11</td>\\n\\t\\t\\t\\t<td>5</td>\\n\\t\\t\\t\\t<td>10</td>\\n\\t\\t\\t\\t<td>26</td>  \\n\\t\\t\\t</tr>\\n\\t\\t\\t\\n\\t\\t\\t\\t\\t<tr>\\n\\t\\t\\t\\t<td class=\"label\">Engineering Physics</td>\\n\\t\\t\\t\\t<td>8</td>\\n\\t\\t\\t\\t<td>4</td>\\n\\t\\t\\t\\t<td>14</td>\\n\\t\\t\\t\\t<td>26</td>  \\n\\t\\t\\t</tr>\\n\\t\\t\\t\\n\\t\\t\\t\\t\\t<tr class=\"on\">\\n\\t\\t\\t\\t<td class=\"label\">Mathematics and Statistics</td>\\n\\t\\t\\t\\t<td>5</td>\\n\\t\\t\\t\\t<td>4</td>\\n\\t\\t\\t\\t<td>8</td>\\n\\t\\t\\t\\t<td>17</td>  \\n\\t\\t\\t</tr>\\n\\t\\t\\t\\n\\t\\t\\t\\t\\t<tr>\\n\\t\\t\\t\\t<td class=\"label\">Operational Sciences</td>\\n\\t\\t\\t\\t<td>6</td>\\n\\t\\t\\t\\t<td>4</td>\\n\\t\\t\\t\\t<td>11</td>\\n\\t\\t\\t\\t<td>21</td>  \\n\\t\\t\\t</tr>\\n\\t\\t\\t\\n\\t\\t\\t\\t\\t<tr class=\"on\">\\n\\t\\t\\t\\t<td class=\"label\">Systems Engineering and Management</td>\\n\\t\\t\\t\\t<td>5</td>\\n\\t\\t\\t\\t<td>3</td>\\n\\t\\t\\t\\t<td>11</td>\\n\\t\\t\\t\\t<td>19</td>  \\n\\t\\t\\t</tr>\\n\\t\\t\\t\\n\\t\\t \\n\\t\\t<tr class=\"total\">\\n\\t\\t\\t\\t\\t\\t\\n\\t\\t\\t<td class=\"label\">Totals:</td>\\n\\t\\t\\t<td>43</td>\\n\\t\\t\\t<td>21</td>\\n\\t\\t\\t<td>68</td>\\n\\t\\t\\t<td>132</td>\\n\\t\\t</tr>\\n\\t</tbody>\\n</table>\\n\\n\\n\\n<p class=\"highlighted\">Teaching, Non-Tenure-Track</p>\\n\\n<table cellspacing=\"0\">\\n\\t<thead>\\n\\t\\t<tr>\\n\\t\\t\\t<th class=\"label\">Engineering Department(s)</th>\\n\\t\\t\\t<th>FT Instr. &amp;\\tOther Teach. Personnel</th>\\n\\t\\t\\t<th>PT Instr. &amp; Other Teach. Personnel</th>\\n\\t\\t\\t<th>Total Personnel</th>\\n\\t\\t\\t<th>FTE of all PT Teach. Personnel</th>\\n\\t\\t</tr>\\n\\t</thead>\\n\\t<tbody>\\n\\t\\t \\n\\t\\t\\t<tr>\\n\\t\\t\\t\\t<td class=\"label\">Aeronautical and Astronautical</td>\\n\\t\\t\\t\\t<td>0</td>\\n\\t\\t\\t\\t<td>0</td>\\n\\t\\t\\t\\t<td>0</td>\\n\\t\\t\\t\\t<td>0.00</td>  \\n\\t\\t\\t</tr>\\n\\t\\t\\t\\n\\t\\t \\n\\t\\t\\t<tr class=\"on\">\\n\\t\\t\\t\\t<td class=\"label\">Electrical and Computer Engineering</td>\\n\\t\\t\\t\\t<td>2</td>\\n\\t\\t\\t\\t<td>0</td>\\n\\t\\t\\t\\t<td>2</td>\\n\\t\\t\\t\\t<td>0.00</td>  \\n\\t\\t\\t</tr>\\n\\t\\t\\t\\n\\t\\t \\n\\t\\t\\t<tr>\\n\\t\\t\\t\\t<td class=\"label\">Engineering Physics</td>\\n\\t\\t\\t\\t<td>2</td>\\n\\t\\t\\t\\t<td>0</td>\\n\\t\\t\\t\\t<td>2</td>\\n\\t\\t\\t\\t<td>0.00</td>  \\n\\t\\t\\t</tr>\\n\\t\\t\\t\\n\\t\\t \\n\\t\\t\\t<tr class=\"on\">\\n\\t\\t\\t\\t<td class=\"label\">Mathematics and Statistics</td>\\n\\t\\t\\t\\t<td>1</td>\\n\\t\\t\\t\\t<td>0</td>\\n\\t\\t\\t\\t<td>1</td>\\n\\t\\t\\t\\t<td>0.00</td>  \\n\\t\\t\\t</tr>\\n\\t\\t\\t\\n\\t\\t \\n\\t\\t\\t<tr>\\n\\t\\t\\t\\t<td class=\"label\">Operational Sciences</td>\\n\\t\\t\\t\\t<td>1</td>\\n\\t\\t\\t\\t<td>0</td>\\n\\t\\t\\t\\t<td>1</td>\\n\\t\\t\\t\\t<td>0.00</td>  \\n\\t\\t\\t</tr>\\n\\t\\t\\t\\n\\t\\t \\n\\t\\t\\t<tr class=\"on\">\\n\\t\\t\\t\\t<td class=\"label\">Systems Engineering and Management</td>\\n\\t\\t\\t\\t<td>4</td>\\n\\t\\t\\t\\t<td>0</td>\\n\\t\\t\\t\\t<td>4</td>\\n\\t\\t\\t\\t<td>0.00</td>  \\n\\t\\t\\t</tr>\\n\\t\\t\\t\\n\\t\\t\\t\\t<tr class=\"total\">\\n\\t\\t\\t\\t\\t\\t\\n\\t\\t\\t<td class=\"label\">Totals:</td>\\n\\t\\t\\t<td>10</td>\\n\\t\\t\\t<td>0</td>\\n\\t\\t\\t<td>10</td>\\n\\t\\t\\t<td>0.00</td>\\n\\t\\t</tr>\\n\\t</tbody>\\n</table> \\n\\n\\n\\n<p class=\"highlighted\">Non-Teaching, Research</p>\\n\\n<table cellspacing=\"0\">\\n\\t<thead>\\n\\t\\t<tr>\\n\\t\\t\\t<th class=\"label\">Engineering Department(s)</th>\\n\\t\\t\\t<th>Non-Teach. FT Research Personnel</th>\\n\\t\\t\\t<th>Non-Teach. PT Research Personnel</th>\\n\\t\\t\\t<th>Total Personnel</th>\\n\\t\\t\\t<th>FTE of all PT Non-Teach. Research Personnel</th>\\n\\t\\t</tr>\\n\\t</thead>\\n\\t<tbody>\\n\\n\\t\\t\\t\\t\\t<tr>\\n\\t\\t\\t\\t<td class=\"label\">Aeronautical and Astronautical</td>\\n\\t\\t\\t\\t<td>0</td>\\n\\t\\t\\t\\t<td>0</td>\\n\\t\\t\\t\\t<td>0</td>\\n\\t\\t\\t\\t<td>0.00</td>  \\n\\t\\t\\t</tr>\\n\\t\\t\\t\\n\\t\\t\\t\\t\\t<tr class=\"on\">\\n\\t\\t\\t\\t<td class=\"label\">Electrical and Computer Engineering</td>\\n\\t\\t\\t\\t<td>1</td>\\n\\t\\t\\t\\t<td>0</td>\\n\\t\\t\\t\\t<td>1</td>\\n\\t\\t\\t\\t<td>0.00</td>  \\n\\t\\t\\t</tr>\\n\\t\\t\\t\\n\\t\\t\\t\\t\\t<tr>\\n\\t\\t\\t\\t<td class=\"label\">Engineering Physics</td>\\n\\t\\t\\t\\t<td>7</td>\\n\\t\\t\\t\\t<td>1</td>\\n\\t\\t\\t\\t<td>8</td>\\n\\t\\t\\t\\t<td>0.00</td>  \\n\\t\\t\\t</tr>\\n\\t\\t\\t\\n\\t\\t\\t\\t\\t<tr class=\"on\">\\n\\t\\t\\t\\t<td class=\"label\">Mathematics and Statistics</td>\\n\\t\\t\\t\\t<td>0</td>\\n\\t\\t\\t\\t<td>0</td>\\n\\t\\t\\t\\t<td>0</td>\\n\\t\\t\\t\\t<td>0.00</td>  \\n\\t\\t\\t</tr>\\n\\t\\t\\t\\n\\t\\t\\t\\t\\t<tr>\\n\\t\\t\\t\\t<td class=\"label\">Operational Sciences</td>\\n\\t\\t\\t\\t<td>1</td>\\n\\t\\t\\t\\t<td>0</td>\\n\\t\\t\\t\\t<td>1</td>\\n\\t\\t\\t\\t<td>0.00</td>  \\n\\t\\t\\t</tr>\\n\\t\\t\\t\\n\\t\\t\\t\\t\\t<tr class=\"on\">\\n\\t\\t\\t\\t<td class=\"label\">Systems Engineering and Management</td>\\n\\t\\t\\t\\t<td>0</td>\\n\\t\\t\\t\\t<td>0</td>\\n\\t\\t\\t\\t<td>0</td>\\n\\t\\t\\t\\t<td>0.00</td>  \\n\\t\\t\\t</tr>\\n\\t\\t\\t\\n\\t\\t\\t\\t<tr class=\"total\">\\n\\t\\t\\t\\t\\t\\t\\n\\t\\t\\t<td class=\"label\">Totals:</td>\\n\\t\\t\\t<td>9</td>\\n\\t\\t\\t<td>1</td>\\n\\t\\t\\t<td>10</td>\\n\\t\\t\\t<td>0.00</td>\\n\\t\\t</tr>\\n\\t</tbody>\\n</table>\\n\\n\\n\\n\\t<p class=\"highlighted\"><a name=\"genethnic\">Teaching, Tenure-Track: Gender/Ethnicity Profiles</a></p>\\n\\t<ul class=\"no_bullets\">\\n\\t\\t<li><strong>American Indian or Alaska Native (Am Ind):</strong> A person having origins in any of the original peoples of North and South America (including Central America), and who maintains tribal affiliation or community attachment.</li>\\n\\t\\t<li><strong>Asian:</strong> A person having origins in any of the original peoples of the Far East, Southeast Asia, or the Indian subcontinent including, for example, Cambodia, China, India, Japan, Korea, Malaysia, Pakistan, the Philippine Islands, Thailand, and Vietnam.</li>\\n\\t\\t<li><strong>Black or African American (B/AfrA):</strong> A person having origins in any of the black racial groups of Africa. Terms such as \"Haitian\" or \"Negro\" can be used in addition to \"Black or African American.\"</li>\\n    <li><strong>Native Hawaiian or Other Pacific Islander (Haw):</strong> A person having origins in any of the original peoples of Hawaii, Guam, Samoa, or other Pacific Islands.</li>\\n\\t\\t<li><strong>Hispanic or Latino (Hisp):</strong> A person of Cuban, Mexican, Puerto Rican, South or Central American, or other Spanish culture or origin, regardless of race. The term, \"Spanish origin,\" can be used in addition to \"Hispanic or Latino.\"</li>\\n\\t\\t<li><strong>White:</strong> A person having origins in any of the original peoples of Europe, the Middle East, or North Africa.</li>\\n\\t</ul>\\n\\t<p class=\"highlighted\">Teaching, Tenure-Track: Full Professor Profiles</p>\\n\\n<table cellspacing=\"0\">\\n\\t<thead>\\n\\t\\t<tr>\\n\\t\\t\\t<th rowspan=\"2\" class=\"label\">Engineering Department(s)</th>\\n\\t\\t\\t\\n\\t\\t\\t  <th colspan=\"2\" class=\"th_short center\">Unknown</th>\\n\\t\\t\\t\\n\\t\\t\\t  <th colspan=\"2\" class=\"th_short center\">Hispanic</th>\\n\\t\\t\\t\\n\\t\\t\\t  <th colspan=\"2\" class=\"th_short center\">American Indian</th>\\n\\t\\t\\t\\n\\t\\t\\t  <th colspan=\"2\" class=\"th_short center\">Asian</th>\\n\\t\\t\\t\\n\\t\\t\\t  <th colspan=\"2\" class=\"th_short center\">Black</th>\\n\\t\\t\\t\\n\\t\\t\\t  <th colspan=\"2\" class=\"th_short center\">Pacific Islander</th>\\n\\t\\t\\t\\n\\t\\t\\t  <th colspan=\"2\" class=\"th_short center\">White</th>\\n\\t\\t\\t\\n\\t\\t\\t  <th colspan=\"2\" class=\"th_short center\">Two or more</th>\\n\\t\\t\\t\\n\\t\\t\\t<th colspan=\"2\" class=\"center\">Total Personnel</th>\\n\\t\\t</tr>\\n\\t\\t<tr>\\n\\t\\t\\t\\n\\t\\t\\t  <th>M</th>\\n\\t  \\t\\t  <th>F</th>\\n\\t\\t\\t\\n\\t\\t\\t  <th>M</th>\\n\\t  \\t\\t  <th>F</th>\\n\\t\\t\\t\\n\\t\\t\\t  <th>M</th>\\n\\t  \\t\\t  <th>F</th>\\n\\t\\t\\t\\n\\t\\t\\t  <th>M</th>\\n\\t  \\t\\t  <th>F</th>\\n\\t\\t\\t\\n\\t\\t\\t  <th>M</th>\\n\\t  \\t\\t  <th>F</th>\\n\\t\\t\\t\\n\\t\\t\\t  <th>M</th>\\n\\t  \\t\\t  <th>F</th>\\n\\t\\t\\t\\n\\t\\t\\t  <th>M</th>\\n\\t  \\t\\t  <th>F</th>\\n\\t\\t\\t\\n\\t\\t\\t  <th>M</th>\\n\\t  \\t\\t  <th>F</th>\\n\\t\\t\\t\\t\\t\\t<th>M</th>\\n\\t\\t\\t<th>F</th>\\n\\t\\t</tr>\\n\\t</thead>\\n\\t<tbody> \\n\\t\\t\\t\\t\\t<tr>\\n\\t\\t\\t\\t<td class=\"label\">Aeronautical and Astronautical</td> \\n\\t\\t\\t\\t\\t\\t\\t\\t\\t<td>7</td>\\n\\t\\t\\t\\t\\t\\n\\t\\t\\t\\t  \\t<td>1</td>\\n\\t\\t\\t\\t\\t\\n\\t\\t\\t\\t\\t\\t\\t\\t\\t<td>0</td>\\n\\t\\t\\t\\t\\t\\n\\t\\t\\t\\t  \\t<td>0</td>\\n\\t\\t\\t\\t\\t\\n\\t\\t\\t\\t\\t\\t\\t\\t\\t<td>0</td>\\n\\t\\t\\t\\t\\t\\n\\t\\t\\t\\t  \\t<td>0</td>\\n\\t\\t\\t\\t\\t\\n\\t\\t\\t\\t\\t\\t\\t\\t\\t<td>0</td>\\n\\t\\t\\t\\t\\t\\n\\t\\t\\t\\t  \\t<td>0</td>\\n\\t\\t\\t\\t\\t\\n\\t\\t\\t\\t\\t\\t\\t\\t\\t<td>0</td>\\n\\t\\t\\t\\t\\t\\n\\t\\t\\t\\t  \\t<td>0</td>\\n\\t\\t\\t\\t\\t\\n\\t\\t\\t\\t\\t\\t\\t\\t\\t<td>0</td>\\n\\t\\t\\t\\t\\t\\n\\t\\t\\t\\t  \\t<td>0</td>\\n\\t\\t\\t\\t\\t\\n\\t\\t\\t\\t\\t\\t\\t\\t\\t<td>0</td>\\n\\t\\t\\t\\t\\t\\n\\t\\t\\t\\t  \\t<td>0</td>\\n\\t\\t\\t\\t\\t\\n\\t\\t\\t\\t\\t\\t\\t\\t\\t<td>0</td>\\n\\t\\t\\t\\t\\t\\n\\t\\t\\t\\t  \\t<td>0</td>\\n\\t\\t\\t\\t\\t\\n\\t\\t\\t\\t\\t\\t\\t\\t<td>7</td>\\n\\t\\t\\t\\t<td>1</td>\\n\\t\\t\\t</tr>\\n\\t\\t\\t\\n\\t\\t\\t\\t\\t<tr class=\"on\">\\n\\t\\t\\t\\t<td class=\"label\">Electrical and Computer Engineering</td> \\n\\t\\t\\t\\t\\t\\t\\t\\t\\t<td>11</td>\\n\\t\\t\\t\\t\\t\\n\\t\\t\\t\\t  \\t<td>0</td>\\n\\t\\t\\t\\t\\t\\n\\t\\t\\t\\t\\t\\t\\t\\t\\t<td>0</td>\\n\\t\\t\\t\\t\\t\\n\\t\\t\\t\\t  \\t<td>0</td>\\n\\t\\t\\t\\t\\t\\n\\t\\t\\t\\t\\t\\t\\t\\t\\t<td>0</td>\\n\\t\\t\\t\\t\\t\\n\\t\\t\\t\\t  \\t<td>0</td>\\n\\t\\t\\t\\t\\t\\n\\t\\t\\t\\t\\t\\t\\t\\t\\t<td>0</td>\\n\\t\\t\\t\\t\\t\\n\\t\\t\\t\\t  \\t<td>0</td>\\n\\t\\t\\t\\t\\t\\n\\t\\t\\t\\t\\t\\t\\t\\t\\t<td>0</td>\\n\\t\\t\\t\\t\\t\\n\\t\\t\\t\\t  \\t<td>0</td>\\n\\t\\t\\t\\t\\t\\n\\t\\t\\t\\t\\t\\t\\t\\t\\t<td>0</td>\\n\\t\\t\\t\\t\\t\\n\\t\\t\\t\\t  \\t<td>0</td>\\n\\t\\t\\t\\t\\t\\n\\t\\t\\t\\t\\t\\t\\t\\t\\t<td>0</td>\\n\\t\\t\\t\\t\\t\\n\\t\\t\\t\\t  \\t<td>0</td>\\n\\t\\t\\t\\t\\t\\n\\t\\t\\t\\t\\t\\t\\t\\t\\t<td>0</td>\\n\\t\\t\\t\\t\\t\\n\\t\\t\\t\\t  \\t<td>0</td>\\n\\t\\t\\t\\t\\t\\n\\t\\t\\t\\t\\t\\t\\t\\t<td>11</td>\\n\\t\\t\\t\\t<td>0</td>\\n\\t\\t\\t</tr>\\n\\t\\t\\t\\n\\t\\t\\t\\t\\t<tr>\\n\\t\\t\\t\\t<td class=\"label\">Engineering Physics</td> \\n\\t\\t\\t\\t\\t\\t\\t\\t\\t<td>6</td>\\n\\t\\t\\t\\t\\t\\n\\t\\t\\t\\t  \\t<td>2</td>\\n\\t\\t\\t\\t\\t\\n\\t\\t\\t\\t\\t\\t\\t\\t\\t<td>0</td>\\n\\t\\t\\t\\t\\t\\n\\t\\t\\t\\t  \\t<td>0</td>\\n\\t\\t\\t\\t\\t\\n\\t\\t\\t\\t\\t\\t\\t\\t\\t<td>0</td>\\n\\t\\t\\t\\t\\t\\n\\t\\t\\t\\t  \\t<td>0</td>\\n\\t\\t\\t\\t\\t\\n\\t\\t\\t\\t\\t\\t\\t\\t\\t<td>0</td>\\n\\t\\t\\t\\t\\t\\n\\t\\t\\t\\t  \\t<td>0</td>\\n\\t\\t\\t\\t\\t\\n\\t\\t\\t\\t\\t\\t\\t\\t\\t<td>0</td>\\n\\t\\t\\t\\t\\t\\n\\t\\t\\t\\t  \\t<td>0</td>\\n\\t\\t\\t\\t\\t\\n\\t\\t\\t\\t\\t\\t\\t\\t\\t<td>0</td>\\n\\t\\t\\t\\t\\t\\n\\t\\t\\t\\t  \\t<td>0</td>\\n\\t\\t\\t\\t\\t\\n\\t\\t\\t\\t\\t\\t\\t\\t\\t<td>0</td>\\n\\t\\t\\t\\t\\t\\n\\t\\t\\t\\t  \\t<td>0</td>\\n\\t\\t\\t\\t\\t\\n\\t\\t\\t\\t\\t\\t\\t\\t\\t<td>0</td>\\n\\t\\t\\t\\t\\t\\n\\t\\t\\t\\t  \\t<td>0</td>\\n\\t\\t\\t\\t\\t\\n\\t\\t\\t\\t\\t\\t\\t\\t<td>6</td>\\n\\t\\t\\t\\t<td>2</td>\\n\\t\\t\\t</tr>\\n\\t\\t\\t\\n\\t\\t\\t\\t\\t<tr class=\"on\">\\n\\t\\t\\t\\t<td class=\"label\">Mathematics and Statistics</td> \\n\\t\\t\\t\\t\\t\\t\\t\\t\\t<td>4</td>\\n\\t\\t\\t\\t\\t\\n\\t\\t\\t\\t  \\t<td>1</td>\\n\\t\\t\\t\\t\\t\\n\\t\\t\\t\\t\\t\\t\\t\\t\\t<td>0</td>\\n\\t\\t\\t\\t\\t\\n\\t\\t\\t\\t  \\t<td>0</td>\\n\\t\\t\\t\\t\\t\\n\\t\\t\\t\\t\\t\\t\\t\\t\\t<td>0</td>\\n\\t\\t\\t\\t\\t\\n\\t\\t\\t\\t  \\t<td>0</td>\\n\\t\\t\\t\\t\\t\\n\\t\\t\\t\\t\\t\\t\\t\\t\\t<td>0</td>\\n\\t\\t\\t\\t\\t\\n\\t\\t\\t\\t  \\t<td>0</td>\\n\\t\\t\\t\\t\\t\\n\\t\\t\\t\\t\\t\\t\\t\\t\\t<td>0</td>\\n\\t\\t\\t\\t\\t\\n\\t\\t\\t\\t  \\t<td>0</td>\\n\\t\\t\\t\\t\\t\\n\\t\\t\\t\\t\\t\\t\\t\\t\\t<td>0</td>\\n\\t\\t\\t\\t\\t\\n\\t\\t\\t\\t  \\t<td>0</td>\\n\\t\\t\\t\\t\\t\\n\\t\\t\\t\\t\\t\\t\\t\\t\\t<td>0</td>\\n\\t\\t\\t\\t\\t\\n\\t\\t\\t\\t  \\t<td>0</td>\\n\\t\\t\\t\\t\\t\\n\\t\\t\\t\\t\\t\\t\\t\\t\\t<td>0</td>\\n\\t\\t\\t\\t\\t\\n\\t\\t\\t\\t  \\t<td>0</td>\\n\\t\\t\\t\\t\\t\\n\\t\\t\\t\\t\\t\\t\\t\\t<td>4</td>\\n\\t\\t\\t\\t<td>1</td>\\n\\t\\t\\t</tr>\\n\\t\\t\\t\\n\\t\\t\\t\\t\\t<tr>\\n\\t\\t\\t\\t<td class=\"label\">Operational Sciences</td> \\n\\t\\t\\t\\t\\t\\t\\t\\t\\t<td>6</td>\\n\\t\\t\\t\\t\\t\\n\\t\\t\\t\\t  \\t<td>0</td>\\n\\t\\t\\t\\t\\t\\n\\t\\t\\t\\t\\t\\t\\t\\t\\t<td>0</td>\\n\\t\\t\\t\\t\\t\\n\\t\\t\\t\\t  \\t<td>0</td>\\n\\t\\t\\t\\t\\t\\n\\t\\t\\t\\t\\t\\t\\t\\t\\t<td>0</td>\\n\\t\\t\\t\\t\\t\\n\\t\\t\\t\\t  \\t<td>0</td>\\n\\t\\t\\t\\t\\t\\n\\t\\t\\t\\t\\t\\t\\t\\t\\t<td>0</td>\\n\\t\\t\\t\\t\\t\\n\\t\\t\\t\\t  \\t<td>0</td>\\n\\t\\t\\t\\t\\t\\n\\t\\t\\t\\t\\t\\t\\t\\t\\t<td>0</td>\\n\\t\\t\\t\\t\\t\\n\\t\\t\\t\\t  \\t<td>0</td>\\n\\t\\t\\t\\t\\t\\n\\t\\t\\t\\t\\t\\t\\t\\t\\t<td>0</td>\\n\\t\\t\\t\\t\\t\\n\\t\\t\\t\\t  \\t<td>0</td>\\n\\t\\t\\t\\t\\t\\n\\t\\t\\t\\t\\t\\t\\t\\t\\t<td>0</td>\\n\\t\\t\\t\\t\\t\\n\\t\\t\\t\\t  \\t<td>0</td>\\n\\t\\t\\t\\t\\t\\n\\t\\t\\t\\t\\t\\t\\t\\t\\t<td>0</td>\\n\\t\\t\\t\\t\\t\\n\\t\\t\\t\\t  \\t<td>0</td>\\n\\t\\t\\t\\t\\t\\n\\t\\t\\t\\t\\t\\t\\t\\t<td>6</td>\\n\\t\\t\\t\\t<td>0</td>\\n\\t\\t\\t</tr>\\n\\t\\t\\t\\n\\t\\t\\t\\t\\t<tr class=\"on\">\\n\\t\\t\\t\\t<td class=\"label\">Systems Engineering and Management</td> \\n\\t\\t\\t\\t\\t\\t\\t\\t\\t<td>5</td>\\n\\t\\t\\t\\t\\t\\n\\t\\t\\t\\t  \\t<td>0</td>\\n\\t\\t\\t\\t\\t\\n\\t\\t\\t\\t\\t\\t\\t\\t\\t<td>0</td>\\n\\t\\t\\t\\t\\t\\n\\t\\t\\t\\t  \\t<td>0</td>\\n\\t\\t\\t\\t\\t\\n\\t\\t\\t\\t\\t\\t\\t\\t\\t<td>0</td>\\n\\t\\t\\t\\t\\t\\n\\t\\t\\t\\t  \\t<td>0</td>\\n\\t\\t\\t\\t\\t\\n\\t\\t\\t\\t\\t\\t\\t\\t\\t<td>0</td>\\n\\t\\t\\t\\t\\t\\n\\t\\t\\t\\t  \\t<td>0</td>\\n\\t\\t\\t\\t\\t\\n\\t\\t\\t\\t\\t\\t\\t\\t\\t<td>0</td>\\n\\t\\t\\t\\t\\t\\n\\t\\t\\t\\t  \\t<td>0</td>\\n\\t\\t\\t\\t\\t\\n\\t\\t\\t\\t\\t\\t\\t\\t\\t<td>0</td>\\n\\t\\t\\t\\t\\t\\n\\t\\t\\t\\t  \\t<td>0</td>\\n\\t\\t\\t\\t\\t\\n\\t\\t\\t\\t\\t\\t\\t\\t\\t<td>0</td>\\n\\t\\t\\t\\t\\t\\n\\t\\t\\t\\t  \\t<td>0</td>\\n\\t\\t\\t\\t\\t\\n\\t\\t\\t\\t\\t\\t\\t\\t\\t<td>0</td>\\n\\t\\t\\t\\t\\t\\n\\t\\t\\t\\t  \\t<td>0</td>\\n\\t\\t\\t\\t\\t\\n\\t\\t\\t\\t\\t\\t\\t\\t<td>5</td>\\n\\t\\t\\t\\t<td>0</td>\\n\\t\\t\\t</tr>\\n\\t\\t\\t\\n\\t\\t\\t\\t<tr class=\"total\">\\n\\t\\t\\t<td class=\"label\">Totals:</td>\\n\\t\\t\\t\\n\\t\\t\\t\\n\\t\\t\\t\\t<td>39</td>\\n\\t\\t\\t  \\t<td>4</td>\\n\\t\\t\\t\\n\\t\\t\\t\\t<td>0</td>\\n\\t\\t\\t  \\t<td>0</td>\\n\\t\\t\\t\\n\\t\\t\\t\\t<td>0</td>\\n\\t\\t\\t  \\t<td>0</td>\\n\\t\\t\\t\\n\\t\\t\\t\\t<td>0</td>\\n\\t\\t\\t  \\t<td>0</td>\\n\\t\\t\\t\\n\\t\\t\\t\\t<td>0</td>\\n\\t\\t\\t  \\t<td>0</td>\\n\\t\\t\\t\\n\\t\\t\\t\\t<td>0</td>\\n\\t\\t\\t  \\t<td>0</td>\\n\\t\\t\\t\\n\\t\\t\\t\\t<td>0</td>\\n\\t\\t\\t  \\t<td>0</td>\\n\\t\\t\\t\\n\\t\\t\\t\\t<td>0</td>\\n\\t\\t\\t  \\t<td>0</td>\\n\\t\\t\\t\\t\\t\\t<td>39</td>\\n\\t\\t\\t<td>4</td>\\n\\t\\t</tr>\\n\\t</tbody>\\n</table>\\n\\n\\n    <p class=\"highlighted\">Teaching, Tenure-Track: Associate Professor Profiles</p>\\n\\n<table cellspacing=\"0\">\\n\\t<thead>\\n\\t\\t<tr>\\n\\t\\t\\t<th rowspan=\"2\" class=\"label\">Engineering Department(s)</th>\\n\\t\\t\\t\\n\\t\\t\\t  <th colspan=\"2\" class=\"th_short center\">Unknown</th>\\n\\t\\t\\t\\n\\t\\t\\t  <th colspan=\"2\" class=\"th_short center\">Hispanic</th>\\n\\t\\t\\t\\n\\t\\t\\t  <th colspan=\"2\" class=\"th_short center\">American Indian</th>\\n\\t\\t\\t\\n\\t\\t\\t  <th colspan=\"2\" class=\"th_short center\">Asian</th>\\n\\t\\t\\t\\n\\t\\t\\t  <th colspan=\"2\" class=\"th_short center\">Black</th>\\n\\t\\t\\t\\n\\t\\t\\t  <th colspan=\"2\" class=\"th_short center\">Pacific Islander</th>\\n\\t\\t\\t\\n\\t\\t\\t  <th colspan=\"2\" class=\"th_short center\">White</th>\\n\\t\\t\\t\\n\\t\\t\\t  <th colspan=\"2\" class=\"th_short center\">Two or more</th>\\n\\t\\t\\t\\n\\t\\t\\t<th colspan=\"2\" class=\"center\">Total Personnel</th>\\n\\t\\t</tr>\\n\\t\\t<tr>\\n\\t\\t\\t\\n\\t\\t\\t  <th>M</th>\\n\\t  \\t\\t  <th>F</th>\\n\\t\\t\\t\\n\\t\\t\\t  <th>M</th>\\n\\t  \\t\\t  <th>F</th>\\n\\t\\t\\t\\n\\t\\t\\t  <th>M</th>\\n\\t  \\t\\t  <th>F</th>\\n\\t\\t\\t\\n\\t\\t\\t  <th>M</th>\\n\\t  \\t\\t  <th>F</th>\\n\\t\\t\\t\\n\\t\\t\\t  <th>M</th>\\n\\t  \\t\\t  <th>F</th>\\n\\t\\t\\t\\n\\t\\t\\t  <th>M</th>\\n\\t  \\t\\t  <th>F</th>\\n\\t\\t\\t\\n\\t\\t\\t  <th>M</th>\\n\\t  \\t\\t  <th>F</th>\\n\\t\\t\\t\\n\\t\\t\\t  <th>M</th>\\n\\t  \\t\\t  <th>F</th>\\n\\t\\t\\t\\t\\t\\t<th>M</th>\\n\\t\\t\\t<th>F</th>\\n\\t\\t</tr>\\n\\t</thead>\\n\\t<tbody> \\n\\t\\t\\t\\t\\t<tr>\\n\\t\\t\\t\\t<td class=\"label\">Aeronautical and Astronautical</td> \\n\\t\\t\\t\\t\\t\\t\\t\\t\\t<td>1</td>\\n\\t\\t\\t\\t\\t\\n\\t\\t\\t\\t  \\t<td>0</td>\\n\\t\\t\\t\\t\\t\\n\\t\\t\\t\\t\\t\\t\\t\\t\\t<td>0</td>\\n\\t\\t\\t\\t\\t\\n\\t\\t\\t\\t  \\t<td>0</td>\\n\\t\\t\\t\\t\\t\\n\\t\\t\\t\\t\\t\\t\\t\\t\\t<td>0</td>\\n\\t\\t\\t\\t\\t\\n\\t\\t\\t\\t  \\t<td>0</td>\\n\\t\\t\\t\\t\\t\\n\\t\\t\\t\\t\\t\\t\\t\\t\\t<td>0</td>\\n\\t\\t\\t\\t\\t\\n\\t\\t\\t\\t  \\t<td>0</td>\\n\\t\\t\\t\\t\\t\\n\\t\\t\\t\\t\\t\\t\\t\\t\\t<td>0</td>\\n\\t\\t\\t\\t\\t\\n\\t\\t\\t\\t  \\t<td>0</td>\\n\\t\\t\\t\\t\\t\\n\\t\\t\\t\\t\\t\\t\\t\\t\\t<td>0</td>\\n\\t\\t\\t\\t\\t\\n\\t\\t\\t\\t  \\t<td>0</td>\\n\\t\\t\\t\\t\\t\\n\\t\\t\\t\\t\\t\\t\\t\\t\\t<td>0</td>\\n\\t\\t\\t\\t\\t\\n\\t\\t\\t\\t  \\t<td>0</td>\\n\\t\\t\\t\\t\\t\\n\\t\\t\\t\\t\\t\\t\\t\\t\\t<td>0</td>\\n\\t\\t\\t\\t\\t\\n\\t\\t\\t\\t  \\t<td>0</td>\\n\\t\\t\\t\\t\\t\\n\\t\\t\\t\\t\\t\\t\\t\\t<td>1</td>\\n\\t\\t\\t\\t<td>0</td>\\n\\t\\t\\t</tr>\\n\\t\\t\\t\\n\\t\\t\\t\\t\\t<tr class=\"on\">\\n\\t\\t\\t\\t<td class=\"label\">Electrical and Computer Engineering</td> \\n\\t\\t\\t\\t\\t\\t\\t\\t\\t<td>4</td>\\n\\t\\t\\t\\t\\t\\n\\t\\t\\t\\t  \\t<td>1</td>\\n\\t\\t\\t\\t\\t\\n\\t\\t\\t\\t\\t\\t\\t\\t\\t<td>0</td>\\n\\t\\t\\t\\t\\t\\n\\t\\t\\t\\t  \\t<td>0</td>\\n\\t\\t\\t\\t\\t\\n\\t\\t\\t\\t\\t\\t\\t\\t\\t<td>0</td>\\n\\t\\t\\t\\t\\t\\n\\t\\t\\t\\t  \\t<td>0</td>\\n\\t\\t\\t\\t\\t\\n\\t\\t\\t\\t\\t\\t\\t\\t\\t<td>0</td>\\n\\t\\t\\t\\t\\t\\n\\t\\t\\t\\t  \\t<td>0</td>\\n\\t\\t\\t\\t\\t\\n\\t\\t\\t\\t\\t\\t\\t\\t\\t<td>0</td>\\n\\t\\t\\t\\t\\t\\n\\t\\t\\t\\t  \\t<td>0</td>\\n\\t\\t\\t\\t\\t\\n\\t\\t\\t\\t\\t\\t\\t\\t\\t<td>0</td>\\n\\t\\t\\t\\t\\t\\n\\t\\t\\t\\t  \\t<td>0</td>\\n\\t\\t\\t\\t\\t\\n\\t\\t\\t\\t\\t\\t\\t\\t\\t<td>0</td>\\n\\t\\t\\t\\t\\t\\n\\t\\t\\t\\t  \\t<td>0</td>\\n\\t\\t\\t\\t\\t\\n\\t\\t\\t\\t\\t\\t\\t\\t\\t<td>0</td>\\n\\t\\t\\t\\t\\t\\n\\t\\t\\t\\t  \\t<td>0</td>\\n\\t\\t\\t\\t\\t\\n\\t\\t\\t\\t\\t\\t\\t\\t<td>4</td>\\n\\t\\t\\t\\t<td>1</td>\\n\\t\\t\\t</tr>\\n\\t\\t\\t\\n\\t\\t\\t\\t\\t<tr>\\n\\t\\t\\t\\t<td class=\"label\">Engineering Physics</td> \\n\\t\\t\\t\\t\\t\\t\\t\\t\\t<td>4</td>\\n\\t\\t\\t\\t\\t\\n\\t\\t\\t\\t  \\t<td>0</td>\\n\\t\\t\\t\\t\\t\\n\\t\\t\\t\\t\\t\\t\\t\\t\\t<td>0</td>\\n\\t\\t\\t\\t\\t\\n\\t\\t\\t\\t  \\t<td>0</td>\\n\\t\\t\\t\\t\\t\\n\\t\\t\\t\\t\\t\\t\\t\\t\\t<td>0</td>\\n\\t\\t\\t\\t\\t\\n\\t\\t\\t\\t  \\t<td>0</td>\\n\\t\\t\\t\\t\\t\\n\\t\\t\\t\\t\\t\\t\\t\\t\\t<td>0</td>\\n\\t\\t\\t\\t\\t\\n\\t\\t\\t\\t  \\t<td>0</td>\\n\\t\\t\\t\\t\\t\\n\\t\\t\\t\\t\\t\\t\\t\\t\\t<td>0</td>\\n\\t\\t\\t\\t\\t\\n\\t\\t\\t\\t  \\t<td>0</td>\\n\\t\\t\\t\\t\\t\\n\\t\\t\\t\\t\\t\\t\\t\\t\\t<td>0</td>\\n\\t\\t\\t\\t\\t\\n\\t\\t\\t\\t  \\t<td>0</td>\\n\\t\\t\\t\\t\\t\\n\\t\\t\\t\\t\\t\\t\\t\\t\\t<td>0</td>\\n\\t\\t\\t\\t\\t\\n\\t\\t\\t\\t  \\t<td>0</td>\\n\\t\\t\\t\\t\\t\\n\\t\\t\\t\\t\\t\\t\\t\\t\\t<td>0</td>\\n\\t\\t\\t\\t\\t\\n\\t\\t\\t\\t  \\t<td>0</td>\\n\\t\\t\\t\\t\\t\\n\\t\\t\\t\\t\\t\\t\\t\\t<td>4</td>\\n\\t\\t\\t\\t<td>0</td>\\n\\t\\t\\t</tr>\\n\\t\\t\\t\\n\\t\\t\\t\\t\\t<tr class=\"on\">\\n\\t\\t\\t\\t<td class=\"label\">Mathematics and Statistics</td> \\n\\t\\t\\t\\t\\t\\t\\t\\t\\t<td>3</td>\\n\\t\\t\\t\\t\\t\\n\\t\\t\\t\\t  \\t<td>1</td>\\n\\t\\t\\t\\t\\t\\n\\t\\t\\t\\t\\t\\t\\t\\t\\t<td>0</td>\\n\\t\\t\\t\\t\\t\\n\\t\\t\\t\\t  \\t<td>0</td>\\n\\t\\t\\t\\t\\t\\n\\t\\t\\t\\t\\t\\t\\t\\t\\t<td>0</td>\\n\\t\\t\\t\\t\\t\\n\\t\\t\\t\\t  \\t<td>0</td>\\n\\t\\t\\t\\t\\t\\n\\t\\t\\t\\t\\t\\t\\t\\t\\t<td>0</td>\\n\\t\\t\\t\\t\\t\\n\\t\\t\\t\\t  \\t<td>0</td>\\n\\t\\t\\t\\t\\t\\n\\t\\t\\t\\t\\t\\t\\t\\t\\t<td>0</td>\\n\\t\\t\\t\\t\\t\\n\\t\\t\\t\\t  \\t<td>0</td>\\n\\t\\t\\t\\t\\t\\n\\t\\t\\t\\t\\t\\t\\t\\t\\t<td>0</td>\\n\\t\\t\\t\\t\\t\\n\\t\\t\\t\\t  \\t<td>0</td>\\n\\t\\t\\t\\t\\t\\n\\t\\t\\t\\t\\t\\t\\t\\t\\t<td>0</td>\\n\\t\\t\\t\\t\\t\\n\\t\\t\\t\\t  \\t<td>0</td>\\n\\t\\t\\t\\t\\t\\n\\t\\t\\t\\t\\t\\t\\t\\t\\t<td>0</td>\\n\\t\\t\\t\\t\\t\\n\\t\\t\\t\\t  \\t<td>0</td>\\n\\t\\t\\t\\t\\t\\n\\t\\t\\t\\t\\t\\t\\t\\t<td>3</td>\\n\\t\\t\\t\\t<td>1</td>\\n\\t\\t\\t</tr>\\n\\t\\t\\t\\n\\t\\t\\t\\t\\t<tr>\\n\\t\\t\\t\\t<td class=\"label\">Operational Sciences</td> \\n\\t\\t\\t\\t\\t\\t\\t\\t\\t<td>4</td>\\n\\t\\t\\t\\t\\t\\n\\t\\t\\t\\t  \\t<td>0</td>\\n\\t\\t\\t\\t\\t\\n\\t\\t\\t\\t\\t\\t\\t\\t\\t<td>0</td>\\n\\t\\t\\t\\t\\t\\n\\t\\t\\t\\t  \\t<td>0</td>\\n\\t\\t\\t\\t\\t\\n\\t\\t\\t\\t\\t\\t\\t\\t\\t<td>0</td>\\n\\t\\t\\t\\t\\t\\n\\t\\t\\t\\t  \\t<td>0</td>\\n\\t\\t\\t\\t\\t\\n\\t\\t\\t\\t\\t\\t\\t\\t\\t<td>0</td>\\n\\t\\t\\t\\t\\t\\n\\t\\t\\t\\t  \\t<td>0</td>\\n\\t\\t\\t\\t\\t\\n\\t\\t\\t\\t\\t\\t\\t\\t\\t<td>0</td>\\n\\t\\t\\t\\t\\t\\n\\t\\t\\t\\t  \\t<td>0</td>\\n\\t\\t\\t\\t\\t\\n\\t\\t\\t\\t\\t\\t\\t\\t\\t<td>0</td>\\n\\t\\t\\t\\t\\t\\n\\t\\t\\t\\t  \\t<td>0</td>\\n\\t\\t\\t\\t\\t\\n\\t\\t\\t\\t\\t\\t\\t\\t\\t<td>0</td>\\n\\t\\t\\t\\t\\t\\n\\t\\t\\t\\t  \\t<td>0</td>\\n\\t\\t\\t\\t\\t\\n\\t\\t\\t\\t\\t\\t\\t\\t\\t<td>0</td>\\n\\t\\t\\t\\t\\t\\n\\t\\t\\t\\t  \\t<td>0</td>\\n\\t\\t\\t\\t\\t\\n\\t\\t\\t\\t\\t\\t\\t\\t<td>4</td>\\n\\t\\t\\t\\t<td>0</td>\\n\\t\\t\\t</tr>\\n\\t\\t\\t\\n\\t\\t\\t\\t\\t<tr class=\"on\">\\n\\t\\t\\t\\t<td class=\"label\">Systems Engineering and Management</td> \\n\\t\\t\\t\\t\\t\\t\\t\\t\\t<td>3</td>\\n\\t\\t\\t\\t\\t\\n\\t\\t\\t\\t  \\t<td>0</td>\\n\\t\\t\\t\\t\\t\\n\\t\\t\\t\\t\\t\\t\\t\\t\\t<td>0</td>\\n\\t\\t\\t\\t\\t\\n\\t\\t\\t\\t  \\t<td>0</td>\\n\\t\\t\\t\\t\\t\\n\\t\\t\\t\\t\\t\\t\\t\\t\\t<td>0</td>\\n\\t\\t\\t\\t\\t\\n\\t\\t\\t\\t  \\t<td>0</td>\\n\\t\\t\\t\\t\\t\\n\\t\\t\\t\\t\\t\\t\\t\\t\\t<td>0</td>\\n\\t\\t\\t\\t\\t\\n\\t\\t\\t\\t  \\t<td>0</td>\\n\\t\\t\\t\\t\\t\\n\\t\\t\\t\\t\\t\\t\\t\\t\\t<td>0</td>\\n\\t\\t\\t\\t\\t\\n\\t\\t\\t\\t  \\t<td>0</td>\\n\\t\\t\\t\\t\\t\\n\\t\\t\\t\\t\\t\\t\\t\\t\\t<td>0</td>\\n\\t\\t\\t\\t\\t\\n\\t\\t\\t\\t  \\t<td>0</td>\\n\\t\\t\\t\\t\\t\\n\\t\\t\\t\\t\\t\\t\\t\\t\\t<td>0</td>\\n\\t\\t\\t\\t\\t\\n\\t\\t\\t\\t  \\t<td>0</td>\\n\\t\\t\\t\\t\\t\\n\\t\\t\\t\\t\\t\\t\\t\\t\\t<td>0</td>\\n\\t\\t\\t\\t\\t\\n\\t\\t\\t\\t  \\t<td>0</td>\\n\\t\\t\\t\\t\\t\\n\\t\\t\\t\\t\\t\\t\\t\\t<td>3</td>\\n\\t\\t\\t\\t<td>0</td>\\n\\t\\t\\t</tr>\\n\\t\\t\\t\\n\\t\\t\\t\\t<tr class=\"total\">\\n\\t\\t\\t<td class=\"label\">Totals:</td>\\n\\t\\t\\t\\n\\t\\t\\t\\n\\t\\t\\t\\t<td>19</td>\\n\\t\\t\\t  \\t<td>2</td>\\n\\t\\t\\t\\n\\t\\t\\t\\t<td>0</td>\\n\\t\\t\\t  \\t<td>0</td>\\n\\t\\t\\t\\n\\t\\t\\t\\t<td>0</td>\\n\\t\\t\\t  \\t<td>0</td>\\n\\t\\t\\t\\n\\t\\t\\t\\t<td>0</td>\\n\\t\\t\\t  \\t<td>0</td>\\n\\t\\t\\t\\n\\t\\t\\t\\t<td>0</td>\\n\\t\\t\\t  \\t<td>0</td>\\n\\t\\t\\t\\n\\t\\t\\t\\t<td>0</td>\\n\\t\\t\\t  \\t<td>0</td>\\n\\t\\t\\t\\n\\t\\t\\t\\t<td>0</td>\\n\\t\\t\\t  \\t<td>0</td>\\n\\t\\t\\t\\n\\t\\t\\t\\t<td>0</td>\\n\\t\\t\\t  \\t<td>0</td>\\n\\t\\t\\t\\t\\t\\t<td>19</td>\\n\\t\\t\\t<td>2</td>\\n\\t\\t</tr>\\n\\t</tbody>\\n</table>\\n\\n\\n\\t<p class=\"highlighted\">Teaching, Tenure-Track: Assistant Professor Profiles</p>\\n\\n<table cellspacing=\"0\">\\n\\t<thead>\\n\\t\\t<tr>\\n\\t\\t\\t<th rowspan=\"2\" class=\"label\">Engineering Department(s)</th>\\n\\t\\t\\t\\n\\t\\t\\t  <th colspan=\"2\" class=\"th_short center\">Unknown</th>\\n\\t\\t\\t\\n\\t\\t\\t  <th colspan=\"2\" class=\"th_short center\">Hispanic</th>\\n\\t\\t\\t\\n\\t\\t\\t  <th colspan=\"2\" class=\"th_short center\">American Indian</th>\\n\\t\\t\\t\\n\\t\\t\\t  <th colspan=\"2\" class=\"th_short center\">Asian</th>\\n\\t\\t\\t\\n\\t\\t\\t  <th colspan=\"2\" class=\"th_short center\">Black</th>\\n\\t\\t\\t\\n\\t\\t\\t  <th colspan=\"2\" class=\"th_short center\">Pacific Islander</th>\\n\\t\\t\\t\\n\\t\\t\\t  <th colspan=\"2\" class=\"th_short center\">White</th>\\n\\t\\t\\t\\n\\t\\t\\t  <th colspan=\"2\" class=\"th_short center\">Two or more</th>\\n\\t\\t\\t\\n\\t\\t\\t<th colspan=\"2\" class=\"center\">Total Personnel</th>\\n\\t\\t</tr>\\n\\t\\t<tr>\\n\\t\\t\\t\\n\\t\\t\\t  <th>M</th>\\n\\t  \\t\\t  <th>F</th>\\n\\t\\t\\t\\n\\t\\t\\t  <th>M</th>\\n\\t  \\t\\t  <th>F</th>\\n\\t\\t\\t\\n\\t\\t\\t  <th>M</th>\\n\\t  \\t\\t  <th>F</th>\\n\\t\\t\\t\\n\\t\\t\\t  <th>M</th>\\n\\t  \\t\\t  <th>F</th>\\n\\t\\t\\t\\n\\t\\t\\t  <th>M</th>\\n\\t  \\t\\t  <th>F</th>\\n\\t\\t\\t\\n\\t\\t\\t  <th>M</th>\\n\\t  \\t\\t  <th>F</th>\\n\\t\\t\\t\\n\\t\\t\\t  <th>M</th>\\n\\t  \\t\\t  <th>F</th>\\n\\t\\t\\t\\n\\t\\t\\t  <th>M</th>\\n\\t  \\t\\t  <th>F</th>\\n\\t\\t\\t\\t\\t\\t<th>M</th>\\n\\t\\t\\t<th>F</th>\\n\\t\\t</tr>\\n\\t</thead>\\n\\t<tbody> \\n\\t\\t\\t\\t\\t<tr>\\n\\t\\t\\t\\t<td class=\"label\">Aeronautical and Astronautical</td> \\n\\t\\t\\t\\t\\t\\t\\t\\t\\t<td>14</td>\\n\\t\\t\\t\\t\\t\\n\\t\\t\\t\\t  \\t<td>0</td>\\n\\t\\t\\t\\t\\t\\n\\t\\t\\t\\t\\t\\t\\t\\t\\t<td>0</td>\\n\\t\\t\\t\\t\\t\\n\\t\\t\\t\\t  \\t<td>0</td>\\n\\t\\t\\t\\t\\t\\n\\t\\t\\t\\t\\t\\t\\t\\t\\t<td>0</td>\\n\\t\\t\\t\\t\\t\\n\\t\\t\\t\\t  \\t<td>0</td>\\n\\t\\t\\t\\t\\t\\n\\t\\t\\t\\t\\t\\t\\t\\t\\t<td>0</td>\\n\\t\\t\\t\\t\\t\\n\\t\\t\\t\\t  \\t<td>0</td>\\n\\t\\t\\t\\t\\t\\n\\t\\t\\t\\t\\t\\t\\t\\t\\t<td>0</td>\\n\\t\\t\\t\\t\\t\\n\\t\\t\\t\\t  \\t<td>0</td>\\n\\t\\t\\t\\t\\t\\n\\t\\t\\t\\t\\t\\t\\t\\t\\t<td>0</td>\\n\\t\\t\\t\\t\\t\\n\\t\\t\\t\\t  \\t<td>0</td>\\n\\t\\t\\t\\t\\t\\n\\t\\t\\t\\t\\t\\t\\t\\t\\t<td>0</td>\\n\\t\\t\\t\\t\\t\\n\\t\\t\\t\\t  \\t<td>0</td>\\n\\t\\t\\t\\t\\t\\n\\t\\t\\t\\t\\t\\t\\t\\t\\t<td>0</td>\\n\\t\\t\\t\\t\\t\\n\\t\\t\\t\\t  \\t<td>0</td>\\n\\t\\t\\t\\t\\t\\n\\t\\t\\t\\t\\t\\t\\t\\t<td>14</td>\\n\\t\\t\\t\\t<td>0</td>\\n\\t\\t\\t</tr>\\n\\t\\t\\t\\n\\t\\t\\t\\t\\t<tr class=\"on\">\\n\\t\\t\\t\\t<td class=\"label\">Electrical and Computer Engineering</td> \\n\\t\\t\\t\\t\\t\\t\\t\\t\\t<td>10</td>\\n\\t\\t\\t\\t\\t\\n\\t\\t\\t\\t  \\t<td>0</td>\\n\\t\\t\\t\\t\\t\\n\\t\\t\\t\\t\\t\\t\\t\\t\\t<td>0</td>\\n\\t\\t\\t\\t\\t\\n\\t\\t\\t\\t  \\t<td>0</td>\\n\\t\\t\\t\\t\\t\\n\\t\\t\\t\\t\\t\\t\\t\\t\\t<td>0</td>\\n\\t\\t\\t\\t\\t\\n\\t\\t\\t\\t  \\t<td>0</td>\\n\\t\\t\\t\\t\\t\\n\\t\\t\\t\\t\\t\\t\\t\\t\\t<td>0</td>\\n\\t\\t\\t\\t\\t\\n\\t\\t\\t\\t  \\t<td>0</td>\\n\\t\\t\\t\\t\\t\\n\\t\\t\\t\\t\\t\\t\\t\\t\\t<td>0</td>\\n\\t\\t\\t\\t\\t\\n\\t\\t\\t\\t  \\t<td>0</td>\\n\\t\\t\\t\\t\\t\\n\\t\\t\\t\\t\\t\\t\\t\\t\\t<td>0</td>\\n\\t\\t\\t\\t\\t\\n\\t\\t\\t\\t  \\t<td>0</td>\\n\\t\\t\\t\\t\\t\\n\\t\\t\\t\\t\\t\\t\\t\\t\\t<td>0</td>\\n\\t\\t\\t\\t\\t\\n\\t\\t\\t\\t  \\t<td>0</td>\\n\\t\\t\\t\\t\\t\\n\\t\\t\\t\\t\\t\\t\\t\\t\\t<td>0</td>\\n\\t\\t\\t\\t\\t\\n\\t\\t\\t\\t  \\t<td>0</td>\\n\\t\\t\\t\\t\\t\\n\\t\\t\\t\\t\\t\\t\\t\\t<td>10</td>\\n\\t\\t\\t\\t<td>0</td>\\n\\t\\t\\t</tr>\\n\\t\\t\\t\\n\\t\\t\\t\\t\\t<tr>\\n\\t\\t\\t\\t<td class=\"label\">Engineering Physics</td> \\n\\t\\t\\t\\t\\t\\t\\t\\t\\t<td>13</td>\\n\\t\\t\\t\\t\\t\\n\\t\\t\\t\\t  \\t<td>1</td>\\n\\t\\t\\t\\t\\t\\n\\t\\t\\t\\t\\t\\t\\t\\t\\t<td>0</td>\\n\\t\\t\\t\\t\\t\\n\\t\\t\\t\\t  \\t<td>0</td>\\n\\t\\t\\t\\t\\t\\n\\t\\t\\t\\t\\t\\t\\t\\t\\t<td>0</td>\\n\\t\\t\\t\\t\\t\\n\\t\\t\\t\\t  \\t<td>0</td>\\n\\t\\t\\t\\t\\t\\n\\t\\t\\t\\t\\t\\t\\t\\t\\t<td>0</td>\\n\\t\\t\\t\\t\\t\\n\\t\\t\\t\\t  \\t<td>0</td>\\n\\t\\t\\t\\t\\t\\n\\t\\t\\t\\t\\t\\t\\t\\t\\t<td>0</td>\\n\\t\\t\\t\\t\\t\\n\\t\\t\\t\\t  \\t<td>0</td>\\n\\t\\t\\t\\t\\t\\n\\t\\t\\t\\t\\t\\t\\t\\t\\t<td>0</td>\\n\\t\\t\\t\\t\\t\\n\\t\\t\\t\\t  \\t<td>0</td>\\n\\t\\t\\t\\t\\t\\n\\t\\t\\t\\t\\t\\t\\t\\t\\t<td>0</td>\\n\\t\\t\\t\\t\\t\\n\\t\\t\\t\\t  \\t<td>0</td>\\n\\t\\t\\t\\t\\t\\n\\t\\t\\t\\t\\t\\t\\t\\t\\t<td>0</td>\\n\\t\\t\\t\\t\\t\\n\\t\\t\\t\\t  \\t<td>0</td>\\n\\t\\t\\t\\t\\t\\n\\t\\t\\t\\t\\t\\t\\t\\t<td>13</td>\\n\\t\\t\\t\\t<td>1</td>\\n\\t\\t\\t</tr>\\n\\t\\t\\t\\n\\t\\t\\t\\t\\t<tr class=\"on\">\\n\\t\\t\\t\\t<td class=\"label\">Mathematics and Statistics</td> \\n\\t\\t\\t\\t\\t\\t\\t\\t\\t<td>7</td>\\n\\t\\t\\t\\t\\t\\n\\t\\t\\t\\t  \\t<td>1</td>\\n\\t\\t\\t\\t\\t\\n\\t\\t\\t\\t\\t\\t\\t\\t\\t<td>0</td>\\n\\t\\t\\t\\t\\t\\n\\t\\t\\t\\t  \\t<td>0</td>\\n\\t\\t\\t\\t\\t\\n\\t\\t\\t\\t\\t\\t\\t\\t\\t<td>0</td>\\n\\t\\t\\t\\t\\t\\n\\t\\t\\t\\t  \\t<td>0</td>\\n\\t\\t\\t\\t\\t\\n\\t\\t\\t\\t\\t\\t\\t\\t\\t<td>0</td>\\n\\t\\t\\t\\t\\t\\n\\t\\t\\t\\t  \\t<td>0</td>\\n\\t\\t\\t\\t\\t\\n\\t\\t\\t\\t\\t\\t\\t\\t\\t<td>0</td>\\n\\t\\t\\t\\t\\t\\n\\t\\t\\t\\t  \\t<td>0</td>\\n\\t\\t\\t\\t\\t\\n\\t\\t\\t\\t\\t\\t\\t\\t\\t<td>0</td>\\n\\t\\t\\t\\t\\t\\n\\t\\t\\t\\t  \\t<td>0</td>\\n\\t\\t\\t\\t\\t\\n\\t\\t\\t\\t\\t\\t\\t\\t\\t<td>0</td>\\n\\t\\t\\t\\t\\t\\n\\t\\t\\t\\t  \\t<td>0</td>\\n\\t\\t\\t\\t\\t\\n\\t\\t\\t\\t\\t\\t\\t\\t\\t<td>0</td>\\n\\t\\t\\t\\t\\t\\n\\t\\t\\t\\t  \\t<td>0</td>\\n\\t\\t\\t\\t\\t\\n\\t\\t\\t\\t\\t\\t\\t\\t<td>7</td>\\n\\t\\t\\t\\t<td>1</td>\\n\\t\\t\\t</tr>\\n\\t\\t\\t\\n\\t\\t\\t\\t\\t<tr>\\n\\t\\t\\t\\t<td class=\"label\">Operational Sciences</td> \\n\\t\\t\\t\\t\\t\\t\\t\\t\\t<td>11</td>\\n\\t\\t\\t\\t\\t\\n\\t\\t\\t\\t  \\t<td>0</td>\\n\\t\\t\\t\\t\\t\\n\\t\\t\\t\\t\\t\\t\\t\\t\\t<td>0</td>\\n\\t\\t\\t\\t\\t\\n\\t\\t\\t\\t  \\t<td>0</td>\\n\\t\\t\\t\\t\\t\\n\\t\\t\\t\\t\\t\\t\\t\\t\\t<td>0</td>\\n\\t\\t\\t\\t\\t\\n\\t\\t\\t\\t  \\t<td>0</td>\\n\\t\\t\\t\\t\\t\\n\\t\\t\\t\\t\\t\\t\\t\\t\\t<td>0</td>\\n\\t\\t\\t\\t\\t\\n\\t\\t\\t\\t  \\t<td>0</td>\\n\\t\\t\\t\\t\\t\\n\\t\\t\\t\\t\\t\\t\\t\\t\\t<td>0</td>\\n\\t\\t\\t\\t\\t\\n\\t\\t\\t\\t  \\t<td>0</td>\\n\\t\\t\\t\\t\\t\\n\\t\\t\\t\\t\\t\\t\\t\\t\\t<td>0</td>\\n\\t\\t\\t\\t\\t\\n\\t\\t\\t\\t  \\t<td>0</td>\\n\\t\\t\\t\\t\\t\\n\\t\\t\\t\\t\\t\\t\\t\\t\\t<td>0</td>\\n\\t\\t\\t\\t\\t\\n\\t\\t\\t\\t  \\t<td>0</td>\\n\\t\\t\\t\\t\\t\\n\\t\\t\\t\\t\\t\\t\\t\\t\\t<td>0</td>\\n\\t\\t\\t\\t\\t\\n\\t\\t\\t\\t  \\t<td>0</td>\\n\\t\\t\\t\\t\\t\\n\\t\\t\\t\\t\\t\\t\\t\\t<td>11</td>\\n\\t\\t\\t\\t<td>0</td>\\n\\t\\t\\t</tr>\\n\\t\\t\\t\\n\\t\\t\\t\\t\\t<tr class=\"on\">\\n\\t\\t\\t\\t<td class=\"label\">Systems Engineering and Management</td> \\n\\t\\t\\t\\t\\t\\t\\t\\t\\t<td>10</td>\\n\\t\\t\\t\\t\\t\\n\\t\\t\\t\\t  \\t<td>1</td>\\n\\t\\t\\t\\t\\t\\n\\t\\t\\t\\t\\t\\t\\t\\t\\t<td>0</td>\\n\\t\\t\\t\\t\\t\\n\\t\\t\\t\\t  \\t<td>0</td>\\n\\t\\t\\t\\t\\t\\n\\t\\t\\t\\t\\t\\t\\t\\t\\t<td>0</td>\\n\\t\\t\\t\\t\\t\\n\\t\\t\\t\\t  \\t<td>0</td>\\n\\t\\t\\t\\t\\t\\n\\t\\t\\t\\t\\t\\t\\t\\t\\t<td>0</td>\\n\\t\\t\\t\\t\\t\\n\\t\\t\\t\\t  \\t<td>0</td>\\n\\t\\t\\t\\t\\t\\n\\t\\t\\t\\t\\t\\t\\t\\t\\t<td>0</td>\\n\\t\\t\\t\\t\\t\\n\\t\\t\\t\\t  \\t<td>0</td>\\n\\t\\t\\t\\t\\t\\n\\t\\t\\t\\t\\t\\t\\t\\t\\t<td>0</td>\\n\\t\\t\\t\\t\\t\\n\\t\\t\\t\\t  \\t<td>0</td>\\n\\t\\t\\t\\t\\t\\n\\t\\t\\t\\t\\t\\t\\t\\t\\t<td>0</td>\\n\\t\\t\\t\\t\\t\\n\\t\\t\\t\\t  \\t<td>0</td>\\n\\t\\t\\t\\t\\t\\n\\t\\t\\t\\t\\t\\t\\t\\t\\t<td>0</td>\\n\\t\\t\\t\\t\\t\\n\\t\\t\\t\\t  \\t<td>0</td>\\n\\t\\t\\t\\t\\t\\n\\t\\t\\t\\t\\t\\t\\t\\t<td>10</td>\\n\\t\\t\\t\\t<td>1</td>\\n\\t\\t\\t</tr>\\n\\t\\t\\t\\n\\t\\t\\t\\t<tr class=\"total\">\\n\\t\\t\\t<td class=\"label\">Totals:</td>\\n\\t\\t\\t\\n\\t\\t\\t\\n\\t\\t\\t\\t<td>65</td>\\n\\t\\t\\t  \\t<td>3</td>\\n\\t\\t\\t\\n\\t\\t\\t\\t<td>0</td>\\n\\t\\t\\t  \\t<td>0</td>\\n\\t\\t\\t\\n\\t\\t\\t\\t<td>0</td>\\n\\t\\t\\t  \\t<td>0</td>\\n\\t\\t\\t\\n\\t\\t\\t\\t<td>0</td>\\n\\t\\t\\t  \\t<td>0</td>\\n\\t\\t\\t\\n\\t\\t\\t\\t<td>0</td>\\n\\t\\t\\t  \\t<td>0</td>\\n\\t\\t\\t\\n\\t\\t\\t\\t<td>0</td>\\n\\t\\t\\t  \\t<td>0</td>\\n\\t\\t\\t\\n\\t\\t\\t\\t<td>0</td>\\n\\t\\t\\t  \\t<td>0</td>\\n\\t\\t\\t\\n\\t\\t\\t\\t<td>0</td>\\n\\t\\t\\t  \\t<td>0</td>\\n\\t\\t\\t\\t\\t\\t<td>65</td>\\n\\t\\t\\t<td>3</td>\\n\\t\\t</tr>\\n\\t</tbody>\\n</table>\\n\\n\\n\\n\\n\\n    \\t  \\n<h2>Graduate</h2>\\n\\n<h3>Admissions Information</h3>\\n\\n      <p class=\"highlighted\">Graduate Admission to the College of Engineering</p>\\n    <p>Applicants for programs offered in the Graduate School of Engineering and Management must submit application materials through the Office of Admissions and the Registrar. Official transcripts and scores from the GRE and/or GMAT are required components in the application package. Admission is open to U.S. military officers and enlisted personnel from all branches of service, foreign officers whose countries have agreements with the U.S., Federal Government employees,U.S. Citizen employees of defense contractors and civilans who are U.S. citizens. Military officers apply through established procedure set by their respective service. Civilian applicants may apply to AFIT by completing an AFIT application form and submitting the appropriate supporting documentation.</p>\\n          <p class=\"highlighted\">Entrance Requirements for Foreign Students</p>\\n    <p>Admission to the Graduate School of Engineering and Management is restricted to citizens of the United States and military officers sponsored by their governments.  The International Military Student Office at AFIT assists international military officers and international government civilian employees with the procedures of application for admission to the Graduate School of Engineering and Management professional and continuing education offered by AFIT.  Prospective international military students apply to the Graduate School of Engineering and Management through the United States Security Assistance Office (SAO) at the United States Embassy in their home country.</p>\\n          <p class=\"highlighted\">Residency Requirements</p>\\n    <p>The residency requirement is met when the student completes three quarters of full-time study in residence during a single contiguous four-quarter period.</p>\\n        <p class=\"highlighted\">Admissions Requirements for Transfer Students</p>\\n    <p>Students in master degree programs may transfer up to 12 credit hours of graduate credit from other accredited institutions. All transferred credits must receive course-by-course approval.  All requirements other than the credits transferred in are the same as for non-transfer students.</p>\\n  \\n    \\t  <h2>Graduate</h2>\\n\\n<h3>Expenses &amp; Financial Aid</h3>\\n\\n\\n\\t \\n\\t<p class=\"highlighted\">Student Group(s): All Students</p>\\n\\t<table>\\n\\t\\t<thead>\\n\\t\\t\\t<tr>\\n\\t\\t\\t\\t<td></td>\\n\\t\\t\\t\\t<td>Graduate Group 1</td>\\n\\t\\t    </tr>\\n\\t\\t</thead>\\n\\t\\t<tbody>\\n\\t\\t\\t<tr>\\n\\t\\t\\t\\t<td class=\"label\">Tuition &amp; Fees:</td>\\n\\t\\t\\t\\t<td></td>\\n\\t\\t\\t</tr>\\n\\t\\t\\t<tr>\\n\\t\\t\\t\\t<td class=\"label\">Room &amp; Board:</td>\\n\\t\\t\\t\\t<td></td>\\n\\t\\t\\t</tr>\\n\\t\\t\\t<tr>\\n\\t\\t\\t\\t<td class=\"label\">Books &amp; Supplies:</td>\\n\\t\\t\\t\\t<td></td>\\n\\t\\t\\t</tr>\\n\\t\\t\\t<tr>\\n\\t\\t\\t\\t<td class=\"label\">Other Expenses:</td>\\n\\t\\t\\t\\t<td></td>\\n\\t\\t\\t</tr>\\n\\t\\t\\t<tr>\\n\\t\\t\\t\\t<td class=\"label\">Estimated avg. course load per term:</td>\\n\\t\\t\\t\\t<td></td>\\n\\t\\t\\t</tr>\\n\\t\\t\\t<tr>\\n\\t\\t\\t\\t<td class=\"label\">Does your institute have any special programs or fee structures for the expenses category \"All Students\"?:</td>\\n\\t\\t\\t\\t<td>No</td>\\n\\t\\t\\t</tr>\\n\\t\\t\\t\\n\\t\\t</tbody>\\n\\t</table>\\n\\t\\n\\n<p class=\"highlighted\">Financial Aid Information</p>   \\n<p><strong>Required financial aid forms</strong></p>\\n<p>\\n\\n\\n</p>\\n\\n\\t<p class=\"highlighted\">Additional Financial Aid Information</p>    \\n\\t<p><p>Air Force officers and enlisted members who attend full-time, in-residence have their tuition paid by the Air Force.</p></p>  \\n\\n    \\t  \\n\\n<h2>Graduate</h2>\\n\\n<h3>New Applicants</h3>\\n\\n<p class=\"highlighted\">New Graduate Applicants</p>\\n\\n<table>\\n\\t<tbody>\\n\\t\\t<tr>\\n\\t\\t\\t<td class=\"label\">A. Number of graduate applicants to the engineering college:</td>\\n\\t\\t\\t<td></td>\\n\\t\\t</tr>\\n\\t\\t<tr>\\n\\t\\t\\t<td class=\"label\">B. Of those in (A), how many were offered admission?</td>\\n\\t\\t\\t<td></td>\\n\\t\\t</tr>\\n\\t\\t<tr>\\n\\t\\t\\t<td class=\"label\">C. Of those in (B), how many were enrolled in the fall?</td>\\n\\t\\t\\t<td>285</td>\\n\\t\\t</tr>\\n\\t\\t\\n\\t</tbody>\\n</table>     \\n    \\t  \\n<h2>Graduate</h2>\\n\\n<h3>Enrollments by Class</h3>\\n\\n\\n\\n\\t<p class=\"highlighted\">Master\\'s</p>\\n\\t\\t<table cellspacing=\"0\">\\n  <thead>\\n\\t<tr>\\n      <th class=\"label th_wide\">\\n        Group\\n      </th>\\n      <th colspan=\"2\" class=\"th_wide center\">\\n        Nonresident Alien\\n      </th>\\n  \\t  <th colspan=\"2\" class=\"th_wide center\">\\n          Unknown\\n      </th>\\n      <th colspan=\"2\" class=\"th_wide center\">\\n          Hispanic\\n        </th>\\n  \\t  <th colspan=\"2\" class=\"th_wide center\">\\n          American Indian\\n      </th>\\n  \\t  <th colspan=\"2\" class=\"th_wide center\">\\n          Asian\\n      </th>\\n      <th colspan=\"2\" class=\"th_wide center\">\\n        Black\\n      </th>\\n      <th colspan=\"2\" class=\"th_wide center\">\\n        Pacific Islander\\n      </th>\\n  \\t  <th colspan=\"2\" class=\"th_wide center\">\\n        White\\n      </th>\\n\\t    <th colspan=\"2\" class=\"th_wide center\">\\n        Two or More\\n      </th>\\n      <th colspan=\"2\" class=\"th_wide center\">\\n        Total\\n      </th>\\n    </tr>\\n    <tr>\\n      <td>\\n        &nbsp;\\n      </td>\\n      <td>FT</td>\\n      <td>PT</td>\\n      <td>FT</td>\\n      <td>PT</td>\\n      <td>FT</td>\\n      <td>PT</td>\\n      <td>FT</td>\\n      <td>PT</td>\\n      <td>FT</td>\\n      <td>PT</td>\\n      <td>FT</td>\\n      <td>PT</td>\\n      <td>FT</td>\\n      <td>PT</td>\\n      <td>FT</td>\\n      <td>PT</td>\\n      <td>FT</td>\\n      <td>PT</td>\\n      <td>FT</td>\\n      <td>PT</td>\\n    </tr> \\n  <tbody>\\n\\t\\t\\t<tr class=\"on\">\\n\\t      <td colspan=\"24\" class=\"label\">\\n\\t        <strong>Aeronautical Engineering</strong>\\n\\t      </td>\\n\\t\\t</tr>\\n\\t\\t\\n\\t    <tr>\\n\\t      \\t<td class=\"label\">Men</td>\\n\\t\\t\\t<td> 0 </td>\\n\\t\\t\\t<td> 0 </td>\\n\\t\\t\\t<td> 2 </td>\\n\\t\\t\\t<td> 0 </td>\\n\\t\\t\\t<td> 2 </td>\\n\\t\\t\\t<td> 1 </td>\\n\\t\\t\\t<td> 0 </td>\\n\\t\\t\\t<td> 0 </td>\\n\\t\\t\\t<td> 1 </td>\\n\\t\\t\\t<td> 0 </td>\\n\\t\\t\\t<td> 0 </td>\\n\\t\\t\\t<td> 0 </td>\\n\\t\\t\\t<td> 0 </td>\\n\\t\\t\\t<td> 0 </td>\\n\\t\\t\\t<td> 35 </td>\\n\\t\\t\\t<td> 6 </td>\\n\\t\\t\\t<td> 0 </td>\\n\\t\\t\\t<td> 0 </td>\\n\\t        <td> 40 </td>\\n\\t        <td> 7 </td>\\n\\t    </tr>\\n\\t    <tr>\\n\\t      \\t<td class=\"label\">Women</td>\\n    \\t\\t\\t<td> 0 </td>\\n    \\t\\t\\t<td> 0 </td>\\n    \\t\\t\\t<td> 0 </td>\\n    \\t\\t\\t<td> 0 </td>\\n    \\t\\t\\t<td> 0 </td>\\n    \\t\\t\\t<td> 0 </td>\\n    \\t\\t\\t<td> 0 </td>\\n    \\t\\t\\t<td> 0 </td>\\n    \\t\\t\\t<td> 0 </td>\\n    \\t\\t\\t<td> 0 </td>\\n    \\t\\t\\t<td> 0 </td>\\n    \\t\\t\\t<td> 0 </td>\\n    \\t\\t\\t<td> 0 </td>\\n    \\t\\t\\t<td> 0 </td>\\n    \\t\\t\\t<td> 6 </td>\\n    \\t\\t\\t<td> 0 </td>\\n    \\t\\t\\t<td> 1 </td>\\n    \\t\\t\\t<td> 0 </td>\\n\\t      \\t<td> 7 </td>\\n\\t\\t  \\t<td> 0 </td>\\n\\t    </tr>\\n\\t\\t\\n\\t\\t\\t<tr class=\"on\">\\n\\t      <td colspan=\"24\" class=\"label\">\\n\\t        <strong>Applied Mathematics</strong>\\n\\t      </td>\\n\\t\\t</tr>\\n\\t\\t\\n\\t    <tr>\\n\\t      \\t<td class=\"label\">Men</td>\\n\\t\\t\\t<td> 0 </td>\\n\\t\\t\\t<td> 0 </td>\\n\\t\\t\\t<td> 1 </td>\\n\\t\\t\\t<td> 0 </td>\\n\\t\\t\\t<td> 0 </td>\\n\\t\\t\\t<td> 0 </td>\\n\\t\\t\\t<td> 0 </td>\\n\\t\\t\\t<td> 0 </td>\\n\\t\\t\\t<td> 1 </td>\\n\\t\\t\\t<td> 0 </td>\\n\\t\\t\\t<td> 0 </td>\\n\\t\\t\\t<td> 0 </td>\\n\\t\\t\\t<td> 0 </td>\\n\\t\\t\\t<td> 0 </td>\\n\\t\\t\\t<td> 2 </td>\\n\\t\\t\\t<td> 0 </td>\\n\\t\\t\\t<td> 0 </td>\\n\\t\\t\\t<td> 0 </td>\\n\\t        <td> 4 </td>\\n\\t        <td> 0 </td>\\n\\t    </tr>\\n\\t    <tr>\\n\\t      \\t<td class=\"label\">Women</td>\\n    \\t\\t\\t<td> 0 </td>\\n    \\t\\t\\t<td> 0 </td>\\n    \\t\\t\\t<td> 0 </td>\\n    \\t\\t\\t<td> 0 </td>\\n    \\t\\t\\t<td> 0 </td>\\n    \\t\\t\\t<td> 0 </td>\\n    \\t\\t\\t<td> 0 </td>\\n    \\t\\t\\t<td> 0 </td>\\n    \\t\\t\\t<td> 0 </td>\\n    \\t\\t\\t<td> 0 </td>\\n    \\t\\t\\t<td> 0 </td>\\n    \\t\\t\\t<td> 0 </td>\\n    \\t\\t\\t<td> 0 </td>\\n    \\t\\t\\t<td> 0 </td>\\n    \\t\\t\\t<td> 2 </td>\\n    \\t\\t\\t<td> 0 </td>\\n    \\t\\t\\t<td> 0 </td>\\n    \\t\\t\\t<td> 0 </td>\\n\\t      \\t<td> 2 </td>\\n\\t\\t  \\t<td> 0 </td>\\n\\t    </tr>\\n\\t\\t\\n\\t\\t\\t<tr class=\"on\">\\n\\t      <td colspan=\"24\" class=\"label\">\\n\\t        <strong>Applied Physics</strong>\\n\\t      </td>\\n\\t\\t</tr>\\n\\t\\t\\n\\t    <tr>\\n\\t      \\t<td class=\"label\">Men</td>\\n\\t\\t\\t<td> 0 </td>\\n\\t\\t\\t<td> 0 </td>\\n\\t\\t\\t<td> 1 </td>\\n\\t\\t\\t<td> 0 </td>\\n\\t\\t\\t<td> 2 </td>\\n\\t\\t\\t<td> 0 </td>\\n\\t\\t\\t<td> 0 </td>\\n\\t\\t\\t<td> 0 </td>\\n\\t\\t\\t<td> 3 </td>\\n\\t\\t\\t<td> 0 </td>\\n\\t\\t\\t<td> 0 </td>\\n\\t\\t\\t<td> 0 </td>\\n\\t\\t\\t<td> 0 </td>\\n\\t\\t\\t<td> 0 </td>\\n\\t\\t\\t<td> 15 </td>\\n\\t\\t\\t<td> 2 </td>\\n\\t\\t\\t<td> 1 </td>\\n\\t\\t\\t<td> 0 </td>\\n\\t        <td> 22 </td>\\n\\t        <td> 2 </td>\\n\\t    </tr>\\n\\t    <tr>\\n\\t      \\t<td class=\"label\">Women</td>\\n    \\t\\t\\t<td> 0 </td>\\n    \\t\\t\\t<td> 0 </td>\\n    \\t\\t\\t<td> 0 </td>\\n    \\t\\t\\t<td> 0 </td>\\n    \\t\\t\\t<td> 0 </td>\\n    \\t\\t\\t<td> 0 </td>\\n    \\t\\t\\t<td> 0 </td>\\n    \\t\\t\\t<td> 0 </td>\\n    \\t\\t\\t<td> 0 </td>\\n    \\t\\t\\t<td> 0 </td>\\n    \\t\\t\\t<td> 0 </td>\\n    \\t\\t\\t<td> 0 </td>\\n    \\t\\t\\t<td> 0 </td>\\n    \\t\\t\\t<td> 0 </td>\\n    \\t\\t\\t<td> 1 </td>\\n    \\t\\t\\t<td> 0 </td>\\n    \\t\\t\\t<td> 2 </td>\\n    \\t\\t\\t<td> 0 </td>\\n\\t      \\t<td> 3 </td>\\n\\t\\t  \\t<td> 0 </td>\\n\\t    </tr>\\n\\t\\t\\n\\t\\t\\t<tr class=\"on\">\\n\\t      <td colspan=\"24\" class=\"label\">\\n\\t        <strong>Astronautical Engineering </strong>\\n\\t      </td>\\n\\t\\t</tr>\\n\\t\\t\\n\\t    <tr>\\n\\t      \\t<td class=\"label\">Men</td>\\n\\t\\t\\t<td> 0 </td>\\n\\t\\t\\t<td> 0 </td>\\n\\t\\t\\t<td> 1 </td>\\n\\t\\t\\t<td> 0 </td>\\n\\t\\t\\t<td> 0 </td>\\n\\t\\t\\t<td> 0 </td>\\n\\t\\t\\t<td> 0 </td>\\n\\t\\t\\t<td> 0 </td>\\n\\t\\t\\t<td> 0 </td>\\n\\t\\t\\t<td> 1 </td>\\n\\t\\t\\t<td> 0 </td>\\n\\t\\t\\t<td> 1 </td>\\n\\t\\t\\t<td> 0 </td>\\n\\t\\t\\t<td> 1 </td>\\n\\t\\t\\t<td> 9 </td>\\n\\t\\t\\t<td> 3 </td>\\n\\t\\t\\t<td> 1 </td>\\n\\t\\t\\t<td> 0 </td>\\n\\t        <td> 11 </td>\\n\\t        <td> 6 </td>\\n\\t    </tr>\\n\\t    <tr>\\n\\t      \\t<td class=\"label\">Women</td>\\n    \\t\\t\\t<td> 0 </td>\\n    \\t\\t\\t<td> 0 </td>\\n    \\t\\t\\t<td> 0 </td>\\n    \\t\\t\\t<td> 0 </td>\\n    \\t\\t\\t<td> 0 </td>\\n    \\t\\t\\t<td> 0 </td>\\n    \\t\\t\\t<td> 0 </td>\\n    \\t\\t\\t<td> 0 </td>\\n    \\t\\t\\t<td> 0 </td>\\n    \\t\\t\\t<td> 0 </td>\\n    \\t\\t\\t<td> 0 </td>\\n    \\t\\t\\t<td> 0 </td>\\n    \\t\\t\\t<td> 0 </td>\\n    \\t\\t\\t<td> 0 </td>\\n    \\t\\t\\t<td> 3 </td>\\n    \\t\\t\\t<td> 0 </td>\\n    \\t\\t\\t<td> 0 </td>\\n    \\t\\t\\t<td> 0 </td>\\n\\t      \\t<td> 3 </td>\\n\\t\\t  \\t<td> 0 </td>\\n\\t    </tr>\\n\\t\\t\\n\\t\\t\\t<tr class=\"on\">\\n\\t      <td colspan=\"24\" class=\"label\">\\n\\t        <strong>Atmospheric Sciences</strong>\\n\\t      </td>\\n\\t\\t</tr>\\n\\t\\t\\n\\t    <tr>\\n\\t      \\t<td class=\"label\">Men</td>\\n\\t\\t\\t<td> 0 </td>\\n\\t\\t\\t<td> 0 </td>\\n\\t\\t\\t<td> 1 </td>\\n\\t\\t\\t<td> 0 </td>\\n\\t\\t\\t<td> 0 </td>\\n\\t\\t\\t<td> 0 </td>\\n\\t\\t\\t<td> 0 </td>\\n\\t\\t\\t<td> 0 </td>\\n\\t\\t\\t<td> 0 </td>\\n\\t\\t\\t<td> 0 </td>\\n\\t\\t\\t<td> 1 </td>\\n\\t\\t\\t<td> 0 </td>\\n\\t\\t\\t<td> 0 </td>\\n\\t\\t\\t<td> 0 </td>\\n\\t\\t\\t<td> 7 </td>\\n\\t\\t\\t<td> 0 </td>\\n\\t\\t\\t<td> 0 </td>\\n\\t\\t\\t<td> 0 </td>\\n\\t        <td> 9 </td>\\n\\t        <td> 0 </td>\\n\\t    </tr>\\n\\t    <tr>\\n\\t      \\t<td class=\"label\">Women</td>\\n    \\t\\t\\t<td> 0 </td>\\n    \\t\\t\\t<td> 0 </td>\\n    \\t\\t\\t<td> 0 </td>\\n    \\t\\t\\t<td> 0 </td>\\n    \\t\\t\\t<td> 0 </td>\\n    \\t\\t\\t<td> 0 </td>\\n    \\t\\t\\t<td> 0 </td>\\n    \\t\\t\\t<td> 0 </td>\\n    \\t\\t\\t<td> 0 </td>\\n    \\t\\t\\t<td> 0 </td>\\n    \\t\\t\\t<td> 0 </td>\\n    \\t\\t\\t<td> 0 </td>\\n    \\t\\t\\t<td> 0 </td>\\n    \\t\\t\\t<td> 0 </td>\\n    \\t\\t\\t<td> 4 </td>\\n    \\t\\t\\t<td> 0 </td>\\n    \\t\\t\\t<td> 0 </td>\\n    \\t\\t\\t<td> 0 </td>\\n\\t      \\t<td> 4 </td>\\n\\t\\t  \\t<td> 0 </td>\\n\\t    </tr>\\n\\t\\t\\n\\t\\t\\t<tr class=\"on\">\\n\\t      <td colspan=\"24\" class=\"label\">\\n\\t        <strong>Computer Engineering</strong>\\n\\t      </td>\\n\\t\\t</tr>\\n\\t\\t\\n\\t    <tr>\\n\\t      \\t<td class=\"label\">Men</td>\\n\\t\\t\\t<td> 0 </td>\\n\\t\\t\\t<td> 1 </td>\\n\\t\\t\\t<td> 3 </td>\\n\\t\\t\\t<td> 0 </td>\\n\\t\\t\\t<td> 2 </td>\\n\\t\\t\\t<td> 0 </td>\\n\\t\\t\\t<td> 0 </td>\\n\\t\\t\\t<td> 0 </td>\\n\\t\\t\\t<td> 1 </td>\\n\\t\\t\\t<td> 0 </td>\\n\\t\\t\\t<td> 0 </td>\\n\\t\\t\\t<td> 0 </td>\\n\\t\\t\\t<td> 0 </td>\\n\\t\\t\\t<td> 0 </td>\\n\\t\\t\\t<td> 5 </td>\\n\\t\\t\\t<td> 0 </td>\\n\\t\\t\\t<td> 0 </td>\\n\\t\\t\\t<td> 0 </td>\\n\\t        <td> 11 </td>\\n\\t        <td> 1 </td>\\n\\t    </tr>\\n\\t    <tr>\\n\\t      \\t<td class=\"label\">Women</td>\\n    \\t\\t\\t<td> 0 </td>\\n    \\t\\t\\t<td> 0 </td>\\n    \\t\\t\\t<td> 0 </td>\\n    \\t\\t\\t<td> 0 </td>\\n    \\t\\t\\t<td> 0 </td>\\n    \\t\\t\\t<td> 0 </td>\\n    \\t\\t\\t<td> 0 </td>\\n    \\t\\t\\t<td> 0 </td>\\n    \\t\\t\\t<td> 0 </td>\\n    \\t\\t\\t<td> 0 </td>\\n    \\t\\t\\t<td> 0 </td>\\n    \\t\\t\\t<td> 0 </td>\\n    \\t\\t\\t<td> 0 </td>\\n    \\t\\t\\t<td> 0 </td>\\n    \\t\\t\\t<td> 0 </td>\\n    \\t\\t\\t<td> 0 </td>\\n    \\t\\t\\t<td> 0 </td>\\n    \\t\\t\\t<td> 0 </td>\\n\\t      \\t<td> 0 </td>\\n\\t\\t  \\t<td> 0 </td>\\n\\t    </tr>\\n\\t\\t\\n\\t\\t\\t<tr class=\"on\">\\n\\t      <td colspan=\"24\" class=\"label\">\\n\\t        <strong>Computer Science</strong>\\n\\t      </td>\\n\\t\\t</tr>\\n\\t\\t\\n\\t    <tr>\\n\\t      \\t<td class=\"label\">Men</td>\\n\\t\\t\\t<td> 0 </td>\\n\\t\\t\\t<td> 0 </td>\\n\\t\\t\\t<td> 1 </td>\\n\\t\\t\\t<td> 0 </td>\\n\\t\\t\\t<td> 0 </td>\\n\\t\\t\\t<td> 0 </td>\\n\\t\\t\\t<td> 0 </td>\\n\\t\\t\\t<td> 0 </td>\\n\\t\\t\\t<td> 2 </td>\\n\\t\\t\\t<td> 0 </td>\\n\\t\\t\\t<td> 0 </td>\\n\\t\\t\\t<td> 0 </td>\\n\\t\\t\\t<td> 0 </td>\\n\\t\\t\\t<td> 0 </td>\\n\\t\\t\\t<td> 12 </td>\\n\\t\\t\\t<td> 0 </td>\\n\\t\\t\\t<td> 1 </td>\\n\\t\\t\\t<td> 0 </td>\\n\\t        <td> 16 </td>\\n\\t        <td> 0 </td>\\n\\t    </tr>\\n\\t    <tr>\\n\\t      \\t<td class=\"label\">Women</td>\\n    \\t\\t\\t<td> 0 </td>\\n    \\t\\t\\t<td> 0 </td>\\n    \\t\\t\\t<td> 0 </td>\\n    \\t\\t\\t<td> 0 </td>\\n    \\t\\t\\t<td> 0 </td>\\n    \\t\\t\\t<td> 0 </td>\\n    \\t\\t\\t<td> 0 </td>\\n    \\t\\t\\t<td> 0 </td>\\n    \\t\\t\\t<td> 0 </td>\\n    \\t\\t\\t<td> 0 </td>\\n    \\t\\t\\t<td> 0 </td>\\n    \\t\\t\\t<td> 0 </td>\\n    \\t\\t\\t<td> 0 </td>\\n    \\t\\t\\t<td> 0 </td>\\n    \\t\\t\\t<td> 1 </td>\\n    \\t\\t\\t<td> 0 </td>\\n    \\t\\t\\t<td> 0 </td>\\n    \\t\\t\\t<td> 0 </td>\\n\\t      \\t<td> 1 </td>\\n\\t\\t  \\t<td> 0 </td>\\n\\t    </tr>\\n\\t\\t\\n\\t\\t\\t<tr class=\"on\">\\n\\t      <td colspan=\"24\" class=\"label\">\\n\\t        <strong>Cyber Operations </strong>\\n\\t      </td>\\n\\t\\t</tr>\\n\\t\\t\\n\\t    <tr>\\n\\t      \\t<td class=\"label\">Men</td>\\n\\t\\t\\t<td> 0 </td>\\n\\t\\t\\t<td> 0 </td>\\n\\t\\t\\t<td> 1 </td>\\n\\t\\t\\t<td> 1 </td>\\n\\t\\t\\t<td> 5 </td>\\n\\t\\t\\t<td> 0 </td>\\n\\t\\t\\t<td> 0 </td>\\n\\t\\t\\t<td> 0 </td>\\n\\t\\t\\t<td> 3 </td>\\n\\t\\t\\t<td> 0 </td>\\n\\t\\t\\t<td> 3 </td>\\n\\t\\t\\t<td> 0 </td>\\n\\t\\t\\t<td> 0 </td>\\n\\t\\t\\t<td> 0 </td>\\n\\t\\t\\t<td> 14 </td>\\n\\t\\t\\t<td> 0 </td>\\n\\t\\t\\t<td> 2 </td>\\n\\t\\t\\t<td> 0 </td>\\n\\t        <td> 28 </td>\\n\\t        <td> 1 </td>\\n\\t    </tr>\\n\\t    <tr>\\n\\t      \\t<td class=\"label\">Women</td>\\n    \\t\\t\\t<td> 0 </td>\\n    \\t\\t\\t<td> 0 </td>\\n    \\t\\t\\t<td> 0 </td>\\n    \\t\\t\\t<td> 0 </td>\\n    \\t\\t\\t<td> 0 </td>\\n    \\t\\t\\t<td> 0 </td>\\n    \\t\\t\\t<td> 0 </td>\\n    \\t\\t\\t<td> 0 </td>\\n    \\t\\t\\t<td> 0 </td>\\n    \\t\\t\\t<td> 0 </td>\\n    \\t\\t\\t<td> 0 </td>\\n    \\t\\t\\t<td> 0 </td>\\n    \\t\\t\\t<td> 0 </td>\\n    \\t\\t\\t<td> 0 </td>\\n    \\t\\t\\t<td> 1 </td>\\n    \\t\\t\\t<td> 0 </td>\\n    \\t\\t\\t<td> 0 </td>\\n    \\t\\t\\t<td> 0 </td>\\n\\t      \\t<td> 1 </td>\\n\\t\\t  \\t<td> 0 </td>\\n\\t    </tr>\\n\\t\\t\\n\\t\\t\\t<tr class=\"on\">\\n\\t      <td colspan=\"24\" class=\"label\">\\n\\t        <strong>Electrical Engineering</strong>\\n\\t      </td>\\n\\t\\t</tr>\\n\\t\\t\\n\\t    <tr>\\n\\t      \\t<td class=\"label\">Men</td>\\n\\t\\t\\t<td> 3 </td>\\n\\t\\t\\t<td> 0 </td>\\n\\t\\t\\t<td> 2 </td>\\n\\t\\t\\t<td> 2 </td>\\n\\t\\t\\t<td> 5 </td>\\n\\t\\t\\t<td> 1 </td>\\n\\t\\t\\t<td> 0 </td>\\n\\t\\t\\t<td> 0 </td>\\n\\t\\t\\t<td> 3 </td>\\n\\t\\t\\t<td> 0 </td>\\n\\t\\t\\t<td> 4 </td>\\n\\t\\t\\t<td> 0 </td>\\n\\t\\t\\t<td> 0 </td>\\n\\t\\t\\t<td> 0 </td>\\n\\t\\t\\t<td> 44 </td>\\n\\t\\t\\t<td> 3 </td>\\n\\t\\t\\t<td> 2 </td>\\n\\t\\t\\t<td> 0 </td>\\n\\t        <td> 63 </td>\\n\\t        <td> 6 </td>\\n\\t    </tr>\\n\\t    <tr>\\n\\t      \\t<td class=\"label\">Women</td>\\n    \\t\\t\\t<td> 1 </td>\\n    \\t\\t\\t<td> 0 </td>\\n    \\t\\t\\t<td> 1 </td>\\n    \\t\\t\\t<td> 0 </td>\\n    \\t\\t\\t<td> 1 </td>\\n    \\t\\t\\t<td> 0 </td>\\n    \\t\\t\\t<td> 0 </td>\\n    \\t\\t\\t<td> 0 </td>\\n    \\t\\t\\t<td> 1 </td>\\n    \\t\\t\\t<td> 0 </td>\\n    \\t\\t\\t<td> 1 </td>\\n    \\t\\t\\t<td> 0 </td>\\n    \\t\\t\\t<td> 0 </td>\\n    \\t\\t\\t<td> 0 </td>\\n    \\t\\t\\t<td> 1 </td>\\n    \\t\\t\\t<td> 1 </td>\\n    \\t\\t\\t<td> 0 </td>\\n    \\t\\t\\t<td> 0 </td>\\n\\t      \\t<td> 6 </td>\\n\\t\\t  \\t<td> 1 </td>\\n\\t    </tr>\\n\\t\\t\\n\\t\\t\\t<tr class=\"on\">\\n\\t      <td colspan=\"24\" class=\"label\">\\n\\t        <strong>Engineering Management</strong>\\n\\t      </td>\\n\\t\\t</tr>\\n\\t\\t\\n\\t    <tr>\\n\\t      \\t<td class=\"label\">Men</td>\\n\\t\\t\\t<td> 0 </td>\\n\\t\\t\\t<td> 2 </td>\\n\\t\\t\\t<td> 4 </td>\\n\\t\\t\\t<td> 2 </td>\\n\\t\\t\\t<td> 2 </td>\\n\\t\\t\\t<td> 0 </td>\\n\\t\\t\\t<td> 0 </td>\\n\\t\\t\\t<td> 0 </td>\\n\\t\\t\\t<td> 1 </td>\\n\\t\\t\\t<td> 1 </td>\\n\\t\\t\\t<td> 1 </td>\\n\\t\\t\\t<td> 1 </td>\\n\\t\\t\\t<td> 2 </td>\\n\\t\\t\\t<td> 0 </td>\\n\\t\\t\\t<td> 23 </td>\\n\\t\\t\\t<td> 7 </td>\\n\\t\\t\\t<td> 0 </td>\\n\\t\\t\\t<td> 0 </td>\\n\\t        <td> 33 </td>\\n\\t        <td> 13 </td>\\n\\t    </tr>\\n\\t    <tr>\\n\\t      \\t<td class=\"label\">Women</td>\\n    \\t\\t\\t<td> 0 </td>\\n    \\t\\t\\t<td> 0 </td>\\n    \\t\\t\\t<td> 0 </td>\\n    \\t\\t\\t<td> 0 </td>\\n    \\t\\t\\t<td> 0 </td>\\n    \\t\\t\\t<td> 0 </td>\\n    \\t\\t\\t<td> 0 </td>\\n    \\t\\t\\t<td> 0 </td>\\n    \\t\\t\\t<td> 1 </td>\\n    \\t\\t\\t<td> 0 </td>\\n    \\t\\t\\t<td> 0 </td>\\n    \\t\\t\\t<td> 0 </td>\\n    \\t\\t\\t<td> 0 </td>\\n    \\t\\t\\t<td> 0 </td>\\n    \\t\\t\\t<td> 8 </td>\\n    \\t\\t\\t<td> 0 </td>\\n    \\t\\t\\t<td> 1 </td>\\n    \\t\\t\\t<td> 0 </td>\\n\\t      \\t<td> 10 </td>\\n\\t\\t  \\t<td> 0 </td>\\n\\t    </tr>\\n\\t\\t\\n\\t\\t\\t<tr class=\"on\">\\n\\t      <td colspan=\"24\" class=\"label\">\\n\\t        <strong>Environmental Engineering &amp; Science </strong>\\n\\t      </td>\\n\\t\\t</tr>\\n\\t\\t\\n\\t    <tr>\\n\\t      \\t<td class=\"label\">Men</td>\\n\\t\\t\\t<td> 0 </td>\\n\\t\\t\\t<td> 0 </td>\\n\\t\\t\\t<td> 0 </td>\\n\\t\\t\\t<td> 0 </td>\\n\\t\\t\\t<td> 0 </td>\\n\\t\\t\\t<td> 0 </td>\\n\\t\\t\\t<td> 0 </td>\\n\\t\\t\\t<td> 0 </td>\\n\\t\\t\\t<td> 0 </td>\\n\\t\\t\\t<td> 0 </td>\\n\\t\\t\\t<td> 0 </td>\\n\\t\\t\\t<td> 0 </td>\\n\\t\\t\\t<td> 0 </td>\\n\\t\\t\\t<td> 0 </td>\\n\\t\\t\\t<td> 5 </td>\\n\\t\\t\\t<td> 1 </td>\\n\\t\\t\\t<td> 0 </td>\\n\\t\\t\\t<td> 0 </td>\\n\\t        <td> 5 </td>\\n\\t        <td> 1 </td>\\n\\t    </tr>\\n\\t    <tr>\\n\\t      \\t<td class=\"label\">Women</td>\\n    \\t\\t\\t<td> 0 </td>\\n    \\t\\t\\t<td> 0 </td>\\n    \\t\\t\\t<td> 0 </td>\\n    \\t\\t\\t<td> 0 </td>\\n    \\t\\t\\t<td> 0 </td>\\n    \\t\\t\\t<td> 0 </td>\\n    \\t\\t\\t<td> 0 </td>\\n    \\t\\t\\t<td> 0 </td>\\n    \\t\\t\\t<td> 0 </td>\\n    \\t\\t\\t<td> 0 </td>\\n    \\t\\t\\t<td> 0 </td>\\n    \\t\\t\\t<td> 0 </td>\\n    \\t\\t\\t<td> 0 </td>\\n    \\t\\t\\t<td> 0 </td>\\n    \\t\\t\\t<td> 1 </td>\\n    \\t\\t\\t<td> 0 </td>\\n    \\t\\t\\t<td> 0 </td>\\n    \\t\\t\\t<td> 0 </td>\\n\\t      \\t<td> 1 </td>\\n\\t\\t  \\t<td> 0 </td>\\n\\t    </tr>\\n\\t\\t\\n\\t\\t\\t<tr class=\"on\">\\n\\t      <td colspan=\"24\" class=\"label\">\\n\\t        <strong>Materials Science</strong>\\n\\t      </td>\\n\\t\\t</tr>\\n\\t\\t\\n\\t    <tr>\\n\\t      \\t<td class=\"label\">Men</td>\\n\\t\\t\\t<td> 0 </td>\\n\\t\\t\\t<td> 0 </td>\\n\\t\\t\\t<td> 2 </td>\\n\\t\\t\\t<td> 0 </td>\\n\\t\\t\\t<td> 0 </td>\\n\\t\\t\\t<td> 0 </td>\\n\\t\\t\\t<td> 0 </td>\\n\\t\\t\\t<td> 0 </td>\\n\\t\\t\\t<td> 0 </td>\\n\\t\\t\\t<td> 0 </td>\\n\\t\\t\\t<td> 0 </td>\\n\\t\\t\\t<td> 0 </td>\\n\\t\\t\\t<td> 0 </td>\\n\\t\\t\\t<td> 0 </td>\\n\\t\\t\\t<td> 3 </td>\\n\\t\\t\\t<td> 1 </td>\\n\\t\\t\\t<td> 0 </td>\\n\\t\\t\\t<td> 0 </td>\\n\\t        <td> 5 </td>\\n\\t        <td> 1 </td>\\n\\t    </tr>\\n\\t    <tr>\\n\\t      \\t<td class=\"label\">Women</td>\\n    \\t\\t\\t<td> 0 </td>\\n    \\t\\t\\t<td> 0 </td>\\n    \\t\\t\\t<td> 0 </td>\\n    \\t\\t\\t<td> 0 </td>\\n    \\t\\t\\t<td> 0 </td>\\n    \\t\\t\\t<td> 0 </td>\\n    \\t\\t\\t<td> 0 </td>\\n    \\t\\t\\t<td> 0 </td>\\n    \\t\\t\\t<td> 0 </td>\\n    \\t\\t\\t<td> 0 </td>\\n    \\t\\t\\t<td> 0 </td>\\n    \\t\\t\\t<td> 0 </td>\\n    \\t\\t\\t<td> 0 </td>\\n    \\t\\t\\t<td> 0 </td>\\n    \\t\\t\\t<td> 2 </td>\\n    \\t\\t\\t<td> 0 </td>\\n    \\t\\t\\t<td> 0 </td>\\n    \\t\\t\\t<td> 0 </td>\\n\\t      \\t<td> 2 </td>\\n\\t\\t  \\t<td> 0 </td>\\n\\t    </tr>\\n\\t\\t\\n\\t\\t\\t<tr class=\"on\">\\n\\t      <td colspan=\"24\" class=\"label\">\\n\\t        <strong>Nuclear Engineering </strong>\\n\\t      </td>\\n\\t\\t</tr>\\n\\t\\t\\n\\t    <tr>\\n\\t      \\t<td class=\"label\">Men</td>\\n\\t\\t\\t<td> 0 </td>\\n\\t\\t\\t<td> 0 </td>\\n\\t\\t\\t<td> 2 </td>\\n\\t\\t\\t<td> 0 </td>\\n\\t\\t\\t<td> 1 </td>\\n\\t\\t\\t<td> 0 </td>\\n\\t\\t\\t<td> 0 </td>\\n\\t\\t\\t<td> 0 </td>\\n\\t\\t\\t<td> 0 </td>\\n\\t\\t\\t<td> 1 </td>\\n\\t\\t\\t<td> 0 </td>\\n\\t\\t\\t<td> 0 </td>\\n\\t\\t\\t<td> 0 </td>\\n\\t\\t\\t<td> 0 </td>\\n\\t\\t\\t<td> 11 </td>\\n\\t\\t\\t<td> 2 </td>\\n\\t\\t\\t<td> 0 </td>\\n\\t\\t\\t<td> 0 </td>\\n\\t        <td> 14 </td>\\n\\t        <td> 3 </td>\\n\\t    </tr>\\n\\t    <tr>\\n\\t      \\t<td class=\"label\">Women</td>\\n    \\t\\t\\t<td> 0 </td>\\n    \\t\\t\\t<td> 0 </td>\\n    \\t\\t\\t<td> 0 </td>\\n    \\t\\t\\t<td> 0 </td>\\n    \\t\\t\\t<td> 0 </td>\\n    \\t\\t\\t<td> 0 </td>\\n    \\t\\t\\t<td> 0 </td>\\n    \\t\\t\\t<td> 0 </td>\\n    \\t\\t\\t<td> 0 </td>\\n    \\t\\t\\t<td> 0 </td>\\n    \\t\\t\\t<td> 0 </td>\\n    \\t\\t\\t<td> 0 </td>\\n    \\t\\t\\t<td> 0 </td>\\n    \\t\\t\\t<td> 0 </td>\\n    \\t\\t\\t<td> 2 </td>\\n    \\t\\t\\t<td> 0 </td>\\n    \\t\\t\\t<td> 0 </td>\\n    \\t\\t\\t<td> 0 </td>\\n\\t      \\t<td> 2 </td>\\n\\t\\t  \\t<td> 0 </td>\\n\\t    </tr>\\n\\t\\t\\n\\t\\t\\t<tr class=\"on\">\\n\\t      <td colspan=\"24\" class=\"label\">\\n\\t        <strong>Operations Research</strong>\\n\\t      </td>\\n\\t\\t</tr>\\n\\t\\t\\n\\t    <tr>\\n\\t      \\t<td class=\"label\">Men</td>\\n\\t\\t\\t<td> 0 </td>\\n\\t\\t\\t<td> 0 </td>\\n\\t\\t\\t<td> 5 </td>\\n\\t\\t\\t<td> 0 </td>\\n\\t\\t\\t<td> 5 </td>\\n\\t\\t\\t<td> 0 </td>\\n\\t\\t\\t<td> 0 </td>\\n\\t\\t\\t<td> 0 </td>\\n\\t\\t\\t<td> 3 </td>\\n\\t\\t\\t<td> 0 </td>\\n\\t\\t\\t<td> 1 </td>\\n\\t\\t\\t<td> 0 </td>\\n\\t\\t\\t<td> 0 </td>\\n\\t\\t\\t<td> 0 </td>\\n\\t\\t\\t<td> 29 </td>\\n\\t\\t\\t<td> 3 </td>\\n\\t\\t\\t<td> 1 </td>\\n\\t\\t\\t<td> 0 </td>\\n\\t        <td> 44 </td>\\n\\t        <td> 3 </td>\\n\\t    </tr>\\n\\t    <tr>\\n\\t      \\t<td class=\"label\">Women</td>\\n    \\t\\t\\t<td> 0 </td>\\n    \\t\\t\\t<td> 0 </td>\\n    \\t\\t\\t<td> 1 </td>\\n    \\t\\t\\t<td> 1 </td>\\n    \\t\\t\\t<td> 0 </td>\\n    \\t\\t\\t<td> 0 </td>\\n    \\t\\t\\t<td> 0 </td>\\n    \\t\\t\\t<td> 0 </td>\\n    \\t\\t\\t<td> 0 </td>\\n    \\t\\t\\t<td> 0 </td>\\n    \\t\\t\\t<td> 1 </td>\\n    \\t\\t\\t<td> 0 </td>\\n    \\t\\t\\t<td> 0 </td>\\n    \\t\\t\\t<td> 0 </td>\\n    \\t\\t\\t<td> 7 </td>\\n    \\t\\t\\t<td> 1 </td>\\n    \\t\\t\\t<td> 1 </td>\\n    \\t\\t\\t<td> 0 </td>\\n\\t      \\t<td> 10 </td>\\n\\t\\t  \\t<td> 2 </td>\\n\\t    </tr>\\n\\t\\t\\n\\t\\t\\t<tr class=\"on\">\\n\\t      <td colspan=\"24\" class=\"label\">\\n\\t        <strong>Optical Science and Engineering </strong>\\n\\t      </td>\\n\\t\\t</tr>\\n\\t\\t\\n\\t    <tr>\\n\\t      \\t<td class=\"label\">Men</td>\\n\\t\\t\\t<td> 0 </td>\\n\\t\\t\\t<td> 0 </td>\\n\\t\\t\\t<td> 0 </td>\\n\\t\\t\\t<td> 0 </td>\\n\\t\\t\\t<td> 0 </td>\\n\\t\\t\\t<td> 0 </td>\\n\\t\\t\\t<td> 0 </td>\\n\\t\\t\\t<td> 0 </td>\\n\\t\\t\\t<td> 0 </td>\\n\\t\\t\\t<td> 0 </td>\\n\\t\\t\\t<td> 0 </td>\\n\\t\\t\\t<td> 0 </td>\\n\\t\\t\\t<td> 0 </td>\\n\\t\\t\\t<td> 0 </td>\\n\\t\\t\\t<td> 1 </td>\\n\\t\\t\\t<td> 1 </td>\\n\\t\\t\\t<td> 0 </td>\\n\\t\\t\\t<td> 0 </td>\\n\\t        <td> 1 </td>\\n\\t        <td> 1 </td>\\n\\t    </tr>\\n\\t    <tr>\\n\\t      \\t<td class=\"label\">Women</td>\\n    \\t\\t\\t<td> 0 </td>\\n    \\t\\t\\t<td> 0 </td>\\n    \\t\\t\\t<td> 0 </td>\\n    \\t\\t\\t<td> 0 </td>\\n    \\t\\t\\t<td> 0 </td>\\n    \\t\\t\\t<td> 0 </td>\\n    \\t\\t\\t<td> 0 </td>\\n    \\t\\t\\t<td> 0 </td>\\n    \\t\\t\\t<td> 0 </td>\\n    \\t\\t\\t<td> 0 </td>\\n    \\t\\t\\t<td> 0 </td>\\n    \\t\\t\\t<td> 0 </td>\\n    \\t\\t\\t<td> 0 </td>\\n    \\t\\t\\t<td> 0 </td>\\n    \\t\\t\\t<td> 0 </td>\\n    \\t\\t\\t<td> 1 </td>\\n    \\t\\t\\t<td> 0 </td>\\n    \\t\\t\\t<td> 0 </td>\\n\\t      \\t<td> 0 </td>\\n\\t\\t  \\t<td> 1 </td>\\n\\t    </tr>\\n\\t\\t\\n\\t\\t\\t<tr class=\"on\">\\n\\t      <td colspan=\"24\" class=\"label\">\\n\\t        <strong>Space Systems </strong>\\n\\t      </td>\\n\\t\\t</tr>\\n\\t\\t\\n\\t    <tr>\\n\\t      \\t<td class=\"label\">Men</td>\\n\\t\\t\\t<td> 1 </td>\\n\\t\\t\\t<td> 0 </td>\\n\\t\\t\\t<td> 0 </td>\\n\\t\\t\\t<td> 0 </td>\\n\\t\\t\\t<td> 1 </td>\\n\\t\\t\\t<td> 0 </td>\\n\\t\\t\\t<td> 0 </td>\\n\\t\\t\\t<td> 0 </td>\\n\\t\\t\\t<td> 0 </td>\\n\\t\\t\\t<td> 0 </td>\\n\\t\\t\\t<td> 0 </td>\\n\\t\\t\\t<td> 0 </td>\\n\\t\\t\\t<td> 0 </td>\\n\\t\\t\\t<td> 0 </td>\\n\\t\\t\\t<td> 7 </td>\\n\\t\\t\\t<td> 1 </td>\\n\\t\\t\\t<td> 0 </td>\\n\\t\\t\\t<td> 0 </td>\\n\\t        <td> 9 </td>\\n\\t        <td> 1 </td>\\n\\t    </tr>\\n\\t    <tr>\\n\\t      \\t<td class=\"label\">Women</td>\\n    \\t\\t\\t<td> 0 </td>\\n    \\t\\t\\t<td> 0 </td>\\n    \\t\\t\\t<td> 0 </td>\\n    \\t\\t\\t<td> 0 </td>\\n    \\t\\t\\t<td> 0 </td>\\n    \\t\\t\\t<td> 0 </td>\\n    \\t\\t\\t<td> 0 </td>\\n    \\t\\t\\t<td> 0 </td>\\n    \\t\\t\\t<td> 0 </td>\\n    \\t\\t\\t<td> 0 </td>\\n    \\t\\t\\t<td> 0 </td>\\n    \\t\\t\\t<td> 0 </td>\\n    \\t\\t\\t<td> 0 </td>\\n    \\t\\t\\t<td> 0 </td>\\n    \\t\\t\\t<td> 1 </td>\\n    \\t\\t\\t<td> 0 </td>\\n    \\t\\t\\t<td> 0 </td>\\n    \\t\\t\\t<td> 0 </td>\\n\\t      \\t<td> 1 </td>\\n\\t\\t  \\t<td> 0 </td>\\n\\t    </tr>\\n\\t\\t\\n\\t\\t\\t<tr class=\"on\">\\n\\t      <td colspan=\"24\" class=\"label\">\\n\\t        <strong>Systems Engineering </strong>\\n\\t      </td>\\n\\t\\t</tr>\\n\\t\\t\\n\\t    <tr>\\n\\t      \\t<td class=\"label\">Men</td>\\n\\t\\t\\t<td> 1 </td>\\n\\t\\t\\t<td> 0 </td>\\n\\t\\t\\t<td> 0 </td>\\n\\t\\t\\t<td> 3 </td>\\n\\t\\t\\t<td> 1 </td>\\n\\t\\t\\t<td> 1 </td>\\n\\t\\t\\t<td> 0 </td>\\n\\t\\t\\t<td> 0 </td>\\n\\t\\t\\t<td> 0 </td>\\n\\t\\t\\t<td> 0 </td>\\n\\t\\t\\t<td> 0 </td>\\n\\t\\t\\t<td> 0 </td>\\n\\t\\t\\t<td> 0 </td>\\n\\t\\t\\t<td> 0 </td>\\n\\t\\t\\t<td> 10 </td>\\n\\t\\t\\t<td> 14 </td>\\n\\t\\t\\t<td> 0 </td>\\n\\t\\t\\t<td> 2 </td>\\n\\t        <td> 12 </td>\\n\\t        <td> 20 </td>\\n\\t    </tr>\\n\\t    <tr>\\n\\t      \\t<td class=\"label\">Women</td>\\n    \\t\\t\\t<td> 0 </td>\\n    \\t\\t\\t<td> 0 </td>\\n    \\t\\t\\t<td> 1 </td>\\n    \\t\\t\\t<td> 1 </td>\\n    \\t\\t\\t<td> 0 </td>\\n    \\t\\t\\t<td> 0 </td>\\n    \\t\\t\\t<td> 0 </td>\\n    \\t\\t\\t<td> 0 </td>\\n    \\t\\t\\t<td> 0 </td>\\n    \\t\\t\\t<td> 0 </td>\\n    \\t\\t\\t<td> 0 </td>\\n    \\t\\t\\t<td> 0 </td>\\n    \\t\\t\\t<td> 0 </td>\\n    \\t\\t\\t<td> 0 </td>\\n    \\t\\t\\t<td> 2 </td>\\n    \\t\\t\\t<td> 1 </td>\\n    \\t\\t\\t<td> 0 </td>\\n    \\t\\t\\t<td> 0 </td>\\n\\t      \\t<td> 3 </td>\\n\\t\\t  \\t<td> 2 </td>\\n\\t    </tr>\\n\\t\\t\\n\\t\\t<tr class=\"total\">\\n\\t  <td class=\"label\">Totals:</td>\\n            \\t           <td>6</td>\\n         <td>3</td>\\n                <td>29</td>\\n         <td>10</td>\\n                <td>27</td>\\n         <td>3</td>\\n                <td>0</td>\\n         <td>0</td>\\n                <td>20</td>\\n         <td>3</td>\\n                <td>12</td>\\n         <td>2</td>\\n                <td>2</td>\\n         <td>1</td>\\n                <td>274</td>\\n         <td>48</td>\\n                <td>13</td>\\n         <td>2</td>\\n       \\t   <td> 383 </td>\\n\\t   <td> 72 </td>\\n\\t</tr>\\n  </tbody>\\n</table> \\n\\n\\n\\n\\n\\n\\t<p class=\"highlighted\">Doctoral</p>\\n\\t\\t<table cellspacing=\"0\">\\n  <thead>\\n\\t<tr>\\n      <th class=\"label th_wide\">\\n        Group\\n      </th>\\n      <th colspan=\"2\" class=\"th_wide center\">\\n        Nonresident Alien\\n      </th>\\n  \\t  <th colspan=\"2\" class=\"th_wide center\">\\n          Unknown\\n      </th>\\n      <th colspan=\"2\" class=\"th_wide center\">\\n          Hispanic\\n        </th>\\n  \\t  <th colspan=\"2\" class=\"th_wide center\">\\n          American Indian\\n      </th>\\n  \\t  <th colspan=\"2\" class=\"th_wide center\">\\n          Asian\\n      </th>\\n      <th colspan=\"2\" class=\"th_wide center\">\\n        Black\\n      </th>\\n      <th colspan=\"2\" class=\"th_wide center\">\\n        Pacific Islander\\n      </th>\\n  \\t  <th colspan=\"2\" class=\"th_wide center\">\\n        White\\n      </th>\\n\\t    <th colspan=\"2\" class=\"th_wide center\">\\n        Two or More\\n      </th>\\n      <th colspan=\"2\" class=\"th_wide center\">\\n        Total\\n      </th>\\n    </tr>\\n    <tr>\\n      <td>\\n        &nbsp;\\n      </td>\\n      <td>FT</td>\\n      <td>PT</td>\\n      <td>FT</td>\\n      <td>PT</td>\\n      <td>FT</td>\\n      <td>PT</td>\\n      <td>FT</td>\\n      <td>PT</td>\\n      <td>FT</td>\\n      <td>PT</td>\\n      <td>FT</td>\\n      <td>PT</td>\\n      <td>FT</td>\\n      <td>PT</td>\\n      <td>FT</td>\\n      <td>PT</td>\\n      <td>FT</td>\\n      <td>PT</td>\\n      <td>FT</td>\\n      <td>PT</td>\\n    </tr> \\n  <tbody>\\n\\t\\t\\t<tr class=\"on\">\\n\\t      <td colspan=\"24\" class=\"label\">\\n\\t        <strong>Aeronautical Engineering</strong>\\n\\t      </td>\\n\\t\\t</tr>\\n\\t\\t\\n\\t    <tr>\\n\\t      \\t<td class=\"label\">Men</td>\\n\\t\\t\\t<td> 0 </td>\\n\\t\\t\\t<td> 0 </td>\\n\\t\\t\\t<td> 2 </td>\\n\\t\\t\\t<td> 1 </td>\\n\\t\\t\\t<td> 1 </td>\\n\\t\\t\\t<td> 0 </td>\\n\\t\\t\\t<td> 0 </td>\\n\\t\\t\\t<td> 0 </td>\\n\\t\\t\\t<td> 0 </td>\\n\\t\\t\\t<td> 0 </td>\\n\\t\\t\\t<td> 0 </td>\\n\\t\\t\\t<td> 0 </td>\\n\\t\\t\\t<td> 0 </td>\\n\\t\\t\\t<td> 0 </td>\\n\\t\\t\\t<td> 8 </td>\\n\\t\\t\\t<td> 1 </td>\\n\\t\\t\\t<td> 0 </td>\\n\\t\\t\\t<td> 0 </td>\\n\\t        <td> 11 </td>\\n\\t        <td> 2 </td>\\n\\t    </tr>\\n\\t    <tr>\\n\\t      \\t<td class=\"label\">Women</td>\\n    \\t\\t\\t<td> 0 </td>\\n    \\t\\t\\t<td> 0 </td>\\n    \\t\\t\\t<td> 0 </td>\\n    \\t\\t\\t<td> 0 </td>\\n    \\t\\t\\t<td> 0 </td>\\n    \\t\\t\\t<td> 0 </td>\\n    \\t\\t\\t<td> 0 </td>\\n    \\t\\t\\t<td> 0 </td>\\n    \\t\\t\\t<td> 0 </td>\\n    \\t\\t\\t<td> 0 </td>\\n    \\t\\t\\t<td> 0 </td>\\n    \\t\\t\\t<td> 0 </td>\\n    \\t\\t\\t<td> 0 </td>\\n    \\t\\t\\t<td> 0 </td>\\n    \\t\\t\\t<td> 1 </td>\\n    \\t\\t\\t<td> 1 </td>\\n    \\t\\t\\t<td> 0 </td>\\n    \\t\\t\\t<td> 0 </td>\\n\\t      \\t<td> 1 </td>\\n\\t\\t  \\t<td> 1 </td>\\n\\t    </tr>\\n\\t\\t\\n\\t\\t\\t<tr class=\"on\">\\n\\t      <td colspan=\"24\" class=\"label\">\\n\\t        <strong>Applied Physics</strong>\\n\\t      </td>\\n\\t\\t</tr>\\n\\t\\t\\n\\t    <tr>\\n\\t      \\t<td class=\"label\">Men</td>\\n\\t\\t\\t<td> 0 </td>\\n\\t\\t\\t<td> 0 </td>\\n\\t\\t\\t<td> 0 </td>\\n\\t\\t\\t<td> 1 </td>\\n\\t\\t\\t<td> 1 </td>\\n\\t\\t\\t<td> 0 </td>\\n\\t\\t\\t<td> 0 </td>\\n\\t\\t\\t<td> 0 </td>\\n\\t\\t\\t<td> 0 </td>\\n\\t\\t\\t<td> 0 </td>\\n\\t\\t\\t<td> 0 </td>\\n\\t\\t\\t<td> 0 </td>\\n\\t\\t\\t<td> 0 </td>\\n\\t\\t\\t<td> 0 </td>\\n\\t\\t\\t<td> 6 </td>\\n\\t\\t\\t<td> 0 </td>\\n\\t\\t\\t<td> 0 </td>\\n\\t\\t\\t<td> 0 </td>\\n\\t        <td> 7 </td>\\n\\t        <td> 1 </td>\\n\\t    </tr>\\n\\t    <tr>\\n\\t      \\t<td class=\"label\">Women</td>\\n    \\t\\t\\t<td> 0 </td>\\n    \\t\\t\\t<td> 0 </td>\\n    \\t\\t\\t<td> 1 </td>\\n    \\t\\t\\t<td> 0 </td>\\n    \\t\\t\\t<td> 0 </td>\\n    \\t\\t\\t<td> 0 </td>\\n    \\t\\t\\t<td> 0 </td>\\n    \\t\\t\\t<td> 0 </td>\\n    \\t\\t\\t<td> 0 </td>\\n    \\t\\t\\t<td> 0 </td>\\n    \\t\\t\\t<td> 0 </td>\\n    \\t\\t\\t<td> 0 </td>\\n    \\t\\t\\t<td> 0 </td>\\n    \\t\\t\\t<td> 0 </td>\\n    \\t\\t\\t<td> 1 </td>\\n    \\t\\t\\t<td> 1 </td>\\n    \\t\\t\\t<td> 1 </td>\\n    \\t\\t\\t<td> 0 </td>\\n\\t      \\t<td> 3 </td>\\n\\t\\t  \\t<td> 1 </td>\\n\\t    </tr>\\n\\t\\t\\n\\t\\t\\t<tr class=\"on\">\\n\\t      <td colspan=\"24\" class=\"label\">\\n\\t        <strong>Astronautical Engineering </strong>\\n\\t      </td>\\n\\t\\t</tr>\\n\\t\\t\\n\\t    <tr>\\n\\t      \\t<td class=\"label\">Men</td>\\n\\t\\t\\t<td> 0 </td>\\n\\t\\t\\t<td> 0 </td>\\n\\t\\t\\t<td> 0 </td>\\n\\t\\t\\t<td> 0 </td>\\n\\t\\t\\t<td> 0 </td>\\n\\t\\t\\t<td> 0 </td>\\n\\t\\t\\t<td> 0 </td>\\n\\t\\t\\t<td> 0 </td>\\n\\t\\t\\t<td> 0 </td>\\n\\t\\t\\t<td> 0 </td>\\n\\t\\t\\t<td> 0 </td>\\n\\t\\t\\t<td> 0 </td>\\n\\t\\t\\t<td> 0 </td>\\n\\t\\t\\t<td> 0 </td>\\n\\t\\t\\t<td> 5 </td>\\n\\t\\t\\t<td> 1 </td>\\n\\t\\t\\t<td> 0 </td>\\n\\t\\t\\t<td> 0 </td>\\n\\t        <td> 5 </td>\\n\\t        <td> 1 </td>\\n\\t    </tr>\\n\\t    <tr>\\n\\t      \\t<td class=\"label\">Women</td>\\n    \\t\\t\\t<td> 0 </td>\\n    \\t\\t\\t<td> 0 </td>\\n    \\t\\t\\t<td> 0 </td>\\n    \\t\\t\\t<td> 0 </td>\\n    \\t\\t\\t<td> 0 </td>\\n    \\t\\t\\t<td> 0 </td>\\n    \\t\\t\\t<td> 0 </td>\\n    \\t\\t\\t<td> 0 </td>\\n    \\t\\t\\t<td> 0 </td>\\n    \\t\\t\\t<td> 0 </td>\\n    \\t\\t\\t<td> 0 </td>\\n    \\t\\t\\t<td> 0 </td>\\n    \\t\\t\\t<td> 0 </td>\\n    \\t\\t\\t<td> 0 </td>\\n    \\t\\t\\t<td> 0 </td>\\n    \\t\\t\\t<td> 0 </td>\\n    \\t\\t\\t<td> 0 </td>\\n    \\t\\t\\t<td> 0 </td>\\n\\t      \\t<td> 0 </td>\\n\\t\\t  \\t<td> 0 </td>\\n\\t    </tr>\\n\\t\\t\\n\\t\\t\\t<tr class=\"on\">\\n\\t      <td colspan=\"24\" class=\"label\">\\n\\t        <strong>Computer Engineering</strong>\\n\\t      </td>\\n\\t\\t</tr>\\n\\t\\t\\n\\t    <tr>\\n\\t      \\t<td class=\"label\">Men</td>\\n\\t\\t\\t<td> 0 </td>\\n\\t\\t\\t<td> 0 </td>\\n\\t\\t\\t<td> 1 </td>\\n\\t\\t\\t<td> 0 </td>\\n\\t\\t\\t<td> 0 </td>\\n\\t\\t\\t<td> 0 </td>\\n\\t\\t\\t<td> 0 </td>\\n\\t\\t\\t<td> 0 </td>\\n\\t\\t\\t<td> 0 </td>\\n\\t\\t\\t<td> 0 </td>\\n\\t\\t\\t<td> 0 </td>\\n\\t\\t\\t<td> 0 </td>\\n\\t\\t\\t<td> 0 </td>\\n\\t\\t\\t<td> 0 </td>\\n\\t\\t\\t<td> 1 </td>\\n\\t\\t\\t<td> 1 </td>\\n\\t\\t\\t<td> 0 </td>\\n\\t\\t\\t<td> 0 </td>\\n\\t        <td> 2 </td>\\n\\t        <td> 1 </td>\\n\\t    </tr>\\n\\t    <tr>\\n\\t      \\t<td class=\"label\">Women</td>\\n    \\t\\t\\t<td> 0 </td>\\n    \\t\\t\\t<td> 0 </td>\\n    \\t\\t\\t<td> 0 </td>\\n    \\t\\t\\t<td> 0 </td>\\n    \\t\\t\\t<td> 0 </td>\\n    \\t\\t\\t<td> 0 </td>\\n    \\t\\t\\t<td> 0 </td>\\n    \\t\\t\\t<td> 0 </td>\\n    \\t\\t\\t<td> 0 </td>\\n    \\t\\t\\t<td> 0 </td>\\n    \\t\\t\\t<td> 0 </td>\\n    \\t\\t\\t<td> 0 </td>\\n    \\t\\t\\t<td> 0 </td>\\n    \\t\\t\\t<td> 0 </td>\\n    \\t\\t\\t<td> 0 </td>\\n    \\t\\t\\t<td> 0 </td>\\n    \\t\\t\\t<td> 0 </td>\\n    \\t\\t\\t<td> 0 </td>\\n\\t      \\t<td> 0 </td>\\n\\t\\t  \\t<td> 0 </td>\\n\\t    </tr>\\n\\t\\t\\n\\t\\t\\t<tr class=\"on\">\\n\\t      <td colspan=\"24\" class=\"label\">\\n\\t        <strong>Computer Science</strong>\\n\\t      </td>\\n\\t\\t</tr>\\n\\t\\t\\n\\t    <tr>\\n\\t      \\t<td class=\"label\">Men</td>\\n\\t\\t\\t<td> 0 </td>\\n\\t\\t\\t<td> 0 </td>\\n\\t\\t\\t<td> 0 </td>\\n\\t\\t\\t<td> 0 </td>\\n\\t\\t\\t<td> 0 </td>\\n\\t\\t\\t<td> 0 </td>\\n\\t\\t\\t<td> 0 </td>\\n\\t\\t\\t<td> 0 </td>\\n\\t\\t\\t<td> 0 </td>\\n\\t\\t\\t<td> 0 </td>\\n\\t\\t\\t<td> 0 </td>\\n\\t\\t\\t<td> 0 </td>\\n\\t\\t\\t<td> 0 </td>\\n\\t\\t\\t<td> 0 </td>\\n\\t\\t\\t<td> 5 </td>\\n\\t\\t\\t<td> 5 </td>\\n\\t\\t\\t<td> 0 </td>\\n\\t\\t\\t<td> 0 </td>\\n\\t        <td> 5 </td>\\n\\t        <td> 5 </td>\\n\\t    </tr>\\n\\t    <tr>\\n\\t      \\t<td class=\"label\">Women</td>\\n    \\t\\t\\t<td> 0 </td>\\n    \\t\\t\\t<td> 0 </td>\\n    \\t\\t\\t<td> 0 </td>\\n    \\t\\t\\t<td> 0 </td>\\n    \\t\\t\\t<td> 0 </td>\\n    \\t\\t\\t<td> 0 </td>\\n    \\t\\t\\t<td> 0 </td>\\n    \\t\\t\\t<td> 0 </td>\\n    \\t\\t\\t<td> 0 </td>\\n    \\t\\t\\t<td> 0 </td>\\n    \\t\\t\\t<td> 0 </td>\\n    \\t\\t\\t<td> 0 </td>\\n    \\t\\t\\t<td> 0 </td>\\n    \\t\\t\\t<td> 0 </td>\\n    \\t\\t\\t<td> 0 </td>\\n    \\t\\t\\t<td> 0 </td>\\n    \\t\\t\\t<td> 0 </td>\\n    \\t\\t\\t<td> 0 </td>\\n\\t      \\t<td> 0 </td>\\n\\t\\t  \\t<td> 0 </td>\\n\\t    </tr>\\n\\t\\t\\n\\t\\t\\t<tr class=\"on\">\\n\\t      <td colspan=\"24\" class=\"label\">\\n\\t        <strong>Electrical Engineering</strong>\\n\\t      </td>\\n\\t\\t</tr>\\n\\t\\t\\n\\t    <tr>\\n\\t      \\t<td class=\"label\">Men</td>\\n\\t\\t\\t<td> 0 </td>\\n\\t\\t\\t<td> 0 </td>\\n\\t\\t\\t<td> 4 </td>\\n\\t\\t\\t<td> 0 </td>\\n\\t\\t\\t<td> 1 </td>\\n\\t\\t\\t<td> 0 </td>\\n\\t\\t\\t<td> 0 </td>\\n\\t\\t\\t<td> 0 </td>\\n\\t\\t\\t<td> 2 </td>\\n\\t\\t\\t<td> 2 </td>\\n\\t\\t\\t<td> 1 </td>\\n\\t\\t\\t<td> 0 </td>\\n\\t\\t\\t<td> 0 </td>\\n\\t\\t\\t<td> 0 </td>\\n\\t\\t\\t<td> 12 </td>\\n\\t\\t\\t<td> 7 </td>\\n\\t\\t\\t<td> 0 </td>\\n\\t\\t\\t<td> 1 </td>\\n\\t        <td> 20 </td>\\n\\t        <td> 10 </td>\\n\\t    </tr>\\n\\t    <tr>\\n\\t      \\t<td class=\"label\">Women</td>\\n    \\t\\t\\t<td> 0 </td>\\n    \\t\\t\\t<td> 0 </td>\\n    \\t\\t\\t<td> 0 </td>\\n    \\t\\t\\t<td> 0 </td>\\n    \\t\\t\\t<td> 0 </td>\\n    \\t\\t\\t<td> 0 </td>\\n    \\t\\t\\t<td> 0 </td>\\n    \\t\\t\\t<td> 0 </td>\\n    \\t\\t\\t<td> 0 </td>\\n    \\t\\t\\t<td> 0 </td>\\n    \\t\\t\\t<td> 0 </td>\\n    \\t\\t\\t<td> 0 </td>\\n    \\t\\t\\t<td> 0 </td>\\n    \\t\\t\\t<td> 0 </td>\\n    \\t\\t\\t<td> 0 </td>\\n    \\t\\t\\t<td> 0 </td>\\n    \\t\\t\\t<td> 1 </td>\\n    \\t\\t\\t<td> 0 </td>\\n\\t      \\t<td> 1 </td>\\n\\t\\t  \\t<td> 0 </td>\\n\\t    </tr>\\n\\t\\t\\n\\t\\t\\t<tr class=\"on\">\\n\\t      <td colspan=\"24\" class=\"label\">\\n\\t        <strong>Materials Science </strong>\\n\\t      </td>\\n\\t\\t</tr>\\n\\t\\t\\n\\t    <tr>\\n\\t      \\t<td class=\"label\">Men</td>\\n\\t\\t\\t<td> 0 </td>\\n\\t\\t\\t<td> 0 </td>\\n\\t\\t\\t<td> 0 </td>\\n\\t\\t\\t<td> 0 </td>\\n\\t\\t\\t<td> 0 </td>\\n\\t\\t\\t<td> 0 </td>\\n\\t\\t\\t<td> 0 </td>\\n\\t\\t\\t<td> 0 </td>\\n\\t\\t\\t<td> 0 </td>\\n\\t\\t\\t<td> 0 </td>\\n\\t\\t\\t<td> 0 </td>\\n\\t\\t\\t<td> 0 </td>\\n\\t\\t\\t<td> 0 </td>\\n\\t\\t\\t<td> 0 </td>\\n\\t\\t\\t<td> 0 </td>\\n\\t\\t\\t<td> 0 </td>\\n\\t\\t\\t<td> 0 </td>\\n\\t\\t\\t<td> 0 </td>\\n\\t        <td> 0 </td>\\n\\t        <td> 0 </td>\\n\\t    </tr>\\n\\t    <tr>\\n\\t      \\t<td class=\"label\">Women</td>\\n    \\t\\t\\t<td> 0 </td>\\n    \\t\\t\\t<td> 0 </td>\\n    \\t\\t\\t<td> 0 </td>\\n    \\t\\t\\t<td> 0 </td>\\n    \\t\\t\\t<td> 0 </td>\\n    \\t\\t\\t<td> 0 </td>\\n    \\t\\t\\t<td> 0 </td>\\n    \\t\\t\\t<td> 0 </td>\\n    \\t\\t\\t<td> 0 </td>\\n    \\t\\t\\t<td> 0 </td>\\n    \\t\\t\\t<td> 0 </td>\\n    \\t\\t\\t<td> 0 </td>\\n    \\t\\t\\t<td> 0 </td>\\n    \\t\\t\\t<td> 0 </td>\\n    \\t\\t\\t<td> 0 </td>\\n    \\t\\t\\t<td> 0 </td>\\n    \\t\\t\\t<td> 0 </td>\\n    \\t\\t\\t<td> 0 </td>\\n\\t      \\t<td> 0 </td>\\n\\t\\t  \\t<td> 0 </td>\\n\\t    </tr>\\n\\t\\t\\n\\t\\t\\t<tr class=\"on\">\\n\\t      <td colspan=\"24\" class=\"label\">\\n\\t        <strong>Mathematics and Statistics</strong>\\n\\t      </td>\\n\\t\\t</tr>\\n\\t\\t\\n\\t    <tr>\\n\\t      \\t<td class=\"label\">Men</td>\\n\\t\\t\\t<td> 0 </td>\\n\\t\\t\\t<td> 0 </td>\\n\\t\\t\\t<td> 2 </td>\\n\\t\\t\\t<td> 0 </td>\\n\\t\\t\\t<td> 0 </td>\\n\\t\\t\\t<td> 0 </td>\\n\\t\\t\\t<td> 0 </td>\\n\\t\\t\\t<td> 0 </td>\\n\\t\\t\\t<td> 0 </td>\\n\\t\\t\\t<td> 0 </td>\\n\\t\\t\\t<td> 0 </td>\\n\\t\\t\\t<td> 0 </td>\\n\\t\\t\\t<td> 0 </td>\\n\\t\\t\\t<td> 0 </td>\\n\\t\\t\\t<td> 5 </td>\\n\\t\\t\\t<td> 2 </td>\\n\\t\\t\\t<td> 0 </td>\\n\\t\\t\\t<td> 0 </td>\\n\\t        <td> 7 </td>\\n\\t        <td> 2 </td>\\n\\t    </tr>\\n\\t    <tr>\\n\\t      \\t<td class=\"label\">Women</td>\\n    \\t\\t\\t<td> 0 </td>\\n    \\t\\t\\t<td> 0 </td>\\n    \\t\\t\\t<td> 0 </td>\\n    \\t\\t\\t<td> 0 </td>\\n    \\t\\t\\t<td> 0 </td>\\n    \\t\\t\\t<td> 1 </td>\\n    \\t\\t\\t<td> 0 </td>\\n    \\t\\t\\t<td> 0 </td>\\n    \\t\\t\\t<td> 0 </td>\\n    \\t\\t\\t<td> 0 </td>\\n    \\t\\t\\t<td> 0 </td>\\n    \\t\\t\\t<td> 0 </td>\\n    \\t\\t\\t<td> 0 </td>\\n    \\t\\t\\t<td> 0 </td>\\n    \\t\\t\\t<td> 0 </td>\\n    \\t\\t\\t<td> 1 </td>\\n    \\t\\t\\t<td> 0 </td>\\n    \\t\\t\\t<td> 0 </td>\\n\\t      \\t<td> 0 </td>\\n\\t\\t  \\t<td> 2 </td>\\n\\t    </tr>\\n\\t\\t\\n\\t\\t\\t<tr class=\"on\">\\n\\t      <td colspan=\"24\" class=\"label\">\\n\\t        <strong>Nuclear Engineering</strong>\\n\\t      </td>\\n\\t\\t</tr>\\n\\t\\t\\n\\t    <tr>\\n\\t      \\t<td class=\"label\">Men</td>\\n\\t\\t\\t<td> 0 </td>\\n\\t\\t\\t<td> 0 </td>\\n\\t\\t\\t<td> 1 </td>\\n\\t\\t\\t<td> 0 </td>\\n\\t\\t\\t<td> 0 </td>\\n\\t\\t\\t<td> 0 </td>\\n\\t\\t\\t<td> 0 </td>\\n\\t\\t\\t<td> 0 </td>\\n\\t\\t\\t<td> 0 </td>\\n\\t\\t\\t<td> 0 </td>\\n\\t\\t\\t<td> 0 </td>\\n\\t\\t\\t<td> 0 </td>\\n\\t\\t\\t<td> 0 </td>\\n\\t\\t\\t<td> 0 </td>\\n\\t\\t\\t<td> 8 </td>\\n\\t\\t\\t<td> 0 </td>\\n\\t\\t\\t<td> 0 </td>\\n\\t\\t\\t<td> 0 </td>\\n\\t        <td> 9 </td>\\n\\t        <td> 0 </td>\\n\\t    </tr>\\n\\t    <tr>\\n\\t      \\t<td class=\"label\">Women</td>\\n    \\t\\t\\t<td> 0 </td>\\n    \\t\\t\\t<td> 0 </td>\\n    \\t\\t\\t<td> 0 </td>\\n    \\t\\t\\t<td> 0 </td>\\n    \\t\\t\\t<td> 0 </td>\\n    \\t\\t\\t<td> 0 </td>\\n    \\t\\t\\t<td> 0 </td>\\n    \\t\\t\\t<td> 0 </td>\\n    \\t\\t\\t<td> 0 </td>\\n    \\t\\t\\t<td> 0 </td>\\n    \\t\\t\\t<td> 0 </td>\\n    \\t\\t\\t<td> 0 </td>\\n    \\t\\t\\t<td> 0 </td>\\n    \\t\\t\\t<td> 0 </td>\\n    \\t\\t\\t<td> 3 </td>\\n    \\t\\t\\t<td> 0 </td>\\n    \\t\\t\\t<td> 0 </td>\\n    \\t\\t\\t<td> 0 </td>\\n\\t      \\t<td> 3 </td>\\n\\t\\t  \\t<td> 0 </td>\\n\\t    </tr>\\n\\t\\t\\n\\t\\t\\t<tr class=\"on\">\\n\\t      <td colspan=\"24\" class=\"label\">\\n\\t        <strong>Operations Research</strong>\\n\\t      </td>\\n\\t\\t</tr>\\n\\t\\t\\n\\t    <tr>\\n\\t      \\t<td class=\"label\">Men</td>\\n\\t\\t\\t<td> 0 </td>\\n\\t\\t\\t<td> 1 </td>\\n\\t\\t\\t<td> 2 </td>\\n\\t\\t\\t<td> 0 </td>\\n\\t\\t\\t<td> 0 </td>\\n\\t\\t\\t<td> 0 </td>\\n\\t\\t\\t<td> 0 </td>\\n\\t\\t\\t<td> 0 </td>\\n\\t\\t\\t<td> 1 </td>\\n\\t\\t\\t<td> 0 </td>\\n\\t\\t\\t<td> 0 </td>\\n\\t\\t\\t<td> 0 </td>\\n\\t\\t\\t<td> 0 </td>\\n\\t\\t\\t<td> 0 </td>\\n\\t\\t\\t<td> 7 </td>\\n\\t\\t\\t<td> 2 </td>\\n\\t\\t\\t<td> 0 </td>\\n\\t\\t\\t<td> 0 </td>\\n\\t        <td> 10 </td>\\n\\t        <td> 3 </td>\\n\\t    </tr>\\n\\t    <tr>\\n\\t      \\t<td class=\"label\">Women</td>\\n    \\t\\t\\t<td> 0 </td>\\n    \\t\\t\\t<td> 0 </td>\\n    \\t\\t\\t<td> 0 </td>\\n    \\t\\t\\t<td> 0 </td>\\n    \\t\\t\\t<td> 0 </td>\\n    \\t\\t\\t<td> 0 </td>\\n    \\t\\t\\t<td> 0 </td>\\n    \\t\\t\\t<td> 0 </td>\\n    \\t\\t\\t<td> 0 </td>\\n    \\t\\t\\t<td> 0 </td>\\n    \\t\\t\\t<td> 0 </td>\\n    \\t\\t\\t<td> 0 </td>\\n    \\t\\t\\t<td> 0 </td>\\n    \\t\\t\\t<td> 0 </td>\\n    \\t\\t\\t<td> 0 </td>\\n    \\t\\t\\t<td> 0 </td>\\n    \\t\\t\\t<td> 0 </td>\\n    \\t\\t\\t<td> 0 </td>\\n\\t      \\t<td> 0 </td>\\n\\t\\t  \\t<td> 0 </td>\\n\\t    </tr>\\n\\t\\t\\n\\t\\t\\t<tr class=\"on\">\\n\\t      <td colspan=\"24\" class=\"label\">\\n\\t        <strong>Optical Science and Engineering</strong>\\n\\t      </td>\\n\\t\\t</tr>\\n\\t\\t\\n\\t    <tr>\\n\\t      \\t<td class=\"label\">Men</td>\\n\\t\\t\\t<td> 0 </td>\\n\\t\\t\\t<td> 0 </td>\\n\\t\\t\\t<td> 0 </td>\\n\\t\\t\\t<td> 0 </td>\\n\\t\\t\\t<td> 0 </td>\\n\\t\\t\\t<td> 0 </td>\\n\\t\\t\\t<td> 0 </td>\\n\\t\\t\\t<td> 0 </td>\\n\\t\\t\\t<td> 0 </td>\\n\\t\\t\\t<td> 0 </td>\\n\\t\\t\\t<td> 0 </td>\\n\\t\\t\\t<td> 0 </td>\\n\\t\\t\\t<td> 0 </td>\\n\\t\\t\\t<td> 0 </td>\\n\\t\\t\\t<td> 2 </td>\\n\\t\\t\\t<td> 1 </td>\\n\\t\\t\\t<td> 0 </td>\\n\\t\\t\\t<td> 0 </td>\\n\\t        <td> 2 </td>\\n\\t        <td> 1 </td>\\n\\t    </tr>\\n\\t    <tr>\\n\\t      \\t<td class=\"label\">Women</td>\\n    \\t\\t\\t<td> 0 </td>\\n    \\t\\t\\t<td> 0 </td>\\n    \\t\\t\\t<td> 0 </td>\\n    \\t\\t\\t<td> 0 </td>\\n    \\t\\t\\t<td> 0 </td>\\n    \\t\\t\\t<td> 0 </td>\\n    \\t\\t\\t<td> 0 </td>\\n    \\t\\t\\t<td> 0 </td>\\n    \\t\\t\\t<td> 0 </td>\\n    \\t\\t\\t<td> 0 </td>\\n    \\t\\t\\t<td> 0 </td>\\n    \\t\\t\\t<td> 0 </td>\\n    \\t\\t\\t<td> 0 </td>\\n    \\t\\t\\t<td> 0 </td>\\n    \\t\\t\\t<td> 0 </td>\\n    \\t\\t\\t<td> 0 </td>\\n    \\t\\t\\t<td> 0 </td>\\n    \\t\\t\\t<td> 0 </td>\\n\\t      \\t<td> 0 </td>\\n\\t\\t  \\t<td> 0 </td>\\n\\t    </tr>\\n\\t\\t\\n\\t\\t\\t<tr class=\"on\">\\n\\t      <td colspan=\"24\" class=\"label\">\\n\\t        <strong>Space Systems</strong>\\n\\t      </td>\\n\\t\\t</tr>\\n\\t\\t\\n\\t    <tr>\\n\\t      \\t<td class=\"label\">Men</td>\\n\\t\\t\\t<td> 0 </td>\\n\\t\\t\\t<td> 0 </td>\\n\\t\\t\\t<td> 1 </td>\\n\\t\\t\\t<td> 0 </td>\\n\\t\\t\\t<td> 0 </td>\\n\\t\\t\\t<td> 0 </td>\\n\\t\\t\\t<td> 0 </td>\\n\\t\\t\\t<td> 0 </td>\\n\\t\\t\\t<td> 0 </td>\\n\\t\\t\\t<td> 0 </td>\\n\\t\\t\\t<td> 0 </td>\\n\\t\\t\\t<td> 0 </td>\\n\\t\\t\\t<td> 0 </td>\\n\\t\\t\\t<td> 0 </td>\\n\\t\\t\\t<td> 1 </td>\\n\\t\\t\\t<td> 0 </td>\\n\\t\\t\\t<td> 0 </td>\\n\\t\\t\\t<td> 0 </td>\\n\\t        <td> 2 </td>\\n\\t        <td> 0 </td>\\n\\t    </tr>\\n\\t    <tr>\\n\\t      \\t<td class=\"label\">Women</td>\\n    \\t\\t\\t<td> 0 </td>\\n    \\t\\t\\t<td> 0 </td>\\n    \\t\\t\\t<td> 0 </td>\\n    \\t\\t\\t<td> 0 </td>\\n    \\t\\t\\t<td> 0 </td>\\n    \\t\\t\\t<td> 0 </td>\\n    \\t\\t\\t<td> 0 </td>\\n    \\t\\t\\t<td> 0 </td>\\n    \\t\\t\\t<td> 0 </td>\\n    \\t\\t\\t<td> 0 </td>\\n    \\t\\t\\t<td> 0 </td>\\n    \\t\\t\\t<td> 0 </td>\\n    \\t\\t\\t<td> 0 </td>\\n    \\t\\t\\t<td> 0 </td>\\n    \\t\\t\\t<td> 0 </td>\\n    \\t\\t\\t<td> 0 </td>\\n    \\t\\t\\t<td> 0 </td>\\n    \\t\\t\\t<td> 0 </td>\\n\\t      \\t<td> 0 </td>\\n\\t\\t  \\t<td> 0 </td>\\n\\t    </tr>\\n\\t\\t\\n\\t\\t\\t<tr class=\"on\">\\n\\t      <td colspan=\"24\" class=\"label\">\\n\\t        <strong>Systems Engineering</strong>\\n\\t      </td>\\n\\t\\t</tr>\\n\\t\\t\\n\\t    <tr>\\n\\t      \\t<td class=\"label\">Men</td>\\n\\t\\t\\t<td> 0 </td>\\n\\t\\t\\t<td> 0 </td>\\n\\t\\t\\t<td> 1 </td>\\n\\t\\t\\t<td> 0 </td>\\n\\t\\t\\t<td> 0 </td>\\n\\t\\t\\t<td> 0 </td>\\n\\t\\t\\t<td> 0 </td>\\n\\t\\t\\t<td> 0 </td>\\n\\t\\t\\t<td> 0 </td>\\n\\t\\t\\t<td> 0 </td>\\n\\t\\t\\t<td> 0 </td>\\n\\t\\t\\t<td> 0 </td>\\n\\t\\t\\t<td> 0 </td>\\n\\t\\t\\t<td> 0 </td>\\n\\t\\t\\t<td> 5 </td>\\n\\t\\t\\t<td> 4 </td>\\n\\t\\t\\t<td> 0 </td>\\n\\t\\t\\t<td> 0 </td>\\n\\t        <td> 6 </td>\\n\\t        <td> 4 </td>\\n\\t    </tr>\\n\\t    <tr>\\n\\t      \\t<td class=\"label\">Women</td>\\n    \\t\\t\\t<td> 0 </td>\\n    \\t\\t\\t<td> 0 </td>\\n    \\t\\t\\t<td> 0 </td>\\n    \\t\\t\\t<td> 1 </td>\\n    \\t\\t\\t<td> 0 </td>\\n    \\t\\t\\t<td> 0 </td>\\n    \\t\\t\\t<td> 0 </td>\\n    \\t\\t\\t<td> 0 </td>\\n    \\t\\t\\t<td> 0 </td>\\n    \\t\\t\\t<td> 0 </td>\\n    \\t\\t\\t<td> 0 </td>\\n    \\t\\t\\t<td> 0 </td>\\n    \\t\\t\\t<td> 0 </td>\\n    \\t\\t\\t<td> 0 </td>\\n    \\t\\t\\t<td> 0 </td>\\n    \\t\\t\\t<td> 0 </td>\\n    \\t\\t\\t<td> 0 </td>\\n    \\t\\t\\t<td> 0 </td>\\n\\t      \\t<td> 0 </td>\\n\\t\\t  \\t<td> 1 </td>\\n\\t    </tr>\\n\\t\\t\\n\\t\\t<tr class=\"total\">\\n\\t  <td class=\"label\">Totals:</td>\\n            \\t           <td>0</td>\\n         <td>1</td>\\n                <td>15</td>\\n         <td>3</td>\\n                <td>3</td>\\n         <td>1</td>\\n                <td>0</td>\\n         <td>0</td>\\n                <td>3</td>\\n         <td>2</td>\\n                <td>1</td>\\n         <td>0</td>\\n                <td>0</td>\\n         <td>0</td>\\n                <td>70</td>\\n         <td>27</td>\\n                <td>2</td>\\n         <td>1</td>\\n       \\t   <td> 94 </td>\\n\\t   <td> 35 </td>\\n\\t</tr>\\n  </tbody>\\n</table> \\n\\n\\n\\n\\n \\n\\t\\n\\n    \\t  \\n<h2>Graduate</h2>\\n\\n<h3>Degrees Awarded by Program</h3> \\n\\t\\t\\t\\t\\t\\t\\t\\t\\t\\t\\t\\t\\t\\n\\t\\n<p class=\"highlighted\">Degrees By Ethnicity</p>\\n<table class=\"text\">\\n      <tr>\\n      <td>\\n        <strong>Nra</strong> - Nonresident aliens<br>\\n        <strong>Asi</strong> - Asian American<br>\\n        <strong>Blk</strong> - Black<br>\\n        <strong>His</strong> - Hispanic<br>\\n      </td>\\n      <td>\\n        <strong>Ind</strong> - American Indian<br>\\n        <strong>Pac</strong> - Pacific Islander<br>\\n        <strong>Unk</strong> - Unknown<br>\\n        <strong>Wht</strong> - White<br>\\n      </td>\\n      <td valign=\"top\">\\n        <strong>Tot</strong> - Program Totals<br>\\n        <strong>Two</strong> - Two or More<br>\\n      </td>\\n    </tr>\\n  </table>\\n\\n<table cellspacing=\"0\">\\n  <thead>\\n    <tr>\\n      <th class=\"label\">Master\\'s Degree Program(s)</th>\\n              <th>Nra</th>\\n              <th>Unk</th>\\n              <th>His</th>\\n              <th>Ind</th>\\n              <th>Asi</th>\\n              <th>Blk</th>\\n              <th>Pac</th>\\n              <th>Wht</th>\\n              <th>Two</th>\\n            <th>Tot</th>\\n\\t  <th class=\"summary_column\">Male</th>\\n\\t  <th>Female</th>\\n    </tr>\\n  </thead>\\n\\n  <tbody>\\n          <tr>\\n        <td class=\"label\">Aeronautical Engineering</td>\\n                  <td>1</td>\\n                  <td>1</td>\\n                  <td>1</td>\\n                  <td>1</td>\\n                  <td>3</td>\\n                  <td>0</td>\\n                  <td>0</td>\\n                  <td>20</td>\\n                  <td>2</td>\\n                <td>29</td>\\n        <td class=\"summary_column\">28</td>\\n\\t\\t<td>1</td>\\n      </tr>\\n\\t  \\n          <tr class=\"on\">\\n        <td class=\"label\">Applied Mathematics</td>\\n                  <td>0</td>\\n                  <td>0</td>\\n                  <td>0</td>\\n                  <td>0</td>\\n                  <td>1</td>\\n                  <td>0</td>\\n                  <td>0</td>\\n                  <td>2</td>\\n                  <td>0</td>\\n                <td>3</td>\\n        <td class=\"summary_column\">3</td>\\n\\t\\t<td>0</td>\\n      </tr>\\n\\t  \\n          <tr>\\n        <td class=\"label\">Applied Physics</td>\\n                  <td>0</td>\\n                  <td>0</td>\\n                  <td>2</td>\\n                  <td>0</td>\\n                  <td>0</td>\\n                  <td>0</td>\\n                  <td>0</td>\\n                  <td>5</td>\\n                  <td>0</td>\\n                <td>7</td>\\n        <td class=\"summary_column\">5</td>\\n\\t\\t<td>2</td>\\n      </tr>\\n\\t  \\n          <tr class=\"on\">\\n        <td class=\"label\">Astronautical Engineering </td>\\n                  <td>0</td>\\n                  <td>7</td>\\n                  <td>1</td>\\n                  <td>0</td>\\n                  <td>1</td>\\n                  <td>0</td>\\n                  <td>0</td>\\n                  <td>11</td>\\n                  <td>0</td>\\n                <td>20</td>\\n        <td class=\"summary_column\">19</td>\\n\\t\\t<td>1</td>\\n      </tr>\\n\\t  \\n          <tr>\\n        <td class=\"label\">Atmospheric Sciences</td>\\n                  <td>0</td>\\n                  <td>1</td>\\n                  <td>2</td>\\n                  <td>0</td>\\n                  <td>0</td>\\n                  <td>1</td>\\n                  <td>0</td>\\n                  <td>3</td>\\n                  <td>0</td>\\n                <td>7</td>\\n        <td class=\"summary_column\">4</td>\\n\\t\\t<td>3</td>\\n      </tr>\\n\\t  \\n          <tr class=\"on\">\\n        <td class=\"label\">Computer Engineering</td>\\n                  <td>0</td>\\n                  <td>0</td>\\n                  <td>0</td>\\n                  <td>0</td>\\n                  <td>0</td>\\n                  <td>0</td>\\n                  <td>0</td>\\n                  <td>4</td>\\n                  <td>0</td>\\n                <td>4</td>\\n        <td class=\"summary_column\">4</td>\\n\\t\\t<td>0</td>\\n      </tr>\\n\\t  \\n          <tr>\\n        <td class=\"label\">Computer Science</td>\\n                  <td>0</td>\\n                  <td>4</td>\\n                  <td>0</td>\\n                  <td>0</td>\\n                  <td>0</td>\\n                  <td>0</td>\\n                  <td>0</td>\\n                  <td>6</td>\\n                  <td>0</td>\\n                <td>10</td>\\n        <td class=\"summary_column\">9</td>\\n\\t\\t<td>1</td>\\n      </tr>\\n\\t  \\n          <tr class=\"on\">\\n        <td class=\"label\">Cyber Operations </td>\\n                  <td>0</td>\\n                  <td>1</td>\\n                  <td>0</td>\\n                  <td>0</td>\\n                  <td>1</td>\\n                  <td>0</td>\\n                  <td>0</td>\\n                  <td>8</td>\\n                  <td>0</td>\\n                <td>10</td>\\n        <td class=\"summary_column\">9</td>\\n\\t\\t<td>1</td>\\n      </tr>\\n\\t  \\n          <tr>\\n        <td class=\"label\">Electrical Engineering</td>\\n                  <td>0</td>\\n                  <td>4</td>\\n                  <td>0</td>\\n                  <td>0</td>\\n                  <td>2</td>\\n                  <td>1</td>\\n                  <td>2</td>\\n                  <td>19</td>\\n                  <td>2</td>\\n                <td>30</td>\\n        <td class=\"summary_column\">29</td>\\n\\t\\t<td>1</td>\\n      </tr>\\n\\t  \\n          <tr class=\"on\">\\n        <td class=\"label\">Engineering Management</td>\\n                  <td>1</td>\\n                  <td>0</td>\\n                  <td>1</td>\\n                  <td>0</td>\\n                  <td>0</td>\\n                  <td>0</td>\\n                  <td>0</td>\\n                  <td>14</td>\\n                  <td>3</td>\\n                <td>19</td>\\n        <td class=\"summary_column\">18</td>\\n\\t\\t<td>1</td>\\n      </tr>\\n\\t  \\n          <tr>\\n        <td class=\"label\">Environmental Engineering &amp; Science </td>\\n                  <td>0</td>\\n                  <td>0</td>\\n                  <td>0</td>\\n                  <td>0</td>\\n                  <td>0</td>\\n                  <td>1</td>\\n                  <td>0</td>\\n                  <td>3</td>\\n                  <td>0</td>\\n                <td>4</td>\\n        <td class=\"summary_column\">4</td>\\n\\t\\t<td>0</td>\\n      </tr>\\n\\t  \\n          <tr class=\"on\">\\n        <td class=\"label\">Materials Science</td>\\n                  <td>0</td>\\n                  <td>1</td>\\n                  <td>0</td>\\n                  <td>0</td>\\n                  <td>0</td>\\n                  <td>0</td>\\n                  <td>0</td>\\n                  <td>2</td>\\n                  <td>0</td>\\n                <td>3</td>\\n        <td class=\"summary_column\">3</td>\\n\\t\\t<td>0</td>\\n      </tr>\\n\\t  \\n          <tr>\\n        <td class=\"label\">Nuclear Engineering </td>\\n                  <td>0</td>\\n                  <td>0</td>\\n                  <td>0</td>\\n                  <td>0</td>\\n                  <td>0</td>\\n                  <td>0</td>\\n                  <td>0</td>\\n                  <td>9</td>\\n                  <td>0</td>\\n                <td>9</td>\\n        <td class=\"summary_column\">8</td>\\n\\t\\t<td>1</td>\\n      </tr>\\n\\t  \\n          <tr class=\"on\">\\n        <td class=\"label\">Operations Research</td>\\n                  <td>2</td>\\n                  <td>4</td>\\n                  <td>1</td>\\n                  <td>0</td>\\n                  <td>0</td>\\n                  <td>3</td>\\n                  <td>0</td>\\n                  <td>24</td>\\n                  <td>2</td>\\n                <td>36</td>\\n        <td class=\"summary_column\">25</td>\\n\\t\\t<td>11</td>\\n      </tr>\\n\\t  \\n          <tr>\\n        <td class=\"label\">Optical Science and Engineering </td>\\n                  <td>0</td>\\n                  <td>0</td>\\n                  <td>0</td>\\n                  <td>0</td>\\n                  <td>0</td>\\n                  <td>0</td>\\n                  <td>0</td>\\n                  <td>0</td>\\n                  <td>0</td>\\n                <td>0</td>\\n        <td class=\"summary_column\">0</td>\\n\\t\\t<td>0</td>\\n      </tr>\\n\\t  \\n          <tr class=\"on\">\\n        <td class=\"label\">Space Systems </td>\\n                  <td>1</td>\\n                  <td>0</td>\\n                  <td>0</td>\\n                  <td>0</td>\\n                  <td>1</td>\\n                  <td>0</td>\\n                  <td>0</td>\\n                  <td>2</td>\\n                  <td>1</td>\\n                <td>5</td>\\n        <td class=\"summary_column\">5</td>\\n\\t\\t<td>0</td>\\n      </tr>\\n\\t  \\n          <tr>\\n        <td class=\"label\">Systems Engineering </td>\\n                  <td>1</td>\\n                  <td>3</td>\\n                  <td>0</td>\\n                  <td>0</td>\\n                  <td>0</td>\\n                  <td>0</td>\\n                  <td>0</td>\\n                  <td>13</td>\\n                  <td>0</td>\\n                <td>17</td>\\n        <td class=\"summary_column\">16</td>\\n\\t\\t<td>1</td>\\n      </tr>\\n\\t  \\n    \\n    <tr class=\"total\">\\n                  <td class=\"label\">Totals:</td>\\n      \\n      \\n              <td>6</td>\\n              <td>26</td>\\n              <td>8</td>\\n              <td>1</td>\\n              <td>9</td>\\n              <td>6</td>\\n              <td>2</td>\\n              <td>145</td>\\n              <td>10</td>\\n            \\n      \\n      <td>213</td>\\n\\t  <td class=\"summary_column\">189</td>\\n\\t  <td>24</td>\\n    </tr>\\n  </tbody>\\n</table>\\n\\n\\n\\n<p class=\"highlighted\">Degrees By Ethnicity &amp; Gender</p>\\n\\n<table cellspacing=\"0\">\\n  <thead>\\n    <tr>\\n      <th rowspan=\"2\" class=\"label\">Master\\'s Degree Program(s)</th>\\n              <th colspan=\"2\" class=\"th_mini\">Nra</th>\\n              <th colspan=\"2\" class=\"th_mini\">Unk</th>\\n              <th colspan=\"2\" class=\"th_mini\">His</th>\\n              <th colspan=\"2\" class=\"th_mini\">Ind</th>\\n              <th colspan=\"2\" class=\"th_mini\">Asi</th>\\n              <th colspan=\"2\" class=\"th_mini\">Blk</th>\\n              <th colspan=\"2\" class=\"th_mini\">Pac</th>\\n              <th colspan=\"2\" class=\"th_mini\">Wht</th>\\n              <th colspan=\"2\" class=\"th_mini\">Two</th>\\n            <th rowspan=\"2\" class=\"th_short\">Tot</th>\\n    </tr>\\n    <tr>\\n              <th>M</th>\\n        <th>F</th>\\n              <th>M</th>\\n        <th>F</th>\\n              <th>M</th>\\n        <th>F</th>\\n              <th>M</th>\\n        <th>F</th>\\n              <th>M</th>\\n        <th>F</th>\\n              <th>M</th>\\n        <th>F</th>\\n              <th>M</th>\\n        <th>F</th>\\n              <th>M</th>\\n        <th>F</th>\\n              <th>M</th>\\n        <th>F</th>\\n          </tr>\\n  </thead>\\n\\n  <tbody>\\n                <tr class=\"on\">\\n        <td class=\"label\">Aeronautical Engineering</td>\\n                  <td>1</td>\\n                  <td>0</td>\\n                  <td>1</td>\\n                  <td>0</td>\\n                  <td>1</td>\\n                  <td>0</td>\\n                  <td>1</td>\\n                  <td>0</td>\\n                  <td>3</td>\\n                  <td>0</td>\\n                  <td>0</td>\\n                  <td>0</td>\\n                  <td>0</td>\\n                  <td>0</td>\\n                  <td>19</td>\\n                  <td>1</td>\\n                  <td>2</td>\\n                  <td>0</td>\\n                <td>29</td>\\n      </tr>\\n      \\n                <tr>\\n        <td class=\"label\">Applied Mathematics</td>\\n                  <td>0</td>\\n                  <td>0</td>\\n                  <td>0</td>\\n                  <td>0</td>\\n                  <td>0</td>\\n                  <td>0</td>\\n                  <td>0</td>\\n                  <td>0</td>\\n                  <td>1</td>\\n                  <td>0</td>\\n                  <td>0</td>\\n                  <td>0</td>\\n                  <td>0</td>\\n                  <td>0</td>\\n                  <td>2</td>\\n                  <td>0</td>\\n                  <td>0</td>\\n                  <td>0</td>\\n                <td>3</td>\\n      </tr>\\n      \\n                <tr class=\"on\">\\n        <td class=\"label\">Applied Physics</td>\\n                  <td>0</td>\\n                  <td>0</td>\\n                  <td>0</td>\\n                  <td>0</td>\\n                  <td>1</td>\\n                  <td>1</td>\\n                  <td>0</td>\\n                  <td>0</td>\\n                  <td>0</td>\\n                  <td>0</td>\\n                  <td>0</td>\\n                  <td>0</td>\\n                  <td>0</td>\\n                  <td>0</td>\\n                  <td>4</td>\\n                  <td>1</td>\\n                  <td>0</td>\\n                  <td>0</td>\\n                <td>7</td>\\n      </tr>\\n      \\n                <tr>\\n        <td class=\"label\">Astronautical Engineering </td>\\n                  <td>0</td>\\n                  <td>0</td>\\n                  <td>7</td>\\n                  <td>0</td>\\n                  <td>1</td>\\n                  <td>0</td>\\n                  <td>0</td>\\n                  <td>0</td>\\n                  <td>1</td>\\n                  <td>0</td>\\n                  <td>0</td>\\n                  <td>0</td>\\n                  <td>0</td>\\n                  <td>0</td>\\n                  <td>10</td>\\n                  <td>1</td>\\n                  <td>0</td>\\n                  <td>0</td>\\n                <td>20</td>\\n      </tr>\\n      \\n                <tr class=\"on\">\\n        <td class=\"label\">Atmospheric Sciences</td>\\n                  <td>0</td>\\n                  <td>0</td>\\n                  <td>1</td>\\n                  <td>0</td>\\n                  <td>0</td>\\n                  <td>2</td>\\n                  <td>0</td>\\n                  <td>0</td>\\n                  <td>0</td>\\n                  <td>0</td>\\n                  <td>1</td>\\n                  <td>0</td>\\n                  <td>0</td>\\n                  <td>0</td>\\n                  <td>2</td>\\n                  <td>1</td>\\n                  <td>0</td>\\n                  <td>0</td>\\n                <td>7</td>\\n      </tr>\\n      \\n                <tr>\\n        <td class=\"label\">Computer Engineering</td>\\n                  <td>0</td>\\n                  <td>0</td>\\n                  <td>0</td>\\n                  <td>0</td>\\n                  <td>0</td>\\n                  <td>0</td>\\n                  <td>0</td>\\n                  <td>0</td>\\n                  <td>0</td>\\n                  <td>0</td>\\n                  <td>0</td>\\n                  <td>0</td>\\n                  <td>0</td>\\n                  <td>0</td>\\n                  <td>4</td>\\n                  <td>0</td>\\n                  <td>0</td>\\n                  <td>0</td>\\n                <td>4</td>\\n      </tr>\\n      \\n                <tr class=\"on\">\\n        <td class=\"label\">Computer Science</td>\\n                  <td>0</td>\\n                  <td>0</td>\\n                  <td>4</td>\\n                  <td>0</td>\\n                  <td>0</td>\\n                  <td>0</td>\\n                  <td>0</td>\\n                  <td>0</td>\\n                  <td>0</td>\\n                  <td>0</td>\\n                  <td>0</td>\\n                  <td>0</td>\\n                  <td>0</td>\\n                  <td>0</td>\\n                  <td>5</td>\\n                  <td>1</td>\\n                  <td>0</td>\\n                  <td>0</td>\\n                <td>10</td>\\n      </tr>\\n      \\n                <tr>\\n        <td class=\"label\">Cyber Operations </td>\\n                  <td>0</td>\\n                  <td>0</td>\\n                  <td>1</td>\\n                  <td>0</td>\\n                  <td>0</td>\\n                  <td>0</td>\\n                  <td>0</td>\\n                  <td>0</td>\\n                  <td>0</td>\\n                  <td>1</td>\\n                  <td>0</td>\\n                  <td>0</td>\\n                  <td>0</td>\\n                  <td>0</td>\\n                  <td>8</td>\\n                  <td>0</td>\\n                  <td>0</td>\\n                  <td>0</td>\\n                <td>10</td>\\n      </tr>\\n      \\n                <tr class=\"on\">\\n        <td class=\"label\">Electrical Engineering</td>\\n                  <td>0</td>\\n                  <td>0</td>\\n                  <td>4</td>\\n                  <td>0</td>\\n                  <td>0</td>\\n                  <td>0</td>\\n                  <td>0</td>\\n                  <td>0</td>\\n                  <td>2</td>\\n                  <td>0</td>\\n                  <td>1</td>\\n                  <td>0</td>\\n                  <td>2</td>\\n                  <td>0</td>\\n                  <td>18</td>\\n                  <td>1</td>\\n                  <td>2</td>\\n                  <td>0</td>\\n                <td>30</td>\\n      </tr>\\n      \\n                <tr>\\n        <td class=\"label\">Engineering Management</td>\\n                  <td>1</td>\\n                  <td>0</td>\\n                  <td>0</td>\\n                  <td>0</td>\\n                  <td>1</td>\\n                  <td>0</td>\\n                  <td>0</td>\\n                  <td>0</td>\\n                  <td>0</td>\\n                  <td>0</td>\\n                  <td>0</td>\\n                  <td>0</td>\\n                  <td>0</td>\\n                  <td>0</td>\\n                  <td>13</td>\\n                  <td>1</td>\\n                  <td>3</td>\\n                  <td>0</td>\\n                <td>19</td>\\n      </tr>\\n      \\n                <tr class=\"on\">\\n        <td class=\"label\">Environmental Engineering &amp; Science </td>\\n                  <td>0</td>\\n                  <td>0</td>\\n                  <td>0</td>\\n                  <td>0</td>\\n                  <td>0</td>\\n                  <td>0</td>\\n                  <td>0</td>\\n                  <td>0</td>\\n                  <td>0</td>\\n                  <td>0</td>\\n                  <td>1</td>\\n                  <td>0</td>\\n                  <td>0</td>\\n                  <td>0</td>\\n                  <td>3</td>\\n                  <td>0</td>\\n                  <td>0</td>\\n                  <td>0</td>\\n                <td>4</td>\\n      </tr>\\n      \\n                <tr>\\n        <td class=\"label\">Materials Science</td>\\n                  <td>0</td>\\n                  <td>0</td>\\n                  <td>1</td>\\n                  <td>0</td>\\n                  <td>0</td>\\n                  <td>0</td>\\n                  <td>0</td>\\n                  <td>0</td>\\n                  <td>0</td>\\n                  <td>0</td>\\n                  <td>0</td>\\n                  <td>0</td>\\n                  <td>0</td>\\n                  <td>0</td>\\n                  <td>2</td>\\n                  <td>0</td>\\n                  <td>0</td>\\n                  <td>0</td>\\n                <td>3</td>\\n      </tr>\\n      \\n                <tr class=\"on\">\\n        <td class=\"label\">Nuclear Engineering </td>\\n                  <td>0</td>\\n                  <td>0</td>\\n                  <td>0</td>\\n                  <td>0</td>\\n                  <td>0</td>\\n                  <td>0</td>\\n                  <td>0</td>\\n                  <td>0</td>\\n                  <td>0</td>\\n                  <td>0</td>\\n                  <td>0</td>\\n                  <td>0</td>\\n                  <td>0</td>\\n                  <td>0</td>\\n                  <td>8</td>\\n                  <td>1</td>\\n                  <td>0</td>\\n                  <td>0</td>\\n                <td>9</td>\\n      </tr>\\n      \\n                <tr>\\n        <td class=\"label\">Operations Research</td>\\n                  <td>2</td>\\n                  <td>0</td>\\n                  <td>2</td>\\n                  <td>2</td>\\n                  <td>1</td>\\n                  <td>0</td>\\n                  <td>0</td>\\n                  <td>0</td>\\n                  <td>0</td>\\n                  <td>0</td>\\n                  <td>1</td>\\n                  <td>2</td>\\n                  <td>0</td>\\n                  <td>0</td>\\n                  <td>18</td>\\n                  <td>6</td>\\n                  <td>1</td>\\n                  <td>1</td>\\n                <td>36</td>\\n      </tr>\\n      \\n                <tr class=\"on\">\\n        <td class=\"label\">Optical Science and Engineering </td>\\n                  <td>0</td>\\n                  <td>0</td>\\n                  <td>0</td>\\n                  <td>0</td>\\n                  <td>0</td>\\n                  <td>0</td>\\n                  <td>0</td>\\n                  <td>0</td>\\n                  <td>0</td>\\n                  <td>0</td>\\n                  <td>0</td>\\n                  <td>0</td>\\n                  <td>0</td>\\n                  <td>0</td>\\n                  <td>0</td>\\n                  <td>0</td>\\n                  <td>0</td>\\n                  <td>0</td>\\n                <td>0</td>\\n      </tr>\\n      \\n                <tr>\\n        <td class=\"label\">Space Systems </td>\\n                  <td>1</td>\\n                  <td>0</td>\\n                  <td>0</td>\\n                  <td>0</td>\\n                  <td>0</td>\\n                  <td>0</td>\\n                  <td>0</td>\\n                  <td>0</td>\\n                  <td>1</td>\\n                  <td>0</td>\\n                  <td>0</td>\\n                  <td>0</td>\\n                  <td>0</td>\\n                  <td>0</td>\\n                  <td>2</td>\\n                  <td>0</td>\\n                  <td>1</td>\\n                  <td>0</td>\\n                <td>5</td>\\n      </tr>\\n      \\n                <tr class=\"on\">\\n        <td class=\"label\">Systems Engineering </td>\\n                  <td>1</td>\\n                  <td>0</td>\\n                  <td>3</td>\\n                  <td>0</td>\\n                  <td>0</td>\\n                  <td>0</td>\\n                  <td>0</td>\\n                  <td>0</td>\\n                  <td>0</td>\\n                  <td>0</td>\\n                  <td>0</td>\\n                  <td>0</td>\\n                  <td>0</td>\\n                  <td>0</td>\\n                  <td>12</td>\\n                  <td>1</td>\\n                  <td>0</td>\\n                  <td>0</td>\\n                <td>17</td>\\n      </tr>\\n      \\n    \\n    <tr class=\"total\">\\n                  <td class=\"label\">Totals:</td>\\n              <td>6</td>\\n              <td>0</td>\\n              <td>24</td>\\n              <td>2</td>\\n              <td>5</td>\\n              <td>3</td>\\n              <td>1</td>\\n              <td>0</td>\\n              <td>8</td>\\n              <td>1</td>\\n              <td>4</td>\\n              <td>2</td>\\n              <td>2</td>\\n              <td>0</td>\\n              <td>130</td>\\n              <td>15</td>\\n              <td>9</td>\\n              <td>1</td>\\n            <td>213</td>\\n    </tr>\\n  </tbody>\\n</table>\\n\\n\\t\\t\\t\\t\\t\\t\\t\\t\\t\\t\\t\\t\\t\\n\\n<p class=\"highlighted\">Master\\'s Degree Programs</p>\\n<table>\\n\\t<thead>\\n\\t\\t<tr>\\n\\t\\t\\t<th rowspan=\"2\" style=\"vertical-align: bottom\" class=\"label\">Master\\'s Degree Program</th>\\n\\t\\t\\t<th colspan=\"3\" style=\"text-align: center\">Degree Type</th>\\n\\t\\t</tr>\\n\\t\\t<tr>\\n\\t\\t\\t<th>Master\\'s w/ Thesis</th>\\n\\t\\t\\t<th>Master\\'s w/o Thesis or with Proj./Report</th>\\n\\t\\t\\t<th>Program Totals</th>\\n\\t\\t</tr>\\n\\t</thead>\\n\\t<tbody>\\n\\t\\t\\t\\t\\t<tr>\\n\\t\\t\\t\\t<td class=\"label\">Aeronautical Engineering</td>\\n\\t\\t\\t\\t<td>29</td>\\n\\t\\t\\t\\t<td>0</td>\\n\\t\\t\\t\\t<td>29</td>\\n\\t\\t\\t</tr>\\n\\t\\t\\t\\t\\t<tr>\\n\\t\\t\\t\\t<td class=\"label\">Applied Mathematics</td>\\n\\t\\t\\t\\t<td>3</td>\\n\\t\\t\\t\\t<td>0</td>\\n\\t\\t\\t\\t<td>3</td>\\n\\t\\t\\t</tr>\\n\\t\\t\\t\\t\\t<tr>\\n\\t\\t\\t\\t<td class=\"label\">Applied Physics</td>\\n\\t\\t\\t\\t<td>7</td>\\n\\t\\t\\t\\t<td>0</td>\\n\\t\\t\\t\\t<td>7</td>\\n\\t\\t\\t</tr>\\n\\t\\t\\t\\t\\t<tr>\\n\\t\\t\\t\\t<td class=\"label\">Astronautical Engineering </td>\\n\\t\\t\\t\\t<td>20</td>\\n\\t\\t\\t\\t<td>0</td>\\n\\t\\t\\t\\t<td>20</td>\\n\\t\\t\\t</tr>\\n\\t\\t\\t\\t\\t<tr>\\n\\t\\t\\t\\t<td class=\"label\">Atmospheric Sciences</td>\\n\\t\\t\\t\\t<td>7</td>\\n\\t\\t\\t\\t<td>0</td>\\n\\t\\t\\t\\t<td>7</td>\\n\\t\\t\\t</tr>\\n\\t\\t\\t\\t\\t<tr>\\n\\t\\t\\t\\t<td class=\"label\">Computer Engineering</td>\\n\\t\\t\\t\\t<td>4</td>\\n\\t\\t\\t\\t<td>0</td>\\n\\t\\t\\t\\t<td>4</td>\\n\\t\\t\\t</tr>\\n\\t\\t\\t\\t\\t<tr>\\n\\t\\t\\t\\t<td class=\"label\">Computer Science</td>\\n\\t\\t\\t\\t<td>10</td>\\n\\t\\t\\t\\t<td>0</td>\\n\\t\\t\\t\\t<td>10</td>\\n\\t\\t\\t</tr>\\n\\t\\t\\t\\t\\t<tr>\\n\\t\\t\\t\\t<td class=\"label\">Cyber Operations </td>\\n\\t\\t\\t\\t<td>10</td>\\n\\t\\t\\t\\t<td>0</td>\\n\\t\\t\\t\\t<td>10</td>\\n\\t\\t\\t</tr>\\n\\t\\t\\t\\t\\t<tr>\\n\\t\\t\\t\\t<td class=\"label\">Electrical Engineering</td>\\n\\t\\t\\t\\t<td>30</td>\\n\\t\\t\\t\\t<td>0</td>\\n\\t\\t\\t\\t<td>30</td>\\n\\t\\t\\t</tr>\\n\\t\\t\\t\\t\\t<tr>\\n\\t\\t\\t\\t<td class=\"label\">Engineering Management</td>\\n\\t\\t\\t\\t<td>19</td>\\n\\t\\t\\t\\t<td>0</td>\\n\\t\\t\\t\\t<td>19</td>\\n\\t\\t\\t</tr>\\n\\t\\t\\t\\t\\t<tr>\\n\\t\\t\\t\\t<td class=\"label\">Environmental Engineering &amp; Science </td>\\n\\t\\t\\t\\t<td>4</td>\\n\\t\\t\\t\\t<td>0</td>\\n\\t\\t\\t\\t<td>4</td>\\n\\t\\t\\t</tr>\\n\\t\\t\\t\\t\\t<tr>\\n\\t\\t\\t\\t<td class=\"label\">Materials Science</td>\\n\\t\\t\\t\\t<td>3</td>\\n\\t\\t\\t\\t<td>0</td>\\n\\t\\t\\t\\t<td>3</td>\\n\\t\\t\\t</tr>\\n\\t\\t\\t\\t\\t<tr>\\n\\t\\t\\t\\t<td class=\"label\">Nuclear Engineering </td>\\n\\t\\t\\t\\t<td>9</td>\\n\\t\\t\\t\\t<td>0</td>\\n\\t\\t\\t\\t<td>9</td>\\n\\t\\t\\t</tr>\\n\\t\\t\\t\\t\\t<tr>\\n\\t\\t\\t\\t<td class=\"label\">Operations Research</td>\\n\\t\\t\\t\\t<td>34</td>\\n\\t\\t\\t\\t<td>0</td>\\n\\t\\t\\t\\t<td>34</td>\\n\\t\\t\\t</tr>\\n\\t\\t\\t\\t\\t<tr>\\n\\t\\t\\t\\t<td class=\"label\">Optical Science and Engineering </td>\\n\\t\\t\\t\\t<td>0</td>\\n\\t\\t\\t\\t<td>0</td>\\n\\t\\t\\t\\t<td>0</td>\\n\\t\\t\\t</tr>\\n\\t\\t\\t\\t\\t<tr>\\n\\t\\t\\t\\t<td class=\"label\">Space Systems </td>\\n\\t\\t\\t\\t<td>5</td>\\n\\t\\t\\t\\t<td>0</td>\\n\\t\\t\\t\\t<td>5</td>\\n\\t\\t\\t</tr>\\n\\t\\t\\t\\t\\t<tr>\\n\\t\\t\\t\\t<td class=\"label\">Systems Engineering </td>\\n\\t\\t\\t\\t<td>17</td>\\n\\t\\t\\t\\t<td>0</td>\\n\\t\\t\\t\\t<td>17</td>\\n\\t\\t\\t</tr>\\n\\t\\t\\t\\t<tr class=\"total\">\\n\\t\\t\\t\\n\\t\\t\\t<td class=\"label\">Totals: </td>\\n\\t\\t\\t<td>211</td>\\n\\t\\t\\t<td>0</td>\\n\\t\\t\\t<td>211</td>\\n\\t\\t</tr>\\n\\t</tbody>\\n</table>\\n\\t\\t\\t\\t\\t\\t\\t\\t\\t\\t\\t\\t\\t\\n\\t\\n<p class=\"highlighted\">Degrees By Ethnicity</p>\\n<table class=\"text\">\\n      <tr>\\n      <td>\\n        <strong>Nra</strong> - Nonresident aliens<br>\\n        <strong>Asi</strong> - Asian American<br>\\n        <strong>Blk</strong> - Black<br>\\n        <strong>His</strong> - Hispanic<br>\\n      </td>\\n      <td>\\n        <strong>Ind</strong> - American Indian<br>\\n        <strong>Pac</strong> - Pacific Islander<br>\\n        <strong>Unk</strong> - Unknown<br>\\n        <strong>Wht</strong> - White<br>\\n      </td>\\n      <td valign=\"top\">\\n        <strong>Tot</strong> - Program Totals<br>\\n        <strong>Two</strong> - Two or More<br>\\n      </td>\\n    </tr>\\n  </table>\\n\\n<table cellspacing=\"0\">\\n  <thead>\\n    <tr>\\n      <th class=\"label\">Doctoral Degree Program(s)</th>\\n              <th>Nra</th>\\n              <th>Unk</th>\\n              <th>His</th>\\n              <th>Ind</th>\\n              <th>Asi</th>\\n              <th>Blk</th>\\n              <th>Pac</th>\\n              <th>Wht</th>\\n              <th>Two</th>\\n            <th>Tot</th>\\n\\t  <th class=\"summary_column\">Male</th>\\n\\t  <th>Female</th>\\n    </tr>\\n  </thead>\\n\\n  <tbody>\\n          <tr>\\n        <td class=\"label\">Aeronautical Engineering</td>\\n                  <td>0</td>\\n                  <td>2</td>\\n                  <td>1</td>\\n                  <td>0</td>\\n                  <td>0</td>\\n                  <td>0</td>\\n                  <td>0</td>\\n                  <td>6</td>\\n                  <td>0</td>\\n                <td>9</td>\\n        <td class=\"summary_column\">9</td>\\n\\t\\t<td>0</td>\\n      </tr>\\n\\t  \\n          <tr class=\"on\">\\n        <td class=\"label\">Applied Physics</td>\\n                  <td>0</td>\\n                  <td>1</td>\\n                  <td>0</td>\\n                  <td>0</td>\\n                  <td>0</td>\\n                  <td>0</td>\\n                  <td>0</td>\\n                  <td>8</td>\\n                  <td>0</td>\\n                <td>9</td>\\n        <td class=\"summary_column\">9</td>\\n\\t\\t<td>0</td>\\n      </tr>\\n\\t  \\n          <tr>\\n        <td class=\"label\">Astronautical Engineering </td>\\n                  <td>0</td>\\n                  <td>0</td>\\n                  <td>0</td>\\n                  <td>0</td>\\n                  <td>0</td>\\n                  <td>0</td>\\n                  <td>0</td>\\n                  <td>2</td>\\n                  <td>0</td>\\n                <td>2</td>\\n        <td class=\"summary_column\">1</td>\\n\\t\\t<td>1</td>\\n      </tr>\\n\\t  \\n          <tr class=\"on\">\\n        <td class=\"label\">Computer Engineering</td>\\n                  <td>0</td>\\n                  <td>0</td>\\n                  <td>0</td>\\n                  <td>0</td>\\n                  <td>0</td>\\n                  <td>0</td>\\n                  <td>0</td>\\n                  <td>0</td>\\n                  <td>0</td>\\n                <td>0</td>\\n        <td class=\"summary_column\">0</td>\\n\\t\\t<td>0</td>\\n      </tr>\\n\\t  \\n          <tr>\\n        <td class=\"label\">Computer Science</td>\\n                  <td>0</td>\\n                  <td>3</td>\\n                  <td>0</td>\\n                  <td>0</td>\\n                  <td>0</td>\\n                  <td>1</td>\\n                  <td>0</td>\\n                  <td>4</td>\\n                  <td>0</td>\\n                <td>8</td>\\n        <td class=\"summary_column\">8</td>\\n\\t\\t<td>0</td>\\n      </tr>\\n\\t  \\n          <tr class=\"on\">\\n        <td class=\"label\">Electrical Engineering</td>\\n                  <td>0</td>\\n                  <td>0</td>\\n                  <td>1</td>\\n                  <td>0</td>\\n                  <td>0</td>\\n                  <td>0</td>\\n                  <td>0</td>\\n                  <td>10</td>\\n                  <td>0</td>\\n                <td>11</td>\\n        <td class=\"summary_column\">11</td>\\n\\t\\t<td>0</td>\\n      </tr>\\n\\t  \\n          <tr>\\n        <td class=\"label\">Materials Science </td>\\n                  <td>0</td>\\n                  <td>0</td>\\n                  <td>0</td>\\n                  <td>0</td>\\n                  <td>0</td>\\n                  <td>0</td>\\n                  <td>0</td>\\n                  <td>0</td>\\n                  <td>0</td>\\n                <td>0</td>\\n        <td class=\"summary_column\">0</td>\\n\\t\\t<td>0</td>\\n      </tr>\\n\\t  \\n          <tr class=\"on\">\\n        <td class=\"label\">Mathematics and Statistics</td>\\n                  <td>0</td>\\n                  <td>1</td>\\n                  <td>0</td>\\n                  <td>0</td>\\n                  <td>0</td>\\n                  <td>0</td>\\n                  <td>0</td>\\n                  <td>2</td>\\n                  <td>0</td>\\n                <td>3</td>\\n        <td class=\"summary_column\">2</td>\\n\\t\\t<td>1</td>\\n      </tr>\\n\\t  \\n          <tr>\\n        <td class=\"label\">Nuclear Engineering</td>\\n                  <td>0</td>\\n                  <td>2</td>\\n                  <td>0</td>\\n                  <td>0</td>\\n                  <td>0</td>\\n                  <td>0</td>\\n                  <td>0</td>\\n                  <td>3</td>\\n                  <td>0</td>\\n                <td>5</td>\\n        <td class=\"summary_column\">5</td>\\n\\t\\t<td>0</td>\\n      </tr>\\n\\t  \\n          <tr class=\"on\">\\n        <td class=\"label\">Operations Research</td>\\n                  <td>0</td>\\n                  <td>2</td>\\n                  <td>0</td>\\n                  <td>0</td>\\n                  <td>1</td>\\n                  <td>0</td>\\n                  <td>0</td>\\n                  <td>6</td>\\n                  <td>1</td>\\n                <td>10</td>\\n        <td class=\"summary_column\">10</td>\\n\\t\\t<td>0</td>\\n      </tr>\\n\\t  \\n          <tr>\\n        <td class=\"label\">Optical Science and Engineering</td>\\n                  <td>0</td>\\n                  <td>0</td>\\n                  <td>0</td>\\n                  <td>0</td>\\n                  <td>0</td>\\n                  <td>0</td>\\n                  <td>0</td>\\n                  <td>2</td>\\n                  <td>0</td>\\n                <td>2</td>\\n        <td class=\"summary_column\">2</td>\\n\\t\\t<td>0</td>\\n      </tr>\\n\\t  \\n          <tr class=\"on\">\\n        <td class=\"label\">Space Systems</td>\\n                  <td>0</td>\\n                  <td>1</td>\\n                  <td>0</td>\\n                  <td>0</td>\\n                  <td>0</td>\\n                  <td>0</td>\\n                  <td>0</td>\\n                  <td>0</td>\\n                  <td>0</td>\\n                <td>1</td>\\n        <td class=\"summary_column\">1</td>\\n\\t\\t<td>0</td>\\n      </tr>\\n\\t  \\n          <tr>\\n        <td class=\"label\">Systems Engineering</td>\\n                  <td>0</td>\\n                  <td>1</td>\\n                  <td>0</td>\\n                  <td>0</td>\\n                  <td>0</td>\\n                  <td>0</td>\\n                  <td>0</td>\\n                  <td>1</td>\\n                  <td>0</td>\\n                <td>2</td>\\n        <td class=\"summary_column\">2</td>\\n\\t\\t<td>0</td>\\n      </tr>\\n\\t  \\n    \\n    <tr class=\"total\">\\n                  <td class=\"label\">Totals:</td>\\n      \\n      \\n              <td>0</td>\\n              <td>13</td>\\n              <td>2</td>\\n              <td>0</td>\\n              <td>1</td>\\n              <td>1</td>\\n              <td>0</td>\\n              <td>44</td>\\n              <td>1</td>\\n            \\n      \\n      <td>62</td>\\n\\t  <td class=\"summary_column\">60</td>\\n\\t  <td>2</td>\\n    </tr>\\n  </tbody>\\n</table>\\n\\n\\n\\n<p class=\"highlighted\">Degrees By Ethnicity &amp; Gender</p>\\n\\n<table cellspacing=\"0\">\\n  <thead>\\n    <tr>\\n      <th rowspan=\"2\" class=\"label\">Doctoral Degree Program(s)</th>\\n              <th colspan=\"2\" class=\"th_mini\">Nra</th>\\n              <th colspan=\"2\" class=\"th_mini\">Unk</th>\\n              <th colspan=\"2\" class=\"th_mini\">His</th>\\n              <th colspan=\"2\" class=\"th_mini\">Ind</th>\\n              <th colspan=\"2\" class=\"th_mini\">Asi</th>\\n              <th colspan=\"2\" class=\"th_mini\">Blk</th>\\n              <th colspan=\"2\" class=\"th_mini\">Pac</th>\\n              <th colspan=\"2\" class=\"th_mini\">Wht</th>\\n              <th colspan=\"2\" class=\"th_mini\">Two</th>\\n            <th rowspan=\"2\" class=\"th_short\">Tot</th>\\n    </tr>\\n    <tr>\\n              <th>M</th>\\n        <th>F</th>\\n              <th>M</th>\\n        <th>F</th>\\n              <th>M</th>\\n        <th>F</th>\\n              <th>M</th>\\n        <th>F</th>\\n              <th>M</th>\\n        <th>F</th>\\n              <th>M</th>\\n        <th>F</th>\\n              <th>M</th>\\n        <th>F</th>\\n              <th>M</th>\\n        <th>F</th>\\n              <th>M</th>\\n        <th>F</th>\\n          </tr>\\n  </thead>\\n\\n  <tbody>\\n                <tr class=\"on\">\\n        <td class=\"label\">Aeronautical Engineering</td>\\n                  <td>0</td>\\n                  <td>0</td>\\n                  <td>2</td>\\n                  <td>0</td>\\n                  <td>1</td>\\n                  <td>0</td>\\n                  <td>0</td>\\n                  <td>0</td>\\n                  <td>0</td>\\n                  <td>0</td>\\n                  <td>0</td>\\n                  <td>0</td>\\n                  <td>0</td>\\n                  <td>0</td>\\n                  <td>6</td>\\n                  <td>0</td>\\n                  <td>0</td>\\n                  <td>0</td>\\n                <td>9</td>\\n      </tr>\\n      \\n                <tr>\\n        <td class=\"label\">Applied Physics</td>\\n                  <td>0</td>\\n                  <td>0</td>\\n                  <td>1</td>\\n                  <td>0</td>\\n                  <td>0</td>\\n                  <td>0</td>\\n                  <td>0</td>\\n                  <td>0</td>\\n                  <td>0</td>\\n                  <td>0</td>\\n                  <td>0</td>\\n                  <td>0</td>\\n                  <td>0</td>\\n                  <td>0</td>\\n                  <td>8</td>\\n                  <td>0</td>\\n                  <td>0</td>\\n                  <td>0</td>\\n                <td>9</td>\\n      </tr>\\n      \\n                <tr class=\"on\">\\n        <td class=\"label\">Astronautical Engineering </td>\\n                  <td>0</td>\\n                  <td>0</td>\\n                  <td>0</td>\\n                  <td>0</td>\\n                  <td>0</td>\\n                  <td>0</td>\\n                  <td>0</td>\\n                  <td>0</td>\\n                  <td>0</td>\\n                  <td>0</td>\\n                  <td>0</td>\\n                  <td>0</td>\\n                  <td>0</td>\\n                  <td>0</td>\\n                  <td>1</td>\\n                  <td>1</td>\\n                  <td>0</td>\\n                  <td>0</td>\\n                <td>2</td>\\n      </tr>\\n      \\n                <tr>\\n        <td class=\"label\">Computer Engineering</td>\\n                  <td>0</td>\\n                  <td>0</td>\\n                  <td>0</td>\\n                  <td>0</td>\\n                  <td>0</td>\\n                  <td>0</td>\\n                  <td>0</td>\\n                  <td>0</td>\\n                  <td>0</td>\\n                  <td>0</td>\\n                  <td>0</td>\\n                  <td>0</td>\\n                  <td>0</td>\\n                  <td>0</td>\\n                  <td>0</td>\\n                  <td>0</td>\\n                  <td>0</td>\\n                  <td>0</td>\\n                <td>0</td>\\n      </tr>\\n      \\n                <tr class=\"on\">\\n        <td class=\"label\">Computer Science</td>\\n                  <td>0</td>\\n                  <td>0</td>\\n                  <td>3</td>\\n                  <td>0</td>\\n                  <td>0</td>\\n                  <td>0</td>\\n                  <td>0</td>\\n                  <td>0</td>\\n                  <td>0</td>\\n                  <td>0</td>\\n                  <td>1</td>\\n                  <td>0</td>\\n                  <td>0</td>\\n                  <td>0</td>\\n                  <td>4</td>\\n                  <td>0</td>\\n                  <td>0</td>\\n                  <td>0</td>\\n                <td>8</td>\\n      </tr>\\n      \\n                <tr>\\n        <td class=\"label\">Electrical Engineering</td>\\n                  <td>0</td>\\n                  <td>0</td>\\n                  <td>0</td>\\n                  <td>0</td>\\n                  <td>1</td>\\n                  <td>0</td>\\n                  <td>0</td>\\n                  <td>0</td>\\n                  <td>0</td>\\n                  <td>0</td>\\n                  <td>0</td>\\n                  <td>0</td>\\n                  <td>0</td>\\n                  <td>0</td>\\n                  <td>10</td>\\n                  <td>0</td>\\n                  <td>0</td>\\n                  <td>0</td>\\n                <td>11</td>\\n      </tr>\\n      \\n                <tr class=\"on\">\\n        <td class=\"label\">Materials Science </td>\\n                  <td>0</td>\\n                  <td>0</td>\\n                  <td>0</td>\\n                  <td>0</td>\\n                  <td>0</td>\\n                  <td>0</td>\\n                  <td>0</td>\\n                  <td>0</td>\\n                  <td>0</td>\\n                  <td>0</td>\\n                  <td>0</td>\\n                  <td>0</td>\\n                  <td>0</td>\\n                  <td>0</td>\\n                  <td>0</td>\\n                  <td>0</td>\\n                  <td>0</td>\\n                  <td>0</td>\\n                <td>0</td>\\n      </tr>\\n      \\n                <tr>\\n        <td class=\"label\">Mathematics and Statistics</td>\\n                  <td>0</td>\\n                  <td>0</td>\\n                  <td>1</td>\\n                  <td>0</td>\\n                  <td>0</td>\\n                  <td>0</td>\\n                  <td>0</td>\\n                  <td>0</td>\\n                  <td>0</td>\\n                  <td>0</td>\\n                  <td>0</td>\\n                  <td>0</td>\\n                  <td>0</td>\\n                  <td>0</td>\\n                  <td>1</td>\\n                  <td>1</td>\\n                  <td>0</td>\\n                  <td>0</td>\\n                <td>3</td>\\n      </tr>\\n      \\n                <tr class=\"on\">\\n        <td class=\"label\">Nuclear Engineering</td>\\n                  <td>0</td>\\n                  <td>0</td>\\n                  <td>2</td>\\n                  <td>0</td>\\n                  <td>0</td>\\n                  <td>0</td>\\n                  <td>0</td>\\n                  <td>0</td>\\n                  <td>0</td>\\n                  <td>0</td>\\n                  <td>0</td>\\n                  <td>0</td>\\n                  <td>0</td>\\n                  <td>0</td>\\n                  <td>3</td>\\n                  <td>0</td>\\n                  <td>0</td>\\n                  <td>0</td>\\n                <td>5</td>\\n      </tr>\\n      \\n                <tr>\\n        <td class=\"label\">Operations Research</td>\\n                  <td>0</td>\\n                  <td>0</td>\\n                  <td>2</td>\\n                  <td>0</td>\\n                  <td>0</td>\\n                  <td>0</td>\\n                  <td>0</td>\\n                  <td>0</td>\\n                  <td>1</td>\\n                  <td>0</td>\\n                  <td>0</td>\\n                  <td>0</td>\\n                  <td>0</td>\\n                  <td>0</td>\\n                  <td>6</td>\\n                  <td>0</td>\\n                  <td>1</td>\\n                  <td>0</td>\\n                <td>10</td>\\n      </tr>\\n      \\n                <tr class=\"on\">\\n        <td class=\"label\">Optical Science and Engineering</td>\\n                  <td>0</td>\\n                  <td>0</td>\\n                  <td>0</td>\\n                  <td>0</td>\\n                  <td>0</td>\\n                  <td>0</td>\\n                  <td>0</td>\\n                  <td>0</td>\\n                  <td>0</td>\\n                  <td>0</td>\\n                  <td>0</td>\\n                  <td>0</td>\\n                  <td>0</td>\\n                  <td>0</td>\\n                  <td>2</td>\\n                  <td>0</td>\\n                  <td>0</td>\\n                  <td>0</td>\\n                <td>2</td>\\n      </tr>\\n      \\n                <tr>\\n        <td class=\"label\">Space Systems</td>\\n                  <td>0</td>\\n                  <td>0</td>\\n                  <td>1</td>\\n                  <td>0</td>\\n                  <td>0</td>\\n                  <td>0</td>\\n                  <td>0</td>\\n                  <td>0</td>\\n                  <td>0</td>\\n                  <td>0</td>\\n                  <td>0</td>\\n                  <td>0</td>\\n                  <td>0</td>\\n                  <td>0</td>\\n                  <td>0</td>\\n                  <td>0</td>\\n                  <td>0</td>\\n                  <td>0</td>\\n                <td>1</td>\\n      </tr>\\n      \\n                <tr class=\"on\">\\n        <td class=\"label\">Systems Engineering</td>\\n                  <td>0</td>\\n                  <td>0</td>\\n                  <td>1</td>\\n                  <td>0</td>\\n                  <td>0</td>\\n                  <td>0</td>\\n                  <td>0</td>\\n                  <td>0</td>\\n                  <td>0</td>\\n                  <td>0</td>\\n                  <td>0</td>\\n                  <td>0</td>\\n                  <td>0</td>\\n                  <td>0</td>\\n                  <td>1</td>\\n                  <td>0</td>\\n                  <td>0</td>\\n                  <td>0</td>\\n                <td>2</td>\\n      </tr>\\n      \\n    \\n    <tr class=\"total\">\\n                  <td class=\"label\">Totals:</td>\\n              <td>0</td>\\n              <td>0</td>\\n              <td>13</td>\\n              <td>0</td>\\n              <td>2</td>\\n              <td>0</td>\\n              <td>0</td>\\n              <td>0</td>\\n              <td>1</td>\\n              <td>0</td>\\n              <td>1</td>\\n              <td>0</td>\\n              <td>0</td>\\n              <td>0</td>\\n              <td>42</td>\\n              <td>2</td>\\n              <td>1</td>\\n              <td>0</td>\\n            <td>62</td>\\n    </tr>\\n  </tbody>\\n</table>\\n\\n\\n    \\t  \\n\\n<h2>Graduate</h2>\\n\\n<h3>Research Expenditures</h3>\\n\\n<p class=\"highlighted\">Expenditures by Research Department</p>\\n\\n\\n\\t<table class=\"text top\">\\n\\t\\t<tr>\\n\\t\\t\\t<td><strong>Total:</strong> Total number of contracts &amp; grants</td>\\n\\t\\t\\t<td><strong>Fed/Nat:</strong> Federal &amp; National Government contracts specifically budgeted for engineering research purposes.</td>\\n\\t\\t\\t<td><strong>State:</strong> State Government contracts specifically budgeted for engineering research purposes.</td>\\n\\t\\t\\t<td><strong>Foreign:</strong> Foreign Goverment grants and contracts specifically budgeted for engineering research purposes.</td>\\n\\t\\t</tr>\\n\\t\\t<tr>\\n\\t\\t\\t<td><strong>Industry:</strong> Business and Industrial grants, contracts, and gifts used for research.</td>\\n\\t\\t\\t<td><strong>Priv/Non:</strong> Grants, contracts, and gifts from private non-profit organizations (e.g. foundations) used for research.</td>\\n\\t\\t\\t<td><strong>Indiv:</strong> Grants, contracts, and gifts from individuals used for research.</td>\\n\\t\\t\\t<td><strong>Local:</strong> Local government grants and contracts specifically budgeted for engineering research purposes.</td>\\n\\t\\t</tr>\\n\\t</table>\\n\\n\\t<p class=\"center\"><strong>Dollar Amounts by External Funding Source</strong></p>\\n\\n\\t<table class=\"research\" cellpadding=\"0\">\\n\\t<thead>\\n\\t\\t<tr class=\"on\">\\n\\t\\t\\t<th class=\"label\">Engineering Department</th>\\n\\t\\t\\t<th>External Funding Source</th>\\n\\t\\t</tr>\\n\\t</thead>\\n\\t<tbody>\\n\\t\\t<tr>\\n\\t\\t\\t<td class=\"label\">Aeronautical and Astronautical</td>\\n\\t\\t\\t<td>\\n\\t\\t\\t\\t<table>\\n\\t\\t\\t\\t\\t<tr>\\n\\t\\t\\t\\t\\t\\t<td>Total#: </td><td>98</td>\\n\\t\\t\\t\\t\\t\\t<td>Foreign: </td><td>$0</td>\\n\\t\\t\\t\\t\\t\\t<td>Indiv: </td><td></td>\\n\\t\\t\\t\\t\\t</tr>\\n\\t\\t\\t\\t\\t<tr>\\n\\t\\t\\t\\t\\t\\t<td>Fed/Nat: </td><td>$3,247,353</td>\\n\\t\\t\\t\\t\\t\\t<td>Industry: </td><td>$41,926</td>\\n\\t\\t\\t\\t\\t\\t<td>Priv/Non: </td><td></td>\\n\\t\\t\\t\\t\\t</tr>\\n\\t\\t\\t\\t\\t<tr>\\n\\t\\t\\t\\t\\t\\t<td>State: </td><td>$0</td>\\n\\t\\t\\t\\t\\t\\t<td>Local: </td><td></td>\\n\\t\\t\\t\\t\\t\\t<td>Total Expn.: </td><td>$3,289,279</td>\\n\\t\\t\\t\\t\\t</tr>\\n\\t\\t\\t\\t</table>\\n\\t\\t\\t</td>\\n\\t\\t</tr>\\n\\t\\t\\n\\t</tbody>\\n</table>\\n<table class=\"research\" cellpadding=\"0\">\\n\\t<thead>\\n\\t\\t<tr class=\"on\">\\n\\t\\t\\t<th class=\"label\">Engineering Department</th>\\n\\t\\t\\t<th>External Funding Source</th>\\n\\t\\t</tr>\\n\\t</thead>\\n\\t<tbody>\\n\\t\\t<tr>\\n\\t\\t\\t<td class=\"label\">Electrical and Computer Engineering</td>\\n\\t\\t\\t<td>\\n\\t\\t\\t\\t<table>\\n\\t\\t\\t\\t\\t<tr>\\n\\t\\t\\t\\t\\t\\t<td>Total#: </td><td>103</td>\\n\\t\\t\\t\\t\\t\\t<td>Foreign: </td><td>$0</td>\\n\\t\\t\\t\\t\\t\\t<td>Indiv: </td><td>$0</td>\\n\\t\\t\\t\\t\\t</tr>\\n\\t\\t\\t\\t\\t<tr>\\n\\t\\t\\t\\t\\t\\t<td>Fed/Nat: </td><td>$5,701,546</td>\\n\\t\\t\\t\\t\\t\\t<td>Industry: </td><td>$92,086</td>\\n\\t\\t\\t\\t\\t\\t<td>Priv/Non: </td><td>$0</td>\\n\\t\\t\\t\\t\\t</tr>\\n\\t\\t\\t\\t\\t<tr>\\n\\t\\t\\t\\t\\t\\t<td>State: </td><td>$0</td>\\n\\t\\t\\t\\t\\t\\t<td>Local: </td><td>$0</td>\\n\\t\\t\\t\\t\\t\\t<td>Total Expn.: </td><td>$5,793,632</td>\\n\\t\\t\\t\\t\\t</tr>\\n\\t\\t\\t\\t</table>\\n\\t\\t\\t</td>\\n\\t\\t</tr>\\n\\t\\t\\n\\t</tbody>\\n</table>\\n<table class=\"research\" cellpadding=\"0\">\\n\\t<thead>\\n\\t\\t<tr class=\"on\">\\n\\t\\t\\t<th class=\"label\">Engineering Department</th>\\n\\t\\t\\t<th>External Funding Source</th>\\n\\t\\t</tr>\\n\\t</thead>\\n\\t<tbody>\\n\\t\\t<tr>\\n\\t\\t\\t<td class=\"label\">Engineering Physics</td>\\n\\t\\t\\t<td>\\n\\t\\t\\t\\t<table>\\n\\t\\t\\t\\t\\t<tr>\\n\\t\\t\\t\\t\\t\\t<td>Total#: </td><td>97</td>\\n\\t\\t\\t\\t\\t\\t<td>Foreign: </td><td>$0</td>\\n\\t\\t\\t\\t\\t\\t<td>Indiv: </td><td>$0</td>\\n\\t\\t\\t\\t\\t</tr>\\n\\t\\t\\t\\t\\t<tr>\\n\\t\\t\\t\\t\\t\\t<td>Fed/Nat: </td><td>$5,735,453</td>\\n\\t\\t\\t\\t\\t\\t<td>Industry: </td><td>$100,122</td>\\n\\t\\t\\t\\t\\t\\t<td>Priv/Non: </td><td>$0</td>\\n\\t\\t\\t\\t\\t</tr>\\n\\t\\t\\t\\t\\t<tr>\\n\\t\\t\\t\\t\\t\\t<td>State: </td><td>$0</td>\\n\\t\\t\\t\\t\\t\\t<td>Local: </td><td>$0</td>\\n\\t\\t\\t\\t\\t\\t<td>Total Expn.: </td><td>$5,835,575</td>\\n\\t\\t\\t\\t\\t</tr>\\n\\t\\t\\t\\t</table>\\n\\t\\t\\t</td>\\n\\t\\t</tr>\\n\\t\\t\\n\\t</tbody>\\n</table>\\n<table class=\"research\" cellpadding=\"0\">\\n\\t<thead>\\n\\t\\t<tr class=\"on\">\\n\\t\\t\\t<th class=\"label\">Engineering Department</th>\\n\\t\\t\\t<th>External Funding Source</th>\\n\\t\\t</tr>\\n\\t</thead>\\n\\t<tbody>\\n\\t\\t<tr>\\n\\t\\t\\t<td class=\"label\">Mathematics and Statistics</td>\\n\\t\\t\\t<td>\\n\\t\\t\\t\\t<table>\\n\\t\\t\\t\\t\\t<tr>\\n\\t\\t\\t\\t\\t\\t<td>Total#: </td><td>19</td>\\n\\t\\t\\t\\t\\t\\t<td>Foreign: </td><td>$0</td>\\n\\t\\t\\t\\t\\t\\t<td>Indiv: </td><td></td>\\n\\t\\t\\t\\t\\t</tr>\\n\\t\\t\\t\\t\\t<tr>\\n\\t\\t\\t\\t\\t\\t<td>Fed/Nat: </td><td>$544,521</td>\\n\\t\\t\\t\\t\\t\\t<td>Industry: </td><td>$0</td>\\n\\t\\t\\t\\t\\t\\t<td>Priv/Non: </td><td>$0</td>\\n\\t\\t\\t\\t\\t</tr>\\n\\t\\t\\t\\t\\t<tr>\\n\\t\\t\\t\\t\\t\\t<td>State: </td><td>$0</td>\\n\\t\\t\\t\\t\\t\\t<td>Local: </td><td></td>\\n\\t\\t\\t\\t\\t\\t<td>Total Expn.: </td><td>$544,521</td>\\n\\t\\t\\t\\t\\t</tr>\\n\\t\\t\\t\\t</table>\\n\\t\\t\\t</td>\\n\\t\\t</tr>\\n\\t\\t\\n\\t</tbody>\\n</table>\\n<table class=\"research\" cellpadding=\"0\">\\n\\t<thead>\\n\\t\\t<tr class=\"on\">\\n\\t\\t\\t<th class=\"label\">Engineering Department</th>\\n\\t\\t\\t<th>External Funding Source</th>\\n\\t\\t</tr>\\n\\t</thead>\\n\\t<tbody>\\n\\t\\t<tr>\\n\\t\\t\\t<td class=\"label\">Operational Sciences</td>\\n\\t\\t\\t<td>\\n\\t\\t\\t\\t<table>\\n\\t\\t\\t\\t\\t<tr>\\n\\t\\t\\t\\t\\t\\t<td>Total#: </td><td>52</td>\\n\\t\\t\\t\\t\\t\\t<td>Foreign: </td><td></td>\\n\\t\\t\\t\\t\\t\\t<td>Indiv: </td><td>$0</td>\\n\\t\\t\\t\\t\\t</tr>\\n\\t\\t\\t\\t\\t<tr>\\n\\t\\t\\t\\t\\t\\t<td>Fed/Nat: </td><td>$7,043,790</td>\\n\\t\\t\\t\\t\\t\\t<td>Industry: </td><td>$32,000</td>\\n\\t\\t\\t\\t\\t\\t<td>Priv/Non: </td><td>$0</td>\\n\\t\\t\\t\\t\\t</tr>\\n\\t\\t\\t\\t\\t<tr>\\n\\t\\t\\t\\t\\t\\t<td>State: </td><td></td>\\n\\t\\t\\t\\t\\t\\t<td>Local: </td><td></td>\\n\\t\\t\\t\\t\\t\\t<td>Total Expn.: </td><td>$7,075,790</td>\\n\\t\\t\\t\\t\\t</tr>\\n\\t\\t\\t\\t</table>\\n\\t\\t\\t</td>\\n\\t\\t</tr>\\n\\t\\t\\n\\t</tbody>\\n</table>\\n<table class=\"research\" cellpadding=\"0\">\\n\\t<thead>\\n\\t\\t<tr class=\"on\">\\n\\t\\t\\t<th class=\"label\">Engineering Department</th>\\n\\t\\t\\t<th>External Funding Source</th>\\n\\t\\t</tr>\\n\\t</thead>\\n\\t<tbody>\\n\\t\\t<tr>\\n\\t\\t\\t<td class=\"label\">Systems Engineering and Management</td>\\n\\t\\t\\t<td>\\n\\t\\t\\t\\t<table>\\n\\t\\t\\t\\t\\t<tr>\\n\\t\\t\\t\\t\\t\\t<td>Total#: </td><td>26</td>\\n\\t\\t\\t\\t\\t\\t<td>Foreign: </td><td></td>\\n\\t\\t\\t\\t\\t\\t<td>Indiv: </td><td></td>\\n\\t\\t\\t\\t\\t</tr>\\n\\t\\t\\t\\t\\t<tr>\\n\\t\\t\\t\\t\\t\\t<td>Fed/Nat: </td><td>$1,030,005</td>\\n\\t\\t\\t\\t\\t\\t<td>Industry: </td><td>$44,136</td>\\n\\t\\t\\t\\t\\t\\t<td>Priv/Non: </td><td>$0</td>\\n\\t\\t\\t\\t\\t</tr>\\n\\t\\t\\t\\t\\t<tr>\\n\\t\\t\\t\\t\\t\\t<td>State: </td><td>$0</td>\\n\\t\\t\\t\\t\\t\\t<td>Local: </td><td></td>\\n\\t\\t\\t\\t\\t\\t<td>Total Expn.: </td><td>$1,074,141</td>\\n\\t\\t\\t\\t\\t</tr>\\n\\t\\t\\t\\t</table>\\n\\t\\t\\t</td>\\n\\t\\t</tr>\\n\\t\\t\\n\\t</tbody>\\n</table>\\n\\n\\t\\t<table class=\"research\">\\n\\t\\t<tr>\\n\\t\\t\\t<td class=\"label\"><strong>Totals:</strong></td>\\n\\t\\t\\t<td>\\n\\t\\t\\t\\t<table>\\n\\t\\t\\t\\t\\t<tr>\\n\\t\\t\\t\\t\\t\\t<td><strong>Total#:</strong> </td><td>395</td>\\n\\t\\t\\t\\t\\t\\t<td><strong>Foreign:</strong> </td><td>$0</td>\\n\\t\\t\\t\\t\\t\\t<td><strong>Indiv:</strong> </td><td>$0</td>\\n\\t\\t\\t\\t\\t</tr>\\n\\t\\t\\t\\t\\t<tr>\\n\\t\\t\\t\\t\\t\\t<td><strong>Fed/Nat:</strong> </td><td>$23,302,668</td>\\n\\t\\t\\t\\t\\t\\t<td><strong>Industry:</strong> </td><td>$310,270</td>\\n\\t\\t\\t\\t\\t\\t<td><strong>Priv/Non:</strong> </td><td>$0</td>\\n\\t\\t\\t\\t\\t</tr>\\n\\t\\t\\t\\t\\t<tr>\\n\\t\\t\\t\\t\\t\\t<td><strong>State:</strong> </td><td>$0</td>\\n\\t\\t\\t\\t\\t\\t<td><strong>Local:</strong> </td><td>$0</td>\\n\\t\\t\\t\\t\\t\\t<td><strong>Total Expn.:</strong> </td><td>$23,612,938</td>\\n\\t\\t\\t\\t\\t</tr>\\n\\t\\t\\t\\t</table>\\n\\t\\t\\t</td>\\n\\t\\t</tr>\\n\\t</table>\\n\\t\\n \\n\\n\\n<p class=\"highlighted\">Expenditures by Research Center</p>\\n\\n\\n\\t<table class=\"text top\">\\n\\t\\t<tr>\\n\\t\\t\\t<td><strong>Total:</strong> Total number of contracts &amp; grants</td>\\n\\t\\t\\t<td><strong>Fed/Nat:</strong> Federal &amp; National Government contracts specifically budgeted for engineering research purposes.</td>\\n\\t\\t\\t<td><strong>State:</strong> State Government contracts specifically budgeted for engineering research purposes.</td>\\n\\t\\t\\t<td><strong>Foreign:</strong> Foreign Goverment grants and contracts specifically budgeted for engineering research purposes.</td>\\n\\t\\t</tr>\\n\\t\\t<tr>\\n\\t\\t\\t<td><strong>Industry:</strong> Business and Industrial grants, contracts, and gifts used for research.</td>\\n\\t\\t\\t<td><strong>Priv/Non:</strong> Grants, contracts, and gifts from private non-profit organizations (e.g. foundations) used for research.</td>\\n\\t\\t\\t<td><strong>Indiv:</strong> Grants, contracts, and gifts from individuals used for research.</td>\\n\\t\\t\\t<td><strong>Local:</strong> Local government grants and contracts specifically budgeted for engineering research purposes.</td>\\n\\t\\t</tr>\\n\\t</table>\\n\\n\\t<p class=\"center\"><strong>Dollar Amounts by External Funding Source</strong></p>\\n\\n\\t<table class=\"research\" cellpadding=\"0\">\\n\\t<thead>\\n\\t\\t<tr class=\"on\">\\n\\t\\t\\t<th class=\"label\">Center/Lab</th>\\n\\t\\t\\t<th>External Funding Source</th>\\n\\t\\t</tr>\\n\\t</thead>\\n\\t<tbody>\\n\\t\\t<tr>\\n\\t\\t\\t<td class=\"label\">Advanced Navigation Technology</td>\\n\\t\\t\\t<td>\\n\\t\\t\\t\\t<table>\\n\\t\\t\\t\\t\\t<tr>\\n\\t\\t\\t\\t\\t\\t<td>Total#: </td><td>55</td>\\n\\t\\t\\t\\t\\t\\t<td>Foreign: </td><td></td>\\n\\t\\t\\t\\t\\t\\t<td>Indiv: </td><td></td>\\n\\t\\t\\t\\t\\t</tr>\\n\\t\\t\\t\\t\\t<tr>\\n\\t\\t\\t\\t\\t\\t<td>Fed/Nat: </td><td>$4,075,194</td>\\n\\t\\t\\t\\t\\t\\t<td>Industry: </td><td>$92,086</td>\\n\\t\\t\\t\\t\\t\\t<td>Priv/Non: </td><td></td>\\n\\t\\t\\t\\t\\t</tr>\\n\\t\\t\\t\\t\\t<tr>\\n\\t\\t\\t\\t\\t\\t<td>State: </td><td></td>\\n\\t\\t\\t\\t\\t\\t<td>Local: </td><td></td>\\n\\t\\t\\t\\t\\t\\t<td>Total Expn.: </td><td>$4,167,280</td>\\n\\t\\t\\t\\t\\t</tr>\\n\\t\\t\\t\\t</table>\\n\\t\\t\\t</td>\\n\\t\\t</tr>\\n\\t\\t\\n\\t</tbody>\\n</table>\\n<table class=\"research\" cellpadding=\"0\">\\n\\t<thead>\\n\\t\\t<tr class=\"on\">\\n\\t\\t\\t<th class=\"label\">Center/Lab</th>\\n\\t\\t\\t<th>External Funding Source</th>\\n\\t\\t</tr>\\n\\t</thead>\\n\\t<tbody>\\n\\t\\t<tr>\\n\\t\\t\\t<td class=\"label\">Center for Cyberspace Research</td>\\n\\t\\t\\t<td>\\n\\t\\t\\t\\t<table>\\n\\t\\t\\t\\t\\t<tr>\\n\\t\\t\\t\\t\\t\\t<td>Total#: </td><td>26</td>\\n\\t\\t\\t\\t\\t\\t<td>Foreign: </td><td></td>\\n\\t\\t\\t\\t\\t\\t<td>Indiv: </td><td></td>\\n\\t\\t\\t\\t\\t</tr>\\n\\t\\t\\t\\t\\t<tr>\\n\\t\\t\\t\\t\\t\\t<td>Fed/Nat: </td><td>$936,031</td>\\n\\t\\t\\t\\t\\t\\t<td>Industry: </td><td>$0</td>\\n\\t\\t\\t\\t\\t\\t<td>Priv/Non: </td><td></td>\\n\\t\\t\\t\\t\\t</tr>\\n\\t\\t\\t\\t\\t<tr>\\n\\t\\t\\t\\t\\t\\t<td>State: </td><td></td>\\n\\t\\t\\t\\t\\t\\t<td>Local: </td><td></td>\\n\\t\\t\\t\\t\\t\\t<td>Total Expn.: </td><td>$936,031</td>\\n\\t\\t\\t\\t\\t</tr>\\n\\t\\t\\t\\t</table>\\n\\t\\t\\t</td>\\n\\t\\t</tr>\\n\\t\\t\\n\\t</tbody>\\n</table>\\n<table class=\"research\" cellpadding=\"0\">\\n\\t<thead>\\n\\t\\t<tr class=\"on\">\\n\\t\\t\\t<th class=\"label\">Center/Lab</th>\\n\\t\\t\\t<th>External Funding Source</th>\\n\\t\\t</tr>\\n\\t</thead>\\n\\t<tbody>\\n\\t\\t<tr>\\n\\t\\t\\t<td class=\"label\">Center for Directed Energy</td>\\n\\t\\t\\t<td>\\n\\t\\t\\t\\t<table>\\n\\t\\t\\t\\t\\t<tr>\\n\\t\\t\\t\\t\\t\\t<td>Total#: </td><td>35</td>\\n\\t\\t\\t\\t\\t\\t<td>Foreign: </td><td></td>\\n\\t\\t\\t\\t\\t\\t<td>Indiv: </td><td></td>\\n\\t\\t\\t\\t\\t</tr>\\n\\t\\t\\t\\t\\t<tr>\\n\\t\\t\\t\\t\\t\\t<td>Fed/Nat: </td><td>$2,699,150</td>\\n\\t\\t\\t\\t\\t\\t<td>Industry: </td><td>$100,122</td>\\n\\t\\t\\t\\t\\t\\t<td>Priv/Non: </td><td></td>\\n\\t\\t\\t\\t\\t</tr>\\n\\t\\t\\t\\t\\t<tr>\\n\\t\\t\\t\\t\\t\\t<td>State: </td><td></td>\\n\\t\\t\\t\\t\\t\\t<td>Local: </td><td></td>\\n\\t\\t\\t\\t\\t\\t<td>Total Expn.: </td><td>$2,799,272</td>\\n\\t\\t\\t\\t\\t</tr>\\n\\t\\t\\t\\t</table>\\n\\t\\t\\t</td>\\n\\t\\t</tr>\\n\\t\\t\\n\\t</tbody>\\n</table>\\n<table class=\"research\" cellpadding=\"0\">\\n\\t<thead>\\n\\t\\t<tr class=\"on\">\\n\\t\\t\\t<th class=\"label\">Center/Lab</th>\\n\\t\\t\\t<th>External Funding Source</th>\\n\\t\\t</tr>\\n\\t</thead>\\n\\t<tbody>\\n\\t\\t<tr>\\n\\t\\t\\t<td class=\"label\">Center for Operational Analysis</td>\\n\\t\\t\\t<td>\\n\\t\\t\\t\\t<table>\\n\\t\\t\\t\\t\\t<tr>\\n\\t\\t\\t\\t\\t\\t<td>Total#: </td><td>28</td>\\n\\t\\t\\t\\t\\t\\t<td>Foreign: </td><td></td>\\n\\t\\t\\t\\t\\t\\t<td>Indiv: </td><td></td>\\n\\t\\t\\t\\t\\t</tr>\\n\\t\\t\\t\\t\\t<tr>\\n\\t\\t\\t\\t\\t\\t<td>Fed/Nat: </td><td>$3,198,244</td>\\n\\t\\t\\t\\t\\t\\t<td>Industry: </td><td></td>\\n\\t\\t\\t\\t\\t\\t<td>Priv/Non: </td><td></td>\\n\\t\\t\\t\\t\\t</tr>\\n\\t\\t\\t\\t\\t<tr>\\n\\t\\t\\t\\t\\t\\t<td>State: </td><td></td>\\n\\t\\t\\t\\t\\t\\t<td>Local: </td><td></td>\\n\\t\\t\\t\\t\\t\\t<td>Total Expn.: </td><td>$3,198,244</td>\\n\\t\\t\\t\\t\\t</tr>\\n\\t\\t\\t\\t</table>\\n\\t\\t\\t</td>\\n\\t\\t</tr>\\n\\t\\t\\n\\t</tbody>\\n</table>\\n<table class=\"research\" cellpadding=\"0\">\\n\\t<thead>\\n\\t\\t<tr class=\"on\">\\n\\t\\t\\t<th class=\"label\">Center/Lab</th>\\n\\t\\t\\t<th>External Funding Source</th>\\n\\t\\t</tr>\\n\\t</thead>\\n\\t<tbody>\\n\\t\\t<tr>\\n\\t\\t\\t<td class=\"label\">Center for Space Research and Assurance</td>\\n\\t\\t\\t<td>\\n\\t\\t\\t\\t<table>\\n\\t\\t\\t\\t\\t<tr>\\n\\t\\t\\t\\t\\t\\t<td>Total#: </td><td>53</td>\\n\\t\\t\\t\\t\\t\\t<td>Foreign: </td><td></td>\\n\\t\\t\\t\\t\\t\\t<td>Indiv: </td><td></td>\\n\\t\\t\\t\\t\\t</tr>\\n\\t\\t\\t\\t\\t<tr>\\n\\t\\t\\t\\t\\t\\t<td>Fed/Nat: </td><td>$2,347,029</td>\\n\\t\\t\\t\\t\\t\\t<td>Industry: </td><td></td>\\n\\t\\t\\t\\t\\t\\t<td>Priv/Non: </td><td></td>\\n\\t\\t\\t\\t\\t</tr>\\n\\t\\t\\t\\t\\t<tr>\\n\\t\\t\\t\\t\\t\\t<td>State: </td><td></td>\\n\\t\\t\\t\\t\\t\\t<td>Local: </td><td></td>\\n\\t\\t\\t\\t\\t\\t<td>Total Expn.: </td><td>$2,347,029</td>\\n\\t\\t\\t\\t\\t</tr>\\n\\t\\t\\t\\t</table>\\n\\t\\t\\t</td>\\n\\t\\t</tr>\\n\\t\\t\\n\\t</tbody>\\n</table>\\n<table class=\"research\" cellpadding=\"0\">\\n\\t<thead>\\n\\t\\t<tr class=\"on\">\\n\\t\\t\\t<th class=\"label\">Center/Lab</th>\\n\\t\\t\\t<th>External Funding Source</th>\\n\\t\\t</tr>\\n\\t</thead>\\n\\t<tbody>\\n\\t\\t<tr>\\n\\t\\t\\t<td class=\"label\">Center for Technical Intelligence Studies and Research</td>\\n\\t\\t\\t<td>\\n\\t\\t\\t\\t<table>\\n\\t\\t\\t\\t\\t<tr>\\n\\t\\t\\t\\t\\t\\t<td>Total#: </td><td>26</td>\\n\\t\\t\\t\\t\\t\\t<td>Foreign: </td><td></td>\\n\\t\\t\\t\\t\\t\\t<td>Indiv: </td><td></td>\\n\\t\\t\\t\\t\\t</tr>\\n\\t\\t\\t\\t\\t<tr>\\n\\t\\t\\t\\t\\t\\t<td>Fed/Nat: </td><td>$1,633,097</td>\\n\\t\\t\\t\\t\\t\\t<td>Industry: </td><td></td>\\n\\t\\t\\t\\t\\t\\t<td>Priv/Non: </td><td></td>\\n\\t\\t\\t\\t\\t</tr>\\n\\t\\t\\t\\t\\t<tr>\\n\\t\\t\\t\\t\\t\\t<td>State: </td><td></td>\\n\\t\\t\\t\\t\\t\\t<td>Local: </td><td></td>\\n\\t\\t\\t\\t\\t\\t<td>Total Expn.: </td><td>$1,633,097</td>\\n\\t\\t\\t\\t\\t</tr>\\n\\t\\t\\t\\t</table>\\n\\t\\t\\t</td>\\n\\t\\t</tr>\\n\\t\\t\\n\\t</tbody>\\n</table>\\n<table class=\"research\" cellpadding=\"0\">\\n\\t<thead>\\n\\t\\t<tr class=\"on\">\\n\\t\\t\\t<th class=\"label\">Center/Lab</th>\\n\\t\\t\\t<th>External Funding Source</th>\\n\\t\\t</tr>\\n\\t</thead>\\n\\t<tbody>\\n\\t\\t<tr>\\n\\t\\t\\t<td class=\"label\">Scientific Test and Analysis Techniques in Test and Evaluation Center of Excellence</td>\\n\\t\\t\\t<td>\\n\\t\\t\\t\\t<table>\\n\\t\\t\\t\\t\\t<tr>\\n\\t\\t\\t\\t\\t\\t<td>Total#: </td><td>0</td>\\n\\t\\t\\t\\t\\t\\t<td>Foreign: </td><td></td>\\n\\t\\t\\t\\t\\t\\t<td>Indiv: </td><td></td>\\n\\t\\t\\t\\t\\t</tr>\\n\\t\\t\\t\\t\\t<tr>\\n\\t\\t\\t\\t\\t\\t<td>Fed/Nat: </td><td>$0</td>\\n\\t\\t\\t\\t\\t\\t<td>Industry: </td><td></td>\\n\\t\\t\\t\\t\\t\\t<td>Priv/Non: </td><td></td>\\n\\t\\t\\t\\t\\t</tr>\\n\\t\\t\\t\\t\\t<tr>\\n\\t\\t\\t\\t\\t\\t<td>State: </td><td></td>\\n\\t\\t\\t\\t\\t\\t<td>Local: </td><td></td>\\n\\t\\t\\t\\t\\t\\t<td>Total Expn.: </td><td>$0</td>\\n\\t\\t\\t\\t\\t</tr>\\n\\t\\t\\t\\t</table>\\n\\t\\t\\t</td>\\n\\t\\t</tr>\\n\\t\\t\\n\\t</tbody>\\n</table>\\n\\n\\t\\t<table class=\"research\">\\n\\t\\t<tr>\\n\\t\\t\\t<td class=\"label\"><strong>Totals:</strong></td>\\n\\t\\t\\t<td>\\n\\t\\t\\t\\t<table>\\n\\t\\t\\t\\t\\t<tr>\\n\\t\\t\\t\\t\\t\\t<td><strong>Total#:</strong> </td><td>0</td>\\n\\t\\t\\t\\t\\t\\t<td><strong>Foreign:</strong> </td><td>$0</td>\\n\\t\\t\\t\\t\\t\\t<td><strong>Indiv:</strong> </td><td>$0</td>\\n\\t\\t\\t\\t\\t</tr>\\n\\t\\t\\t\\t\\t<tr>\\n\\t\\t\\t\\t\\t\\t<td><strong>Fed/Nat:</strong> </td><td>$0</td>\\n\\t\\t\\t\\t\\t\\t<td><strong>Industry:</strong> </td><td>$0</td>\\n\\t\\t\\t\\t\\t\\t<td><strong>Priv/Non:</strong> </td><td>$0</td>\\n\\t\\t\\t\\t\\t</tr>\\n\\t\\t\\t\\t\\t<tr>\\n\\t\\t\\t\\t\\t\\t<td><strong>State:</strong> </td><td>$0</td>\\n\\t\\t\\t\\t\\t\\t<td><strong>Local:</strong> </td><td>$0</td>\\n\\t\\t\\t\\t\\t\\t<td><strong>Total Expn.:</strong> </td><td>$0</td>\\n\\t\\t\\t\\t\\t</tr>\\n\\t\\t\\t\\t</table>\\n\\t\\t\\t</td>\\n\\t\\t</tr>\\n\\t</table>\\n\\t\\n \\n\\n \\n\\n<br/><br/>\\n\\n\\t<table class=\"research\">\\n\\t\\t<tr>\\n\\t\\t\\t<td class=\"label\"><strong>Grand Totals:</strong></td>\\n\\t\\t\\t<td>\\n\\t\\t\\t\\t<table>\\n\\t\\t\\t\\t\\t<tr>\\n\\t\\t\\t\\t\\t\\t<td><strong>Total#:</strong> </td><td>395</td>\\n\\t\\t\\t\\t\\t\\t<td><strong>Foreign:</strong> </td><td>$0</td>\\n\\t\\t\\t\\t\\t\\t<td><strong>Indiv:</strong> </td><td>$0</td>\\n\\t\\t\\t\\t\\t</tr>\\n\\t\\t\\t\\t\\t<tr>\\n\\t\\t\\t\\t\\t\\t<td><strong>Fed/Nat:</strong> </td><td>$23,302,668</td>\\n\\t\\t\\t\\t\\t\\t<td><strong>Industry:</strong> </td><td>$310,270</td>\\n\\t\\t\\t\\t\\t\\t<td><strong>Priv/Non:</strong> </td><td>$0</td>\\n\\t\\t\\t\\t\\t</tr>\\n\\t\\t\\t\\t\\t<tr>\\n\\t\\t\\t\\t\\t\\t<td><strong>State:</strong> </td><td>$0</td>\\n\\t\\t\\t\\t\\t\\t<td><strong>Local:</strong> </td><td>$0</td>\\n\\t\\t\\t\\t\\t\\t<td><strong>Total Expn.:</strong> </td><td>$23,612,938</td>\\n\\t\\t\\t\\t\\t</tr>\\n\\t\\t\\t\\t</table>\\n\\t\\t\\t</td>\\n\\t\\t</tr>\\n\\t</table>\\n\\n\\t<p class=\"center\"><strong>The following text was offered to each school as a guideline for the calculation of externally-funded research expenditures:</strong></p>\\n\\n\\t<p>Include all expenditures associated with grants and contracts specifically budgeted for externally sponsored research and associated programs and expenditures associated with all gifts auditably used for research. Include expended funds provided by the following external sources:</p>\\n\\t<ol>\\n\\t\\t<li>Federal Government</li>\\n\\t\\t<li>State Government</li>\\n\\t\\t<li>Foreign Governments</li>\\n\\t\\t<li>Industry</li>\\n\\t\\t<li>Non-Profit Organizations (e.g. foundations)</li>\\n\\t\\t<li>Individuals</li>\\n\\t\\t<li>Local Government</li>\\n\\t</ol>\\n\\n\\t<p class=\"red\">The expenditures reported should be only those funds provided by organizations, agencies, and individuals external to the institution. Cost sharing/matching funds should be included only if provided from sources external to the institution.</p>\\n\\n\\t<p>Only State government funds that were obtained competitively or as matching funds associated with other externally funded programs should be included. State funds that are part of the normal operating budget should not be included regardless of purpose.</p>\\n\\n\\t<p>For all joint or contracted projects or sub-projects, only the portion of the center research performed by faculty, staff, and students of the affiliated engineering school should be credited to that school. Expenditures for capital costs of research laboratory building construction should not be included.</p>\\n\\n\\t<p>Expenditures for research laboratory renovations should not be included unless the renovation funds expended came from grants and contracts expressly intended for the direct support of engineering research.</p>\\n\\n\\t<p>Any portion of academic year and/or summer salary for any researcher that is not derived from external research grants or contracts should not be counted.</p>\\n\\n\\t<p>Total #: Report total number of individual grants, not the total dollar amount of the expenditures.</p>\\n\\n\\t<p>Expenditures: Report actual expenditures (as opposed to authorization amounts) in U.S. dollars.</p>\\n\\n\\t<p>Time frame for expenditures: Report expenditures for your current fiscal year.</p>\\n\\n\\t<p>Research centers listed as \"WITHIN an engineering department\" on the Research Centers page (screen 7) of the College of Engineering Profile, will not have their expenditures added to the school\\'s total research expenditures. Such expenditures can be included in the department total, while still being listed for the appropriate center. This allows users to list the expenditures in two areas without double-counting.</p>\\n\\n\\n    \\t  <h2>Graduate</h2>\\n\\n<h3>Research Description</h3>\\n\\n<p class=\"highlighted\">Research Description By Graduate Engineering Department</p> \\n\\n<dl class=\"structural\">\\n\\t\\t\\t\\t\\t<dt>Aeronautical and Astronautical</dt>\\n\\t    <dd><p>Analysis of Aerospace Aerodynamics; Analysis of Aerospace Structures; Theory and Applications of Composite Materials; Dynamics and Control of Flight Vehicles; Computational Fluid Dynamics; Analysis of Aerospace Dynamics, Space Vehicle Dynamics and Control</p></dd>\\n\\t\\t  \\t\\t\\t\\t\\t<dt>Electrical and Computer Engineering</dt>\\n\\t    <dd><p>Guidance, Navigation, and Control; Radar and Communications Systems; Micro-Electrical Mechanical Systems; VSLI and Nanotechnology; Electro-optics and Directed Energy Systems; WI Electromagnetics and Low Observable Technology; Signal and Image Processing, Pattern Recognition and Artificial Intelligence; Software Engineering; Computer Communication Networks; High Performance Computing and Computer Security, Information Warfare, and Cyber Operations</p></dd>\\n\\t\\t  \\t\\t\\t\\t\\t<dt>Engineering Physics</dt>\\n\\t    <dd><p>Lasers, Optical, and Directed Energy Systems; Electronic & Photonic Materials and Devices; Nuclear Engineering; Nuclear Weapon Effects; Space and Atmospheric Physics; Counterproliferation of Weapons of Mass Destruction; Measurement and Signature Intelligence, Remote Sensing</p></dd>\\n\\t\\t  \\t\\t\\t\\t\\t<dt>Mathematics and Statistics</dt>\\n\\t    <dd><p>Design of Experiments; Information Fusion; Numerical Analysis; Wave Propagation; Wavelet Analysis; Biostatistics; Bayesian Statistics; Nonlinear Waves; Numerical Solutions of Partial Differential Equations</p></dd>\\n\\t\\t  \\t\\t\\t\\t\\t<dt>Operational Sciences</dt>\\n\\t    <dd><p>Applied Statistics; Behavior Modeling; Campaign Planning and Execution; Cost Analysis; Decision and Risk Analysis; Cost and Schedule Estimating; Data Envelopment Analysis; Discrete Optimization and Heuristics; Dynamic Programming; Economic Decision Analysis; Facility Location Modeling; Forecasting; Game Theory; Genetic Algorithms; Human Resource Management; Information Operations and Warfare; Information Technologies; Inventory Models; Inventory Optimization; Irregular Warfare; Mathematical Modeling, Mathematical Programming; Modeling Simulation and Forecasting, Multivariate Data Analysis; Network Models; Neural Networks; Nonlinear Optimization; Operations Research and Analysis; Optimization; Organizational Behavior; Organizational Change and Transformation; Organizational Culture; Organizational Performance Measurement; Organizational Policy and Strategy; Organizational Transformation & Development; Pattern Recognition and Combat Identification; Public Policy Analysis; Queuing; Radio Frequency Identification; Reliability and Maintainability; Risk Analysis; Simulation and Modeling Analysis; Space Operations; Statistical Analysis and Process Control; Scheduling;  Stochastic and Empirical Modeling; Strategic Purchasing; Supply Chain Management; Tabu Search; Transportation and Strategic Mobility; Utility Theory; Vehicle Routing and Scheduling</p></dd>\\n\\t\\t  \\t\\t\\t\\t\\t<dt>Systems Engineering and Management</dt>\\n\\t    <dd><p>Environmental Remediation; Systems Dynamics Analysis; Engineering Management; Groundwater Hydrology and Contaminant Transport; Cost Analysis; Information Resource Management; Information Assurance; Knowledge Management; Project Management; Product Development; R&D Management; Organizational Transformation; Organizational Development; Organizational Performance Measurement; Training Effectiveness; Human Resource Management; Organizational Behavior & Leadership; Learning Curve Modeling; Fuels Microbiology; Modeling Chemical Transport; Statistical Methods for Design; Secure Computing; Cyber Security & Warfare; Reliability Engineering; Systems Sustainability; Systems Architecture Modeling </p></dd>\\n\\t\\t  \\t</dl>\\n\\n<p class=\"highlighted\">Research Description By Engineering Research Center</p>\\n\\n<dl class=\"structural\">\\n\\t\\t\\t\\t\\t<dt>Advanced Navigation Technology</dt>\\n\\t    <dd><p>Multiple-Vehicle Autonomous Navigation and Control; Non-GPS Precision Navigation; Robust GPS navigation</p></dd>\\n\\t\\t  \\t\\t\\t\\t\\t<dt>Center for Cyberspace Research</dt>\\n\\t    <dd><p>Computer Network Operations (attack, defense, exploitation); Network Security; Cryptography; Digital Forensics; Malicious Software Analysis; Software Protection and Anti-Tamper; Intrusion Detection/Prevention; Threat and Vulnerability Analysis; Information Warfare/Operations</p></dd>\\n\\t\\t  \\t\\t\\t\\t\\t<dt>Center for Directed Energy</dt>\\n\\t    <dd><p>Photonic Devices; Chemical Laser Development and Diagnostics; Imaging; High Power Microwaves; Remote Sensing, Ultrafast Laser Spectroscopy; High Energy Lasers; Adaptive Optics and Propagation; Atmospheric Effects; Laser Communications Effects and Optimization; Beam Control</p></dd>\\n\\t\\t  \\t\\t\\t\\t\\t<dt>Center for Operational Analysis</dt>\\n\\t    <dd><p>Automatic Target Recognition/Combat Identification; Combat Modeling; Logistics Modeling and Analysis; Mobility Modeling; Personal Readiness Analysis; Test and Evaluation</p></dd>\\n\\t\\t  \\t\\t\\t\\t\\t<dt>Center for Space Research and Assurance</dt>\\n\\t    <dd><p>Propulsion; Communications; Structures; Carbon Nano-tubes; SHM;Responsive Orbits; Mission Planning and Modeling; RFINT; PNT; Astrodynamics; Space Systems Architectures; Optimal Controls</p></dd>\\n\\t\\t  \\t\\t\\t\\t\\t<dt>Center for Technical Intelligence Studies and Research</dt>\\n\\t    <dd><p>Remote Sensing: Hyperspectral Imaging; Synthetic Apenture Radar</p></dd>\\n\\t\\t  \\t\\t\\t  \\t</dl>\\n    \\t  <h2>Graduate</h2>\\n\\n<h3>Subject Areas of Research</h3>\\n\\n<p class=\"highlighted\">Subject Areas</p>\\n\\n<ul class=\"no_bullets\">\\n\\t\\t<li>Aerodynamics</li>\\n\\t\\t<li>Aeroelasticity</li>\\n\\t\\t<li>Aircraft Design</li>\\n\\t\\t<li>Aircraft Handling Qualities</li>\\n\\t\\t<li>Analog & Digital Communications</li>\\n\\t\\t<li>Applied Statistics</li>\\n\\t\\t<li>Artificial Intelligence</li>\\n\\t\\t<li>Atmospheric and Space Physics</li>\\n\\t\\t<li>Autonomous Collision Avoidance for UAV\\'s</li>\\n\\t\\t<li>Bayesian Statistics</li>\\n\\t\\t<li>Bioreactors for Air Pollution Controls</li>\\n\\t\\t<li>Bioremediation of Groundwater Contaminants</li>\\n\\t\\t<li>Biostatistics</li>\\n\\t\\t<li>Campaign Planning</li>\\n\\t\\t<li>Chemical Kinetics</li>\\n\\t\\t<li>Civil Engineering Infrastructure</li>\\n\\t\\t<li>Cloud Physics</li>\\n\\t\\t<li>Combat Modeling</li>\\n\\t\\t<li>Combustor and Combustion</li>\\n\\t\\t<li>Communications</li>\\n\\t\\t<li>Compensated Imaging System</li>\\n\\t\\t<li>Complex Adaptive Agents</li>\\n\\t\\t<li>Composite Materials</li>\\n\\t\\t<li>Computational & Theoretical Electromagnetics</li>\\n\\t\\t<li>Computational Chemistry</li>\\n\\t\\t<li>Computer Architecture</li>\\n\\t\\t<li>Computer Networks</li>\\n\\t\\t<li>Computer Security</li>\\n\\t\\t<li>Contracting</li>\\n\\t\\t<li>Cost Anaylsis</li>\\n\\t\\t<li>Cost and Schedule Estimating</li>\\n\\t\\t<li>Cyber Operations</li>\\n\\t\\t<li>Data Envelopment Analysis</li>\\n\\t\\t<li>Database Systems</li>\\n\\t\\t<li>Decision Analysis</li>\\n\\t\\t<li>Design of Experiments</li>\\n\\t\\t<li>Dilute Magnetic Semiconductors</li>\\n\\t\\t<li>Directed Energy</li>\\n\\t\\t<li>Domain-Specific Paraellel Software Architectures</li>\\n\\t\\t<li>Ecological Engineering</li>\\n\\t\\t<li>Economic Decision Analysis</li>\\n\\t\\t<li>Ecosystem Dynamics</li>\\n\\t\\t<li>Electro-Optics</li>\\n\\t\\t<li>Electromagnetics</li>\\n\\t\\t<li>Electronic Combat</li>\\n\\t\\t<li>Electronic Warfare</li>\\n\\t\\t<li>Electronic and Photonic Materials and Devices</li>\\n\\t\\t<li>Environmental  Restoration</li>\\n\\t\\t<li>Environmental Microbiology</li>\\n\\t\\t<li>Environmental Modeling</li>\\n\\t\\t<li>Environmental Risk Analysis</li>\\n\\t\\t<li>Evolutionary Algorithms</li>\\n\\t\\t<li>Experimental Fluid Investigation</li>\\n\\t\\t<li>Facility Location</li>\\n\\t\\t<li>Fate and Transport of Groundwater Contamination Modeling</li>\\n\\t\\t<li>Fiber Reinforced Ceramic Composites</li>\\n\\t\\t<li>Financial/Cost Management</li>\\n\\t\\t<li>Finite Element Analysis</li>\\n\\t\\t<li>Finite Element Mechanics</li>\\n\\t\\t<li>Flexible Space Structures</li>\\n\\t\\t<li>Flight Control, Adaptive and Reconfigurable</li>\\n\\t\\t<li>Fluid Mechanics</li>\\n\\t\\t<li>Formalization and Visualization of Software</li>\\n\\t\\t<li>Fracture and Fatigue</li>\\n\\t\\t<li>GPS/INS Integrated Systems</li>\\n\\t\\t<li>Gas Turbines</li>\\n\\t\\t<li>Genetic Algorithms</li>\\n\\t\\t<li>Graphics and Virtual Reality</li>\\n\\t\\t<li>Groundwater Contamination Remediation Techniques</li>\\n\\t\\t<li>Guidance, Navigation and Control</li>\\n\\t\\t<li>Health Effects of Trichloroethylene Exposure</li>\\n\\t\\t<li>Heat Transfer and Thermal Control</li>\\n\\t\\t<li>Heuristics</li>\\n\\t\\t<li>Human Resource Management</li>\\n\\t\\t<li>Human Sensory Feedback Mechanisms in Telerobotic</li>\\n\\t\\t<li>Hyperspectral Imaging</li>\\n\\t\\t<li>Impacting on Composite Materials</li>\\n\\t\\t<li>Information Architecture</li>\\n\\t\\t<li>Information Assurance</li>\\n\\t\\t<li>Information Fusion</li>\\n\\t\\t<li>Information Operations</li>\\n\\t\\t<li>Information Resource Management</li>\\n\\t\\t<li>Information Systems Management</li>\\n\\t\\t<li>Information Warfare/Operations</li>\\n\\t\\t<li>Inventory Optimization</li>\\n\\t\\t<li>Irregular Warfare</li>\\n\\t\\t<li>Knowledge Management</li>\\n\\t\\t<li>Landfill Performance Analysis</li>\\n\\t\\t<li>Laser Spectroscopy</li>\\n\\t\\t<li>Lasers (chemical, fiber, semiconductor)</li>\\n\\t\\t<li>Leadership Development</li>\\n\\t\\t<li>Low Observables</li>\\n\\t\\t<li>Man-Rated Centrifuge Design</li>\\n\\t\\t<li>Mathematical Modeling</li>\\n\\t\\t<li>Measurement and Signature Intelligence</li>\\n\\t\\t<li>Mechanics of Materials and Structures</li>\\n\\t\\t<li>Microelectronic Mechanical Sensors and Actuators</li>\\n\\t\\t<li>Mobility Modeling</li>\\n\\t\\t<li>Modeling, Simulation and Forecasting</li>\\n\\t\\t<li>Modeling, Simulation, and Analysis</li>\\n\\t\\t<li>Molecular Dynamics</li>\\n\\t\\t<li>Multicriteria Decision Making</li>\\n\\t\\t<li>Multidisciplinary Analysis & Design Methods</li>\\n\\t\\t<li>Multivariate Data Analysis</li>\\n\\t\\t<li>Network Analysis and Security</li>\\n\\t\\t<li>Networks and Combinatorial Optimization</li>\\n\\t\\t<li>Neural Networks</li>\\n\\t\\t<li>Neutron Irradiation Effects</li>\\n\\t\\t<li>Nonlinear Optics</li>\\n\\t\\t<li>Nonlinear Optimization</li>\\n\\t\\t<li>Nonlinear Shell Structures</li>\\n\\t\\t<li>Nonlinear Waves</li>\\n\\t\\t<li>Nuclear Facility Accident Modeling</li>\\n\\t\\t<li>Nuclear Fuels Chemistry</li>\\n\\t\\t<li>Nuclear Imaging</li>\\n\\t\\t<li>Nuclear Proliferation Modeling</li>\\n\\t\\t<li>Nuclear Weapon Effects</li>\\n\\t\\t<li>Object-Oriented Joint Modeling and Simulation Systems</li>\\n\\t\\t<li>Occupational Safety and Health</li>\\n\\t\\t<li>Operations Analysis</li>\\n\\t\\t<li>Optical Systems, Imaging & Remote Sensing</li>\\n\\t\\t<li>Optical and Microelectronic Materials</li>\\n\\t\\t<li>Optimization</li>\\n\\t\\t<li>Orbital Mechanics</li>\\n\\t\\t<li>Organizational Behavior</li>\\n\\t\\t<li>Organizational Change and Transformation</li>\\n\\t\\t<li>Organizational Culture</li>\\n\\t\\t<li>Organizational Performance Measurement</li>\\n\\t\\t<li>Organizational Policy and Strategy</li>\\n\\t\\t<li>Organizational Transformation & Development</li>\\n\\t\\t<li>Parallel Computational Electromagnetics</li>\\n\\t\\t<li>Parallel Computational Fluid Dynamics Algorithms</li>\\n\\t\\t<li>Parallel Genetic Algorithms</li>\\n\\t\\t<li>Parallel Simulation and CADSsystems</li>\\n\\t\\t<li>Pattern Recognition of Images and Speech</li>\\n\\t\\t<li>Photovoltaics</li>\\n\\t\\t<li>Plasma Aerodynamics</li>\\n\\t\\t<li>Plasma Processing</li>\\n\\t\\t<li>Pollution Transport Modeling</li>\\n\\t\\t<li>Quantitative Feedback Theory</li>\\n\\t\\t<li>Queueing</li>\\n\\t\\t<li>Radar Cross Section Measurement and Visualization</li>\\n\\t\\t<li>Radar Meteorology</li>\\n\\t\\t<li>Radar Systems</li>\\n\\t\\t<li>Radiation Effects on Electronics</li>\\n\\t\\t<li>Radiation Transport Algorithms</li>\\n\\t\\t<li>Radio Frequency Identification</li>\\n\\t\\t<li>Recruiting and Retention</li>\\n\\t\\t<li>Reliability and Maintainability</li>\\n\\t\\t<li>Remote Sensing of the Atmosphere</li>\\n\\t\\t<li>Response Surface Methodology</li>\\n\\t\\t<li>Risk Analysis</li>\\n\\t\\t<li>SCADA Systems</li>\\n\\t\\t<li>SCRAM Jet Combustor</li>\\n\\t\\t<li>Satellite Attitude Dynamics</li>\\n\\t\\t<li>Satellite Control Network Scheduling</li>\\n\\t\\t<li>Scheduling</li>\\n\\t\\t<li>Security Protocol Analysis</li>\\n\\t\\t<li>Security Vulnerability of Computers</li>\\n\\t\\t<li>Security, Stability, Transition, and Reconstruction Operations</li>\\n\\t\\t<li>Semiconductor Characterization</li>\\n\\t\\t<li>Sensor Materials</li>\\n\\t\\t<li>Signal/Image Processing</li>\\n\\t\\t<li>Simulation Modeling and Analysis</li>\\n\\t\\t<li>Skin Friction Measurement</li>\\n\\t\\t<li>Software Engineering</li>\\n\\t\\t<li>Space Operations</li>\\n\\t\\t<li>Space Plasmas</li>\\n\\t\\t<li>Space Weather Modeling</li>\\n\\t\\t<li>Statistical Analysis and Process Control</li>\\n\\t\\t<li>Statistical Processing of RCS Data</li>\\n\\t\\t<li>Stochastic Modeling and Analysis</li>\\n\\t\\t<li>Strategic Information Management</li>\\n\\t\\t<li>Strategic Purchasing</li>\\n\\t\\t<li>Strategic Warfare and Effects</li>\\n\\t\\t<li>Structural Dynamics</li>\\n\\t\\t<li>Structural Dynamics & Controls</li>\\n\\t\\t<li>Structural Optimization</li>\\n\\t\\t<li>Superlattices</li>\\n\\t\\t<li>Supply Chain Management</li>\\n\\t\\t<li>Sustainable Design</li>\\n\\t\\t<li>Synthetic Aperture Radar</li>\\n\\t\\t<li>System Dynamics Analysis</li>\\n\\t\\t<li>System Dynamics Modeling Applications</li>\\n\\t\\t<li>Systems Dynamics Analysis of Complex Systems</li>\\n\\t\\t<li>Tabu Search</li>\\n\\t\\t<li>Target Tracking and Robotics</li>\\n\\t\\t<li>Technology Selection</li>\\n\\t\\t<li>Transportation Science</li>\\n\\t\\t<li>Turbomachinery</li>\\n\\t\\t<li>Unmanned Aerial Vehicles (UAVs)</li>\\n\\t\\t<li>Utility Theory</li>\\n\\t\\t<li>VLSI Circuits and Packaging</li>\\n\\t\\t<li>VLSI/VHSIC Systems</li>\\n\\t\\t<li>Vehicle Routing and Scheduling</li>\\n\\t\\t<li>Verification and Validation</li>\\n\\t\\t<li>Virtual Environments</li>\\n\\t\\t<li>Visualization</li>\\n\\t\\t<li>Wavelets</li>\\n\\t\\t<li>Wireless Networks</li>\\n\\t</ul>\\n    \\t  \\n\\n<h2>Graduate</h2>\\n\\n<h3>Dual Degrees</h3>\\n\\n<p class=\"highlighted\">Graduate Engineering Dual Degree Program Description</p>\\n\\t<p>Students can earn a dual degree.  The course requirement is 48 quarter hours of graduate work for each degree with no overlap.  Instead of a second thesis, the thesis for the second degree can be replaced by 12 quarter hours of courses.</p>\\n\\n    \\t  \\n\\n<h2>Graduate</h2>\\n\\n<h3>Student Appointments</h3>\\n\\n<p class=\"highlighted\">Appointments by Department</p> \\n\\n<p class=\"center\">Appointments - Number of Appointments<br/>Stipend - Average Monthly Stipend</p>\\n\\n<table cellpadding=\"0\">\\n\\t<thead>\\n\\t\\t<tr>\\n\\t\\t\\t<th class=\"label\">Department</th>\\n\\t\\t\\t<th>Fellowships</th>\\n\\t\\t\\t<th>TA</th>\\n\\t\\t\\t<th>RA</th>\\n\\t\\t\\t<th>Other</th>\\n\\t\\t\\t<th>Total Appts.</th>\\n\\t\\t</tr>\\n\\t</thead>\\n\\t<tbody>\\n\\t\\t\\t\\t\\t<tr>\\n\\t\\t\\t\\t<td class=\"label\" colspan=\"6\"><strong>Aeronautical and Astronautical</strong></td>\\n\\t\\t\\t</tr>\\n\\t\\t\\t<tr>\\n\\t\\t\\t\\t<td>Appointments:</td>\\n\\t\\t\\t\\t<td>0</td>\\n\\t\\t\\t\\t\\n\\t\\t\\t\\t<td>0</td>\\n\\t\\t\\t\\t\\n\\t\\t\\t\\t<td>0</td>\\n\\t\\t\\t\\t\\n\\t\\t\\t\\t<td>0</td>\\n\\t\\t\\t\\t\\n\\t\\t\\t\\t<td>0</td>\\n\\t\\t\\t</tr>\\n\\t\\t\\t<tr>\\n\\t\\t\\t\\t<td>Stipends:</td>\\n\\t\\t\\t\\t<td>$0</td>\\n\\t\\t\\t\\t<td>$0</td>\\n\\t\\t\\t\\t<td>$0</td>\\n\\t\\t\\t\\t<td>$0</td>\\n\\t\\t\\t\\t<td></td>\\n\\t\\t\\t</tr>\\n\\t\\t\\t\\n\\t\\t\\t\\t\\t<tr>\\n\\t\\t\\t\\t<td class=\"label\" colspan=\"6\"><strong>Electrical and Computer Engineering</strong></td>\\n\\t\\t\\t</tr>\\n\\t\\t\\t<tr>\\n\\t\\t\\t\\t<td>Appointments:</td>\\n\\t\\t\\t\\t<td>0</td>\\n\\t\\t\\t\\t\\n\\t\\t\\t\\t<td>0</td>\\n\\t\\t\\t\\t\\n\\t\\t\\t\\t<td>0</td>\\n\\t\\t\\t\\t\\n\\t\\t\\t\\t<td>0</td>\\n\\t\\t\\t\\t\\n\\t\\t\\t\\t<td>0</td>\\n\\t\\t\\t</tr>\\n\\t\\t\\t<tr>\\n\\t\\t\\t\\t<td>Stipends:</td>\\n\\t\\t\\t\\t<td>$0</td>\\n\\t\\t\\t\\t<td>$0</td>\\n\\t\\t\\t\\t<td>$0</td>\\n\\t\\t\\t\\t<td>$0</td>\\n\\t\\t\\t\\t<td></td>\\n\\t\\t\\t</tr>\\n\\t\\t\\t\\n\\t\\t\\t\\t\\t<tr>\\n\\t\\t\\t\\t<td class=\"label\" colspan=\"6\"><strong>Engineering Physics</strong></td>\\n\\t\\t\\t</tr>\\n\\t\\t\\t<tr>\\n\\t\\t\\t\\t<td>Appointments:</td>\\n\\t\\t\\t\\t<td>0</td>\\n\\t\\t\\t\\t\\n\\t\\t\\t\\t<td>0</td>\\n\\t\\t\\t\\t\\n\\t\\t\\t\\t<td>0</td>\\n\\t\\t\\t\\t\\n\\t\\t\\t\\t<td>0</td>\\n\\t\\t\\t\\t\\n\\t\\t\\t\\t<td>0</td>\\n\\t\\t\\t</tr>\\n\\t\\t\\t<tr>\\n\\t\\t\\t\\t<td>Stipends:</td>\\n\\t\\t\\t\\t<td>$0</td>\\n\\t\\t\\t\\t<td>$0</td>\\n\\t\\t\\t\\t<td>$0</td>\\n\\t\\t\\t\\t<td>$0</td>\\n\\t\\t\\t\\t<td></td>\\n\\t\\t\\t</tr>\\n\\t\\t\\t\\n\\t\\t\\t\\t\\t<tr>\\n\\t\\t\\t\\t<td class=\"label\" colspan=\"6\"><strong>Mathematics and Statistics</strong></td>\\n\\t\\t\\t</tr>\\n\\t\\t\\t<tr>\\n\\t\\t\\t\\t<td>Appointments:</td>\\n\\t\\t\\t\\t<td>0</td>\\n\\t\\t\\t\\t\\n\\t\\t\\t\\t<td>0</td>\\n\\t\\t\\t\\t\\n\\t\\t\\t\\t<td>0</td>\\n\\t\\t\\t\\t\\n\\t\\t\\t\\t<td>0</td>\\n\\t\\t\\t\\t\\n\\t\\t\\t\\t<td>0</td>\\n\\t\\t\\t</tr>\\n\\t\\t\\t<tr>\\n\\t\\t\\t\\t<td>Stipends:</td>\\n\\t\\t\\t\\t<td>$0</td>\\n\\t\\t\\t\\t<td>$0</td>\\n\\t\\t\\t\\t<td>$0</td>\\n\\t\\t\\t\\t<td>$0</td>\\n\\t\\t\\t\\t<td></td>\\n\\t\\t\\t</tr>\\n\\t\\t\\t\\n\\t\\t\\t\\t\\t<tr>\\n\\t\\t\\t\\t<td class=\"label\" colspan=\"6\"><strong>Operational Sciences</strong></td>\\n\\t\\t\\t</tr>\\n\\t\\t\\t<tr>\\n\\t\\t\\t\\t<td>Appointments:</td>\\n\\t\\t\\t\\t<td>0</td>\\n\\t\\t\\t\\t\\n\\t\\t\\t\\t<td>0</td>\\n\\t\\t\\t\\t\\n\\t\\t\\t\\t<td>0</td>\\n\\t\\t\\t\\t\\n\\t\\t\\t\\t<td>0</td>\\n\\t\\t\\t\\t\\n\\t\\t\\t\\t<td>0</td>\\n\\t\\t\\t</tr>\\n\\t\\t\\t<tr>\\n\\t\\t\\t\\t<td>Stipends:</td>\\n\\t\\t\\t\\t<td>$0</td>\\n\\t\\t\\t\\t<td>$0</td>\\n\\t\\t\\t\\t<td>$0</td>\\n\\t\\t\\t\\t<td>$0</td>\\n\\t\\t\\t\\t<td></td>\\n\\t\\t\\t</tr>\\n\\t\\t\\t\\n\\t\\t\\t\\t\\t<tr>\\n\\t\\t\\t\\t<td class=\"label\" colspan=\"6\"><strong>Systems Engineering and Management</strong></td>\\n\\t\\t\\t</tr>\\n\\t\\t\\t<tr>\\n\\t\\t\\t\\t<td>Appointments:</td>\\n\\t\\t\\t\\t<td>0</td>\\n\\t\\t\\t\\t\\n\\t\\t\\t\\t<td>0</td>\\n\\t\\t\\t\\t\\n\\t\\t\\t\\t<td>0</td>\\n\\t\\t\\t\\t\\n\\t\\t\\t\\t<td>0</td>\\n\\t\\t\\t\\t\\n\\t\\t\\t\\t<td>0</td>\\n\\t\\t\\t</tr>\\n\\t\\t\\t<tr>\\n\\t\\t\\t\\t<td>Stipends:</td>\\n\\t\\t\\t\\t<td>$0</td>\\n\\t\\t\\t\\t<td>$0</td>\\n\\t\\t\\t\\t<td>$0</td>\\n\\t\\t\\t\\t<td>$0</td>\\n\\t\\t\\t\\t<td></td>\\n\\t\\t\\t</tr>\\n\\t\\t\\t\\n\\t\\t\\t\\t\\n\\t\\t<tr class=\"total\">\\n\\t\\t\\t<td class=\"label\">All Total Appointments</td>\\n\\t\\t\\t<td>0</td>\\n\\t\\t\\t<td>0</td>\\n\\t\\t\\t<td>0</td>\\n\\t\\t\\t<td>0</td>\\n\\t\\t\\t<td>0</td>\\n\\t\\t</tr>\\n\\t</tbody>\\n</table> \\n\\n\\n\\n   \\n\\t\\t\\t\\t</div>\\n\\t\\t\\t</div>\\n\\t\\t</div>\\n\\t</div>\\n  </div> \\n\\n  <!-- Start Google Analytics -->\\n  <script type=\"text/javascript\">\\n  var gaJsHost = ((\"https:\" == document.location.protocol) ? \"https://ssl.\" : \"http://www.\");\\n  document.write(unescape(\"%3Cscript src=\\'\" + gaJsHost + \"google-analytics.com/ga.js\\' type=\\'text/javascript\\'%3E%3C/script%3E\"));\\n  </script>\\n  <script type=\"text/javascript\">\\n  try {\\n  var pageTracker = _gat._getTracker(\"UA-2089135-31\");\\n  pageTracker._trackPageview();\\n  } catch(err) {}</script>\\n  <!-- End Google Analytics -->\\n\\n</body>\\n</html>\\n'"
      ]
     },
     "execution_count": 6,
     "metadata": {},
     "output_type": "execute_result"
    }
   ],
   "source": [
    "school_res[0]"
   ]
  },
  {
   "cell_type": "code",
   "execution_count": 17,
   "metadata": {
    "scrolled": true
   },
   "outputs": [
    {
     "name": "stderr",
     "output_type": "stream",
     "text": [
      "\n",
      "  0%|          | 0/295 [00:00<?, ?it/s]\u001b[A\n",
      "  0%|          | 1/295 [00:00<01:59,  2.46it/s]\u001b[A"
     ]
    },
    {
     "name": "stdout",
     "output_type": "stream",
     "text": [
      "School: Air Force Institute of Technology\n",
      "bad test_scores for Air Force Institute of Technology\n"
     ]
    },
    {
     "name": "stderr",
     "output_type": "stream",
     "text": [
      "\n",
      "  1%|          | 2/295 [00:00<01:46,  2.76it/s]\u001b[A"
     ]
    },
    {
     "name": "stdout",
     "output_type": "stream",
     "text": [
      "School: The University of Akron, Engineering & Science Technology Dept.\n",
      "bad description for The University of Akron, Engineering & Science Technology Dept.\n"
     ]
    },
    {
     "name": "stderr",
     "output_type": "stream",
     "text": [
      "\n",
      "  1%|          | 3/295 [00:01<01:48,  2.70it/s]\u001b[A"
     ]
    },
    {
     "name": "stdout",
     "output_type": "stream",
     "text": [
      "School: University of Alabama at Birmingham\n"
     ]
    },
    {
     "name": "stderr",
     "output_type": "stream",
     "text": [
      "\n",
      "  1%|▏         | 4/295 [00:06<08:44,  1.80s/it]\u001b[A"
     ]
    },
    {
     "name": "stdout",
     "output_type": "stream",
     "text": [
      "School: The University of Alabama in Huntsville\n"
     ]
    },
    {
     "name": "stderr",
     "output_type": "stream",
     "text": [
      "\n",
      "  2%|▏         | 5/295 [00:06<06:47,  1.41s/it]\u001b[A"
     ]
    },
    {
     "name": "stdout",
     "output_type": "stream",
     "text": [
      "School: The University of Alabama\n"
     ]
    },
    {
     "name": "stderr",
     "output_type": "stream",
     "text": [
      "\n",
      "  2%|▏         | 6/295 [00:06<05:09,  1.07s/it]\u001b[A"
     ]
    },
    {
     "name": "stdout",
     "output_type": "stream",
     "text": [
      "School: University of Alaska Anchorage, College of Engineering\n"
     ]
    },
    {
     "name": "stderr",
     "output_type": "stream",
     "text": [
      "\n",
      "  2%|▏         | 7/295 [00:07<04:26,  1.08it/s]\u001b[A"
     ]
    },
    {
     "name": "stdout",
     "output_type": "stream",
     "text": [
      "School: University of Alaska Fairbanks, College of Engineering and Mines\n"
     ]
    },
    {
     "name": "stderr",
     "output_type": "stream",
     "text": [
      "\n",
      "  3%|▎         | 8/295 [00:08<03:50,  1.25it/s]\u001b[A"
     ]
    },
    {
     "name": "stdout",
     "output_type": "stream",
     "text": [
      "School: University of Alberta\n"
     ]
    },
    {
     "name": "stderr",
     "output_type": "stream",
     "text": [
      "\n",
      "  3%|▎         | 9/295 [00:08<03:10,  1.50it/s]\u001b[A"
     ]
    },
    {
     "name": "stdout",
     "output_type": "stream",
     "text": [
      "School: Alfred University, NY State College of Ceramics\n"
     ]
    },
    {
     "name": "stderr",
     "output_type": "stream",
     "text": [
      "Some characters could not be decoded, and were replaced with REPLACEMENT CHARACTER.\n",
      "\n",
      "  3%|▎         | 10/295 [00:13<08:51,  1.87s/it]\u001b[A"
     ]
    },
    {
     "name": "stdout",
     "output_type": "stream",
     "text": [
      "School: University of Arizona\n"
     ]
    },
    {
     "name": "stderr",
     "output_type": "stream",
     "text": [
      "Some characters could not be decoded, and were replaced with REPLACEMENT CHARACTER.\n",
      "\n",
      "  4%|▎         | 11/295 [00:20<17:00,  3.59s/it]\u001b[A"
     ]
    },
    {
     "name": "stdout",
     "output_type": "stream",
     "text": [
      "School: Arizona State University\n"
     ]
    },
    {
     "name": "stderr",
     "output_type": "stream",
     "text": [
      "Some characters could not be decoded, and were replaced with REPLACEMENT CHARACTER.\n",
      "\n",
      "  4%|▍         | 12/295 [00:22<14:03,  2.98s/it]\u001b[A"
     ]
    },
    {
     "name": "stdout",
     "output_type": "stream",
     "text": [
      "School: University of Arkansas\n"
     ]
    },
    {
     "name": "stderr",
     "output_type": "stream",
     "text": [
      "Some characters could not be decoded, and were replaced with REPLACEMENT CHARACTER.\n",
      "\n",
      "  4%|▍         | 13/295 [00:23<11:14,  2.39s/it]\u001b[A"
     ]
    },
    {
     "name": "stdout",
     "output_type": "stream",
     "text": [
      "School: Arkansas Tech University\n"
     ]
    },
    {
     "name": "stderr",
     "output_type": "stream",
     "text": [
      "Some characters could not be decoded, and were replaced with REPLACEMENT CHARACTER.\n",
      "\n",
      "  5%|▍         | 14/295 [00:25<11:02,  2.36s/it]\u001b[A"
     ]
    },
    {
     "name": "stdout",
     "output_type": "stream",
     "text": [
      "School: University of Arkansas at Little Rock\n",
      "School: ASEE Test Institution\n",
      "bad institution_type for ASEE Test Institution\n",
      "bad enrollment for ASEE Test Institution\n",
      "bad description for ASEE Test Institution\n",
      "bad tuition for ASEE Test Institution\n",
      "bad test_scores for ASEE Test Institution\n",
      "bad enrollment for ASEE Test Institution\n"
     ]
    },
    {
     "name": "stderr",
     "output_type": "stream",
     "text": [
      "\n",
      "  5%|▌         | 16/295 [00:26<08:06,  1.74s/it]\u001b[A"
     ]
    },
    {
     "name": "stdout",
     "output_type": "stream",
     "text": [
      "School: Auburn University\n"
     ]
    },
    {
     "name": "stderr",
     "output_type": "stream",
     "text": [
      "\n",
      "  6%|▌         | 17/295 [00:26<05:50,  1.26s/it]\u001b[A"
     ]
    },
    {
     "name": "stdout",
     "output_type": "stream",
     "text": [
      "School: Baker College\n",
      "bad test_scores for Baker College\n"
     ]
    },
    {
     "name": "stderr",
     "output_type": "stream",
     "text": [
      "\n",
      "  6%|▌         | 18/295 [00:28<06:30,  1.41s/it]\u001b[A"
     ]
    },
    {
     "name": "stdout",
     "output_type": "stream",
     "text": [
      "School: Baylor University\n"
     ]
    },
    {
     "name": "stderr",
     "output_type": "stream",
     "text": [
      "\n",
      "  6%|▋         | 19/295 [00:28<05:10,  1.13s/it]\u001b[A"
     ]
    },
    {
     "name": "stdout",
     "output_type": "stream",
     "text": [
      "School: The State University of New York at Binghamton\n"
     ]
    },
    {
     "name": "stderr",
     "output_type": "stream",
     "text": [
      "\n",
      "  7%|▋         | 20/295 [00:29<05:12,  1.14s/it]\u001b[A"
     ]
    },
    {
     "name": "stdout",
     "output_type": "stream",
     "text": [
      "School: Boise State University\n"
     ]
    },
    {
     "name": "stderr",
     "output_type": "stream",
     "text": [
      "\n",
      "  7%|▋         | 21/295 [00:32<07:13,  1.58s/it]\u001b[A"
     ]
    },
    {
     "name": "stdout",
     "output_type": "stream",
     "text": [
      "School: Boston University\n",
      "School: Bradley University\n",
      "bad description for Bradley University\n",
      "bad teaching_tenure for Bradley University\n",
      "bad tuition for Bradley University\n",
      "bad test_scores for Bradley University\n",
      "bad enrollment for Bradley University\n"
     ]
    },
    {
     "name": "stderr",
     "output_type": "stream",
     "text": [
      "\n",
      "  8%|▊         | 23/295 [00:32<05:14,  1.16s/it]\u001b[A"
     ]
    },
    {
     "name": "stdout",
     "output_type": "stream",
     "text": [
      "School: University of Bridgeport\n"
     ]
    },
    {
     "name": "stderr",
     "output_type": "stream",
     "text": [
      "\n",
      "  8%|▊         | 24/295 [00:33<04:15,  1.06it/s]\u001b[A"
     ]
    },
    {
     "name": "stdout",
     "output_type": "stream",
     "text": [
      "School: Brigham Young University\n"
     ]
    },
    {
     "name": "stderr",
     "output_type": "stream",
     "text": [
      "\n",
      "  8%|▊         | 25/295 [00:33<03:16,  1.37it/s]\u001b[A"
     ]
    },
    {
     "name": "stdout",
     "output_type": "stream",
     "text": [
      "School: Brigham Young University - Idaho\n"
     ]
    },
    {
     "name": "stderr",
     "output_type": "stream",
     "text": [
      "\n",
      "  9%|▉         | 26/295 [00:34<03:20,  1.34it/s]\u001b[A"
     ]
    },
    {
     "name": "stdout",
     "output_type": "stream",
     "text": [
      "School: University of British Columbia\n"
     ]
    },
    {
     "name": "stderr",
     "output_type": "stream",
     "text": [
      "\n",
      "  9%|▉         | 27/295 [00:34<02:52,  1.55it/s]\u001b[A"
     ]
    },
    {
     "name": "stdout",
     "output_type": "stream",
     "text": [
      "School: Brown University\n"
     ]
    },
    {
     "name": "stderr",
     "output_type": "stream",
     "text": [
      "\n",
      "  9%|▉         | 28/295 [00:36<04:59,  1.12s/it]\u001b[A"
     ]
    },
    {
     "name": "stdout",
     "output_type": "stream",
     "text": [
      "School: Bucknell University\n"
     ]
    },
    {
     "name": "stderr",
     "output_type": "stream",
     "text": [
      "Some characters could not be decoded, and were replaced with REPLACEMENT CHARACTER.\n",
      "\n",
      " 10%|▉         | 29/295 [00:39<07:33,  1.71s/it]\u001b[A"
     ]
    },
    {
     "name": "stdout",
     "output_type": "stream",
     "text": [
      "School: University at Buffalo, SUNY\n"
     ]
    },
    {
     "name": "stderr",
     "output_type": "stream",
     "text": [
      "\n",
      " 10%|█         | 30/295 [00:40<05:33,  1.26s/it]\u001b[A"
     ]
    },
    {
     "name": "stdout",
     "output_type": "stream",
     "text": [
      "School: Buffalo State\n",
      "bad description for Buffalo State\n"
     ]
    },
    {
     "name": "stderr",
     "output_type": "stream",
     "text": [
      "Some characters could not be decoded, and were replaced with REPLACEMENT CHARACTER.\n",
      "\n",
      " 11%|█         | 31/295 [00:42<07:34,  1.72s/it]\u001b[A"
     ]
    },
    {
     "name": "stdout",
     "output_type": "stream",
     "text": [
      "School: University of Calgary\n"
     ]
    },
    {
     "name": "stderr",
     "output_type": "stream",
     "text": [
      "Some characters could not be decoded, and were replaced with REPLACEMENT CHARACTER.\n",
      "\n",
      " 11%|█         | 32/295 [00:44<06:56,  1.58s/it]\u001b[A"
     ]
    },
    {
     "name": "stdout",
     "output_type": "stream",
     "text": [
      "School: California Baptist University \n"
     ]
    },
    {
     "name": "stderr",
     "output_type": "stream",
     "text": [
      "\n",
      " 11%|█         | 33/295 [00:50<12:40,  2.90s/it]\u001b[A"
     ]
    },
    {
     "name": "stdout",
     "output_type": "stream",
     "text": [
      "School: California Institute of Technology\n"
     ]
    },
    {
     "name": "stderr",
     "output_type": "stream",
     "text": [
      "\n",
      " 12%|█▏        | 34/295 [00:50<09:08,  2.10s/it]\u001b[A"
     ]
    },
    {
     "name": "stdout",
     "output_type": "stream",
     "text": [
      "School: California State University Maritime Academy\n"
     ]
    },
    {
     "name": "stderr",
     "output_type": "stream",
     "text": [
      "\n",
      " 12%|█▏        | 35/295 [00:54<11:29,  2.65s/it]\u001b[A"
     ]
    },
    {
     "name": "stdout",
     "output_type": "stream",
     "text": [
      "School: California Polytechnic State University, San Luis Obispo\n"
     ]
    },
    {
     "name": "stderr",
     "output_type": "stream",
     "text": [
      "\n",
      " 12%|█▏        | 36/295 [00:54<08:35,  1.99s/it]\u001b[A"
     ]
    },
    {
     "name": "stdout",
     "output_type": "stream",
     "text": [
      "School: California State Polytechnic University, Pomona\n"
     ]
    },
    {
     "name": "stderr",
     "output_type": "stream",
     "text": [
      "Some characters could not be decoded, and were replaced with REPLACEMENT CHARACTER.\n",
      "\n",
      " 13%|█▎        | 37/295 [00:56<08:03,  1.88s/it]\u001b[A"
     ]
    },
    {
     "name": "stdout",
     "output_type": "stream",
     "text": [
      "School: California State University, Fullerton\n"
     ]
    },
    {
     "name": "stderr",
     "output_type": "stream",
     "text": [
      "\n",
      " 13%|█▎        | 38/295 [00:56<06:19,  1.47s/it]\u001b[A"
     ]
    },
    {
     "name": "stdout",
     "output_type": "stream",
     "text": [
      "School: California State University, Long Beach\n"
     ]
    },
    {
     "name": "stderr",
     "output_type": "stream",
     "text": [
      "Some characters could not be decoded, and were replaced with REPLACEMENT CHARACTER.\n",
      "\n",
      " 13%|█▎        | 39/295 [00:57<05:04,  1.19s/it]\u001b[A"
     ]
    },
    {
     "name": "stdout",
     "output_type": "stream",
     "text": [
      "School: California State University, Los Angeles\n"
     ]
    },
    {
     "name": "stderr",
     "output_type": "stream",
     "text": [
      "\n",
      " 14%|█▎        | 40/295 [00:57<04:02,  1.05it/s]\u001b[A"
     ]
    },
    {
     "name": "stdout",
     "output_type": "stream",
     "text": [
      "School: California State University, Northridge\n",
      "bad description for California State University, Northridge\n"
     ]
    },
    {
     "name": "stderr",
     "output_type": "stream",
     "text": [
      "\n",
      " 14%|█▍        | 41/295 [00:58<03:13,  1.31it/s]\u001b[A"
     ]
    },
    {
     "name": "stdout",
     "output_type": "stream",
     "text": [
      "School: California State University, Sacramento\n",
      "bad test_scores for California State University, Sacramento\n"
     ]
    },
    {
     "name": "stderr",
     "output_type": "stream",
     "text": [
      "Some characters could not be decoded, and were replaced with REPLACEMENT CHARACTER.\n",
      "\n",
      " 14%|█▍        | 42/295 [01:01<06:12,  1.47s/it]\u001b[A"
     ]
    },
    {
     "name": "stdout",
     "output_type": "stream",
     "text": [
      "School: University of California, Berkeley\n"
     ]
    },
    {
     "name": "stderr",
     "output_type": "stream",
     "text": [
      "Some characters could not be decoded, and were replaced with REPLACEMENT CHARACTER.\n"
     ]
    },
    {
     "name": "stdout",
     "output_type": "stream",
     "text": [
      "School: University of California, Davis\n"
     ]
    },
    {
     "name": "stderr",
     "output_type": "stream",
     "text": [
      "\n",
      " 15%|█▍        | 43/295 [01:04<08:19,  1.98s/it]\u001b[A"
     ]
    },
    {
     "name": "stdout",
     "output_type": "stream",
     "text": [
      "School: University of California, Irvine\n",
      "bad teaching_tenure for University of California, Irvine\n"
     ]
    },
    {
     "name": "stderr",
     "output_type": "stream",
     "text": [
      "\n",
      " 15%|█▍        | 44/295 [01:08<11:09,  2.67s/it]\u001b[ASome characters could not be decoded, and were replaced with REPLACEMENT CHARACTER.\n",
      "\n",
      " 15%|█▌        | 45/295 [01:11<11:34,  2.78s/it]\u001b[A"
     ]
    },
    {
     "name": "stdout",
     "output_type": "stream",
     "text": [
      "School: University of California, Los Angeles\n"
     ]
    },
    {
     "name": "stderr",
     "output_type": "stream",
     "text": [
      "Some characters could not be decoded, and were replaced with REPLACEMENT CHARACTER.\n",
      "\n",
      " 16%|█▌        | 46/295 [01:12<09:41,  2.34s/it]\u001b[A"
     ]
    },
    {
     "name": "stdout",
     "output_type": "stream",
     "text": [
      "School: University of California, Merced \n"
     ]
    },
    {
     "name": "stderr",
     "output_type": "stream",
     "text": [
      "\n",
      " 16%|█▌        | 47/295 [01:15<09:25,  2.28s/it]\u001b[A"
     ]
    },
    {
     "name": "stdout",
     "output_type": "stream",
     "text": [
      "School: University of California, Riverside\n"
     ]
    },
    {
     "name": "stderr",
     "output_type": "stream",
     "text": [
      "Some characters could not be decoded, and were replaced with REPLACEMENT CHARACTER.\n",
      "\n",
      " 16%|█▋        | 48/295 [01:17<09:55,  2.41s/it]\u001b[A"
     ]
    },
    {
     "name": "stdout",
     "output_type": "stream",
     "text": [
      "School: University of California, San Diego\n"
     ]
    },
    {
     "name": "stderr",
     "output_type": "stream",
     "text": [
      "\n",
      " 17%|█▋        | 49/295 [01:18<07:23,  1.80s/it]\u001b[A"
     ]
    },
    {
     "name": "stdout",
     "output_type": "stream",
     "text": [
      "School: University of California, Santa Barbara\n"
     ]
    },
    {
     "name": "stderr",
     "output_type": "stream",
     "text": [
      "\n",
      " 17%|█▋        | 50/295 [01:23<11:12,  2.75s/it]\u001b[A"
     ]
    },
    {
     "name": "stdout",
     "output_type": "stream",
     "text": [
      "School: University of California-Santa Cruz\n"
     ]
    },
    {
     "name": "stderr",
     "output_type": "stream",
     "text": [
      "Some characters could not be decoded, and were replaced with REPLACEMENT CHARACTER.\n",
      "\n",
      " 17%|█▋        | 51/295 [01:29<15:21,  3.78s/it]\u001b[A"
     ]
    },
    {
     "name": "stdout",
     "output_type": "stream",
     "text": [
      "School: Carnegie Mellon University\n"
     ]
    },
    {
     "name": "stderr",
     "output_type": "stream",
     "text": [
      "\n",
      " 18%|█▊        | 52/295 [01:33<15:42,  3.88s/it]\u001b[A"
     ]
    },
    {
     "name": "stdout",
     "output_type": "stream",
     "text": [
      "School: Case Western Reserve University\n"
     ]
    },
    {
     "name": "stderr",
     "output_type": "stream",
     "text": [
      "\n",
      " 18%|█▊        | 53/295 [01:33<11:19,  2.81s/it]\u001b[A"
     ]
    },
    {
     "name": "stdout",
     "output_type": "stream",
     "text": [
      "School: The Catholic University of America\n"
     ]
    },
    {
     "name": "stderr",
     "output_type": "stream",
     "text": [
      "Some characters could not be decoded, and were replaced with REPLACEMENT CHARACTER.\n",
      "\n",
      " 18%|█▊        | 54/295 [01:34<08:34,  2.13s/it]\u001b[A"
     ]
    },
    {
     "name": "stdout",
     "output_type": "stream",
     "text": [
      "School: Cedarville University\n"
     ]
    },
    {
     "name": "stderr",
     "output_type": "stream",
     "text": [
      "Some characters could not be decoded, and were replaced with REPLACEMENT CHARACTER.\n",
      "\n",
      " 19%|█▊        | 55/295 [01:36<08:07,  2.03s/it]\u001b[A"
     ]
    },
    {
     "name": "stdout",
     "output_type": "stream",
     "text": [
      "School: University of Central Florida\n"
     ]
    },
    {
     "name": "stderr",
     "output_type": "stream",
     "text": [
      "\n",
      " 19%|█▉        | 56/295 [01:36<05:58,  1.50s/it]\u001b[A"
     ]
    },
    {
     "name": "stdout",
     "output_type": "stream",
     "text": [
      "School: Central Michigan University\n"
     ]
    },
    {
     "name": "stderr",
     "output_type": "stream",
     "text": [
      "\n",
      " 19%|█▉        | 57/295 [01:36<04:34,  1.15s/it]\u001b[A"
     ]
    },
    {
     "name": "stdout",
     "output_type": "stream",
     "text": [
      "School: Christian Brothers University\n"
     ]
    },
    {
     "name": "stderr",
     "output_type": "stream",
     "text": [
      "\n",
      " 20%|█▉        | 58/295 [01:39<06:59,  1.77s/it]\u001b[A"
     ]
    },
    {
     "name": "stdout",
     "output_type": "stream",
     "text": [
      "School: University of Cincinnati\n"
     ]
    },
    {
     "name": "stderr",
     "output_type": "stream",
     "text": [
      "Some characters could not be decoded, and were replaced with REPLACEMENT CHARACTER.\n",
      "\n",
      " 20%|██        | 59/295 [01:40<05:31,  1.40s/it]\u001b[A"
     ]
    },
    {
     "name": "stdout",
     "output_type": "stream",
     "text": [
      "School: The Citadel\n"
     ]
    },
    {
     "name": "stderr",
     "output_type": "stream",
     "text": [
      "\n",
      " 20%|██        | 60/295 [01:40<04:24,  1.12s/it]\u001b[A"
     ]
    },
    {
     "name": "stdout",
     "output_type": "stream",
     "text": [
      "School: City College of the City University of New York\n"
     ]
    },
    {
     "name": "stderr",
     "output_type": "stream",
     "text": [
      "\n",
      " 21%|██        | 61/295 [01:41<03:35,  1.09it/s]\u001b[A"
     ]
    },
    {
     "name": "stdout",
     "output_type": "stream",
     "text": [
      "School: Clarkson University\n"
     ]
    },
    {
     "name": "stderr",
     "output_type": "stream",
     "text": [
      "\n",
      " 21%|██        | 62/295 [01:42<03:21,  1.16it/s]\u001b[A"
     ]
    },
    {
     "name": "stdout",
     "output_type": "stream",
     "text": [
      "School: Clemson University\n"
     ]
    },
    {
     "name": "stderr",
     "output_type": "stream",
     "text": [
      "\n",
      " 21%|██▏       | 63/295 [01:42<02:53,  1.34it/s]\u001b[A"
     ]
    },
    {
     "name": "stdout",
     "output_type": "stream",
     "text": [
      "School: Cleveland State University\n"
     ]
    },
    {
     "name": "stderr",
     "output_type": "stream",
     "text": [
      "\n",
      " 22%|██▏       | 64/295 [01:42<02:17,  1.68it/s]\u001b[A"
     ]
    },
    {
     "name": "stdout",
     "output_type": "stream",
     "text": [
      "School: The College of New Jersey\n"
     ]
    },
    {
     "name": "stderr",
     "output_type": "stream",
     "text": [
      "\n",
      " 22%|██▏       | 65/295 [01:48<07:56,  2.07s/it]\u001b[A"
     ]
    },
    {
     "name": "stdout",
     "output_type": "stream",
     "text": [
      "School: Colorado School of Mines\n"
     ]
    },
    {
     "name": "stderr",
     "output_type": "stream",
     "text": [
      "\n",
      " 22%|██▏       | 66/295 [01:48<06:04,  1.59s/it]\u001b[A"
     ]
    },
    {
     "name": "stdout",
     "output_type": "stream",
     "text": [
      "School: Colorado State University\n"
     ]
    },
    {
     "name": "stderr",
     "output_type": "stream",
     "text": [
      "\n",
      " 23%|██▎       | 67/295 [01:49<05:00,  1.32s/it]\u001b[A"
     ]
    },
    {
     "name": "stdout",
     "output_type": "stream",
     "text": [
      "School: University of Colorado Boulder\n"
     ]
    },
    {
     "name": "stderr",
     "output_type": "stream",
     "text": [
      "Some characters could not be decoded, and were replaced with REPLACEMENT CHARACTER.\n",
      "\n",
      " 23%|██▎       | 68/295 [01:50<04:36,  1.22s/it]\u001b[A"
     ]
    },
    {
     "name": "stdout",
     "output_type": "stream",
     "text": [
      "School: University of Colorado Colorado Springs\n"
     ]
    },
    {
     "name": "stderr",
     "output_type": "stream",
     "text": [
      "Some characters could not be decoded, and were replaced with REPLACEMENT CHARACTER.\n",
      "\n",
      " 23%|██▎       | 69/295 [01:51<04:30,  1.20s/it]\u001b[A"
     ]
    },
    {
     "name": "stdout",
     "output_type": "stream",
     "text": [
      "School: University of Colorado Denver\n"
     ]
    },
    {
     "name": "stderr",
     "output_type": "stream",
     "text": [
      "Some characters could not be decoded, and were replaced with REPLACEMENT CHARACTER.\n",
      "\n",
      " 24%|██▎       | 70/295 [01:58<10:26,  2.79s/it]\u001b[A"
     ]
    },
    {
     "name": "stdout",
     "output_type": "stream",
     "text": [
      "School: Columbia University\n"
     ]
    },
    {
     "name": "stderr",
     "output_type": "stream",
     "text": [
      "\n",
      " 24%|██▍       | 71/295 [01:58<07:51,  2.10s/it]\u001b[A"
     ]
    },
    {
     "name": "stdout",
     "output_type": "stream",
     "text": [
      "School: Concordia University,  Montreal\n"
     ]
    },
    {
     "name": "stderr",
     "output_type": "stream",
     "text": [
      "Some characters could not be decoded, and were replaced with REPLACEMENT CHARACTER.\n",
      "\n",
      " 24%|██▍       | 72/295 [02:03<11:08,  3.00s/it]\u001b[A"
     ]
    },
    {
     "name": "stdout",
     "output_type": "stream",
     "text": [
      "School: University of Connecticut\n"
     ]
    },
    {
     "name": "stderr",
     "output_type": "stream",
     "text": [
      "\n",
      " 25%|██▍       | 73/295 [02:03<07:57,  2.15s/it]\u001b[A"
     ]
    },
    {
     "name": "stdout",
     "output_type": "stream",
     "text": [
      "School: The Cooper Union\n"
     ]
    },
    {
     "name": "stderr",
     "output_type": "stream",
     "text": [
      "Some characters could not be decoded, and were replaced with REPLACEMENT CHARACTER.\n"
     ]
    },
    {
     "name": "stdout",
     "output_type": "stream",
     "text": [
      "School: Cornell University\n"
     ]
    },
    {
     "name": "stderr",
     "output_type": "stream",
     "text": [
      "\n",
      " 25%|██▌       | 74/295 [02:12<14:45,  4.01s/it]\u001b[A\n",
      " 25%|██▌       | 75/295 [02:14<12:15,  3.34s/it]\u001b[A"
     ]
    },
    {
     "name": "stdout",
     "output_type": "stream",
     "text": [
      "School: Dartmouth College\n"
     ]
    },
    {
     "name": "stderr",
     "output_type": "stream",
     "text": [
      "\n",
      " 26%|██▌       | 76/295 [02:17<12:06,  3.32s/it]\u001b[A"
     ]
    },
    {
     "name": "stdout",
     "output_type": "stream",
     "text": [
      "School: University of Dayton\n"
     ]
    },
    {
     "name": "stderr",
     "output_type": "stream",
     "text": [
      "Some characters could not be decoded, and were replaced with REPLACEMENT CHARACTER.\n",
      "\n",
      " 26%|██▌       | 77/295 [02:20<11:33,  3.18s/it]\u001b[A"
     ]
    },
    {
     "name": "stdout",
     "output_type": "stream",
     "text": [
      "School: University of Delaware\n"
     ]
    },
    {
     "name": "stderr",
     "output_type": "stream",
     "text": [
      "\n",
      " 26%|██▋       | 78/295 [02:20<08:36,  2.38s/it]\u001b[A"
     ]
    },
    {
     "name": "stdout",
     "output_type": "stream",
     "text": [
      "School: University of Denver\n"
     ]
    },
    {
     "name": "stderr",
     "output_type": "stream",
     "text": [
      "\n",
      " 27%|██▋       | 79/295 [02:21<06:26,  1.79s/it]\u001b[A"
     ]
    },
    {
     "name": "stdout",
     "output_type": "stream",
     "text": [
      "School: University of Detroit Mercy\n"
     ]
    },
    {
     "name": "stderr",
     "output_type": "stream",
     "text": [
      "\n",
      " 27%|██▋       | 80/295 [02:23<06:39,  1.86s/it]\u001b[A"
     ]
    },
    {
     "name": "stdout",
     "output_type": "stream",
     "text": [
      "School: University of the District of Columbia\n"
     ]
    },
    {
     "name": "stderr",
     "output_type": "stream",
     "text": [
      "Some characters could not be decoded, and were replaced with REPLACEMENT CHARACTER.\n",
      "\n",
      " 27%|██▋       | 81/295 [02:27<09:45,  2.73s/it]\u001b[A"
     ]
    },
    {
     "name": "stdout",
     "output_type": "stream",
     "text": [
      "School: Drexel University \n"
     ]
    },
    {
     "name": "stderr",
     "output_type": "stream",
     "text": [
      "Some characters could not be decoded, and were replaced with REPLACEMENT CHARACTER.\n",
      "\n",
      " 28%|██▊       | 82/295 [02:32<12:00,  3.38s/it]\u001b[A"
     ]
    },
    {
     "name": "stdout",
     "output_type": "stream",
     "text": [
      "School: Duke University \n"
     ]
    },
    {
     "name": "stderr",
     "output_type": "stream",
     "text": [
      "\n",
      " 28%|██▊       | 83/295 [02:33<08:35,  2.43s/it]\u001b[A"
     ]
    },
    {
     "name": "stdout",
     "output_type": "stream",
     "text": [
      "School: East Carolina University\n"
     ]
    },
    {
     "name": "stderr",
     "output_type": "stream",
     "text": [
      "\n",
      " 28%|██▊       | 84/295 [02:33<06:32,  1.86s/it]\u001b[A"
     ]
    },
    {
     "name": "stdout",
     "output_type": "stream",
     "text": [
      "School: Eastern Michigan University\n"
     ]
    },
    {
     "name": "stderr",
     "output_type": "stream",
     "text": [
      "\n",
      " 29%|██▉       | 85/295 [02:33<04:46,  1.37s/it]\u001b[ASome characters could not be decoded, and were replaced with REPLACEMENT CHARACTER.\n",
      "\n",
      " 29%|██▉       | 86/295 [02:35<04:48,  1.38s/it]\u001b[A"
     ]
    },
    {
     "name": "stdout",
     "output_type": "stream",
     "text": [
      "School: Elizabethtown College\n",
      "School: Embry Riddle Aeronautical University-Daytona Beach\n"
     ]
    },
    {
     "name": "stderr",
     "output_type": "stream",
     "text": [
      "\n",
      " 29%|██▉       | 87/295 [02:35<03:33,  1.03s/it]\u001b[A"
     ]
    },
    {
     "name": "stdout",
     "output_type": "stream",
     "text": [
      "School: Embry Riddle Aeronautical University, Prescott\n"
     ]
    },
    {
     "name": "stderr",
     "output_type": "stream",
     "text": [
      "\n",
      " 30%|██▉       | 88/295 [02:35<02:44,  1.26it/s]\u001b[A"
     ]
    },
    {
     "name": "stdout",
     "output_type": "stream",
     "text": [
      "School: University of Evansville\n"
     ]
    },
    {
     "name": "stderr",
     "output_type": "stream",
     "text": [
      "\n",
      " 30%|███       | 89/295 [02:35<02:13,  1.54it/s]\u001b[A"
     ]
    },
    {
     "name": "stdout",
     "output_type": "stream",
     "text": [
      "School: Fairfield University\n",
      "bad test_scores for Fairfield University\n"
     ]
    },
    {
     "name": "stderr",
     "output_type": "stream",
     "text": [
      "\n",
      " 31%|███       | 90/295 [02:36<01:59,  1.72it/s]\u001b[A"
     ]
    },
    {
     "name": "stdout",
     "output_type": "stream",
     "text": [
      "School: Farmingdale State College (SUNY)\n",
      "bad description for Farmingdale State College (SUNY)\n"
     ]
    },
    {
     "name": "stderr",
     "output_type": "stream",
     "text": [
      "\n",
      " 31%|███       | 91/295 [02:36<01:59,  1.70it/s]\u001b[A"
     ]
    },
    {
     "name": "stdout",
     "output_type": "stream",
     "text": [
      "School: University of Florida\n",
      "School: Florida Atlantic University\n",
      "bad description for Florida Atlantic University\n",
      "bad teaching_tenure for Florida Atlantic University\n",
      "bad tuition for Florida Atlantic University\n",
      "bad test_scores for Florida Atlantic University\n",
      "bad enrollment for Florida Atlantic University\n"
     ]
    },
    {
     "name": "stderr",
     "output_type": "stream",
     "text": [
      "Some characters could not be decoded, and were replaced with REPLACEMENT CHARACTER.\n",
      "\n",
      " 32%|███▏      | 93/295 [02:39<02:31,  1.33it/s]\u001b[A"
     ]
    },
    {
     "name": "stdout",
     "output_type": "stream",
     "text": [
      "School: Florida International University\n"
     ]
    },
    {
     "name": "stderr",
     "output_type": "stream",
     "text": [
      "\n",
      " 32%|███▏      | 94/295 [02:39<02:13,  1.51it/s]\u001b[A"
     ]
    },
    {
     "name": "stdout",
     "output_type": "stream",
     "text": [
      "School: FAMU-FSU College of Engineering\n"
     ]
    },
    {
     "name": "stderr",
     "output_type": "stream",
     "text": [
      "\n",
      " 32%|███▏      | 95/295 [02:40<01:52,  1.77it/s]\u001b[A"
     ]
    },
    {
     "name": "stdout",
     "output_type": "stream",
     "text": [
      "School: Gannon University\n"
     ]
    },
    {
     "name": "stderr",
     "output_type": "stream",
     "text": [
      "\n",
      " 33%|███▎      | 96/295 [02:40<01:36,  2.06it/s]\u001b[A"
     ]
    },
    {
     "name": "stdout",
     "output_type": "stream",
     "text": [
      "School: George Fox University\n"
     ]
    },
    {
     "name": "stderr",
     "output_type": "stream",
     "text": [
      "\n",
      " 33%|███▎      | 97/295 [02:40<01:35,  2.08it/s]\u001b[A"
     ]
    },
    {
     "name": "stdout",
     "output_type": "stream",
     "text": [
      "School: George Mason University\n"
     ]
    },
    {
     "name": "stderr",
     "output_type": "stream",
     "text": [
      "\n"
     ]
    },
    {
     "name": "stdout",
     "output_type": "stream",
     "text": [
      "School: The George Washington University\n",
      "bad description for The George Washington University\n",
      "bad test_scores for The George Washington University\n"
     ]
    },
    {
     "name": "stderr",
     "output_type": "stream",
     "text": [
      " 33%|███▎      | 98/295 [02:41<01:40,  1.95it/s]\u001b[A\n",
      " 34%|███▎      | 99/295 [02:42<02:21,  1.38it/s]\u001b[A"
     ]
    },
    {
     "name": "stdout",
     "output_type": "stream",
     "text": [
      "School: University of Georgia\n"
     ]
    },
    {
     "name": "stderr",
     "output_type": "stream",
     "text": [
      "\n",
      " 34%|███▍      | 100/295 [02:43<02:25,  1.34it/s]\u001b[A"
     ]
    },
    {
     "name": "stdout",
     "output_type": "stream",
     "text": [
      "School: Georgia Institute of Technology\n"
     ]
    },
    {
     "name": "stderr",
     "output_type": "stream",
     "text": [
      "Some characters could not be decoded, and were replaced with REPLACEMENT CHARACTER.\n",
      "\n",
      " 34%|███▍      | 101/295 [02:44<02:36,  1.24it/s]\u001b[A"
     ]
    },
    {
     "name": "stdout",
     "output_type": "stream",
     "text": [
      "School: Georgia Southern University\n"
     ]
    },
    {
     "name": "stderr",
     "output_type": "stream",
     "text": [
      "\n",
      " 35%|███▍      | 102/295 [02:44<02:03,  1.57it/s]\u001b[A"
     ]
    },
    {
     "name": "stdout",
     "output_type": "stream",
     "text": [
      "School: Gonzaga University\n"
     ]
    },
    {
     "name": "stderr",
     "output_type": "stream",
     "text": [
      "\n",
      " 35%|███▍      | 103/295 [02:44<01:40,  1.92it/s]\u001b[A"
     ]
    },
    {
     "name": "stdout",
     "output_type": "stream",
     "text": [
      "School: Grand Valley State University\n"
     ]
    },
    {
     "name": "stderr",
     "output_type": "stream",
     "text": [
      "\n",
      " 35%|███▌      | 104/295 [02:45<01:23,  2.30it/s]\u001b[A"
     ]
    },
    {
     "name": "stdout",
     "output_type": "stream",
     "text": [
      "School: Grove City College\n"
     ]
    },
    {
     "name": "stderr",
     "output_type": "stream",
     "text": [
      "\n",
      " 36%|███▌      | 105/295 [02:47<03:09,  1.00it/s]\u001b[A"
     ]
    },
    {
     "name": "stdout",
     "output_type": "stream",
     "text": [
      "School: Harvard University\n"
     ]
    },
    {
     "name": "stderr",
     "output_type": "stream",
     "text": [
      "\n",
      " 36%|███▌      | 106/295 [02:47<02:32,  1.24it/s]\u001b[A"
     ]
    },
    {
     "name": "stdout",
     "output_type": "stream",
     "text": [
      "School: Harvey Mudd College\n"
     ]
    },
    {
     "name": "stderr",
     "output_type": "stream",
     "text": [
      "Some characters could not be decoded, and were replaced with REPLACEMENT CHARACTER.\n",
      "\n",
      " 36%|███▋      | 107/295 [02:49<03:32,  1.13s/it]\u001b[A"
     ]
    },
    {
     "name": "stdout",
     "output_type": "stream",
     "text": [
      "School: University of Hawaii at Manoa\n"
     ]
    },
    {
     "name": "stderr",
     "output_type": "stream",
     "text": [
      "\n",
      " 37%|███▋      | 108/295 [02:49<02:42,  1.15it/s]\u001b[A"
     ]
    },
    {
     "name": "stdout",
     "output_type": "stream",
     "text": [
      "School: Hofstra University\n"
     ]
    },
    {
     "name": "stderr",
     "output_type": "stream",
     "text": [
      "\n",
      " 37%|███▋      | 109/295 [02:50<02:25,  1.28it/s]\u001b[A"
     ]
    },
    {
     "name": "stdout",
     "output_type": "stream",
     "text": [
      "School: University of Houston\n"
     ]
    },
    {
     "name": "stderr",
     "output_type": "stream",
     "text": [
      "\n",
      " 37%|███▋      | 110/295 [02:52<03:18,  1.07s/it]\u001b[A"
     ]
    },
    {
     "name": "stdout",
     "output_type": "stream",
     "text": [
      "School: University of Houston, College of Technology\n",
      "bad description for University of Houston, College of Technology\n"
     ]
    },
    {
     "name": "stderr",
     "output_type": "stream",
     "text": [
      "\n",
      " 38%|███▊      | 111/295 [02:55<05:01,  1.64s/it]\u001b[A\n",
      " 38%|███▊      | 112/295 [02:55<03:36,  1.18s/it]\u001b[A"
     ]
    },
    {
     "name": "stdout",
     "output_type": "stream",
     "text": [
      "School: Howard University\n",
      "School: Humboldt State University\n"
     ]
    },
    {
     "name": "stderr",
     "output_type": "stream",
     "text": [
      "\n",
      " 38%|███▊      | 113/295 [02:57<04:47,  1.58s/it]\u001b[A"
     ]
    },
    {
     "name": "stdout",
     "output_type": "stream",
     "text": [
      "School: University of Idaho\n"
     ]
    },
    {
     "name": "stderr",
     "output_type": "stream",
     "text": [
      "\n",
      " 39%|███▊      | 114/295 [02:58<04:00,  1.33s/it]\u001b[A"
     ]
    },
    {
     "name": "stdout",
     "output_type": "stream",
     "text": [
      "School: Illinois Institute of Technology\n"
     ]
    },
    {
     "name": "stderr",
     "output_type": "stream",
     "text": [
      "\n",
      " 39%|███▉      | 115/295 [02:58<03:10,  1.06s/it]\u001b[A"
     ]
    },
    {
     "name": "stdout",
     "output_type": "stream",
     "text": [
      "School: University of Illinois at Chicago\n"
     ]
    },
    {
     "name": "stderr",
     "output_type": "stream",
     "text": [
      "Some characters could not be decoded, and were replaced with REPLACEMENT CHARACTER.\n",
      "\n",
      " 39%|███▉      | 116/295 [03:04<07:21,  2.47s/it]\u001b[A"
     ]
    },
    {
     "name": "stdout",
     "output_type": "stream",
     "text": [
      "School: University of Illinois at Urbana-Champaign\n"
     ]
    },
    {
     "name": "stderr",
     "output_type": "stream",
     "text": [
      "\n",
      " 40%|███▉      | 117/295 [03:05<05:41,  1.92s/it]\u001b[A"
     ]
    },
    {
     "name": "stdout",
     "output_type": "stream",
     "text": [
      "School: Indiana University-Purdue University Indianapolis\n"
     ]
    },
    {
     "name": "stderr",
     "output_type": "stream",
     "text": [
      "\n",
      " 40%|████      | 118/295 [03:07<05:43,  1.94s/it]\u001b[A"
     ]
    },
    {
     "name": "stdout",
     "output_type": "stream",
     "text": [
      "School: The University of Iowa\n"
     ]
    },
    {
     "name": "stderr",
     "output_type": "stream",
     "text": [
      "Some characters could not be decoded, and were replaced with REPLACEMENT CHARACTER.\n",
      "\n",
      " 40%|████      | 119/295 [03:10<06:25,  2.19s/it]\u001b[A"
     ]
    },
    {
     "name": "stdout",
     "output_type": "stream",
     "text": [
      "School: Iowa State University\n",
      "School: James Madison University\n"
     ]
    },
    {
     "name": "stderr",
     "output_type": "stream",
     "text": [
      "\n",
      " 41%|████      | 120/295 [03:10<04:34,  1.57s/it]\u001b[A"
     ]
    },
    {
     "name": "stdout",
     "output_type": "stream",
     "text": [
      "bad test_scores for James Madison University\n",
      "School: John Brown University\n",
      "bad test_scores for John Brown University\n"
     ]
    },
    {
     "name": "stderr",
     "output_type": "stream",
     "text": [
      "\n",
      " 41%|████      | 121/295 [03:10<03:22,  1.17s/it]\u001b[ASome characters could not be decoded, and were replaced with REPLACEMENT CHARACTER.\n",
      "\n",
      " 41%|████▏     | 122/295 [03:16<07:36,  2.64s/it]\u001b[A"
     ]
    },
    {
     "name": "stdout",
     "output_type": "stream",
     "text": [
      "School: The Johns Hopkins University\n"
     ]
    },
    {
     "name": "stderr",
     "output_type": "stream",
     "text": [
      "\n",
      " 42%|████▏     | 123/295 [03:17<05:50,  2.04s/it]\u001b[A"
     ]
    },
    {
     "name": "stdout",
     "output_type": "stream",
     "text": [
      "School: University of Kansas\n"
     ]
    },
    {
     "name": "stderr",
     "output_type": "stream",
     "text": [
      "\n",
      " 42%|████▏     | 124/295 [03:17<04:27,  1.57s/it]\u001b[A"
     ]
    },
    {
     "name": "stdout",
     "output_type": "stream",
     "text": [
      "School: Kennesaw State University\n"
     ]
    },
    {
     "name": "stderr",
     "output_type": "stream",
     "text": [
      "Some characters could not be decoded, and were replaced with REPLACEMENT CHARACTER.\n",
      "\n",
      " 42%|████▏     | 125/295 [03:19<04:24,  1.56s/it]\u001b[A"
     ]
    },
    {
     "name": "stdout",
     "output_type": "stream",
     "text": [
      "School: University of Kentucky\n"
     ]
    },
    {
     "name": "stderr",
     "output_type": "stream",
     "text": [
      "\n",
      " 43%|████▎     | 126/295 [03:19<03:21,  1.19s/it]\u001b[A"
     ]
    },
    {
     "name": "stdout",
     "output_type": "stream",
     "text": [
      "School: Kettering University\n"
     ]
    },
    {
     "name": "stderr",
     "output_type": "stream",
     "text": [
      "\n",
      " 43%|████▎     | 127/295 [03:19<02:33,  1.10it/s]\u001b[A"
     ]
    },
    {
     "name": "stdout",
     "output_type": "stream",
     "text": [
      "School: Lafayette College\n"
     ]
    },
    {
     "name": "stderr",
     "output_type": "stream",
     "text": [
      "\n",
      " 43%|████▎     | 128/295 [03:20<02:20,  1.19it/s]\u001b[A"
     ]
    },
    {
     "name": "stdout",
     "output_type": "stream",
     "text": [
      "School: Lehigh University\n"
     ]
    },
    {
     "name": "stderr",
     "output_type": "stream",
     "text": [
      "\n",
      " 44%|████▎     | 129/295 [03:21<02:08,  1.30it/s]\u001b[A"
     ]
    },
    {
     "name": "stdout",
     "output_type": "stream",
     "text": [
      "School: Liberty University\n"
     ]
    },
    {
     "name": "stderr",
     "output_type": "stream",
     "text": [
      "\n",
      " 44%|████▍     | 130/295 [03:26<05:38,  2.05s/it]\u001b[A"
     ]
    },
    {
     "name": "stdout",
     "output_type": "stream",
     "text": [
      "School: Louisiana State University\n"
     ]
    },
    {
     "name": "stderr",
     "output_type": "stream",
     "text": [
      "\n",
      " 44%|████▍     | 131/295 [03:26<04:27,  1.63s/it]\u001b[A"
     ]
    },
    {
     "name": "stdout",
     "output_type": "stream",
     "text": [
      "School: Louisiana Tech University\n"
     ]
    },
    {
     "name": "stderr",
     "output_type": "stream",
     "text": [
      "\n",
      " 45%|████▍     | 132/295 [03:29<05:02,  1.86s/it]\u001b[A"
     ]
    },
    {
     "name": "stdout",
     "output_type": "stream",
     "text": [
      "School: University of Louisiana at Lafayette\n"
     ]
    },
    {
     "name": "stderr",
     "output_type": "stream",
     "text": [
      "\n",
      " 45%|████▌     | 133/295 [03:29<03:53,  1.44s/it]\u001b[A"
     ]
    },
    {
     "name": "stdout",
     "output_type": "stream",
     "text": [
      "School: University of Louisville\n"
     ]
    },
    {
     "name": "stderr",
     "output_type": "stream",
     "text": [
      "\n",
      " 45%|████▌     | 134/295 [03:29<02:53,  1.08s/it]\u001b[A"
     ]
    },
    {
     "name": "stdout",
     "output_type": "stream",
     "text": [
      "School: Loyola Marymount University\n"
     ]
    },
    {
     "name": "stderr",
     "output_type": "stream",
     "text": [
      "\n",
      " 46%|████▌     | 135/295 [03:30<02:27,  1.09it/s]\u001b[A"
     ]
    },
    {
     "name": "stdout",
     "output_type": "stream",
     "text": [
      "School: University of Maine\n"
     ]
    },
    {
     "name": "stderr",
     "output_type": "stream",
     "text": [
      "\n",
      " 46%|████▌     | 136/295 [03:30<01:57,  1.35it/s]\u001b[A"
     ]
    },
    {
     "name": "stdout",
     "output_type": "stream",
     "text": [
      "School: Manhattan College\n"
     ]
    },
    {
     "name": "stderr",
     "output_type": "stream",
     "text": [
      "\n",
      " 46%|████▋     | 137/295 [03:31<01:42,  1.54it/s]\u001b[A"
     ]
    },
    {
     "name": "stdout",
     "output_type": "stream",
     "text": [
      "School: Marquette University\n"
     ]
    },
    {
     "name": "stderr",
     "output_type": "stream",
     "text": [
      "\n",
      " 47%|████▋     | 138/295 [03:32<02:28,  1.06it/s]\u001b[A"
     ]
    },
    {
     "name": "stdout",
     "output_type": "stream",
     "text": [
      "School: Marshall University \n"
     ]
    },
    {
     "name": "stderr",
     "output_type": "stream",
     "text": [
      "Some characters could not be decoded, and were replaced with REPLACEMENT CHARACTER.\n",
      "\n",
      " 47%|████▋     | 139/295 [03:33<02:30,  1.03it/s]\u001b[A"
     ]
    },
    {
     "name": "stdout",
     "output_type": "stream",
     "text": [
      "School: University of Maryland, Baltimore County\n"
     ]
    },
    {
     "name": "stderr",
     "output_type": "stream",
     "text": [
      "\n",
      " 47%|████▋     | 140/295 [03:34<02:11,  1.18it/s]\u001b[A"
     ]
    },
    {
     "name": "stdout",
     "output_type": "stream",
     "text": [
      "School: University of Maryland, College Park\n"
     ]
    },
    {
     "name": "stderr",
     "output_type": "stream",
     "text": [
      "Some characters could not be decoded, and were replaced with REPLACEMENT CHARACTER.\n",
      "\n",
      " 48%|████▊     | 141/295 [03:38<04:58,  1.94s/it]\u001b[A"
     ]
    },
    {
     "name": "stdout",
     "output_type": "stream",
     "text": [
      "School: Massachusetts Institute of Technology\n"
     ]
    },
    {
     "name": "stderr",
     "output_type": "stream",
     "text": [
      "\n",
      " 48%|████▊     | 142/295 [03:39<03:49,  1.50s/it]\u001b[A"
     ]
    },
    {
     "name": "stdout",
     "output_type": "stream",
     "text": [
      "School: University of Massachusetts Amherst\n"
     ]
    },
    {
     "name": "stderr",
     "output_type": "stream",
     "text": [
      "\n",
      " 48%|████▊     | 143/295 [03:39<02:56,  1.16s/it]\u001b[A"
     ]
    },
    {
     "name": "stdout",
     "output_type": "stream",
     "text": [
      "School: University of Massachusetts Dartmouth\n"
     ]
    },
    {
     "name": "stderr",
     "output_type": "stream",
     "text": [
      "\n",
      " 49%|████▉     | 144/295 [03:40<02:31,  1.00s/it]\u001b[A"
     ]
    },
    {
     "name": "stdout",
     "output_type": "stream",
     "text": [
      "School: University of Massachusetts Lowell\n"
     ]
    },
    {
     "name": "stderr",
     "output_type": "stream",
     "text": [
      "Some characters could not be decoded, and were replaced with REPLACEMENT CHARACTER.\n",
      "\n",
      " 49%|████▉     | 145/295 [03:42<03:41,  1.48s/it]\u001b[A"
     ]
    },
    {
     "name": "stdout",
     "output_type": "stream",
     "text": [
      "School: McMaster University\n"
     ]
    },
    {
     "name": "stderr",
     "output_type": "stream",
     "text": [
      "\n",
      " 49%|████▉     | 146/295 [03:43<02:50,  1.15s/it]\u001b[A"
     ]
    },
    {
     "name": "stdout",
     "output_type": "stream",
     "text": [
      "School: The University of Memphis\n"
     ]
    },
    {
     "name": "stderr",
     "output_type": "stream",
     "text": [
      "\n",
      " 50%|████▉     | 147/295 [03:43<02:21,  1.05it/s]\u001b[A"
     ]
    },
    {
     "name": "stdout",
     "output_type": "stream",
     "text": [
      "School: Mercer University\n"
     ]
    },
    {
     "name": "stderr",
     "output_type": "stream",
     "text": [
      "\n",
      " 50%|█████     | 148/295 [03:44<01:59,  1.23it/s]\u001b[A"
     ]
    },
    {
     "name": "stdout",
     "output_type": "stream",
     "text": [
      "School: University of Miami\n"
     ]
    },
    {
     "name": "stderr",
     "output_type": "stream",
     "text": [
      "\n",
      " 51%|█████     | 149/295 [03:44<01:41,  1.44it/s]\u001b[A"
     ]
    },
    {
     "name": "stdout",
     "output_type": "stream",
     "text": [
      "School: Miami University\n",
      "School: University of Michigan\n"
     ]
    },
    {
     "name": "stderr",
     "output_type": "stream",
     "text": [
      "\n",
      " 51%|█████     | 150/295 [03:56<09:50,  4.07s/it]\u001b[A\n",
      " 51%|█████     | 151/295 [03:57<07:14,  3.02s/it]\u001b[A"
     ]
    },
    {
     "name": "stdout",
     "output_type": "stream",
     "text": [
      "School: Michigan State University\n"
     ]
    },
    {
     "name": "stderr",
     "output_type": "stream",
     "text": [
      "\n",
      " 52%|█████▏    | 152/295 [03:58<05:38,  2.37s/it]\u001b[A"
     ]
    },
    {
     "name": "stdout",
     "output_type": "stream",
     "text": [
      "School: Michigan Technological University\n",
      "School: Middle Tennessee State University\n",
      "bad tuition for Middle Tennessee State University\n",
      "bad test_scores for Middle Tennessee State University\n",
      "bad enrollment for Middle Tennessee State University\n"
     ]
    },
    {
     "name": "stderr",
     "output_type": "stream",
     "text": [
      "\n",
      " 52%|█████▏    | 154/295 [03:58<04:02,  1.72s/it]\u001b[A"
     ]
    },
    {
     "name": "stdout",
     "output_type": "stream",
     "text": [
      "School: Milwaukee School of Engineering\n"
     ]
    },
    {
     "name": "stderr",
     "output_type": "stream",
     "text": [
      "\n",
      " 53%|█████▎    | 155/295 [03:58<03:02,  1.31s/it]\u001b[A"
     ]
    },
    {
     "name": "stdout",
     "output_type": "stream",
     "text": [
      "School: Minnesota State University, Mankato\n"
     ]
    },
    {
     "name": "stderr",
     "output_type": "stream",
     "text": [
      "\n",
      " 53%|█████▎    | 156/295 [03:59<02:32,  1.10s/it]\u001b[A"
     ]
    },
    {
     "name": "stdout",
     "output_type": "stream",
     "text": [
      "School: University of Minnesota -Twin Cities\n"
     ]
    },
    {
     "name": "stderr",
     "output_type": "stream",
     "text": [
      "\n",
      " 53%|█████▎    | 157/295 [04:01<02:58,  1.29s/it]\u001b[A"
     ]
    },
    {
     "name": "stdout",
     "output_type": "stream",
     "text": [
      "School: The University of Mississippi\n"
     ]
    },
    {
     "name": "stderr",
     "output_type": "stream",
     "text": [
      "Some characters could not be decoded, and were replaced with REPLACEMENT CHARACTER.\n",
      "\n",
      " 54%|█████▎    | 158/295 [04:03<03:30,  1.53s/it]\u001b[A"
     ]
    },
    {
     "name": "stdout",
     "output_type": "stream",
     "text": [
      "School: Mississippi State University\n"
     ]
    },
    {
     "name": "stderr",
     "output_type": "stream",
     "text": [
      "\n",
      " 54%|█████▍    | 159/295 [04:03<02:45,  1.22s/it]\u001b[A"
     ]
    },
    {
     "name": "stdout",
     "output_type": "stream",
     "text": [
      "School: University of Missouri\n"
     ]
    },
    {
     "name": "stderr",
     "output_type": "stream",
     "text": [
      "\n",
      " 54%|█████▍    | 160/295 [04:04<02:12,  1.02it/s]\u001b[A"
     ]
    },
    {
     "name": "stdout",
     "output_type": "stream",
     "text": [
      "School: University of Missouri - Kansas City\n"
     ]
    },
    {
     "name": "stderr",
     "output_type": "stream",
     "text": [
      "\n",
      " 55%|█████▍    | 161/295 [04:04<02:04,  1.08it/s]\u001b[A"
     ]
    },
    {
     "name": "stdout",
     "output_type": "stream",
     "text": [
      "School: Missouri University of Science and Technology\n"
     ]
    },
    {
     "name": "stderr",
     "output_type": "stream",
     "text": [
      "Some characters could not be decoded, and were replaced with REPLACEMENT CHARACTER.\n",
      "\n",
      " 55%|█████▍    | 162/295 [04:06<02:46,  1.25s/it]\u001b[A"
     ]
    },
    {
     "name": "stdout",
     "output_type": "stream",
     "text": [
      "School: Montana State University\n"
     ]
    },
    {
     "name": "stderr",
     "output_type": "stream",
     "text": [
      "\n",
      " 55%|█████▌    | 163/295 [04:09<03:24,  1.55s/it]\u001b[A"
     ]
    },
    {
     "name": "stdout",
     "output_type": "stream",
     "text": [
      "School: University of Nebraska, Lincoln\n"
     ]
    },
    {
     "name": "stderr",
     "output_type": "stream",
     "text": [
      "Some characters could not be decoded, and were replaced with REPLACEMENT CHARACTER.\n",
      "\n",
      " 56%|█████▌    | 164/295 [04:11<03:38,  1.67s/it]\u001b[A"
     ]
    },
    {
     "name": "stdout",
     "output_type": "stream",
     "text": [
      "School: University of Nevada, Las Vegas\n"
     ]
    },
    {
     "name": "stderr",
     "output_type": "stream",
     "text": [
      "\n",
      " 56%|█████▌    | 165/295 [04:11<02:52,  1.32s/it]\u001b[A"
     ]
    },
    {
     "name": "stdout",
     "output_type": "stream",
     "text": [
      "School: University of Nevada, Reno\n"
     ]
    },
    {
     "name": "stderr",
     "output_type": "stream",
     "text": [
      "\n",
      " 56%|█████▋    | 166/295 [04:12<02:16,  1.06s/it]\u001b[A"
     ]
    },
    {
     "name": "stdout",
     "output_type": "stream",
     "text": [
      "School: University of New Hampshire\n"
     ]
    },
    {
     "name": "stderr",
     "output_type": "stream",
     "text": [
      "\n",
      " 57%|█████▋    | 167/295 [04:12<01:51,  1.15it/s]\u001b[A"
     ]
    },
    {
     "name": "stdout",
     "output_type": "stream",
     "text": [
      "School: University of New Haven\n"
     ]
    },
    {
     "name": "stderr",
     "output_type": "stream",
     "text": [
      "\n",
      " 57%|█████▋    | 168/295 [04:13<01:50,  1.14it/s]\u001b[A"
     ]
    },
    {
     "name": "stdout",
     "output_type": "stream",
     "text": [
      "School: New Jersey Institute of Technology\n"
     ]
    },
    {
     "name": "stderr",
     "output_type": "stream",
     "text": [
      "Some characters could not be decoded, and were replaced with REPLACEMENT CHARACTER.\n",
      "\n",
      " 57%|█████▋    | 169/295 [04:15<02:18,  1.10s/it]\u001b[A"
     ]
    },
    {
     "name": "stdout",
     "output_type": "stream",
     "text": [
      "School: The University of New Mexico\n"
     ]
    },
    {
     "name": "stderr",
     "output_type": "stream",
     "text": [
      "\n",
      " 58%|█████▊    | 170/295 [04:15<01:51,  1.12it/s]\u001b[A"
     ]
    },
    {
     "name": "stdout",
     "output_type": "stream",
     "text": [
      "School: New York Institute of Technology\n"
     ]
    },
    {
     "name": "stderr",
     "output_type": "stream",
     "text": [
      "\n",
      " 58%|█████▊    | 171/295 [04:18<03:25,  1.66s/it]\u001b[A"
     ]
    },
    {
     "name": "stdout",
     "output_type": "stream",
     "text": [
      "School: NYU Tandon School of Engineering\n"
     ]
    },
    {
     "name": "stderr",
     "output_type": "stream",
     "text": [
      "\n",
      " 58%|█████▊    | 172/295 [04:21<03:52,  1.89s/it]\u001b[A"
     ]
    },
    {
     "name": "stdout",
     "output_type": "stream",
     "text": [
      "School: North Carolina A&T State University\n"
     ]
    },
    {
     "name": "stderr",
     "output_type": "stream",
     "text": [
      "\n",
      " 59%|█████▊    | 173/295 [04:26<05:36,  2.76s/it]\u001b[A"
     ]
    },
    {
     "name": "stdout",
     "output_type": "stream",
     "text": [
      "School: North Carolina State University\n"
     ]
    },
    {
     "name": "stderr",
     "output_type": "stream",
     "text": [
      "\n",
      " 59%|█████▉    | 174/295 [04:26<04:19,  2.15s/it]\u001b[A"
     ]
    },
    {
     "name": "stdout",
     "output_type": "stream",
     "text": [
      "School: University of North Carolina at Charlotte\n"
     ]
    },
    {
     "name": "stderr",
     "output_type": "stream",
     "text": [
      "\n",
      " 59%|█████▉    | 175/295 [04:27<03:19,  1.67s/it]\u001b[A"
     ]
    },
    {
     "name": "stdout",
     "output_type": "stream",
     "text": [
      "School: North Dakota State University\n",
      "bad test_scores for North Dakota State University\n"
     ]
    },
    {
     "name": "stderr",
     "output_type": "stream",
     "text": [
      "\n",
      " 60%|█████▉    | 176/295 [04:27<02:38,  1.33s/it]\u001b[A"
     ]
    },
    {
     "name": "stdout",
     "output_type": "stream",
     "text": [
      "School: University of North Texas\n"
     ]
    },
    {
     "name": "stderr",
     "output_type": "stream",
     "text": [
      "\n",
      " 60%|██████    | 177/295 [04:28<02:18,  1.17s/it]\u001b[A"
     ]
    },
    {
     "name": "stdout",
     "output_type": "stream",
     "text": [
      "School: Northeastern University\n"
     ]
    },
    {
     "name": "stderr",
     "output_type": "stream",
     "text": [
      "\n",
      " 60%|██████    | 178/295 [04:31<03:28,  1.78s/it]\u001b[A"
     ]
    },
    {
     "name": "stdout",
     "output_type": "stream",
     "text": [
      "School: Northern Illinois University\n"
     ]
    },
    {
     "name": "stderr",
     "output_type": "stream",
     "text": [
      "\n",
      " 61%|██████    | 179/295 [04:32<02:47,  1.45s/it]\u001b[A"
     ]
    },
    {
     "name": "stdout",
     "output_type": "stream",
     "text": [
      "School: Northwestern University\n"
     ]
    },
    {
     "name": "stderr",
     "output_type": "stream",
     "text": [
      "\n",
      " 61%|██████    | 180/295 [04:33<02:13,  1.16s/it]\u001b[A"
     ]
    },
    {
     "name": "stdout",
     "output_type": "stream",
     "text": [
      "School: University of Notre Dame\n"
     ]
    },
    {
     "name": "stderr",
     "output_type": "stream",
     "text": [
      "\n",
      " 61%|██████▏   | 181/295 [04:33<01:51,  1.02it/s]\u001b[A"
     ]
    },
    {
     "name": "stdout",
     "output_type": "stream",
     "text": [
      "School: Oakland University\n"
     ]
    },
    {
     "name": "stderr",
     "output_type": "stream",
     "text": [
      "\n",
      " 62%|██████▏   | 182/295 [04:33<01:25,  1.33it/s]\u001b[A"
     ]
    },
    {
     "name": "stdout",
     "output_type": "stream",
     "text": [
      "School: Ohio Northern University\n"
     ]
    },
    {
     "name": "stderr",
     "output_type": "stream",
     "text": [
      "Some characters could not be decoded, and were replaced with REPLACEMENT CHARACTER.\n",
      "\n",
      " 62%|██████▏   | 183/295 [04:36<02:15,  1.21s/it]\u001b[A"
     ]
    },
    {
     "name": "stdout",
     "output_type": "stream",
     "text": [
      "School: The Ohio State University\n"
     ]
    },
    {
     "name": "stderr",
     "output_type": "stream",
     "text": [
      "\n",
      " 62%|██████▏   | 184/295 [04:36<01:55,  1.04s/it]\u001b[A"
     ]
    },
    {
     "name": "stdout",
     "output_type": "stream",
     "text": [
      "School: Ohio University\n"
     ]
    },
    {
     "name": "stderr",
     "output_type": "stream",
     "text": [
      "\n",
      " 63%|██████▎   | 185/295 [04:37<01:41,  1.08it/s]\u001b[A"
     ]
    },
    {
     "name": "stdout",
     "output_type": "stream",
     "text": [
      "School: University of Oklahoma, Gallogly College of Engineering\n"
     ]
    },
    {
     "name": "stderr",
     "output_type": "stream",
     "text": [
      "Some characters could not be decoded, and were replaced with REPLACEMENT CHARACTER.\n",
      "\n",
      " 63%|██████▎   | 186/295 [04:39<02:24,  1.32s/it]\u001b[A"
     ]
    },
    {
     "name": "stdout",
     "output_type": "stream",
     "text": [
      "School: Oklahoma State University\n"
     ]
    },
    {
     "name": "stderr",
     "output_type": "stream",
     "text": [
      "\n",
      " 63%|██████▎   | 187/295 [04:40<01:56,  1.08s/it]\u001b[A"
     ]
    },
    {
     "name": "stdout",
     "output_type": "stream",
     "text": [
      "School: Old Dominion University\n",
      "School: Olin College of Engineering\n"
     ]
    },
    {
     "name": "stderr",
     "output_type": "stream",
     "text": [
      "\n",
      " 64%|██████▎   | 188/295 [04:40<01:25,  1.25it/s]\u001b[A\n",
      " 64%|██████▍   | 189/295 [04:43<02:31,  1.43s/it]\u001b[A"
     ]
    },
    {
     "name": "stdout",
     "output_type": "stream",
     "text": [
      "School: Oregon Institute of Technology\n"
     ]
    },
    {
     "name": "stderr",
     "output_type": "stream",
     "text": [
      "\n",
      " 64%|██████▍   | 190/295 [04:45<03:01,  1.73s/it]\u001b[A"
     ]
    },
    {
     "name": "stdout",
     "output_type": "stream",
     "text": [
      "School: Oregon State University\n"
     ]
    },
    {
     "name": "stderr",
     "output_type": "stream",
     "text": [
      "\n",
      " 65%|██████▍   | 191/295 [04:46<02:22,  1.37s/it]\u001b[A"
     ]
    },
    {
     "name": "stdout",
     "output_type": "stream",
     "text": [
      "School: University of Ottawa, Faculty of Engineering\n"
     ]
    },
    {
     "name": "stderr",
     "output_type": "stream",
     "text": [
      "\n",
      " 65%|██████▌   | 192/295 [04:46<01:49,  1.06s/it]\u001b[A"
     ]
    },
    {
     "name": "stdout",
     "output_type": "stream",
     "text": [
      "School: University of the Pacific\n"
     ]
    },
    {
     "name": "stderr",
     "output_type": "stream",
     "text": [
      "\n",
      " 65%|██████▌   | 193/295 [04:47<01:35,  1.06it/s]\u001b[A"
     ]
    },
    {
     "name": "stdout",
     "output_type": "stream",
     "text": [
      "School: University of Pennsylvania\n"
     ]
    },
    {
     "name": "stderr",
     "output_type": "stream",
     "text": [
      "\n",
      " 66%|██████▌   | 194/295 [04:47<01:19,  1.27it/s]\u001b[A"
     ]
    },
    {
     "name": "stdout",
     "output_type": "stream",
     "text": [
      "School: Penn State Erie, The Behrend College\n"
     ]
    },
    {
     "name": "stderr",
     "output_type": "stream",
     "text": [
      "Some characters could not be decoded, and were replaced with REPLACEMENT CHARACTER.\n",
      "\n",
      " 66%|██████▌   | 195/295 [04:51<02:35,  1.55s/it]\u001b[A"
     ]
    },
    {
     "name": "stdout",
     "output_type": "stream",
     "text": [
      "School: The Pennsylvania State University\n"
     ]
    },
    {
     "name": "stderr",
     "output_type": "stream",
     "text": [
      "\n",
      " 66%|██████▋   | 196/295 [04:52<02:40,  1.62s/it]\u001b[A"
     ]
    },
    {
     "name": "stdout",
     "output_type": "stream",
     "text": [
      "School: University of Pittsburgh\n"
     ]
    },
    {
     "name": "stderr",
     "output_type": "stream",
     "text": [
      "\n",
      " 67%|██████▋   | 197/295 [04:53<01:58,  1.21s/it]\u001b[A"
     ]
    },
    {
     "name": "stdout",
     "output_type": "stream",
     "text": [
      "School: University of Portland\n"
     ]
    },
    {
     "name": "stderr",
     "output_type": "stream",
     "text": [
      "\n",
      " 67%|██████▋   | 198/295 [04:53<01:31,  1.06it/s]\u001b[A"
     ]
    },
    {
     "name": "stdout",
     "output_type": "stream",
     "text": [
      "School: Portland State University\n"
     ]
    },
    {
     "name": "stderr",
     "output_type": "stream",
     "text": [
      "\n",
      " 67%|██████▋   | 199/295 [04:53<01:17,  1.24it/s]\u001b[A"
     ]
    },
    {
     "name": "stdout",
     "output_type": "stream",
     "text": [
      "School: Princeton University\n"
     ]
    },
    {
     "name": "stderr",
     "output_type": "stream",
     "text": [
      "\n",
      " 68%|██████▊   | 200/295 [04:54<01:08,  1.38it/s]\u001b[A"
     ]
    },
    {
     "name": "stdout",
     "output_type": "stream",
     "text": [
      "School: University of Puerto Rico, Mayaguez Campus\n"
     ]
    },
    {
     "name": "stderr",
     "output_type": "stream",
     "text": [
      "\n",
      " 68%|██████▊   | 201/295 [04:54<00:54,  1.72it/s]\u001b[A"
     ]
    },
    {
     "name": "stdout",
     "output_type": "stream",
     "text": [
      "School: Purdue University Northwest\n"
     ]
    },
    {
     "name": "stderr",
     "output_type": "stream",
     "text": [
      "\n",
      " 68%|██████▊   | 202/295 [04:54<00:45,  2.04it/s]\u001b[A"
     ]
    },
    {
     "name": "stdout",
     "output_type": "stream",
     "text": [
      "School: Purdue University Northwest\n",
      "bad description for Purdue University Northwest\n"
     ]
    },
    {
     "name": "stderr",
     "output_type": "stream",
     "text": [
      "\n",
      " 69%|██████▉   | 203/295 [04:55<00:54,  1.70it/s]\u001b[A"
     ]
    },
    {
     "name": "stdout",
     "output_type": "stream",
     "text": [
      "School: Purdue University\n"
     ]
    },
    {
     "name": "stderr",
     "output_type": "stream",
     "text": [
      "Some characters could not be decoded, and were replaced with REPLACEMENT CHARACTER.\n",
      "\n",
      " 69%|██████▉   | 204/295 [05:00<02:40,  1.76s/it]\u001b[A"
     ]
    },
    {
     "name": "stdout",
     "output_type": "stream",
     "text": [
      "School: Rensselaer Polytechnic Institute\n"
     ]
    },
    {
     "name": "stderr",
     "output_type": "stream",
     "text": [
      "Some characters could not be decoded, and were replaced with REPLACEMENT CHARACTER.\n",
      "\n",
      " 69%|██████▉   | 205/295 [05:01<02:35,  1.73s/it]\u001b[A"
     ]
    },
    {
     "name": "stdout",
     "output_type": "stream",
     "text": [
      "School: University of Rhode Island\n"
     ]
    },
    {
     "name": "stderr",
     "output_type": "stream",
     "text": [
      "\n",
      " 70%|██████▉   | 206/295 [05:02<02:05,  1.41s/it]\u001b[A"
     ]
    },
    {
     "name": "stdout",
     "output_type": "stream",
     "text": [
      "School: William Marsh Rice University\n"
     ]
    },
    {
     "name": "stderr",
     "output_type": "stream",
     "text": [
      "\n",
      " 70%|███████   | 207/295 [05:02<01:38,  1.12s/it]\u001b[A"
     ]
    },
    {
     "name": "stdout",
     "output_type": "stream",
     "text": [
      "School: University of Rochester\n"
     ]
    },
    {
     "name": "stderr",
     "output_type": "stream",
     "text": [
      "\n",
      " 71%|███████   | 208/295 [05:03<01:24,  1.03it/s]\u001b[A"
     ]
    },
    {
     "name": "stdout",
     "output_type": "stream",
     "text": [
      "School: Rochester Institute of Technology\n"
     ]
    },
    {
     "name": "stderr",
     "output_type": "stream",
     "text": [
      "\n",
      " 71%|███████   | 209/295 [05:04<01:08,  1.25it/s]\u001b[A"
     ]
    },
    {
     "name": "stdout",
     "output_type": "stream",
     "text": [
      "School: Rose-Hulman Institute of Technology\n"
     ]
    },
    {
     "name": "stderr",
     "output_type": "stream",
     "text": [
      "\n",
      " 71%|███████   | 210/295 [05:04<00:57,  1.47it/s]\u001b[A"
     ]
    },
    {
     "name": "stdout",
     "output_type": "stream",
     "text": [
      "School: Rowan University\n"
     ]
    },
    {
     "name": "stderr",
     "output_type": "stream",
     "text": [
      "\n",
      " 72%|███████▏  | 211/295 [05:04<00:53,  1.58it/s]\u001b[A"
     ]
    },
    {
     "name": "stdout",
     "output_type": "stream",
     "text": [
      "School: Rutgers, The State University of New Jersey, School of Engineering\n"
     ]
    },
    {
     "name": "stderr",
     "output_type": "stream",
     "text": [
      "\n",
      " 72%|███████▏  | 212/295 [05:05<00:41,  1.98it/s]\u001b[A"
     ]
    },
    {
     "name": "stdout",
     "output_type": "stream",
     "text": [
      "School: Saginaw Valley State University\n"
     ]
    },
    {
     "name": "stderr",
     "output_type": "stream",
     "text": [
      "\n",
      " 72%|███████▏  | 213/295 [05:07<01:16,  1.07it/s]\u001b[A"
     ]
    },
    {
     "name": "stdout",
     "output_type": "stream",
     "text": [
      "School: Saint Louis University \n"
     ]
    },
    {
     "name": "stderr",
     "output_type": "stream",
     "text": [
      "\n",
      " 73%|███████▎  | 214/295 [05:07<01:00,  1.34it/s]\u001b[A"
     ]
    },
    {
     "name": "stdout",
     "output_type": "stream",
     "text": [
      "School: University of Saint Thomas\n"
     ]
    },
    {
     "name": "stderr",
     "output_type": "stream",
     "text": [
      "\n",
      " 73%|███████▎  | 215/295 [05:07<00:48,  1.63it/s]\u001b[A"
     ]
    },
    {
     "name": "stdout",
     "output_type": "stream",
     "text": [
      "School: University of San Diego\n"
     ]
    },
    {
     "name": "stderr",
     "output_type": "stream",
     "text": [
      "\n",
      " 73%|███████▎  | 216/295 [05:08<00:41,  1.88it/s]\u001b[A"
     ]
    },
    {
     "name": "stdout",
     "output_type": "stream",
     "text": [
      "School: San Diego State University\n"
     ]
    },
    {
     "name": "stderr",
     "output_type": "stream",
     "text": [
      "\n",
      " 74%|███████▎  | 217/295 [05:08<00:39,  1.97it/s]\u001b[A"
     ]
    },
    {
     "name": "stdout",
     "output_type": "stream",
     "text": [
      "School: San Jose State University\n"
     ]
    },
    {
     "name": "stderr",
     "output_type": "stream",
     "text": [
      "\n",
      " 74%|███████▍  | 218/295 [05:08<00:39,  1.97it/s]\u001b[A"
     ]
    },
    {
     "name": "stdout",
     "output_type": "stream",
     "text": [
      "School: Santa Clara University\n",
      "bad description for Santa Clara University\n"
     ]
    },
    {
     "name": "stderr",
     "output_type": "stream",
     "text": [
      "\n",
      " 74%|███████▍  | 219/295 [05:09<00:34,  2.18it/s]\u001b[A"
     ]
    },
    {
     "name": "stdout",
     "output_type": "stream",
     "text": [
      "School: Seattle University\n",
      "School: Smith College\n",
      "bad test_scores for Smith College\n"
     ]
    },
    {
     "name": "stderr",
     "output_type": "stream",
     "text": [
      "\n",
      " 75%|███████▍  | 220/295 [05:09<00:27,  2.74it/s]\u001b[A\n",
      " 75%|███████▍  | 221/295 [05:09<00:25,  2.93it/s]\u001b[A"
     ]
    },
    {
     "name": "stdout",
     "output_type": "stream",
     "text": [
      "School: University of South Alabama\n"
     ]
    },
    {
     "name": "stderr",
     "output_type": "stream",
     "text": [
      "Some characters could not be decoded, and were replaced with REPLACEMENT CHARACTER.\n",
      "\n",
      " 75%|███████▌  | 222/295 [05:11<00:44,  1.63it/s]\u001b[A"
     ]
    },
    {
     "name": "stdout",
     "output_type": "stream",
     "text": [
      "School: University of South Carolina\n"
     ]
    },
    {
     "name": "stderr",
     "output_type": "stream",
     "text": [
      "Some characters could not be decoded, and were replaced with REPLACEMENT CHARACTER.\n",
      "\n",
      " 76%|███████▌  | 223/295 [05:15<02:05,  1.74s/it]\u001b[A"
     ]
    },
    {
     "name": "stdout",
     "output_type": "stream",
     "text": [
      "School: South Dakota State University\n"
     ]
    },
    {
     "name": "stderr",
     "output_type": "stream",
     "text": [
      "\n",
      " 76%|███████▌  | 224/295 [05:15<01:38,  1.38s/it]\u001b[A"
     ]
    },
    {
     "name": "stdout",
     "output_type": "stream",
     "text": [
      "School: University of South Florida\n"
     ]
    },
    {
     "name": "stderr",
     "output_type": "stream",
     "text": [
      "Some characters could not be decoded, and were replaced with REPLACEMENT CHARACTER.\n"
     ]
    },
    {
     "name": "stdout",
     "output_type": "stream",
     "text": [
      "School: University of Southern California\n"
     ]
    },
    {
     "name": "stderr",
     "output_type": "stream",
     "text": [
      "\n",
      " 76%|███████▋  | 225/295 [05:21<03:00,  2.58s/it]\u001b[A\n",
      " 77%|███████▋  | 226/295 [05:21<02:14,  1.95s/it]\u001b[A"
     ]
    },
    {
     "name": "stdout",
     "output_type": "stream",
     "text": [
      "School: Southern Illinois University Carbondale\n"
     ]
    },
    {
     "name": "stderr",
     "output_type": "stream",
     "text": [
      "\n",
      " 77%|███████▋  | 227/295 [05:22<01:41,  1.49s/it]\u001b[A"
     ]
    },
    {
     "name": "stdout",
     "output_type": "stream",
     "text": [
      "School: Southern Illinois University Edwardsville\n",
      "bad test_scores for Southern Illinois University Edwardsville\n"
     ]
    },
    {
     "name": "stderr",
     "output_type": "stream",
     "text": [
      "\n",
      " 77%|███████▋  | 228/295 [05:22<01:24,  1.26s/it]\u001b[A"
     ]
    },
    {
     "name": "stdout",
     "output_type": "stream",
     "text": [
      "School: Southern Methodist University\n",
      "bad test_scores for Southern Methodist University\n"
     ]
    },
    {
     "name": "stderr",
     "output_type": "stream",
     "text": [
      "\n",
      " 78%|███████▊  | 229/295 [05:23<01:04,  1.02it/s]\u001b[A"
     ]
    },
    {
     "name": "stdout",
     "output_type": "stream",
     "text": [
      "School: St. Mary's University\n"
     ]
    },
    {
     "name": "stderr",
     "output_type": "stream",
     "text": [
      "Some characters could not be decoded, and were replaced with REPLACEMENT CHARACTER.\n"
     ]
    },
    {
     "name": "stdout",
     "output_type": "stream",
     "text": [
      "School: Stanford University\n"
     ]
    },
    {
     "name": "stderr",
     "output_type": "stream",
     "text": [
      "\n",
      " 78%|███████▊  | 230/295 [05:29<02:41,  2.49s/it]\u001b[A"
     ]
    },
    {
     "name": "stdout",
     "output_type": "stream",
     "text": [
      "bad test_scores for Stanford University\n"
     ]
    },
    {
     "name": "stderr",
     "output_type": "stream",
     "text": [
      "\n",
      " 78%|███████▊  | 231/295 [05:29<01:58,  1.86s/it]\u001b[A"
     ]
    },
    {
     "name": "stdout",
     "output_type": "stream",
     "text": [
      "School: SUNY Polytechnic Institute\n"
     ]
    },
    {
     "name": "stderr",
     "output_type": "stream",
     "text": [
      "\n",
      " 79%|███████▊  | 232/295 [05:36<03:31,  3.35s/it]\u001b[A"
     ]
    },
    {
     "name": "stdout",
     "output_type": "stream",
     "text": [
      "School: Stevens Institute of Technology\n"
     ]
    },
    {
     "name": "stderr",
     "output_type": "stream",
     "text": [
      "\n",
      " 79%|███████▉  | 233/295 [05:36<02:34,  2.49s/it]\u001b[A"
     ]
    },
    {
     "name": "stdout",
     "output_type": "stream",
     "text": [
      "School: Stony Brook University\n"
     ]
    },
    {
     "name": "stderr",
     "output_type": "stream",
     "text": [
      "\n",
      " 79%|███████▉  | 234/295 [05:37<02:00,  1.98s/it]\u001b[A\n",
      " 80%|███████▉  | 235/295 [05:37<01:25,  1.42s/it]\u001b[A"
     ]
    },
    {
     "name": "stdout",
     "output_type": "stream",
     "text": [
      "School: Swarthmore College\n",
      "School: Sweet Briar College\n",
      "bad test_scores for Sweet Briar College\n"
     ]
    },
    {
     "name": "stderr",
     "output_type": "stream",
     "text": [
      "\n",
      " 80%|████████  | 236/295 [05:38<01:05,  1.11s/it]\u001b[A"
     ]
    },
    {
     "name": "stdout",
     "output_type": "stream",
     "text": [
      "School: Syracuse University\n"
     ]
    },
    {
     "name": "stderr",
     "output_type": "stream",
     "text": [
      "\n",
      " 80%|████████  | 237/295 [05:38<00:54,  1.07it/s]\u001b[A"
     ]
    },
    {
     "name": "stdout",
     "output_type": "stream",
     "text": [
      "School: Temple University\n"
     ]
    },
    {
     "name": "stderr",
     "output_type": "stream",
     "text": [
      "\n",
      " 81%|████████  | 238/295 [05:39<00:45,  1.26it/s]\u001b[A"
     ]
    },
    {
     "name": "stdout",
     "output_type": "stream",
     "text": [
      "School: Tennessee Technological University\n"
     ]
    },
    {
     "name": "stderr",
     "output_type": "stream",
     "text": [
      "\n",
      " 81%|████████  | 239/295 [05:39<00:35,  1.59it/s]\u001b[A"
     ]
    },
    {
     "name": "stdout",
     "output_type": "stream",
     "text": [
      "School: University of Tennessee, Chattanooga\n",
      "bad enrollment for University of Tennessee, Chattanooga\n"
     ]
    },
    {
     "name": "stderr",
     "output_type": "stream",
     "text": [
      "\n",
      " 81%|████████▏ | 240/295 [05:40<00:34,  1.58it/s]\u001b[A"
     ]
    },
    {
     "name": "stdout",
     "output_type": "stream",
     "text": [
      "School: University of Tennessee, Knoxville\n"
     ]
    },
    {
     "name": "stderr",
     "output_type": "stream",
     "text": [
      "Some characters could not be decoded, and were replaced with REPLACEMENT CHARACTER.\n",
      "\n",
      " 82%|████████▏ | 241/295 [05:42<01:05,  1.21s/it]\u001b[A"
     ]
    },
    {
     "name": "stdout",
     "output_type": "stream",
     "text": [
      "School: Texas A&M University\n"
     ]
    },
    {
     "name": "stderr",
     "output_type": "stream",
     "text": [
      "\n",
      " 82%|████████▏ | 242/295 [05:43<00:52,  1.00it/s]\u001b[A"
     ]
    },
    {
     "name": "stdout",
     "output_type": "stream",
     "text": [
      "School: Texas A&M University - Kingsville\n"
     ]
    },
    {
     "name": "stderr",
     "output_type": "stream",
     "text": [
      "Some characters could not be decoded, and were replaced with REPLACEMENT CHARACTER.\n",
      "\n",
      " 82%|████████▏ | 243/295 [05:45<01:09,  1.34s/it]\u001b[A"
     ]
    },
    {
     "name": "stdout",
     "output_type": "stream",
     "text": [
      "School: Texas Tech University\n"
     ]
    },
    {
     "name": "stderr",
     "output_type": "stream",
     "text": [
      "Some characters could not be decoded, and were replaced with REPLACEMENT CHARACTER.\n",
      "\n",
      " 83%|████████▎ | 244/295 [05:47<01:15,  1.49s/it]\u001b[A"
     ]
    },
    {
     "name": "stdout",
     "output_type": "stream",
     "text": [
      "School: The University of Texas at Arlington\n"
     ]
    },
    {
     "name": "stderr",
     "output_type": "stream",
     "text": [
      "\n",
      " 83%|████████▎ | 245/295 [05:47<01:00,  1.22s/it]\u001b[A"
     ]
    },
    {
     "name": "stdout",
     "output_type": "stream",
     "text": [
      "School: The University of Texas at Austin\n"
     ]
    },
    {
     "name": "stderr",
     "output_type": "stream",
     "text": [
      "\n",
      " 83%|████████▎ | 246/295 [05:48<00:48,  1.01it/s]\u001b[A"
     ]
    },
    {
     "name": "stdout",
     "output_type": "stream",
     "text": [
      "School: The University of Texas at Dallas\n"
     ]
    },
    {
     "name": "stderr",
     "output_type": "stream",
     "text": [
      "\n",
      " 84%|████████▎ | 247/295 [05:50<01:00,  1.25s/it]\u001b[A"
     ]
    },
    {
     "name": "stdout",
     "output_type": "stream",
     "text": [
      "School: The University of Texas at El Paso\n"
     ]
    },
    {
     "name": "stderr",
     "output_type": "stream",
     "text": [
      "\n",
      " 84%|████████▍ | 248/295 [05:51<00:57,  1.23s/it]\u001b[A"
     ]
    },
    {
     "name": "stdout",
     "output_type": "stream",
     "text": [
      "School: University of Texas of the Permian Basin\n"
     ]
    },
    {
     "name": "stderr",
     "output_type": "stream",
     "text": [
      "\n",
      " 84%|████████▍ | 249/295 [05:51<00:45,  1.02it/s]\u001b[A"
     ]
    },
    {
     "name": "stdout",
     "output_type": "stream",
     "text": [
      "School: The University of Texas at San Antonio\n"
     ]
    },
    {
     "name": "stderr",
     "output_type": "stream",
     "text": [
      "Some characters could not be decoded, and were replaced with REPLACEMENT CHARACTER.\n",
      "\n",
      " 85%|████████▍ | 250/295 [05:52<00:44,  1.02it/s]\u001b[A"
     ]
    },
    {
     "name": "stdout",
     "output_type": "stream",
     "text": [
      "School: The University of Texas at Tyler\n"
     ]
    },
    {
     "name": "stderr",
     "output_type": "stream",
     "text": [
      "\n",
      " 85%|████████▌ | 251/295 [05:53<00:37,  1.18it/s]\u001b[A"
     ]
    },
    {
     "name": "stdout",
     "output_type": "stream",
     "text": [
      "School: The University of Toledo\n"
     ]
    },
    {
     "name": "stderr",
     "output_type": "stream",
     "text": [
      "Some characters could not be decoded, and were replaced with REPLACEMENT CHARACTER.\n",
      "\n",
      " 85%|████████▌ | 252/295 [05:55<00:52,  1.22s/it]\u001b[A"
     ]
    },
    {
     "name": "stdout",
     "output_type": "stream",
     "text": [
      "School: University of Toronto\n"
     ]
    },
    {
     "name": "stderr",
     "output_type": "stream",
     "text": [
      "\n",
      " 86%|████████▌ | 253/295 [05:55<00:39,  1.05it/s]\u001b[A"
     ]
    },
    {
     "name": "stdout",
     "output_type": "stream",
     "text": [
      "School: Trine University\n",
      "bad test_scores for Trine University\n"
     ]
    },
    {
     "name": "stderr",
     "output_type": "stream",
     "text": [
      "\n",
      " 86%|████████▌ | 254/295 [05:55<00:29,  1.38it/s]\u001b[A"
     ]
    },
    {
     "name": "stdout",
     "output_type": "stream",
     "text": [
      "School: Trinity College\n"
     ]
    },
    {
     "name": "stderr",
     "output_type": "stream",
     "text": [
      "Some characters could not be decoded, and were replaced with REPLACEMENT CHARACTER.\n",
      "\n",
      " 86%|████████▋ | 255/295 [05:57<00:44,  1.11s/it]\u001b[A"
     ]
    },
    {
     "name": "stdout",
     "output_type": "stream",
     "text": [
      "School: Tufts University\n"
     ]
    },
    {
     "name": "stderr",
     "output_type": "stream",
     "text": [
      "\n",
      " 87%|████████▋ | 256/295 [05:58<00:34,  1.15it/s]\u001b[A"
     ]
    },
    {
     "name": "stdout",
     "output_type": "stream",
     "text": [
      "School: Tulane University\n"
     ]
    },
    {
     "name": "stderr",
     "output_type": "stream",
     "text": [
      "\n",
      " 87%|████████▋ | 257/295 [05:58<00:27,  1.39it/s]\u001b[A"
     ]
    },
    {
     "name": "stdout",
     "output_type": "stream",
     "text": [
      "School: The University of Tulsa\n"
     ]
    },
    {
     "name": "stderr",
     "output_type": "stream",
     "text": [
      "\n",
      " 87%|████████▋ | 258/295 [05:58<00:22,  1.64it/s]\u001b[A"
     ]
    },
    {
     "name": "stdout",
     "output_type": "stream",
     "text": [
      "School: Union College\n",
      "bad institution_type for Union College\n",
      "bad enrollment for Union College\n",
      "bad description for Union College\n",
      "bad test_scores for Union College\n"
     ]
    },
    {
     "name": "stderr",
     "output_type": "stream",
     "text": [
      "Some characters could not be decoded, and were replaced with REPLACEMENT CHARACTER.\n",
      "\n",
      " 88%|████████▊ | 259/295 [05:59<00:23,  1.54it/s]\u001b[A"
     ]
    },
    {
     "name": "stdout",
     "output_type": "stream",
     "text": [
      "School: U.S. Coast Guard Academy\n"
     ]
    },
    {
     "name": "stderr",
     "output_type": "stream",
     "text": [
      "\n",
      " 88%|████████▊ | 260/295 [05:59<00:19,  1.84it/s]\u001b[A"
     ]
    },
    {
     "name": "stdout",
     "output_type": "stream",
     "text": [
      "School: United States Military Academy\n"
     ]
    },
    {
     "name": "stderr",
     "output_type": "stream",
     "text": [
      "\n",
      " 88%|████████▊ | 261/295 [06:00<00:18,  1.79it/s]\u001b[A"
     ]
    },
    {
     "name": "stdout",
     "output_type": "stream",
     "text": [
      "School: University of Utah\n"
     ]
    },
    {
     "name": "stderr",
     "output_type": "stream",
     "text": [
      "\n",
      " 89%|████████▉ | 262/295 [06:00<00:17,  1.88it/s]\u001b[A"
     ]
    },
    {
     "name": "stdout",
     "output_type": "stream",
     "text": [
      "School: Utah State University\n",
      "bad test_scores for Utah State University\n"
     ]
    },
    {
     "name": "stderr",
     "output_type": "stream",
     "text": [
      "\n",
      " 89%|████████▉ | 263/295 [06:01<00:14,  2.27it/s]\u001b[A"
     ]
    },
    {
     "name": "stdout",
     "output_type": "stream",
     "text": [
      "School: Valparaiso University\n"
     ]
    },
    {
     "name": "stderr",
     "output_type": "stream",
     "text": [
      "Some characters could not be decoded, and were replaced with REPLACEMENT CHARACTER.\n",
      "\n",
      " 89%|████████▉ | 264/295 [06:02<00:20,  1.50it/s]\u001b[A"
     ]
    },
    {
     "name": "stdout",
     "output_type": "stream",
     "text": [
      "School: Vanderbilt University\n"
     ]
    },
    {
     "name": "stderr",
     "output_type": "stream",
     "text": [
      "\n",
      " 90%|████████▉ | 265/295 [06:02<00:18,  1.67it/s]\u001b[A"
     ]
    },
    {
     "name": "stdout",
     "output_type": "stream",
     "text": [
      "School: University of Vermont\n"
     ]
    },
    {
     "name": "stderr",
     "output_type": "stream",
     "text": [
      "\n",
      " 90%|█████████ | 266/295 [06:03<00:14,  1.94it/s]\u001b[A"
     ]
    },
    {
     "name": "stdout",
     "output_type": "stream",
     "text": [
      "School: Villanova University\n"
     ]
    },
    {
     "name": "stderr",
     "output_type": "stream",
     "text": [
      "\n",
      " 91%|█████████ | 267/295 [06:03<00:15,  1.85it/s]\u001b[A"
     ]
    },
    {
     "name": "stdout",
     "output_type": "stream",
     "text": [
      "School: University of Virginia\n"
     ]
    },
    {
     "name": "stderr",
     "output_type": "stream",
     "text": [
      "\n",
      " 91%|█████████ | 268/295 [06:06<00:31,  1.16s/it]\u001b[A"
     ]
    },
    {
     "name": "stdout",
     "output_type": "stream",
     "text": [
      "School: Virginia Commonwealth University\n"
     ]
    },
    {
     "name": "stderr",
     "output_type": "stream",
     "text": [
      "\n",
      " 91%|█████████ | 269/295 [06:06<00:26,  1.01s/it]\u001b[A"
     ]
    },
    {
     "name": "stdout",
     "output_type": "stream",
     "text": [
      "School: Virginia Polytechnic Institute and State University\n"
     ]
    },
    {
     "name": "stderr",
     "output_type": "stream",
     "text": [
      "\n",
      " 92%|█████████▏| 270/295 [06:07<00:18,  1.34it/s]\u001b[A"
     ]
    },
    {
     "name": "stdout",
     "output_type": "stream",
     "text": [
      "School: Walla Walla University\n"
     ]
    },
    {
     "name": "stderr",
     "output_type": "stream",
     "text": [
      "Some characters could not be decoded, and were replaced with REPLACEMENT CHARACTER.\n",
      "\n",
      " 92%|█████████▏| 271/295 [06:11<00:40,  1.69s/it]\u001b[A"
     ]
    },
    {
     "name": "stdout",
     "output_type": "stream",
     "text": [
      "School: University of Washington in Seattle\n"
     ]
    },
    {
     "name": "stderr",
     "output_type": "stream",
     "text": [
      "\n",
      " 92%|█████████▏| 272/295 [06:17<01:09,  3.00s/it]\u001b[A"
     ]
    },
    {
     "name": "stdout",
     "output_type": "stream",
     "text": [
      "School: Washington State University\n"
     ]
    },
    {
     "name": "stderr",
     "output_type": "stream",
     "text": [
      "\n",
      " 93%|█████████▎| 273/295 [06:17<00:50,  2.30s/it]\u001b[A"
     ]
    },
    {
     "name": "stdout",
     "output_type": "stream",
     "text": [
      "School: Washington University in St. Louis\n"
     ]
    },
    {
     "name": "stderr",
     "output_type": "stream",
     "text": [
      "\n",
      " 93%|█████████▎| 274/295 [06:17<00:34,  1.66s/it]\u001b[A"
     ]
    },
    {
     "name": "stdout",
     "output_type": "stream",
     "text": [
      "School: University of Washington-Tacoma\n"
     ]
    },
    {
     "name": "stderr",
     "output_type": "stream",
     "text": [
      "Some characters could not be decoded, and were replaced with REPLACEMENT CHARACTER.\n",
      "\n",
      " 93%|█████████▎| 275/295 [06:21<00:45,  2.26s/it]\u001b[A"
     ]
    },
    {
     "name": "stdout",
     "output_type": "stream",
     "text": [
      "School: University of Waterloo\n"
     ]
    },
    {
     "name": "stderr",
     "output_type": "stream",
     "text": [
      "\n",
      " 94%|█████████▎| 276/295 [06:22<00:33,  1.78s/it]\u001b[A"
     ]
    },
    {
     "name": "stdout",
     "output_type": "stream",
     "text": [
      "School: Wayne State University\n"
     ]
    },
    {
     "name": "stderr",
     "output_type": "stream",
     "text": [
      "\n",
      " 94%|█████████▍| 277/295 [06:23<00:30,  1.71s/it]\u001b[A"
     ]
    },
    {
     "name": "stdout",
     "output_type": "stream",
     "text": [
      "School: Wentworth Institute of Technology\n"
     ]
    },
    {
     "name": "stderr",
     "output_type": "stream",
     "text": [
      "\n",
      " 94%|█████████▍| 278/295 [06:24<00:22,  1.34s/it]\u001b[A"
     ]
    },
    {
     "name": "stdout",
     "output_type": "stream",
     "text": [
      "School: West Virginia University Institute of Technology\n",
      "bad test_scores for West Virginia University Institute of Technology\n"
     ]
    },
    {
     "name": "stderr",
     "output_type": "stream",
     "text": [
      "\n",
      " 95%|█████████▍| 279/295 [06:24<00:17,  1.10s/it]\u001b[A"
     ]
    },
    {
     "name": "stdout",
     "output_type": "stream",
     "text": [
      "School: West Virginia University\n"
     ]
    },
    {
     "name": "stderr",
     "output_type": "stream",
     "text": [
      "\n",
      " 95%|█████████▍| 280/295 [06:26<00:19,  1.29s/it]\u001b[A"
     ]
    },
    {
     "name": "stdout",
     "output_type": "stream",
     "text": [
      "School: Western Carolina University\n"
     ]
    },
    {
     "name": "stderr",
     "output_type": "stream",
     "text": [
      "\n",
      " 95%|█████████▌| 281/295 [06:27<00:15,  1.09s/it]\u001b[A"
     ]
    },
    {
     "name": "stdout",
     "output_type": "stream",
     "text": [
      "School: Western Michigan University\n"
     ]
    },
    {
     "name": "stderr",
     "output_type": "stream",
     "text": [
      "\n",
      " 96%|█████████▌| 282/295 [06:27<00:11,  1.18it/s]\u001b[A"
     ]
    },
    {
     "name": "stdout",
     "output_type": "stream",
     "text": [
      "School: Western New England University\n"
     ]
    },
    {
     "name": "stderr",
     "output_type": "stream",
     "text": [
      "\n",
      " 96%|█████████▌| 283/295 [06:27<00:08,  1.35it/s]\u001b[A"
     ]
    },
    {
     "name": "stdout",
     "output_type": "stream",
     "text": [
      "School: The University of Western Ontario\n"
     ]
    },
    {
     "name": "stderr",
     "output_type": "stream",
     "text": [
      "\n",
      " 96%|█████████▋| 284/295 [06:28<00:08,  1.36it/s]\u001b[A"
     ]
    },
    {
     "name": "stdout",
     "output_type": "stream",
     "text": [
      "School: Western Washington University\n"
     ]
    },
    {
     "name": "stderr",
     "output_type": "stream",
     "text": [
      "\n",
      " 97%|█████████▋| 285/295 [06:29<00:06,  1.60it/s]\u001b[A"
     ]
    },
    {
     "name": "stdout",
     "output_type": "stream",
     "text": [
      "School: Wichita State University\n"
     ]
    },
    {
     "name": "stderr",
     "output_type": "stream",
     "text": [
      "\n",
      " 97%|█████████▋| 286/295 [06:29<00:04,  1.82it/s]\u001b[A\n",
      " 97%|█████████▋| 287/295 [06:29<00:03,  2.37it/s]\u001b[A"
     ]
    },
    {
     "name": "stdout",
     "output_type": "stream",
     "text": [
      "School: Widener University\n",
      "School: Winona State University\n"
     ]
    },
    {
     "name": "stderr",
     "output_type": "stream",
     "text": [
      "Some characters could not be decoded, and were replaced with REPLACEMENT CHARACTER.\n",
      "\n",
      " 98%|█████████▊| 288/295 [06:33<00:10,  1.46s/it]\u001b[A"
     ]
    },
    {
     "name": "stdout",
     "output_type": "stream",
     "text": [
      "School: University of Wisconsin-Madison\n"
     ]
    },
    {
     "name": "stderr",
     "output_type": "stream",
     "text": [
      "\n",
      " 98%|█████████▊| 289/295 [06:33<00:06,  1.13s/it]\u001b[A"
     ]
    },
    {
     "name": "stdout",
     "output_type": "stream",
     "text": [
      "School: University of Wisconsin, Milwaukee\n"
     ]
    },
    {
     "name": "stderr",
     "output_type": "stream",
     "text": [
      "\n",
      " 98%|█████████▊| 290/295 [06:34<00:04,  1.10it/s]\u001b[A"
     ]
    },
    {
     "name": "stdout",
     "output_type": "stream",
     "text": [
      "School: University of Wisconsin, Platteville\n"
     ]
    },
    {
     "name": "stderr",
     "output_type": "stream",
     "text": [
      "\n",
      " 99%|█████████▊| 291/295 [06:37<00:06,  1.55s/it]\u001b[A"
     ]
    },
    {
     "name": "stdout",
     "output_type": "stream",
     "text": [
      "School: Worcester Polytechnic Institute\n"
     ]
    },
    {
     "name": "stderr",
     "output_type": "stream",
     "text": [
      "\n",
      " 99%|█████████▉| 292/295 [06:37<00:03,  1.20s/it]\u001b[A"
     ]
    },
    {
     "name": "stdout",
     "output_type": "stream",
     "text": [
      "School: Wright State University\n"
     ]
    },
    {
     "name": "stderr",
     "output_type": "stream",
     "text": [
      "\n",
      " 99%|█████████▉| 293/295 [06:37<00:01,  1.04it/s]\u001b[A"
     ]
    },
    {
     "name": "stdout",
     "output_type": "stream",
     "text": [
      "School: University of Wyoming\n"
     ]
    },
    {
     "name": "stderr",
     "output_type": "stream",
     "text": [
      "\n",
      "100%|█████████▉| 294/295 [06:38<00:00,  1.29it/s]\u001b[A"
     ]
    },
    {
     "name": "stdout",
     "output_type": "stream",
     "text": [
      "School: Yale School of Engineering & Applied Science\n"
     ]
    },
    {
     "name": "stderr",
     "output_type": "stream",
     "text": [
      "\n",
      "100%|██████████| 295/295 [06:38<00:00,  1.66it/s]\u001b[A"
     ]
    },
    {
     "name": "stdout",
     "output_type": "stream",
     "text": [
      "School: York College of Pennsylvania\n"
     ]
    }
   ],
   "source": [
    "data = {}\n",
    "for school_html in tqdm(school_res):\n",
    "  soup = BeautifulSoup(school_html, 'html.parser')\n",
    "  \n",
    "  # initialize values\n",
    "  institution_type = 'none'\n",
    "  undergrad_enroll = 'none'\n",
    "  graduate_enroll = 'none'\n",
    "  description = 'none'\n",
    "  teaching_tenure = 'none'\n",
    "  tuition = 'none'\n",
    "  sat_scores = 'none'\n",
    "  act_scores = 'none'\n",
    "  enrollment = 'none'\n",
    "  \n",
    "  # extract attributes\n",
    "  name = soup.find('h1').text[:-7]\n",
    "  print('School: {}'.format(name))\n",
    "\n",
    "  try:\n",
    "    institution_type = soup.find('h3', text='General Information').find_next_sibling('table').find_all('td')[1].text\n",
    "  except AttributeError:\n",
    "    print('bad institution_type for {}'.format(name))\n",
    "    \n",
    "  try:\n",
    "    undergrad_enroll = soup.find('p', class_='highlighted', text='Total Enrollment').find_next_sibling('table').find_all('td')[1].text.replace(',','')\n",
    "    graduate_enroll = soup.find('p', class_='highlighted', text='Total Enrollment').find_next_sibling('table').find_all('td')[3].text.replace(',','')\n",
    "  except AttributeError:\n",
    "    print('bad enrollment for {}'.format(name))\n",
    "  \n",
    "  try:\n",
    "    description = soup.find('p', class_='highlighted', text='Engineering College Description and Special Characteristics').find_next_sibling('p').text\n",
    "  except AttributeError:\n",
    "    print('bad description for {}'.format(name))\n",
    "      \n",
    "  try: \n",
    "    teaching_tenure_table = soup.find('p', class_='highlighted', text='Teaching, Tenure-Track: Full Professor Profiles').find_next_sibling('table')\n",
    "    teaching_tenure = parse_table(teaching_tenure_table)\n",
    "  except AttributeError:\n",
    "    print('bad teaching_tenure for {}'.format(name))\n",
    "\n",
    "  try:\n",
    "    tuition_list = parse_table(soup.find('h3', text='Expenses & Financial Aid').find_next_sibling('table'))[1]\n",
    "    tuition = tuition_list[1:3] if len(tuition_list) > 2 else tuition_list[1]\n",
    "    tuition = [t.replace('$','').replace(',','') for t in tuition]\n",
    "  except AttributeError:\n",
    "    print('bad tuition for {}'.format(name))\n",
    "\n",
    "  try:\n",
    "    test_scores = soup.find('p', class_='highlighted', text=' Newly Enrolled Test Scores').find_next_sibling('table')\n",
    "    sat_scores = parse_table(test_scores)\n",
    "    act_scores = parse_table(test_scores.find_next_sibling('table'))\n",
    "  except AttributeError:\n",
    "    print('bad test_scores for {}'.format(name))\n",
    "\n",
    "  try: \n",
    "    enrollment_table = soup.find('p', class_='highlighted', text='Degrees By Ethnicity & Gender').find_next_sibling('table')\n",
    "    enrollment = parse_table(enrollment_table)\n",
    "    enrollment = [e for e in enrollment if ('Note' not in e[0])]\n",
    "  except AttributeError:\n",
    "    print('bad enrollment for {}'.format(name))\n",
    "\n",
    "  data[name] = {\n",
    "    'type': institution_type,\n",
    "    'undergrad_enroll': undergrad_enroll,\n",
    "    'graduate_enroll': graduate_enroll,\n",
    "    'description': description,\n",
    "    'teaching_tenure': teaching_tenure,\n",
    "    'tuition': tuition,\n",
    "    'sat_scores': sat_scores,\n",
    "    'act_scores': act_scores,\n",
    "    'enrollment': enrollment\n",
    "  }"
   ]
  },
  {
   "cell_type": "code",
   "execution_count": null,
   "metadata": {},
   "outputs": [],
   "source": []
  },
  {
   "cell_type": "code",
   "execution_count": null,
   "metadata": {},
   "outputs": [],
   "source": []
  }
 ],
 "metadata": {
  "kernelspec": {
   "display_name": "Python 3",
   "language": "python",
   "name": "python3"
  },
  "language_info": {
   "codemirror_mode": {
    "name": "ipython",
    "version": 3
   },
   "file_extension": ".py",
   "mimetype": "text/x-python",
   "name": "python",
   "nbconvert_exporter": "python",
   "pygments_lexer": "ipython3",
   "version": "3.6.3"
  }
 },
 "nbformat": 4,
 "nbformat_minor": 2
}
